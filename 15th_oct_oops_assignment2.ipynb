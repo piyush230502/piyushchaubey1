{
 "cells": [
  {
   "cell_type": "code",
   "execution_count": null,
   "id": "60fcbe5b-1ee2-45d5-a925-947f59558cea",
   "metadata": {},
   "outputs": [],
   "source": [
    "                                #CONSTRUCTORS"
   ]
  },
  {
   "cell_type": "code",
   "execution_count": null,
   "id": "10d0c81f-0a1f-4a25-9cba-3dbb970b7ef3",
   "metadata": {},
   "outputs": [],
   "source": [
    "#1. What is inheritance in Python? Explain its significance in object-oriented␣programming."
   ]
  },
  {
   "cell_type": "code",
   "execution_count": 1,
   "id": "a302b19b-0533-4841-984c-a86f2282ef84",
   "metadata": {},
   "outputs": [
    {
     "data": {
      "text/plain": [
       "'inheritance is nothing but a technique to access attribute of parents class␣\\n↪from child . its helps in multi class elaboration'"
      ]
     },
     "execution_count": 1,
     "metadata": {},
     "output_type": "execute_result"
    }
   ],
   "source": [
    "'''inheritance is nothing but a technique to access attribute of parents class␣\n",
    "↪from child . its helps in multi class elaboration'''"
   ]
  },
  {
   "cell_type": "code",
   "execution_count": null,
   "id": "7177fcc3-2f71-4688-b2bb-fa2ab21f7ed2",
   "metadata": {},
   "outputs": [],
   "source": [
    "#2. Differentiate between single inheritance and multiple inheritance in Python.Provide examples for each"
   ]
  },
  {
   "cell_type": "code",
   "execution_count": 2,
   "id": "4cb4bb01-308b-4c0f-a6e9-82e290bc62a7",
   "metadata": {},
   "outputs": [
    {
     "data": {
      "text/plain": [
       "'single inheritance - single inheritance contain one argument of parent class.\\nmultiple inheritance - multiple inhetance contain multiple argument from␣\\n↪different parent class'"
      ]
     },
     "execution_count": 2,
     "metadata": {},
     "output_type": "execute_result"
    }
   ],
   "source": [
    "'''single inheritance - single inheritance contain one argument of parent class.\n",
    "multiple inheritance - multiple inhetance contain multiple argument from␣\n",
    "↪different parent class'''"
   ]
  },
  {
   "cell_type": "code",
   "execution_count": null,
   "id": "e5be15ea-99e5-440c-b864-327f2ec8e4e9",
   "metadata": {},
   "outputs": [],
   "source": [
    "#3. How do you define a constructor in a Python class? Provide an example"
   ]
  },
  {
   "cell_type": "code",
   "execution_count": 24,
   "id": "e52b6243-d582-4c15-89ab-d63316d1c579",
   "metadata": {},
   "outputs": [],
   "source": [
    "#3. How do you define a constructor in a Python class? Provide an example\n",
    "class pwskills:\n",
    "    def __init__(self):\n",
    "        self.phone_no = 789773374\n",
    "        self.name = \"kalka\"\n",
    "        \n",
    "        \n",
    "object = pwskills()\n",
    "\n",
    "   \n"
   ]
  },
  {
   "cell_type": "code",
   "execution_count": 25,
   "id": "f7a8fb79-8294-440a-88d9-ce09a9b5d6f1",
   "metadata": {},
   "outputs": [
    {
     "data": {
      "text/plain": [
       "'kalka'"
      ]
     },
     "execution_count": 25,
     "metadata": {},
     "output_type": "execute_result"
    }
   ],
   "source": [
    "object.name"
   ]
  },
  {
   "cell_type": "code",
   "execution_count": null,
   "id": "96aaf7e8-3a32-4d5b-8150-1e31b31e27d5",
   "metadata": {},
   "outputs": [],
   "source": [
    "#4. Explain the concept of method overriding in inheritance. Provide a␣practical example"
   ]
  },
  {
   "cell_type": "code",
   "execution_count": 3,
   "id": "7ce3ec35-704a-4498-a0b7-f1336dc99adf",
   "metadata": {},
   "outputs": [
    {
     "data": {
      "text/plain": [
       "'allows you to redefine a method in a subclass or the derived class␣\\n↪previously defined in its parent or the superclass'"
      ]
     },
     "execution_count": 3,
     "metadata": {},
     "output_type": "execute_result"
    }
   ],
   "source": [
    "'''allows you to redefine a method in a subclass or the derived class␣\n",
    "↪previously defined in its parent or the superclass'''"
   ]
  },
  {
   "cell_type": "code",
   "execution_count": 4,
   "id": "9199ae5a-197e-4179-9cc8-7d6d112ab918",
   "metadata": {},
   "outputs": [
    {
     "name": "stdout",
     "output_type": "stream",
     "text": [
      "this is timing fuction from student class\n"
     ]
    }
   ],
   "source": [
    "class student:\n",
    "    def student_details(self):\n",
    "        print(\"this class will give you student detail\")\n",
    "    def timing(self):\n",
    "        print(\"this is timing fuction from student class\")\n",
    "class teacher(student):\n",
    "    def details(self):\n",
    "        print(\"this will give you details about teacher\")\n",
    "sudh = teacher()\n",
    "sudh.timing()"
   ]
  },
  {
   "cell_type": "code",
   "execution_count": 26,
   "id": "aeb57caa-fd17-4a1c-9eab-7630098d0407",
   "metadata": {},
   "outputs": [],
   "source": [
    "#5. In a class named `Person`, create a constructor that initializes the `name` and `age` attributes. Provide an example of creating an object of this class."
   ]
  },
  {
   "cell_type": "code",
   "execution_count": 27,
   "id": "e92f5c8d-2272-4af8-861d-f6191d187445",
   "metadata": {},
   "outputs": [
    {
     "name": "stdout",
     "output_type": "stream",
     "text": [
      "vrinda\n",
      "25\n"
     ]
    }
   ],
   "source": [
    "class Person:\n",
    "    def __init__(self, name, age):\n",
    "        self.name = name\n",
    "        self.age = age\n",
    "\n",
    "person = Person(\"vrinda\", 25)\n",
    "print(person.name)\n",
    "print(person.age)\n"
   ]
  },
  {
   "cell_type": "code",
   "execution_count": null,
   "id": "a75a90b8-6e4c-458b-942c-9f71822e83e0",
   "metadata": {},
   "outputs": [],
   "source": [
    "#6. Discuss the use of the `super()` function in Python inheritance. When and␣why is it used? Provide an example."
   ]
  },
  {
   "cell_type": "code",
   "execution_count": 5,
   "id": "e167b690-d04f-4709-b7b8-1d1ddf8efc5f",
   "metadata": {},
   "outputs": [
    {
     "data": {
      "text/plain": [
       "'super funtion is used for calling the attribute of different parent class it␣\\n↪is used in place of self '"
      ]
     },
     "execution_count": 5,
     "metadata": {},
     "output_type": "execute_result"
    }
   ],
   "source": [
    "'''super funtion is used for calling the attribute of different parent class it␣\n",
    "↪is used in place of self '''"
   ]
  },
  {
   "cell_type": "code",
   "execution_count": 7,
   "id": "48deeda2-d387-40e1-81d2-9a5be35ed0e5",
   "metadata": {},
   "outputs": [
    {
     "name": "stdout",
     "output_type": "stream",
     "text": [
      "piyush\n",
      "piyush piyush@gmail.com\n"
     ]
    }
   ],
   "source": [
    "class pwskills:\n",
    "    def __init__(self,mentor):\n",
    "        self.mentor = mentor\n",
    "    def mentor_name(self):\n",
    "        print(self.mentor)\n",
    "class datascience(pwskills):\n",
    "    def __init__(self,mentor,mentor_mail_id):\n",
    "        super().__init__(mentor) #reinitialise the privious class variable\n",
    "        self.mentor_mail_id = mentor_mail_id\n",
    "    def show_info(self):\n",
    "        self.mentor_name()\n",
    "        print(self.mentor,self.mentor_mail_id)\n",
    "python_basic = datascience('piyush','piyush@gmail.com')\n",
    "python_basic.show_info()"
   ]
  },
  {
   "cell_type": "code",
   "execution_count": null,
   "id": "6726c2be-ad75-4a5b-8614-f8b3f77f561d",
   "metadata": {},
   "outputs": [],
   "source": [
    "#8. Discuss the concept of default constructors in Python. When are they used?"
   ]
  },
  {
   "cell_type": "code",
   "execution_count": 72,
   "id": "aeee203e-ef4a-422b-bcf5-df45f5a727ac",
   "metadata": {},
   "outputs": [
    {
     "data": {
      "text/plain": [
       "': A default constructor is a constructor that takes no arguments. It is used␣\\n↪to create an object with default values for its attributes. Parameterized␣\\n↪Constructor: A parameterized constructor is a constructor that takes one or␣\\n↪more arguments'"
      ]
     },
     "execution_count": 72,
     "metadata": {},
     "output_type": "execute_result"
    }
   ],
   "source": [
    "''': A default constructor is a constructor that takes no arguments. It is used␣\n",
    "↪to create an object with default values for its attributes. Parameterized␣\n",
    "↪Constructor: A parameterized constructor is a constructor that takes one or␣\n",
    "↪more arguments'''"
   ]
  },
  {
   "cell_type": "code",
   "execution_count": null,
   "id": "4579a79d-e11a-4f61-8a5a-0eea18464f8c",
   "metadata": {},
   "outputs": [],
   "source": [
    "# 9. Create a Python class called `Rectangle` with a constructor that initializes the `width` and `height` attributes. Provide a method to calculate the area of the rectangle."
   ]
  },
  {
   "cell_type": "code",
   "execution_count": 80,
   "id": "ec85de32-534e-4ca0-be48-b0c35bfecf3f",
   "metadata": {},
   "outputs": [],
   "source": [
    "class rectangle:\n",
    "    def __init__(self,width,height):\n",
    "        self.width = width\n",
    "        self.height = height\n",
    "        \n",
    "    def area_of_rectangle(self,width,height):\n",
    "        return (self.width)*(self.height)\n",
    "   \n",
    "       \n",
    "object = rectangle(4,5)\n",
    "\n",
    "\n",
    "        \n",
    "        "
   ]
  },
  {
   "cell_type": "code",
   "execution_count": 81,
   "id": "c08d7184-9408-44f3-bb23-fa05faf52321",
   "metadata": {},
   "outputs": [
    {
     "data": {
      "text/plain": [
       "5"
      ]
     },
     "execution_count": 81,
     "metadata": {},
     "output_type": "execute_result"
    }
   ],
   "source": [
    "object.height"
   ]
  },
  {
   "cell_type": "code",
   "execution_count": 82,
   "id": "ffbd9678-5455-42e1-8e11-ef6ff8947eb0",
   "metadata": {},
   "outputs": [
    {
     "data": {
      "text/plain": [
       "4"
      ]
     },
     "execution_count": 82,
     "metadata": {},
     "output_type": "execute_result"
    }
   ],
   "source": [
    "object.width"
   ]
  },
  {
   "cell_type": "code",
   "execution_count": 83,
   "id": "16b45cb4-3c94-4117-a8d5-e2912afa7f6d",
   "metadata": {},
   "outputs": [
    {
     "data": {
      "text/plain": [
       "20"
      ]
     },
     "execution_count": 83,
     "metadata": {},
     "output_type": "execute_result"
    }
   ],
   "source": [
    "object.area_of_rectangle(2,3)"
   ]
  },
  {
   "cell_type": "code",
   "execution_count": null,
   "id": "5249bd51-ec30-42a6-add8-96b241af29f5",
   "metadata": {},
   "outputs": [],
   "source": [
    "#7. Create a Python class called `Animal` with a method `speak()`. Then, create␣child classes `Dog` and `Cat` that inherit from `Animal` and override the␣ `speak()` method. Provide an example of using these classes."
   ]
  },
  {
   "cell_type": "code",
   "execution_count": 73,
   "id": "23b8004a-0c2c-43af-904b-12c97a173d3a",
   "metadata": {},
   "outputs": [
    {
     "data": {
      "text/plain": [
       "'Python uses the self parameter to refer to instance attributes and methods of the class.'"
      ]
     },
     "execution_count": 73,
     "metadata": {},
     "output_type": "execute_result"
    }
   ],
   "source": [
    "'''Python uses the self parameter to refer to instance attributes and methods of the class.'''"
   ]
  },
  {
   "cell_type": "code",
   "execution_count": 8,
   "id": "e862ba5a-b9e7-4fca-932f-2afe7e1a50e4",
   "metadata": {},
   "outputs": [],
   "source": [
    "class animal:\n",
    "    def speak(self):\n",
    "        print(\"this animal speaks laoud\")\n",
    "class dog(animal):\n",
    "    def type_of_dog(self):\n",
    "        print(\"the color of dog is lebra\")\n",
    "class cat(dog,animal):\n",
    "    def color(self):\n",
    "        print(\"the color of cat is black\")"
   ]
  },
  {
   "cell_type": "code",
   "execution_count": 9,
   "id": "b7c0a6d7-eb9a-455c-99fd-a70bd9229101",
   "metadata": {},
   "outputs": [],
   "source": [
    "s = cat()"
   ]
  },
  {
   "cell_type": "code",
   "execution_count": 10,
   "id": "8d332c64-e6a4-465e-8d09-9a3da635369b",
   "metadata": {},
   "outputs": [
    {
     "name": "stdout",
     "output_type": "stream",
     "text": [
      "this animal speaks laoud\n"
     ]
    }
   ],
   "source": [
    "s.speak()"
   ]
  },
  {
   "cell_type": "code",
   "execution_count": null,
   "id": "ce790cae-73fb-45a7-b053-4a46017f682d",
   "metadata": {},
   "outputs": [],
   "source": [
    "#8. Explain the role of the `isinstance()` function in Python and how it␣relates to inheritance."
   ]
  },
  {
   "cell_type": "code",
   "execution_count": 12,
   "id": "25617ee7-5c41-4962-a293-e3c688a78cfd",
   "metadata": {},
   "outputs": [
    {
     "data": {
      "text/plain": [
       "'The isinstance () function checks whether an object is an instance of the␣\\nclass mentioned. One can test if an object or variable is an instance of the␣\\ntype or class. If inheritance is present in the program, then the function␣\\ncan be used to check if a specified class is the parent class of an object.\\n'"
      ]
     },
     "execution_count": 12,
     "metadata": {},
     "output_type": "execute_result"
    }
   ],
   "source": [
    "\"\"\"The isinstance () function checks whether an object is an instance of the␣\n",
    "class mentioned. One can test if an object or variable is an instance of the␣\n",
    "type or class. If inheritance is present in the program, then the function␣\n",
    "can be used to check if a specified class is the parent class of an object.\n",
    "\"\"\""
   ]
  },
  {
   "cell_type": "code",
   "execution_count": null,
   "id": "e929ca74-c798-4a05-8aa2-bd0ed22e07c4",
   "metadata": {},
   "outputs": [],
   "source": [
    "#9. What is the purpose of the `issubclass()` function in Python? Provide an␣example."
   ]
  },
  {
   "cell_type": "code",
   "execution_count": 13,
   "id": "94e55d24-9214-4a1e-8d4e-9155fa9e5685",
   "metadata": {},
   "outputs": [
    {
     "data": {
      "text/plain": [
       "'to check if a class is a subclass of another class or not.'"
      ]
     },
     "execution_count": 13,
     "metadata": {},
     "output_type": "execute_result"
    }
   ],
   "source": [
    "\"\"\"to check if a class is a subclass of another class or not.\"\"\""
   ]
  },
  {
   "cell_type": "code",
   "execution_count": 15,
   "id": "9fe83ce2-f6e9-4f3e-9889-1a8c661786f4",
   "metadata": {},
   "outputs": [
    {
     "name": "stdout",
     "output_type": "stream",
     "text": [
      "True\n"
     ]
    }
   ],
   "source": [
    "class myAge:\n",
    "    age = 36\n",
    "class myObj(myAge):\n",
    "    name = \"John\"\n",
    "    age = myAge\n",
    "x = issubclass(myObj, myAge)\n",
    "print(x)"
   ]
  },
  {
   "cell_type": "code",
   "execution_count": null,
   "id": "e612f1e6-1753-4521-9bad-ed1998a5cb14",
   "metadata": {},
   "outputs": [],
   "source": [
    "#10. Discuss the concept of constructor inheritance in Python. How are constructors inherited in child classes?"
   ]
  },
  {
   "cell_type": "code",
   "execution_count": 16,
   "id": "3b41b26d-5d39-4ce6-b279-f5ab376c0839",
   "metadata": {},
   "outputs": [
    {
     "data": {
      "text/plain": [
       "'constructor is nothing but a doodler function used to assingning the values.'"
      ]
     },
     "execution_count": 16,
     "metadata": {},
     "output_type": "execute_result"
    }
   ],
   "source": [
    "\"\"\"constructor is nothing but a doodler function used to assingning the values.\"\"\""
   ]
  },
  {
   "cell_type": "code",
   "execution_count": null,
   "id": "5bf6eff3-185e-4ba8-bdf9-e11012d0b318",
   "metadata": {},
   "outputs": [],
   "source": [
    "#11. Create a Python class called `Shape` with a method `area()` that calculates the area of a shape. Then, create child classes `Circle` and␣ `Rectangle` that inherit from `Shape` and implement the `area()`␣ methodaccordingly. Provide an example."
   ]
  },
  {
   "cell_type": "code",
   "execution_count": 17,
   "id": "2950be90-fd04-4d55-b981-b808fe7039f1",
   "metadata": {},
   "outputs": [],
   "source": [
    "class shape:\n",
    "    def area(self,w,h):\n",
    "        area = w*h\n",
    "        print(\"the area of shape\", area)\n",
    "class circle(shape):\n",
    "    def area_of_circle(self,r):\n",
    "        area1 = 3.14*r**2\n",
    "        print(\"the area of circle is\",area1)\n",
    "class rectangle(circle):\n",
    "    def area_of_rectangle(w,h):\n",
    "        area = w*h\n",
    "        print(\"the area of shape\", area)"
   ]
  },
  {
   "cell_type": "code",
   "execution_count": 18,
   "id": "e435a1a6-ec5c-4e16-b03d-e60b993d13ed",
   "metadata": {},
   "outputs": [],
   "source": [
    "a = rectangle()"
   ]
  },
  {
   "cell_type": "code",
   "execution_count": 19,
   "id": "a2d60097-ab88-43f5-be3f-a4109d4d62fd",
   "metadata": {},
   "outputs": [
    {
     "name": "stdout",
     "output_type": "stream",
     "text": [
      "the area of shape 2\n"
     ]
    }
   ],
   "source": [
    "a.area(1,2)"
   ]
  },
  {
   "cell_type": "code",
   "execution_count": null,
   "id": "df6ab606-1de7-4d97-ba4b-29196360a08a",
   "metadata": {},
   "outputs": [],
   "source": [
    "#11. What is method overloading, and how is it related to constructors in Python?"
   ]
  },
  {
   "cell_type": "code",
   "execution_count": 74,
   "id": "2b4b006f-22b2-443d-add5-9acb55b768c5",
   "metadata": {},
   "outputs": [
    {
     "data": {
      "text/plain": [
       "'f the constructor is written two times with different signatures, we call constructor overloading.'"
      ]
     },
     "execution_count": 74,
     "metadata": {},
     "output_type": "execute_result"
    }
   ],
   "source": [
    "'''f the constructor is written two times with different signatures, we call constructor overloading.'''"
   ]
  },
  {
   "cell_type": "code",
   "execution_count": null,
   "id": "f2263f31-f295-4adb-ac7a-d5a91115097b",
   "metadata": {},
   "outputs": [],
   "source": [
    "#12. Explain the use of abstract base classes (ABCs) in Python and how they relate to inheritance. Provide anexample using the `abc` module."
   ]
  },
  {
   "cell_type": "code",
   "execution_count": 20,
   "id": "58dbd13e-8b6f-4346-b8b9-7279ede12bf3",
   "metadata": {},
   "outputs": [
    {
     "data": {
      "text/plain": [
       "'A class is called an Abstract class if it contains one or more abstract␣\\nmethods. An abstract method is a method that is declared, but contains no␣\\nimplementation. Abstract classes may not be instantiated, and its abstract␣\\nmethods must be implemented by its subclasses.'"
      ]
     },
     "execution_count": 20,
     "metadata": {},
     "output_type": "execute_result"
    }
   ],
   "source": [
    "'''A class is called an Abstract class if it contains one or more abstract␣\n",
    "methods. An abstract method is a method that is declared, but contains no␣\n",
    "implementation. Abstract classes may not be instantiated, and its abstract␣\n",
    "methods must be implemented by its subclasses.'''"
   ]
  },
  {
   "cell_type": "code",
   "execution_count": null,
   "id": "6c37ad15-7855-4c1a-83b1-16cb864974e7",
   "metadata": {},
   "outputs": [],
   "source": [
    "#13. How can you prevent a child class from modifying certain attributes or methods inherited from a parentclass in Python?"
   ]
  },
  {
   "cell_type": "code",
   "execution_count": 21,
   "id": "41e32307-b8a6-4c60-8c7c-8730a48cdc5b",
   "metadata": {},
   "outputs": [
    {
     "data": {
      "text/plain": [
       "'by making the attribute of class private'"
      ]
     },
     "execution_count": 21,
     "metadata": {},
     "output_type": "execute_result"
    }
   ],
   "source": [
    "'''by making the attribute of class private'''"
   ]
  },
  {
   "cell_type": "code",
   "execution_count": null,
   "id": "66cb846d-6055-4c12-aeeb-10d2da232a5e",
   "metadata": {},
   "outputs": [],
   "source": [
    "#14. Create a Python class called `Employee` with attributes `name` and `salary`. Then, create a child class`Manager` that inherits from `Employee`␣ and adds an attribute `department`. Provide an example."
   ]
  },
  {
   "cell_type": "code",
   "execution_count": 22,
   "id": "71785ebe-b671-47ff-b2c9-90e35ce6e9f1",
   "metadata": {},
   "outputs": [],
   "source": [
    "class employee:\n",
    "    def __init__(self,name,salary):\n",
    "        self.name = name\n",
    "        self.salary = salary\n",
    "    def name_of_employee(self):\n",
    "        print(\"the name of employee is\",self.name)\n",
    "    def salary_of_employee(self):\n",
    "        print(\"the salary of employee is \", self.salary)\n",
    "class manager(employee):\n",
    "    def department(self):\n",
    "        print(\"department is cse\")"
   ]
  },
  {
   "cell_type": "code",
   "execution_count": 23,
   "id": "6fde0ca9-ca9b-47b5-9824-b7cdb0d960ce",
   "metadata": {},
   "outputs": [],
   "source": [
    "b = manager(\"vishal\",5000)"
   ]
  },
  {
   "cell_type": "code",
   "execution_count": 24,
   "id": "b7b808ea-8a2e-4d00-9d63-daffa1410901",
   "metadata": {},
   "outputs": [
    {
     "name": "stdout",
     "output_type": "stream",
     "text": [
      "the name of employee is vishal\n"
     ]
    }
   ],
   "source": [
    "b.name_of_employee()"
   ]
  },
  {
   "cell_type": "code",
   "execution_count": 25,
   "id": "faa60e19-3ab8-4964-84e8-e9b3a825d2db",
   "metadata": {},
   "outputs": [
    {
     "name": "stdout",
     "output_type": "stream",
     "text": [
      "the salary of employee is  5000\n"
     ]
    }
   ],
   "source": [
    "b.salary_of_employee()"
   ]
  },
  {
   "cell_type": "code",
   "execution_count": null,
   "id": "02fb0519-53af-43c4-9ccb-f7d40e39c80e",
   "metadata": {},
   "outputs": [],
   "source": [
    "#15. Discuss the concept of method overloading in Python inheritance. How does it differ from method overriding?"
   ]
  },
  {
   "cell_type": "code",
   "execution_count": 26,
   "id": "8418c89f-c497-47d0-9d57-150a919fc9a3",
   "metadata": {},
   "outputs": [
    {
     "data": {
      "text/plain": [
       "' In the process of method overloading, all the functions or methods must contain the same name with varied signatures'"
      ]
     },
     "execution_count": 26,
     "metadata": {},
     "output_type": "execute_result"
    }
   ],
   "source": [
    "\"\"\" In the process of method overloading, all the functions or methods must contain the same name with varied signatures\"\"\""
   ]
  },
  {
   "cell_type": "code",
   "execution_count": null,
   "id": "16fac4ad-ba9f-43bc-9436-a9d34908371e",
   "metadata": {},
   "outputs": [],
   "source": [
    "#16. Explain the purpose of the `__init__()` method in Python inheritance and how it is utilized in child classes."
   ]
  },
  {
   "cell_type": "code",
   "execution_count": 27,
   "id": "aa0301e5-3c56-4678-9847-641bdb21af18",
   "metadata": {},
   "outputs": [
    {
     "data": {
      "text/plain": [
       "\" The __init__ method lets the class initialize the object's attributes and serves no other purpose\""
      ]
     },
     "execution_count": 27,
     "metadata": {},
     "output_type": "execute_result"
    }
   ],
   "source": [
    "\"\"\" The __init__ method lets the class initialize the object's attributes and serves no other purpose\"\"\""
   ]
  },
  {
   "cell_type": "code",
   "execution_count": null,
   "id": "31eea983-315b-4ba9-a4cb-8bbceaccbbcf",
   "metadata": {},
   "outputs": [],
   "source": [
    "#17. Create a Python class called `Student` with a constructor that takes a list of subjects as a parameter and\n",
    "#initializes the `subjects` attribute"
   ]
  },
  {
   "cell_type": "code",
   "execution_count": null,
   "id": "3942eb73-d620-49f1-9869-e2918daa7ffd",
   "metadata": {},
   "outputs": [],
   "source": [
    "class student:\n",
    "def __init__(self,sub):\n",
    "self.sub = ['dsa','data']\n",
    "def title(self):\n"
   ]
  },
  {
   "cell_type": "code",
   "execution_count": null,
   "id": "c073a80f-c770-4ee6-91a4-cc8fcf7193f6",
   "metadata": {},
   "outputs": [],
   "source": [
    "#18. What is the \"diamond problem\" in multiple inheritance, and how does Python address it?"
   ]
  },
  {
   "cell_type": "code",
   "execution_count": 28,
   "id": "e1588760-89cc-476c-8935-a7e22a16f80b",
   "metadata": {},
   "outputs": [
    {
     "data": {
      "text/plain": [
       "'If there is a method “m” which is an overridden method in one of Class2 and␣\\nClass3 or both then the ambiguity arises which of the method “m” Class4␣\\nshould inherit'"
      ]
     },
     "execution_count": 28,
     "metadata": {},
     "output_type": "execute_result"
    }
   ],
   "source": [
    "'''If there is a method “m” which is an overridden method in one of Class2 and␣\n",
    "Class3 or both then the ambiguity arises which of the method “m” Class4␣\n",
    "should inherit'''"
   ]
  },
  {
   "cell_type": "code",
   "execution_count": null,
   "id": "107c78b9-2bed-42b8-82df-130352bfd41f",
   "metadata": {},
   "outputs": [],
   "source": [
    "#19. Discuss the concept of \"is-a\" and \"has-a\" relationships in inheritance,and provide examples of each."
   ]
  },
  {
   "cell_type": "code",
   "execution_count": 29,
   "id": "99c816b4-0f7f-459a-b388-65788a4f1632",
   "metadata": {},
   "outputs": [
    {
     "data": {
      "text/plain": [
       "'HAS-A relationship is composition. In OOP, IS-A relationship is completely inheritance. This means, that the child class is a type of parent class. For␣\\nexample, an apple is a fruit.'"
      ]
     },
     "execution_count": 29,
     "metadata": {},
     "output_type": "execute_result"
    }
   ],
   "source": [
    "'''HAS-A relationship is composition. In OOP, IS-A relationship is completely inheritance. This means, that the child class is a type of parent class. For␣\n",
    "example, an apple is a fruit.'''"
   ]
  },
  {
   "cell_type": "code",
   "execution_count": null,
   "id": "4d5a1dfe-302e-4806-9a9f-a4ea23638fdc",
   "metadata": {},
   "outputs": [],
   "source": []
  },
  {
   "cell_type": "code",
   "execution_count": null,
   "id": "f5f9b2af-986f-4b46-873d-a92bf6f771ac",
   "metadata": {},
   "outputs": [],
   "source": [
    "# 17. Create a Python class called `Student` with a constructor that takes a list of subjects as a parameter and initializes the `subjects` attribute"
   ]
  },
  {
   "cell_type": "code",
   "execution_count": 95,
   "id": "6b0f340b-0d6e-43e3-ab67-b591320384f6",
   "metadata": {},
   "outputs": [
    {
     "name": "stdout",
     "output_type": "stream",
     "text": [
      "computer\n",
      "english\n",
      "maths\n"
     ]
    }
   ],
   "source": [
    "class student:\n",
    "    \n",
    "    def __init__(self):\n",
    "        self.subject1 = \"computer\"\n",
    "        self.subject2 = \"english\"\n",
    "        self.subject3 = \"maths\"\n",
    "    \n",
    "student = student()\n",
    "print(student.subject1)\n",
    "print(student.subject2)\n",
    "print(student.subject3)\n",
    "    \n",
    "\n",
    "    "
   ]
  },
  {
   "cell_type": "code",
   "execution_count": null,
   "id": "9cf55acb-f1bc-4d17-ba1b-b00284be8738",
   "metadata": {},
   "outputs": [],
   "source": [
    "# 20. Create a Python class called `Car` with a default constructor that initializes the `make` and `model` attributes. Provide a method to display car information."
   ]
  },
  {
   "cell_type": "code",
   "execution_count": 104,
   "id": "0ad02691-0477-47b8-82d7-b9bf6d1a73db",
   "metadata": {},
   "outputs": [
    {
     "name": "stdout",
     "output_type": "stream",
     "text": [
      "2019\n",
      "Audi A8\n"
     ]
    }
   ],
   "source": [
    "class car:\n",
    "    \n",
    "    def __init__(self):\n",
    "        self.make = 2019\n",
    "        self.model = \"Audi A8\"\n",
    "        \n",
    "info = car()\n",
    "print(info.make)\n",
    "print(info.model)"
   ]
  },
  {
   "cell_type": "code",
   "execution_count": null,
   "id": "4057b834-0fb4-4d65-8cda-6051246b25a1",
   "metadata": {},
   "outputs": [],
   "source": [
    "                              #INHERITANCE"
   ]
  },
  {
   "cell_type": "code",
   "execution_count": null,
   "id": "d797d115-a6c3-41f2-909d-013a81921ab2",
   "metadata": {},
   "outputs": [],
   "source": [
    "# 3. Create a Python class called `Vehicle` with attributes `color` and `speed`. Then, create a child class called `Car` that inherits from `Vehicle` and adds a `brand` attribute. Provide an example of creating a `Car` objec"
   ]
  },
  {
   "cell_type": "code",
   "execution_count": 4,
   "id": "fc2e117f-b16e-43a3-b648-14bfd351fbce",
   "metadata": {},
   "outputs": [],
   "source": [
    "class vehicle:\n",
    "     \n",
    "        def color(self):\n",
    "            print(\"my favrouite color is yellow\")\n",
    "            \n",
    "        def speed(self):\n",
    "            print(\"my average speed is 60km/hr along with max speed is 200km/hr\")\n",
    "    \n",
    "     "
   ]
  },
  {
   "cell_type": "code",
   "execution_count": 9,
   "id": "d3cf6aa2-9551-403c-b3af-4b1abe55ddfa",
   "metadata": {},
   "outputs": [],
   "source": [
    "class car(vehicle):\n",
    "    def brand(self):\n",
    "        print(\"my cars brand is depends on me.that is AUDI\")\n",
    "        \n",
    "vol = car()"
   ]
  },
  {
   "cell_type": "code",
   "execution_count": 11,
   "id": "3f33d4be-f9f3-4c61-b56b-7afdff1a27fa",
   "metadata": {},
   "outputs": [
    {
     "name": "stdout",
     "output_type": "stream",
     "text": [
      "my favrouite color is yellow\n"
     ]
    }
   ],
   "source": [
    "vol.color()"
   ]
  },
  {
   "cell_type": "code",
   "execution_count": 13,
   "id": "c1606e65-185a-41f8-baec-2461e3ed64b0",
   "metadata": {},
   "outputs": [
    {
     "name": "stdout",
     "output_type": "stream",
     "text": [
      "my average speed is 60km/hr along with max speed is 200km/hr\n"
     ]
    }
   ],
   "source": [
    "vol.speed()"
   ]
  },
  {
   "cell_type": "code",
   "execution_count": 15,
   "id": "a83282a6-4100-4f67-bd36-2f9695812e6b",
   "metadata": {},
   "outputs": [
    {
     "name": "stdout",
     "output_type": "stream",
     "text": [
      "my cars brand is depends on me.that is AUDI\n"
     ]
    }
   ],
   "source": [
    "vol.brand()"
   ]
  },
  {
   "cell_type": "code",
   "execution_count": null,
   "id": "252fcdbc-7cf1-4da8-8d54-46fa8a456598",
   "metadata": {},
   "outputs": [],
   "source": [
    "# 5. How can you access the methods and attributes of a parent class from a child class in Python? Give an example."
   ]
  },
  {
   "cell_type": "code",
   "execution_count": 17,
   "id": "728ddf42-5b86-4ba7-a947-12134b76eecf",
   "metadata": {},
   "outputs": [],
   "source": [
    "class lecture:\n",
    "    \n",
    "    def topic(self):\n",
    "        print(\"todays class we are discussing about inheritance condept in oops\")\n",
    "        \n",
    "    def timing(self):\n",
    "        print(\"timing for todays class is 9 AM IST\")\n",
    "        \n",
    "    def end_time(self):\n",
    "        print(\"today i will try to end class bit early\")"
   ]
  },
  {
   "cell_type": "code",
   "execution_count": 18,
   "id": "665a36ed-8198-4f29-9358-3db278e7cae6",
   "metadata": {},
   "outputs": [],
   "source": [
    "class student(lecture):\n",
    "    \n",
    "    def student_details(self):\n",
    "        print(\"this class will give you a student details\")\n",
    "        \n",
    "piyush = student()"
   ]
  },
  {
   "cell_type": "code",
   "execution_count": 19,
   "id": "de59e623-c444-4fae-859c-ccd869fa080c",
   "metadata": {},
   "outputs": [
    {
     "name": "stdout",
     "output_type": "stream",
     "text": [
      "this class will give you a student details\n"
     ]
    }
   ],
   "source": [
    "piyush.student_details()"
   ]
  },
  {
   "cell_type": "code",
   "execution_count": 20,
   "id": "0ea95ec5-821e-4565-9cf4-07f47869c19c",
   "metadata": {},
   "outputs": [
    {
     "name": "stdout",
     "output_type": "stream",
     "text": [
      "todays class we are discussing about inheritance condept in oops\n",
      "timing for todays class is 9 AM IST\n",
      "today i will try to end class bit early\n"
     ]
    }
   ],
   "source": [
    "# this is how  extract atttributes from parent class to child class\n",
    "piyush.topic()\n",
    "piyush.timing()\n",
    "piyush.end_time()"
   ]
  },
  {
   "cell_type": "code",
   "execution_count": null,
   "id": "125c8843-267d-49ea-ad9e-72850600d08b",
   "metadata": {},
   "outputs": [],
   "source": [
    "# 6. Discuss the use of the `super()` function in Python inheritance. When and why is it used? Provide an example"
   ]
  },
  {
   "cell_type": "code",
   "execution_count": 47,
   "id": "ca2d6745-3ebe-4a3d-b69a-de0c50b94929",
   "metadata": {},
   "outputs": [],
   "source": [
    "class railways:\n",
    "    \n",
    "    def __init__(self,train):\n",
    "        self.train = train \n",
    "        \n",
    "    def train_name(self):\n",
    "        print(self.train)\n",
    "        \n",
    "class station(railways):\n",
    "    def __init__(self, train,train_id):\n",
    "        #self.train = train\n",
    "        super().__init__(train)\n",
    "        self.train_id = train_id\n",
    "        \n",
    "    def show_info(self) :\n",
    "        print(self.train, self.train_id)"
   ]
  },
  {
   "cell_type": "code",
   "execution_count": 48,
   "id": "29ecbbdc-b39e-487e-98f5-5787d85a421e",
   "metadata": {},
   "outputs": [],
   "source": [
    "kanpur = station(\"lucknow_chapra_express\",\"lko_cpr_exp\")"
   ]
  },
  {
   "cell_type": "code",
   "execution_count": 50,
   "id": "41f1d494-3ea5-4283-b9c7-90d03443adb0",
   "metadata": {},
   "outputs": [
    {
     "name": "stdout",
     "output_type": "stream",
     "text": [
      "lucknow_chapra_express lko_cpr_exp\n"
     ]
    }
   ],
   "source": [
    "kanpur.show_info()"
   ]
  },
  {
   "cell_type": "code",
   "execution_count": null,
   "id": "848a9f46-4750-41e0-ba6c-50e1219e952b",
   "metadata": {},
   "outputs": [],
   "source": [
    "#10. Discuss the concept of constructor inheritance in Python. How are constructors inherited in child classes?"
   ]
  },
  {
   "cell_type": "code",
   "execution_count": 59,
   "id": "c36224ce-6d31-4cd3-8f3a-25fa24fe5416",
   "metadata": {},
   "outputs": [],
   "source": [
    "class railways:\n",
    "    \n",
    "    def __init__(self,train):\n",
    "        self.train = train \n",
    "        pass\n",
    "    def train_no(self):\n",
    "        return(\"enter_no\")\n",
    "        pass"
   ]
  },
  {
   "cell_type": "code",
   "execution_count": 60,
   "id": "27d43469-7612-459e-8955-fd7f2482641d",
   "metadata": {},
   "outputs": [],
   "source": [
    "class station(railways):\n",
    "    def __init__(self,train,platform_no):\n",
    "        super().__init__(train)#constructor inheritance\n",
    "        self.patform_no = platform_no\n",
    "        \n",
    "        \n",
    "    def station_name(self):\n",
    "        print(\"this station is kanpur\")\n",
    "        \n",
    "v = station(\"bihar_sampark_kranti\",4)\n",
    "        \n",
    "        \n",
    "    \n",
    "    "
   ]
  },
  {
   "cell_type": "code",
   "execution_count": 62,
   "id": "5fff35a9-c81e-48ac-ba32-ca9c023eddc7",
   "metadata": {},
   "outputs": [
    {
     "data": {
      "text/plain": [
       "'bihar_sampark_kranti'"
      ]
     },
     "execution_count": 62,
     "metadata": {},
     "output_type": "execute_result"
    }
   ],
   "source": [
    "v.train"
   ]
  },
  {
   "cell_type": "code",
   "execution_count": null,
   "id": "2f862a6a-2532-4967-8b88-bdf58693049a",
   "metadata": {},
   "outputs": [],
   "source": [
    "# 11 Create a Python class called `Shape` with a method `area()` that calculates the area of a shape. Then, create child classes `Circle` and `Rectangle` that inherit from `Shape` and implement the `area()` method accordingly. Provide an example"
   ]
  },
  {
   "cell_type": "code",
   "execution_count": 88,
   "id": "7ec771c5-fd75-4f2f-af3c-2d208919bbc0",
   "metadata": {},
   "outputs": [],
   "source": [
    "class shape:\n",
    "    pass\n",
    "        \n",
    "        \n",
    "class circle(shape):\n",
    "        \n",
    "    def area(self,r):\n",
    "        return 3.14*r**2\n",
    "    \n",
    "class rectangle(shape):\n",
    "    \n",
    "    def area(self,l,b):\n",
    "        return l*b\n",
    "        \n",
    "    \n",
    "        "
   ]
  },
  {
   "cell_type": "code",
   "execution_count": 91,
   "id": "dbb49313-e2b2-4df0-85ab-46f5b9acabd5",
   "metadata": {},
   "outputs": [],
   "source": [
    "v = circle()\n",
    "y = rectangle()\n"
   ]
  },
  {
   "cell_type": "code",
   "execution_count": 93,
   "id": "c7b994a5-cdfe-4174-b089-fd8f15c3b87d",
   "metadata": {},
   "outputs": [
    {
     "data": {
      "text/plain": [
       "12"
      ]
     },
     "execution_count": 93,
     "metadata": {},
     "output_type": "execute_result"
    }
   ],
   "source": [
    "v.area(4)\n",
    "y.area(3,4)"
   ]
  },
  {
   "cell_type": "code",
   "execution_count": null,
   "id": "b0fa4877-2d5b-4c29-a60a-baf690551c1f",
   "metadata": {},
   "outputs": [],
   "source": [
    "#14. Create a Python class called `Employee` with attributes `name` and `salary`. Then, create a child class `Manager` that inherits from `Employee` and adds an attribute `department`. Provide an example"
   ]
  },
  {
   "cell_type": "code",
   "execution_count": 99,
   "id": "7ee39a87-261f-4649-ab44-7d16a46770b6",
   "metadata": {},
   "outputs": [],
   "source": [
    "class employee:\n",
    "    \n",
    "    def __init__(self,name,salary):\n",
    "        self.name = name\n",
    "        self.salary = salary\n",
    "        \n",
    "class manager(employee):\n",
    "    def department():\n",
    "        print(\"this is my yard now\")"
   ]
  },
  {
   "cell_type": "code",
   "execution_count": 100,
   "id": "eaf463e2-dc2f-40d0-a4d3-ac91ad5257bc",
   "metadata": {},
   "outputs": [],
   "source": [
    "yes = manager(\"piyush\",100000000000000000000)"
   ]
  },
  {
   "cell_type": "code",
   "execution_count": 102,
   "id": "a14428e9-bf46-4957-84af-5e649f609b86",
   "metadata": {},
   "outputs": [
    {
     "data": {
      "text/plain": [
       "100000000000000000000"
      ]
     },
     "execution_count": 102,
     "metadata": {},
     "output_type": "execute_result"
    }
   ],
   "source": [
    "yes.salary"
   ]
  },
  {
   "cell_type": "code",
   "execution_count": null,
   "id": "6a0b1fe5-931f-4335-b359-67a20abc981b",
   "metadata": {},
   "outputs": [],
   "source": [
    "# 17 Create a Python class called `Bird` with a method `fly()`. Then, create child classes `Eagle` and `Sparrow` that inherit from `Bird` and implement the `fly()` method differently. Provide an example of using these classes"
   ]
  },
  {
   "cell_type": "code",
   "execution_count": null,
   "id": "3f62d4bf-c0e5-4017-ade5-872f4dc99220",
   "metadata": {},
   "outputs": [],
   "source": [
    "class bird:\n",
    "    def fly(self):\n",
    "        print(\"flaying in my yard\")\n",
    "        \n",
    "class eagle(bird):\n",
    "    \n",
    "    def fly(self):\n",
    "        print(\"flying in mortgage\")\n",
    "        \n",
    "class  sparrow(eagle):\n",
    "    \n",
    "    def fly(self):\n",
    "        print(\"flying v\")\n",
    "        "
   ]
  },
  {
   "cell_type": "code",
   "execution_count": null,
   "id": "861f3b29-e3f2-42ef-a5d9-60f5aa1784d7",
   "metadata": {},
   "outputs": [],
   "source": [
    "# 20. Create a Python class hierarchy for a university system. Start with a base class `Person`\n",
    "and create child classes `Student` and `Professor`, each with their own attributes and methods.\n",
    "Provide an example of using these classes in a university context"
   ]
  },
  {
   "cell_type": "code",
   "execution_count": 3,
   "id": "645532b1-27d4-40bc-8a9b-4fb932ad936f",
   "metadata": {},
   "outputs": [
    {
     "name": "stdout",
     "output_type": "stream",
     "text": [
      "this is piyush chaubey from university of lko\n",
      "vikas sir  is a professor of enginnering department\n"
     ]
    }
   ],
   "source": [
    "class heirarchy:\n",
    "    def student(self):\n",
    "        print(\"i am the student of this system\")\n",
    "        \n",
    "    def professors(self):\n",
    "        print(\" different teachers are teaching us the different  portion of the department of the engineering\")\n",
    "# base_class\n",
    "class person:\n",
    "    def behaviour(self):\n",
    "        print(\"if person is professor that behaves like the teacher in university\")\n",
    "        print(\"if person is student that behaves like the graduate\")\n",
    "    \n",
    "\n",
    "class student(person):\n",
    "    def student_details(self):\n",
    "        print(\"this is piyush chaubey from university of lko\")\n",
    "        \n",
    "class professor(person):\n",
    "    def professor_type(self):\n",
    "        print(\"vikas sir  is a professor of enginnering department\")\n",
    "        \n",
    "        \n",
    "university_student = student()\n",
    "university_professor = professor()\n",
    "university_student.student_details()\n",
    "university_professor.professor_type()\n",
    "    "
   ]
  },
  {
   "cell_type": "code",
   "execution_count": null,
   "id": "abbfb240-2d4e-4fe7-89dd-839e42514947",
   "metadata": {},
   "outputs": [],
   "source": [
    "                        #POLYMORPHISM "
   ]
  },
  {
   "cell_type": "code",
   "execution_count": null,
   "id": "6c50adfb-cb80-4d58-9ca4-fa32a1bd614c",
   "metadata": {},
   "outputs": [],
   "source": [
    "#1. What is polymorphism in Python? Explain how it is related to object-oriented programming"
   ]
  },
  {
   "cell_type": "code",
   "execution_count": 30,
   "id": "fdbded45-fe9e-4dbb-b165-f0cc3ee10dd9",
   "metadata": {},
   "outputs": [
    {
     "data": {
      "text/plain": [
       "'object is same but the nature of object is different'"
      ]
     },
     "execution_count": 30,
     "metadata": {},
     "output_type": "execute_result"
    }
   ],
   "source": [
    "'''object is same but the nature of object is different'''"
   ]
  },
  {
   "cell_type": "code",
   "execution_count": 31,
   "id": "a2ba4498-d614-4b63-bdb3-a7b88e058232",
   "metadata": {},
   "outputs": [],
   "source": [
    "#2. Describe the difference between compile-time polymorphism and runtime polymorphism in Python"
   ]
  },
  {
   "cell_type": "code",
   "execution_count": 32,
   "id": "2b77e41e-18f2-4886-946f-bf12385e3346",
   "metadata": {},
   "outputs": [
    {
     "data": {
      "text/plain": [
       "'Compile-time polymorphism allows us to use many methods with the same name␣\\nbut differing signatures and return types. Method overriding can be used to␣\\ndemonstrate run-time polymorphism. Run-time polymorphism is associated with␣\\ndifferent classes, but it allows us to use the same method with different␣\\nsignature names.'"
      ]
     },
     "execution_count": 32,
     "metadata": {},
     "output_type": "execute_result"
    }
   ],
   "source": [
    "'''Compile-time polymorphism allows us to use many methods with the same name␣\n",
    "but differing signatures and return types. Method overriding can be used to␣\n",
    "demonstrate run-time polymorphism. Run-time polymorphism is associated with␣\n",
    "different classes, but it allows us to use the same method with different␣\n",
    "signature names.'''"
   ]
  },
  {
   "cell_type": "code",
   "execution_count": null,
   "id": "90d2c6c3-af81-4cb3-b688-4f56f255f866",
   "metadata": {},
   "outputs": [],
   "source": [
    "\n",
    "# 3. Create a Python class hierarchy for shapes (e.g., circle, square, triangle) and\n",
    "demonstrate polymorphism through a common method, such as `calculate_area()`."
   ]
  },
  {
   "cell_type": "code",
   "execution_count": 9,
   "id": "cc53cf19-ab0c-4d07-89f1-b44a6b8ab181",
   "metadata": {},
   "outputs": [],
   "source": [
    "class circle:\n",
    "      # '*' behaves as a different work in the below function     \n",
    "    def area_of_circle(self,r):\n",
    "        return 3.14*r**2\n",
    "class square:\n",
    "    #'*' behaves as a different work in the below function \n",
    "    def area_of_aquare(self,a):\n",
    "        return a*a\n",
    "class triangle:\n",
    "    #'*' behaves as a different work in the below function \n",
    "    def area_of_triangle(self,b,h):\n",
    "        return 0.5*b*h\n",
    "    \n",
    "a1 = circle()\n",
    "a2 = square()\n",
    "a3 = triangle()\n"
   ]
  },
  {
   "cell_type": "code",
   "execution_count": 10,
   "id": "53f2acf6-ae82-4622-bbc6-f1f3d4f4fc17",
   "metadata": {},
   "outputs": [
    {
     "data": {
      "text/plain": [
       "50.24"
      ]
     },
     "execution_count": 10,
     "metadata": {},
     "output_type": "execute_result"
    }
   ],
   "source": [
    "a1.area_of_circle(4)"
   ]
  },
  {
   "cell_type": "code",
   "execution_count": 11,
   "id": "3f893072-6b4f-410f-a3ce-9b967f27fcef",
   "metadata": {},
   "outputs": [
    {
     "data": {
      "text/plain": [
       "16"
      ]
     },
     "execution_count": 11,
     "metadata": {},
     "output_type": "execute_result"
    }
   ],
   "source": [
    "a2.area_of_aquare(4)"
   ]
  },
  {
   "cell_type": "code",
   "execution_count": 12,
   "id": "0e86f95b-3362-4f33-ba5e-d4060452959c",
   "metadata": {},
   "outputs": [
    {
     "data": {
      "text/plain": [
       "6.0"
      ]
     },
     "execution_count": 12,
     "metadata": {},
     "output_type": "execute_result"
    }
   ],
   "source": [
    "a3.area_of_triangle(3,4)"
   ]
  },
  {
   "cell_type": "code",
   "execution_count": null,
   "id": "c7359139-6886-475a-b322-31bd3393fbb1",
   "metadata": {},
   "outputs": [],
   "source": [
    "#4. Explain the concept of method overriding in polymorphism. Provide an example"
   ]
  },
  {
   "cell_type": "code",
   "execution_count": 18,
   "id": "a1e4b6a3-08e9-4e67-b575-8f9721ff751d",
   "metadata": {},
   "outputs": [],
   "source": [
    "class train:\n",
    "    def honking(self):\n",
    "        pass\n",
    "    \n",
    "class passenger_train(train):\n",
    "    def honking(self):\n",
    "        print(\"honking slowly when we become near to it\")\n",
    "        \n",
    "class express_train(train):\n",
    "    def honking(self):\n",
    "        print(\"this train honking only when itself skip the station \")\n",
    "        \n",
    "t1 = passenger_train()\n",
    "t2 = express_train()"
   ]
  },
  {
   "cell_type": "code",
   "execution_count": 19,
   "id": "309e7e0c-24a8-4e18-954a-5f1dcec9da3f",
   "metadata": {},
   "outputs": [
    {
     "name": "stdout",
     "output_type": "stream",
     "text": [
      "honking slowly when we become near to it\n"
     ]
    }
   ],
   "source": [
    "t1.honking()"
   ]
  },
  {
   "cell_type": "code",
   "execution_count": 20,
   "id": "9559dd1a-b6d4-4f2b-a795-8ef552e259b4",
   "metadata": {},
   "outputs": [
    {
     "name": "stdout",
     "output_type": "stream",
     "text": [
      "this train honking only when itself skip the station \n"
     ]
    }
   ],
   "source": [
    "t2.honking()"
   ]
  },
  {
   "cell_type": "code",
   "execution_count": null,
   "id": "39dec204-67bc-4981-b468-fbe8214b6ebe",
   "metadata": {},
   "outputs": [],
   "source": [
    "#5. How is polymorphism different from method overloading in Python? Provide\n",
    "examples for both."
   ]
  },
  {
   "cell_type": "code",
   "execution_count": 7,
   "id": "4eff8f27-bdf3-4821-b8fd-22d508805b39",
   "metadata": {},
   "outputs": [
    {
     "name": "stdout",
     "output_type": "stream",
     "text": [
      "3000 110\n"
     ]
    }
   ],
   "source": [
    "#method overloading:-in this method we add the objects with the help of dunder function defined below\n",
    "class station:\n",
    "    def __init__(self,number_of_trains,number_of_passengers_per_day):\n",
    "        self.number_of_trains = number_of_trains\n",
    "        self.number_of_passengers_per_day =number_of_passengers_per_day\n",
    "      #dunder function  \n",
    "    def __add__(self,other):\n",
    "        return station(self.number_of_passengers_per_day + other.number_of_passengers_per_day,self.number_of_trains + other.number_of_trains)\n",
    "c1 = station(1000,50)\n",
    "c2 = station(2000,60)\n",
    "result = c1+c2\n",
    "print(result.number_of_passengers_per_day , result.number_of_trains)"
   ]
  },
  {
   "cell_type": "code",
   "execution_count": 4,
   "id": "ab4e4868-93fe-42fe-9646-bfdb7b7c989d",
   "metadata": {},
   "outputs": [
    {
     "ename": "TypeError",
     "evalue": "unsupported operand type(s) for +: 'passenger_train' and 'passenger_train'",
     "output_type": "error",
     "traceback": [
      "\u001b[0;31m---------------------------------------------------------------------------\u001b[0m",
      "\u001b[0;31mTypeError\u001b[0m                                 Traceback (most recent call last)",
      "Cell \u001b[0;32mIn[4], line 9\u001b[0m\n\u001b[1;32m      7\u001b[0m c2 \u001b[38;5;241m=\u001b[39m passenger_train()\n\u001b[1;32m      8\u001b[0m c3 \u001b[38;5;241m=\u001b[39m passenger_train()\n\u001b[0;32m----> 9\u001b[0m result \u001b[38;5;241m=\u001b[39m \u001b[43mc1\u001b[49m\u001b[43m \u001b[49m\u001b[38;5;241;43m+\u001b[39;49m\u001b[43mc2\u001b[49m\u001b[38;5;241m+\u001b[39mc3\n\u001b[1;32m     10\u001b[0m \u001b[38;5;28mprint\u001b[39m(result)\n",
      "\u001b[0;31mTypeError\u001b[0m: unsupported operand type(s) for +: 'passenger_train' and 'passenger_train'"
     ]
    }
   ],
   "source": [
    "#for the addition of objects data we call dunder function other this will happen below\n",
    "class passenger_train():\n",
    "    def honking(self):\n",
    "        print(\"honking slowly when we become near to it\")\n",
    "        \n",
    "c1 = passenger_train()\n",
    "c2 = passenger_train()\n",
    "c3 = passenger_train()\n",
    "result = c1 +c2+c3\n",
    "print(result)"
   ]
  },
  {
   "cell_type": "code",
   "execution_count": null,
   "id": "88aa1350-9315-4d33-8612-11dea60a30b9",
   "metadata": {},
   "outputs": [],
   "source": [
    "#6. Create a Python class called `Animal` with a method `speak()`. Then, create child classes like `Dog`, `Cat`, and `Bird`, each with their own `speak()` method. Demonstrate polymorphism by calling the `speak()` method on objects of different subclasses."
   ]
  },
  {
   "cell_type": "code",
   "execution_count": 13,
   "id": "38e4dab2-7232-488c-9db1-06c962fdc90c",
   "metadata": {},
   "outputs": [],
   "source": [
    "# method overloading:- with the help of different state of method we achieve method overriding\n",
    "class animal:\n",
    "    def speak(self):\n",
    "        pass\n",
    "    \n",
    "class dog(animal):\n",
    "    def speak(self):\n",
    "        print(\"this is the voice of dogs barking\")\n",
    "        \n",
    "class cat(animal):\n",
    "    def speak(self):\n",
    "        print(\"this is the voice of cats\")\n",
    "        \n",
    "class bird(animal):\n",
    "    def speak(self):\n",
    "        print(\"this is the vice of birds chirping\")\n",
    "        \n",
    "a = dog()\n",
    "b = cat()\n",
    "c = bird()\n"
   ]
  },
  {
   "cell_type": "code",
   "execution_count": 14,
   "id": "3354fd6a-c72d-4bd7-851b-bd63a7344132",
   "metadata": {},
   "outputs": [
    {
     "name": "stdout",
     "output_type": "stream",
     "text": [
      "this is the voice of dogs barking\n"
     ]
    }
   ],
   "source": [
    "a.speak()"
   ]
  },
  {
   "cell_type": "code",
   "execution_count": 15,
   "id": "f7983b3f-44ec-4797-a7fd-c098054c060e",
   "metadata": {},
   "outputs": [
    {
     "name": "stdout",
     "output_type": "stream",
     "text": [
      "this is the voice of cats\n"
     ]
    }
   ],
   "source": [
    "b.speak()"
   ]
  },
  {
   "cell_type": "code",
   "execution_count": 16,
   "id": "cb2d36cf-2c2a-4b46-8c1e-df357a600784",
   "metadata": {},
   "outputs": [
    {
     "name": "stdout",
     "output_type": "stream",
     "text": [
      "this is the vice of birds chirping\n"
     ]
    }
   ],
   "source": [
    "c.speak()"
   ]
  },
  {
   "cell_type": "code",
   "execution_count": null,
   "id": "e9a58e09-3a12-4548-b52e-daa4d667698d",
   "metadata": {},
   "outputs": [],
   "source": [
    "#7. Discuss the use of abstract methods and classes in achieving polymorphism in Python. Provide an example using the `abc` module."
   ]
  },
  {
   "cell_type": "code",
   "execution_count": 33,
   "id": "ba3803a2-8f44-4dcc-911e-d73ee9e0f040",
   "metadata": {},
   "outputs": [
    {
     "data": {
      "text/plain": [
       "'abstractmethod() may be used to declare abstract methods for properties and␣\\ndescriptors. Polymorphism is an important feature of class definition in␣\\nPython that is used when you have methods with the same name across classes␣\\nor subclasses.'"
      ]
     },
     "execution_count": 33,
     "metadata": {},
     "output_type": "execute_result"
    }
   ],
   "source": [
    "'''abstractmethod() may be used to declare abstract methods for properties and␣\n",
    "descriptors. Polymorphism is an important feature of class definition in␣\n",
    "Python that is used when you have methods with the same name across classes␣\n",
    "or subclasses.'''"
   ]
  },
  {
   "cell_type": "code",
   "execution_count": null,
   "id": "80247bd2-07e7-4241-8a7c-b180b081c83b",
   "metadata": {},
   "outputs": [],
   "source": [
    "#8. Create a Python class hierarchy for a vehicle system (e.g., car, bicycle, boat) and implement a polymorphic `start()` method that prints a message specific to each vehicle type"
   ]
  },
  {
   "cell_type": "code",
   "execution_count": 9,
   "id": "f0fdbaf9-4e5a-483f-81d9-20c700ebdf33",
   "metadata": {},
   "outputs": [
    {
     "name": "stdout",
     "output_type": "stream",
     "text": [
      "this car is starts with self method\n",
      "this starts with paddled version\n",
      "this starts with boat stick\n"
     ]
    }
   ],
   "source": [
    "class car:\n",
    "    def start(self):\n",
    "        print(\"this car is starts with self method\")\n",
    "        \n",
    "class bicycle(car):\n",
    "    def start(self):\n",
    "        print(\"this starts with paddled version\")\n",
    "        \n",
    "class boat(bicycle):\n",
    "    def start(self):\n",
    "        print(\"this starts with boat stick\")\n",
    "        \n",
    "a = car()\n",
    "b = bicycle()\n",
    "c = boat()\n",
    "a.start()\n",
    "b.start()\n",
    "c.start()"
   ]
  },
  {
   "cell_type": "code",
   "execution_count": null,
   "id": "aa457cfc-0987-45f3-a3b7-8be28e3e7f7f",
   "metadata": {},
   "outputs": [],
   "source": [
    "#9. Explain the significance of the `isinstance()` and `issubclass()` functions in Python polymorphism"
   ]
  },
  {
   "cell_type": "code",
   "execution_count": 34,
   "id": "43aeab17-4181-4437-b7ce-f45a726d2a8f",
   "metadata": {},
   "outputs": [
    {
     "data": {
      "text/plain": [
       "'The built-in functions isinstance and issubclass ask two different questions.\\n isinstance(object, classinfo) asks whether an object is an instance of a␣\\nclass (or a tuple of classes). issubclass(class, classinfo) asks whether one␣\\nclass is a subclass of another class (or other classes'"
      ]
     },
     "execution_count": 34,
     "metadata": {},
     "output_type": "execute_result"
    }
   ],
   "source": [
    "'''The built-in functions isinstance and issubclass ask two different questions.\n",
    " isinstance(object, classinfo) asks whether an object is an instance of a␣\n",
    "class (or a tuple of classes). issubclass(class, classinfo) asks whether one␣\n",
    "class is a subclass of another class (or other classes'''"
   ]
  },
  {
   "cell_type": "code",
   "execution_count": null,
   "id": "919eb4ee-d859-47e1-8aa1-fe9b72f97801",
   "metadata": {},
   "outputs": [],
   "source": [
    "#10. What is the role of the `@abstractmethod` decorator in achieving polymorphism in Python? Provide an example."
   ]
  },
  {
   "cell_type": "code",
   "execution_count": 35,
   "id": "8eae5d70-85e9-49d0-8ad3-119b0eb6bc22",
   "metadata": {},
   "outputs": [
    {
     "data": {
      "text/plain": [
       "'A method becomes abstract when decorated with the keyword @abstractmethod'"
      ]
     },
     "execution_count": 35,
     "metadata": {},
     "output_type": "execute_result"
    }
   ],
   "source": [
    "'''A method becomes abstract when decorated with the keyword @abstractmethod'''"
   ]
  },
  {
   "cell_type": "code",
   "execution_count": null,
   "id": "96d3e455-83be-4ec1-9d3f-3e25fd7519cb",
   "metadata": {},
   "outputs": [],
   "source": [
    "#11. Create a Python class called `Shape` with a polymorphic method `area()` that calculates the area of different shapes (e.g., circle, rectangle, triangle).#"
   ]
  },
  {
   "cell_type": "code",
   "execution_count": 13,
   "id": "978dcbd2-df31-41ff-91cd-41c376ec081c",
   "metadata": {},
   "outputs": [],
   "source": [
    "class shape:\n",
    "    def area_of_shape(self):\n",
    "        pass\n",
    "    \n",
    "class rectangle:\n",
    "    def area_of_rectangle(self,l,b):\n",
    "        return l*b\n",
    "    \n",
    "class cuboid:\n",
    "    def area_of_cuboid(self,l,b,h):\n",
    "        return 2*(l*b+b*h+h*l)\n",
    "    \n",
    "class cube:\n",
    "    def area_of_cube(self,a): \n",
    "        return 6*a**2\n",
    "    \n",
    "a1 = rectangle()\n",
    "a2 = cuboid()\n",
    "a3 = cube()\n"
   ]
  },
  {
   "cell_type": "code",
   "execution_count": 15,
   "id": "beea8f8a-0370-49a0-bb30-17315c5ce3c0",
   "metadata": {},
   "outputs": [
    {
     "data": {
      "text/plain": [
       "6"
      ]
     },
     "execution_count": 15,
     "metadata": {},
     "output_type": "execute_result"
    }
   ],
   "source": [
    "a1.area_of_rectangle(2,3)"
   ]
  },
  {
   "cell_type": "code",
   "execution_count": 16,
   "id": "18c8a312-6a5f-4b5f-96e6-b51bb993068c",
   "metadata": {},
   "outputs": [
    {
     "data": {
      "text/plain": [
       "148"
      ]
     },
     "execution_count": 16,
     "metadata": {},
     "output_type": "execute_result"
    }
   ],
   "source": [
    "a2.area_of_cuboid(4,5,6)"
   ]
  },
  {
   "cell_type": "code",
   "execution_count": 17,
   "id": "aaee283d-9061-4293-b7ac-b99b2fc61019",
   "metadata": {},
   "outputs": [
    {
     "data": {
      "text/plain": [
       "294"
      ]
     },
     "execution_count": 17,
     "metadata": {},
     "output_type": "execute_result"
    }
   ],
   "source": [
    "a3.area_of_cube(7)"
   ]
  },
  {
   "cell_type": "code",
   "execution_count": null,
   "id": "10f3c29e-e157-4f74-a037-7f96c0437908",
   "metadata": {},
   "outputs": [],
   "source": [
    "#12. Discuss the benefits of polymorphism in terms of code reusability and flexibility in Python programs"
   ]
  },
  {
   "cell_type": "code",
   "execution_count": 36,
   "id": "0dc7f5d2-a792-4166-95d6-f61d3459e3e2",
   "metadata": {},
   "outputs": [
    {
     "data": {
      "text/plain": [
       "'By enabling programmers to reuse the same code for various data types,␣\\npolymorphism encourages code reuse. As a result, less code needs to be␣\\nwritten and code maintenance is made simpler over time.'"
      ]
     },
     "execution_count": 36,
     "metadata": {},
     "output_type": "execute_result"
    }
   ],
   "source": [
    "'''By enabling programmers to reuse the same code for various data types,␣\n",
    "polymorphism encourages code reuse. As a result, less code needs to be␣\n",
    "written and code maintenance is made simpler over time.'''"
   ]
  },
  {
   "cell_type": "code",
   "execution_count": null,
   "id": "3207ffb9-f8a9-4d6e-bb8a-f904c8fdfb44",
   "metadata": {},
   "outputs": [],
   "source": [
    "#13. Explain the use of the `super()` function in Python polymorphism. How does it help call methods of parentclasses?"
   ]
  },
  {
   "cell_type": "code",
   "execution_count": 37,
   "id": "9a47cef0-56a0-456a-87a8-a8ae94a12e26",
   "metadata": {},
   "outputs": [
    {
     "data": {
      "text/plain": [
       "'the super() function is used to refer to the parent class or superclass. It␣\\nallows you to call methods defined in the superclass from the subclass,␣\\nenabling you to extend and customize the functionality inherited from the␣\\nparent class'"
      ]
     },
     "execution_count": 37,
     "metadata": {},
     "output_type": "execute_result"
    }
   ],
   "source": [
    "'''the super() function is used to refer to the parent class or superclass. It␣\n",
    "allows you to call methods defined in the superclass from the subclass,␣\n",
    "enabling you to extend and customize the functionality inherited from the␣\n",
    "parent class'''"
   ]
  },
  {
   "cell_type": "code",
   "execution_count": null,
   "id": "777b206a-0b6b-4387-a32a-4d90a7dbc3fb",
   "metadata": {},
   "outputs": [],
   "source": [
    "#14. Create a Python class hierarchy for a banking system with various account types\n",
    "(e.g., savings, checking, credit card) and demonstrate polymorphism by implementing a\n",
    "common `withdraw()` method"
   ]
  },
  {
   "cell_type": "code",
   "execution_count": 26,
   "id": "33423e02-d560-4c79-b1d6-2346a13d150b",
   "metadata": {},
   "outputs": [],
   "source": [
    "class savings:\n",
    "    def withdraw(self,a):\n",
    "        if a>200:\n",
    "            print(\"withdraw money\")\n",
    "        elif a<200:\n",
    "            print(\"not withdraw money\")\n",
    "        else :\n",
    "            print(\"show current balance\")\n",
    "            \n",
    "class checking:\n",
    "    def withdraw(self,b):\n",
    "        if b>200:\n",
    "            print(\"withdraw money\")\n",
    "        elif b<200:\n",
    "            print(\"not withdraw money\")\n",
    "        else :\n",
    "            print(\"show current balance\")\n",
    "            \n",
    "class credit_card:\n",
    "    def withdraw(self,c):\n",
    "        if c>200:\n",
    "            print(\"withdraw money\")\n",
    "        elif c<200:\n",
    "            print(\"not withdraw money\")\n",
    "        else :\n",
    "            print(\"show current balance\")\n",
    "            \n",
    "t = savings()\n",
    "s = credit_card()\n",
    "j = checking()\n",
    "\n",
    "            \n",
    "        "
   ]
  },
  {
   "cell_type": "code",
   "execution_count": 27,
   "id": "9c59de0f-93f8-450e-b712-089a98ffe1a9",
   "metadata": {},
   "outputs": [
    {
     "name": "stdout",
     "output_type": "stream",
     "text": [
      "not withdraw money\n",
      "not withdraw money\n",
      "withdraw money\n"
     ]
    }
   ],
   "source": [
    "t.withdraw(20)\n",
    "s.withdraw(30)\n",
    "j.withdraw(290)"
   ]
  },
  {
   "cell_type": "code",
   "execution_count": null,
   "id": "a5d8ae01-be21-4763-8d14-3e94bdbe2f3c",
   "metadata": {},
   "outputs": [],
   "source": [
    "15. Describe the concept of operator overloading in Python and how it relates to\n",
    "polymorphism. Provide examples using operators like `+` and `*`.#\n",
    "\n"
   ]
  },
  {
   "cell_type": "code",
   "execution_count": 40,
   "id": "25a8f529-7104-481d-8461-a8209c761e50",
   "metadata": {},
   "outputs": [
    {
     "name": "stdout",
     "output_type": "stream",
     "text": [
      "3000 110\n",
      "2000000 3000\n"
     ]
    }
   ],
   "source": [
    "class station:\n",
    "    def __init__(self,rush,platform):\n",
    "        self.rush = rush\n",
    "        self.platform = platform\n",
    "      #dunder function  \n",
    "    def __add__(self,other):\n",
    "        return station(self.rush + other.rush,self.platform+ other.platform)\n",
    "    def __mul__(self,other2):\n",
    "        return station(self.rush *other2.rush,self.platform*other2.platform)\n",
    "c1 = station(1000,50)\n",
    "c2 = station(2000,60)\n",
    "result = c1+c2\n",
    "print(result.rush , result.platform)\n",
    "result2 = c1*c2\n",
    "print(result2.rush,result2.platform)"
   ]
  },
  {
   "cell_type": "code",
   "execution_count": null,
   "id": "678fdb01-d986-4390-9b73-fff9b565a90d",
   "metadata": {},
   "outputs": [],
   "source": [
    "#16. What is dynamic polymorphism, and how is it achieved in Python?"
   ]
  },
  {
   "cell_type": "code",
   "execution_count": 38,
   "id": "568f615a-9ed3-41a7-9ef5-ed1b44a33bad",
   "metadata": {},
   "outputs": [
    {
     "data": {
      "text/plain": [
       "' defines methods in the child class that have the same name as the methods in the parent class.'"
      ]
     },
     "execution_count": 38,
     "metadata": {},
     "output_type": "execute_result"
    }
   ],
   "source": [
    "''' defines methods in the child class that have the same name as the methods in the parent class.'''"
   ]
  },
  {
   "cell_type": "code",
   "execution_count": null,
   "id": "e64b3938-d4c7-442a-b16d-f77da53ac4f2",
   "metadata": {},
   "outputs": [],
   "source": [
    "#17. Create a Python class hierarchy for employees in a company (e.g., manager,\n",
    "developer, designer) and implement polymorphism through a common\n",
    "`calculate_salary()` method."
   ]
  },
  {
   "cell_type": "code",
   "execution_count": 28,
   "id": "8ca46c9f-af43-4075-837b-b931948705d2",
   "metadata": {},
   "outputs": [],
   "source": [
    "class manager:\n",
    "    def cal_salary(self,a):\n",
    "        if a <100000:\n",
    "            print(\"the salary is 95000\")\n",
    "        else:\n",
    "            print(\"the salary is 100000\")\n",
    "            \n",
    "class developer:\n",
    "    def cal_salary(self,b):\n",
    "        if 100000< b <200000:\n",
    "            print(\"the salary is 150000\")\n",
    "        else:\n",
    "            print(\"the salary is 200000\")\n",
    "            \n",
    "class designer:\n",
    "    def cal_salary(self,c):\n",
    "        if 400000>c>200000:\n",
    "            print(\"the salary is 350000\")\n",
    "        else:\n",
    "            print(\"the salary is 400000\")\n",
    "            \n",
    "v = manager()\n",
    "v1 = developer()\n",
    "v3 = designer()"
   ]
  },
  {
   "cell_type": "code",
   "execution_count": 30,
   "id": "bdc5ac7e-9432-45f3-a5dd-5895590b84fb",
   "metadata": {},
   "outputs": [
    {
     "name": "stdout",
     "output_type": "stream",
     "text": [
      "the salary is 95000\n",
      "the salary is 150000\n",
      "the salary is 350000\n"
     ]
    }
   ],
   "source": [
    "v.cal_salary(50000)\n",
    "v1.cal_salary(149000)\n",
    "v3.cal_salary(349000)"
   ]
  },
  {
   "cell_type": "code",
   "execution_count": null,
   "id": "4200ba43-96eb-478c-b75c-a032e61a5f28",
   "metadata": {},
   "outputs": [],
   "source": [
    "#18. Discuss the concept of function pointers and how they can be used to achieve polymorphism in Python"
   ]
  },
  {
   "cell_type": "code",
   "execution_count": 39,
   "id": "cbed5ad4-d3c0-4d7e-af08-00890e81cd7d",
   "metadata": {},
   "outputs": [
    {
     "data": {
      "text/plain": [
       "'A pointer to a function points to the address of the executable code of the function. it is used as self i.e dunder funtion'"
      ]
     },
     "execution_count": 39,
     "metadata": {},
     "output_type": "execute_result"
    }
   ],
   "source": [
    "'''A pointer to a function points to the address of the executable code of the function. it is used as self i.e dunder funtion'''"
   ]
  },
  {
   "cell_type": "code",
   "execution_count": null,
   "id": "bc2c65be-fd9e-4595-8100-99322b8d2b71",
   "metadata": {},
   "outputs": [],
   "source": [
    "#19. Explain the role of interfaces and abstract classes in polymorphism, drawing comparisons between them."
   ]
  },
  {
   "cell_type": "code",
   "execution_count": 40,
   "id": "e9e15fe9-9ddf-465d-85d4-4004a4160dd9",
   "metadata": {},
   "outputs": [
    {
     "data": {
      "text/plain": [
       "'Abstraction is a general guideline giving independence of implementation to␣\\nthe follower classes while Polymorphism is differential approach which␣\\noverride the methods/rules set by parent class'"
      ]
     },
     "execution_count": 40,
     "metadata": {},
     "output_type": "execute_result"
    }
   ],
   "source": [
    "'''Abstraction is a general guideline giving independence of implementation to␣\n",
    "the follower classes while Polymorphism is differential approach which␣\n",
    "override the methods/rules set by parent class'''"
   ]
  },
  {
   "cell_type": "code",
   "execution_count": null,
   "id": "ad124b56-8f24-4d6f-87fd-b248b8bd90b4",
   "metadata": {},
   "outputs": [],
   "source": [
    "#20. Create a Python class for a zoo simulation, demonstrating polymorphism with\n",
    "different animal types (e.g., mammals, birds, reptiles) and their behavior (e.g., eating,\n",
    "sleeping, making sounds)."
   ]
  },
  {
   "cell_type": "code",
   "execution_count": 31,
   "id": "44d618f6-9cfb-4ade-83da-e2f293de6f83",
   "metadata": {},
   "outputs": [],
   "source": [
    "class mammals:\n",
    "    def sleeping(self):\n",
    "        print(\"sleeps in mid day\")\n",
    "        \n",
    "    def making_sounds(self):\n",
    "        print(\"strucked sound they does make\")\n",
    "        \n",
    "class birds:\n",
    "    def sleeping(self):\n",
    "        print(\"sleeps in night\")\n",
    "    def making_sounds(self):\n",
    "        print(\"they sounds very sharp during morning\")\n",
    "        \n",
    "class reptiles:\n",
    "    def making_sounds(self):\n",
    "        print(\"they makes short noice\")\n",
    "        \n",
    "    def sleeping(self):\n",
    "        print(\"sleeps at night\")\n",
    "        \n",
    "a = mammals()\n",
    "b = birds()\n",
    "c = reptiles()"
   ]
  },
  {
   "cell_type": "code",
   "execution_count": 33,
   "id": "db5c49ef-bad6-4f33-9901-12f1805c8ae6",
   "metadata": {},
   "outputs": [
    {
     "name": "stdout",
     "output_type": "stream",
     "text": [
      "strucked sound they does make\n",
      "they sounds very sharp during morning\n",
      "they makes short noice\n"
     ]
    }
   ],
   "source": [
    "a.making_sounds()\n",
    "b.making_sounds()\n",
    "c.making_sounds()"
   ]
  },
  {
   "cell_type": "code",
   "execution_count": 34,
   "id": "d8cdbb83-e116-4672-b3c2-c464ac140ea6",
   "metadata": {},
   "outputs": [
    {
     "name": "stdout",
     "output_type": "stream",
     "text": [
      "sleeps in mid day\n",
      "sleeps in night\n",
      "sleeps at night\n"
     ]
    }
   ],
   "source": [
    "a.sleeping()\n",
    "b.sleeping()\n",
    "c.sleeping()"
   ]
  },
  {
   "cell_type": "code",
   "execution_count": null,
   "id": "12450263-2c5c-4111-974e-c5925a761f5a",
   "metadata": {},
   "outputs": [],
   "source": [
    "                             #ENCAPSULATIION"
   ]
  },
  {
   "cell_type": "code",
   "execution_count": null,
   "id": "982d7fac-b490-4bed-9842-5357ad998c29",
   "metadata": {},
   "outputs": [],
   "source": [
    "#1. Explain the concept of encapsulation in Python. What is its role in object-oriented programming?\n"
   ]
  },
  {
   "cell_type": "code",
   "execution_count": 41,
   "id": "573173fa-7edf-4699-921a-0f57d4b1ce40",
   "metadata": {},
   "outputs": [
    {
     "data": {
      "text/plain": [
       "'encapsulation is nothing but a technique to hide the method or attribute in which you have to store your private variable '"
      ]
     },
     "execution_count": 41,
     "metadata": {},
     "output_type": "execute_result"
    }
   ],
   "source": [
    "'''encapsulation is nothing but a technique to hide the method or attribute in which you have to store your private variable '''"
   ]
  },
  {
   "cell_type": "code",
   "execution_count": null,
   "id": "5f2854d9-0a83-4076-95c9-8b6ceaf78d0a",
   "metadata": {},
   "outputs": [],
   "source": [
    "#2. Describe the key principles of encapsulation, including access control and data hiding"
   ]
  },
  {
   "cell_type": "code",
   "execution_count": 42,
   "id": "61e1c9d5-0843-4d9c-9fc2-9ded7edd2469",
   "metadata": {},
   "outputs": [
    {
     "data": {
      "text/plain": [
       "'Data encapsulation targets how the data is accessed and how different␣\\nobjects behave. Data hiding focuses on object member accessibility within a␣\\nclass, and information hiding is the most common encapsulation method.'"
      ]
     },
     "execution_count": 42,
     "metadata": {},
     "output_type": "execute_result"
    }
   ],
   "source": [
    "'''Data encapsulation targets how the data is accessed and how different␣\n",
    "objects behave. Data hiding focuses on object member accessibility within a␣\n",
    "class, and information hiding is the most common encapsulation method.'''"
   ]
  },
  {
   "cell_type": "code",
   "execution_count": null,
   "id": "c3813be6-89b0-4e00-9b4e-be98388c24c4",
   "metadata": {},
   "outputs": [],
   "source": [
    "#4. Discuss the difference between public, private, and protected access modifiers in Python"
   ]
  },
  {
   "cell_type": "code",
   "execution_count": 43,
   "id": "52d47fc9-ade7-4db6-a281-6380d246f9f6",
   "metadata": {},
   "outputs": [
    {
     "data": {
      "text/plain": [
       "'__private,_protected,public'"
      ]
     },
     "execution_count": 43,
     "metadata": {},
     "output_type": "execute_result"
    }
   ],
   "source": [
    "'''__private,_protected,public'''"
   ]
  },
  {
   "cell_type": "code",
   "execution_count": null,
   "id": "c2599934-dd85-41f5-92c8-0b0f6eb08334",
   "metadata": {},
   "outputs": [],
   "source": [
    "#7. What is name mangling in Python, and how does it affect encapsulation?"
   ]
  },
  {
   "cell_type": "code",
   "execution_count": 45,
   "id": "b681bc79-be8a-455a-bb7f-24e2a9df7547",
   "metadata": {},
   "outputs": [
    {
     "data": {
      "text/plain": [
       "' any identifier with two leading underscore and one trailing underscore is␣\\ntextually replaced with _classname__identifier where classname is the name␣\\nof the current class.'"
      ]
     },
     "execution_count": 45,
     "metadata": {},
     "output_type": "execute_result"
    }
   ],
   "source": [
    "''' any identifier with two leading underscore and one trailing underscore is␣\n",
    "textually replaced with _classname__identifier where classname is the name␣\n",
    "of the current class.'''"
   ]
  },
  {
   "cell_type": "code",
   "execution_count": null,
   "id": "e746a7d8-dfc8-4128-add4-6e8643d0b7e7",
   "metadata": {},
   "outputs": [],
   "source": [
    "#9. Discuss the advantages of encapsulation in terms of code maintainability and security."
   ]
  },
  {
   "cell_type": "code",
   "execution_count": 46,
   "id": "2b71a3f0-1ff4-4301-962e-e8b4df0095d0",
   "metadata": {},
   "outputs": [
    {
     "data": {
      "text/plain": [
       "'encapsulate make methods private and protected so that other person can performs operation but cannot understand hows it running'"
      ]
     },
     "execution_count": 46,
     "metadata": {},
     "output_type": "execute_result"
    }
   ],
   "source": [
    "'''encapsulate make methods private and protected so that other person can performs operation but cannot understand hows it running'''"
   ]
  },
  {
   "cell_type": "code",
   "execution_count": null,
   "id": "0ca7e2b6-8949-480f-aacc-e25d252241e8",
   "metadata": {},
   "outputs": [],
   "source": [
    "#10. How can you access private attributes in Python? Provide an example demonstrating the use of name mangling"
   ]
  },
  {
   "cell_type": "code",
   "execution_count": 48,
   "id": "4378ab34-45da-45dc-b5e7-594166cd0e3e",
   "metadata": {},
   "outputs": [
    {
     "data": {
      "text/plain": [
       "'piyush@gamil.com'"
      ]
     },
     "execution_count": 48,
     "metadata": {},
     "output_type": "execute_result"
    }
   ],
   "source": [
    "class gmail_account:\n",
    "    def __init__(self):\n",
    "        self.__x = \"piyush@gamil.com\"\n",
    "    def access_var(self):\n",
    "        return self.__x\n",
    "    def update_var(self,data):\n",
    "        self.__x = data\n",
    "a = gmail_account()\n",
    "a.access_var()"
   ]
  },
  {
   "cell_type": "code",
   "execution_count": null,
   "id": "0d045d19-e59a-4767-ae30-bf81cf6aaa2f",
   "metadata": {},
   "outputs": [],
   "source": [
    "#12. Explain the concept of property decorators in Python and how they relate to encapsulation"
   ]
  },
  {
   "cell_type": "code",
   "execution_count": 49,
   "id": "f326e320-f45f-4077-91ab-0d6b7072ee11",
   "metadata": {},
   "outputs": [
    {
     "data": {
      "text/plain": [
       "'a mechanism of wrapping the data (variables) and code acting on the data␣\\n(methods) together as a single unit.'"
      ]
     },
     "execution_count": 49,
     "metadata": {},
     "output_type": "execute_result"
    }
   ],
   "source": [
    "'''a mechanism of wrapping the data (variables) and code acting on the data␣\n",
    "(methods) together as a single unit.'''"
   ]
  },
  {
   "cell_type": "code",
   "execution_count": null,
   "id": "16c37d50-828d-41c3-9a17-73e37fe8a27e",
   "metadata": {},
   "outputs": [],
   "source": [
    "#15. Discuss the use of accessors and mutators in encapsulation. How do they help maintain control over attribute access?"
   ]
  },
  {
   "cell_type": "code",
   "execution_count": 50,
   "id": "24052527-d7a5-4d7d-8b70-9a45f7abefb8",
   "metadata": {},
   "outputs": [
    {
     "data": {
      "text/plain": [
       "'accessors are used to get the value of a private field and mutators are used␣\\nto set the value of a private field.'"
      ]
     },
     "execution_count": 50,
     "metadata": {},
     "output_type": "execute_result"
    }
   ],
   "source": [
    "'''accessors are used to get the value of a private field and mutators are used␣\n",
    "to set the value of a private field.'''"
   ]
  },
  {
   "cell_type": "code",
   "execution_count": null,
   "id": "abbabe6d-720b-4fc0-bb6a-6bcb7f093dc5",
   "metadata": {},
   "outputs": [],
   "source": [
    "#16. What are the potential drawbacks or disadvantages of using encapsulation in Python?"
   ]
  },
  {
   "cell_type": "code",
   "execution_count": 51,
   "id": "6c105aba-847b-417b-85f8-09225b430118",
   "metadata": {},
   "outputs": [
    {
     "data": {
      "text/plain": [
       "'As the size of the code increases, therefore, you need to provide additional␣\\ninstructions for every method.'"
      ]
     },
     "execution_count": 51,
     "metadata": {},
     "output_type": "execute_result"
    }
   ],
   "source": [
    "'''As the size of the code increases, therefore, you need to provide additional␣\n",
    "instructions for every method.'''"
   ]
  },
  {
   "cell_type": "code",
   "execution_count": null,
   "id": "94fa500a-fefc-4fa4-b67d-885966683c23",
   "metadata": {},
   "outputs": [],
   "source": [
    "#18. Explain how encapsulation enhances code reusability and modularity in Python programs."
   ]
  },
  {
   "cell_type": "code",
   "execution_count": 52,
   "id": "082357ad-8fba-4a73-b5db-4b015369e80a",
   "metadata": {},
   "outputs": [
    {
     "data": {
      "text/plain": [
       "'think of modularity as a way of mapping encapsulated abstractions into real,␣\\nphysical modules. '"
      ]
     },
     "execution_count": 52,
     "metadata": {},
     "output_type": "execute_result"
    }
   ],
   "source": [
    "'''think of modularity as a way of mapping encapsulated abstractions into real,␣\n",
    "physical modules. '''"
   ]
  },
  {
   "cell_type": "code",
   "execution_count": null,
   "id": "0477d3a4-80c2-48a4-bb37-a1b52feedca8",
   "metadata": {},
   "outputs": [],
   "source": [
    "#19. Describe the concept of information hiding in encapsulation. Why is it essential in software development?"
   ]
  },
  {
   "cell_type": "code",
   "execution_count": 53,
   "id": "25000b55-7916-4ec5-bfa3-269f4113b60b",
   "metadata": {},
   "outputs": [
    {
     "data": {
      "text/plain": [
       "'Information hiding. Under the definition that encapsulation \"can be used to␣\\nhide data members and member functions\", the internal representation of an␣\\nobject is generally hidden from view outside of the object\\'s definition.␣\\nTypically, only the object\\'s own methods can directly inspect or manipulate␣\\nits fields.'"
      ]
     },
     "execution_count": 53,
     "metadata": {},
     "output_type": "execute_result"
    }
   ],
   "source": [
    "'''Information hiding. Under the definition that encapsulation \"can be used to␣\n",
    "hide data members and member functions\", the internal representation of an␣\n",
    "object is generally hidden from view outside of the object's definition.␣\n",
    "Typically, only the object's own methods can directly inspect or manipulate␣\n",
    "its fields.'''"
   ]
  },
  {
   "cell_type": "code",
   "execution_count": null,
   "id": "2835f301-b7cc-4ecf-b098-42de7e8d31c0",
   "metadata": {},
   "outputs": [],
   "source": [
    "#3. How can you achieve encapsulation in Python classes? Provide an example."
   ]
  },
  {
   "cell_type": "code",
   "execution_count": 24,
   "id": "ced4f8d5-91c2-43de-8974-dcb957b22b74",
   "metadata": {},
   "outputs": [],
   "source": [
    "class test:\n",
    "    def __init__(self):\n",
    "        self.__x = \"piyush\"\n",
    "        self.y = \"kumar\"\n",
    "        self.z = \"kalka\"\n",
    "        \n",
    "    def __test_math(self):\n",
    "        return \"this is just a test\"\n",
    "    \n",
    "    def access_var(self):\n",
    "        return self.__x\n",
    "    \n",
    "    def update_var(self,data):\n",
    "        self.__x = data"
   ]
  },
  {
   "cell_type": "code",
   "execution_count": 25,
   "id": "9ead11b5-0999-48b7-a207-976923b46bcf",
   "metadata": {},
   "outputs": [
    {
     "data": {
      "text/plain": [
       "'piyush'"
      ]
     },
     "execution_count": 25,
     "metadata": {},
     "output_type": "execute_result"
    }
   ],
   "source": [
    "a = test()\n",
    "a.access_var()"
   ]
  },
  {
   "cell_type": "code",
   "execution_count": 26,
   "id": "f55c7492-1ee7-49a7-984d-221e557d84ba",
   "metadata": {},
   "outputs": [],
   "source": [
    "a.update_var(\"12345\")"
   ]
  },
  {
   "cell_type": "code",
   "execution_count": 27,
   "id": "7dc58fc9-e351-49ff-8a37-f266c0e22bfa",
   "metadata": {},
   "outputs": [
    {
     "data": {
      "text/plain": [
       "'12345'"
      ]
     },
     "execution_count": 27,
     "metadata": {},
     "output_type": "execute_result"
    }
   ],
   "source": [
    "a.access_var()"
   ]
  },
  {
   "cell_type": "code",
   "execution_count": null,
   "id": "3180da0c-9712-4804-b21a-e4df7098469d",
   "metadata": {},
   "outputs": [],
   "source": [
    "#5. Create a Python class called `Person` with a private attribute `__name`. Provide\n",
    "methods to get and set the name attribute."
   ]
  },
  {
   "cell_type": "code",
   "execution_count": 57,
   "id": "d61a80e8-6765-4edd-a6a4-ae366e78a9b1",
   "metadata": {},
   "outputs": [],
   "source": [
    "class person:\n",
    "    def __init__(self,name):\n",
    "        self.__name = name\n",
    "    @property\n",
    "    def person1(self):\n",
    "        return self.__name\n",
    "    @person1.setter\n",
    "    def person1(self,name):\n",
    "         self.__name = name\n",
    "    @person1.getter\n",
    "    def person1(self):\n",
    "        return self.__name"
   ]
  },
  {
   "cell_type": "code",
   "execution_count": 58,
   "id": "23e8b432-47cc-4c3b-9620-beaabd4916aa",
   "metadata": {},
   "outputs": [],
   "source": [
    "s2 = person(\"data scientist\")"
   ]
  },
  {
   "cell_type": "code",
   "execution_count": 59,
   "id": "754dd6b6-907e-49bc-8610-a89bafd56119",
   "metadata": {},
   "outputs": [
    {
     "data": {
      "text/plain": [
       "'data scientist'"
      ]
     },
     "execution_count": 59,
     "metadata": {},
     "output_type": "execute_result"
    }
   ],
   "source": [
    "s2.person1"
   ]
  },
  {
   "cell_type": "code",
   "execution_count": 60,
   "id": "f6ce1153-bbdf-46e9-91d5-81a5c4e72496",
   "metadata": {},
   "outputs": [],
   "source": [
    "s2.person1 = \"guru\""
   ]
  },
  {
   "cell_type": "code",
   "execution_count": 61,
   "id": "90ccbeca-00ca-4f7b-a398-4b36d2155761",
   "metadata": {},
   "outputs": [
    {
     "data": {
      "text/plain": [
       "'guru'"
      ]
     },
     "execution_count": 61,
     "metadata": {},
     "output_type": "execute_result"
    }
   ],
   "source": [
    "s2.person1"
   ]
  },
  {
   "cell_type": "code",
   "execution_count": null,
   "id": "d1dd4adc-6b6c-4427-8771-632e9da9a138",
   "metadata": {},
   "outputs": [],
   "source": [
    "#6. Explain the purpose of getter and setter methods in encapsulation. Provide examples"
   ]
  },
  {
   "cell_type": "code",
   "execution_count": 44,
   "id": "d83fe64f-e87f-4d52-a6a4-add76fe7625c",
   "metadata": {},
   "outputs": [
    {
     "data": {
      "text/plain": [
       "'@setter is set the value via method by decorator which should be a private␣\\nvariable and @getter is generate the another method to return the stoed␣\\nvalue in setter'"
      ]
     },
     "execution_count": 44,
     "metadata": {},
     "output_type": "execute_result"
    }
   ],
   "source": [
    "'''@setter is set the value via method by decorator which should be a private␣\n",
    "variable and @getter is generate the another method to return the stoed␣\n",
    "value in setter'''"
   ]
  },
  {
   "cell_type": "code",
   "execution_count": 62,
   "id": "e5f52f2f-ece1-48fb-bbff-d538d30efbac",
   "metadata": {},
   "outputs": [],
   "source": [
    "class book_tkt:\n",
    "    def __init__(self,id_num):\n",
    "        self.__id_num = id_num\n",
    "        \n",
    "    @property\n",
    "    def passenger(self):\n",
    "        return self.__id_num\n",
    "    \n",
    "    @passenger.setter\n",
    "    def passenger(self,id_num):\n",
    "        self.__id_num = id_num\n",
    "        \n",
    "    @passenger.getter\n",
    "    def passenger(self):\n",
    "        return self.__id_num"
   ]
  },
  {
   "cell_type": "code",
   "execution_count": 64,
   "id": "bd39f834-f746-48ca-a77e-2328e990e132",
   "metadata": {},
   "outputs": [],
   "source": [
    "piyush = book_tkt(\"piyush2345\")"
   ]
  },
  {
   "cell_type": "code",
   "execution_count": 65,
   "id": "782f1b0a-4a04-4cdc-b7f8-52ab790407db",
   "metadata": {},
   "outputs": [
    {
     "data": {
      "text/plain": [
       "'piyush2345'"
      ]
     },
     "execution_count": 65,
     "metadata": {},
     "output_type": "execute_result"
    }
   ],
   "source": [
    "piyush.passenger"
   ]
  },
  {
   "cell_type": "code",
   "execution_count": 66,
   "id": "d6345800-7f99-4151-9d93-e816739444c4",
   "metadata": {},
   "outputs": [],
   "source": [
    "piyush.passenger = \"roha3456\""
   ]
  },
  {
   "cell_type": "code",
   "execution_count": 67,
   "id": "9c9617af-e667-4093-aa9e-2352b382bb21",
   "metadata": {},
   "outputs": [
    {
     "data": {
      "text/plain": [
       "'roha3456'"
      ]
     },
     "execution_count": 67,
     "metadata": {},
     "output_type": "execute_result"
    }
   ],
   "source": [
    "piyush.passenger"
   ]
  },
  {
   "cell_type": "code",
   "execution_count": null,
   "id": "ac98c486-86ac-4374-ab79-d9c3c902960e",
   "metadata": {},
   "outputs": [],
   "source": [
    "#8. Create a Python class called `BankAccount` with private attributes for the account\n",
    "balance (`__balance`) and account number (`__account_number`). Provide methods for\n",
    "depositing and withdrawing money."
   ]
  },
  {
   "cell_type": "code",
   "execution_count": 92,
   "id": "f071b996-efa9-47bd-8b2b-fc5a243b5cef",
   "metadata": {},
   "outputs": [],
   "source": [
    "class bank_account:\n",
    "    def __init__(self,balance,account_no):\n",
    "        self.__balance = balance\n",
    "        self.__account_no = account_no\n",
    "        \n",
    "    def depositing_money(self,data,account_no):\n",
    "        if account_no == 123456:\n",
    "            print(\"deposit 2000 and show balance:\",)\n",
    "        else:\n",
    "            print(\"incorrect account_no\")\n",
    "        self.__balance = data\n",
    "        \n",
    "    def withdrawing_money(self,data2):\n",
    "         if account_no == \"vande mataram\":\n",
    "            print(\"correct id you can withdraw\")\n",
    "        else:\n",
    "        print(\"inncorrect id : try again\")\n",
    "        self.__account_no = data2\n",
    "        \n",
    "    def show_data(self):\n",
    "        return self.__balance\n",
    "    \n",
    "    def show_data2(self):\n",
    "        return self.__account_no\n",
    "        \n",
    "   "
   ]
  },
  {
   "cell_type": "code",
   "execution_count": 106,
   "id": "bb040bb5-7fc6-48f4-ac9a-227a9ee0a315",
   "metadata": {},
   "outputs": [],
   "source": [
    "cap = bank_account(2000,123456)"
   ]
  },
  {
   "cell_type": "code",
   "execution_count": 107,
   "id": "63342313-cfda-46be-aa2e-f7ceadfe4a8b",
   "metadata": {},
   "outputs": [],
   "source": [
    "cap.update_account_no = \"12345\""
   ]
  },
  {
   "cell_type": "code",
   "execution_count": 105,
   "id": "defd7a45-f6ce-42b9-8355-86c18591c515",
   "metadata": {},
   "outputs": [
    {
     "data": {
      "text/plain": [
       "123456"
      ]
     },
     "execution_count": 108,
     "metadata": {},
     "output_type": "execute_result"
    }
   ],
   "source": [
    "cap.show_data2()"
   ]
  },
  {
   "cell_type": "code",
   "execution_count": null,
   "id": "35a72365-469f-41e9-934e-e973a6899ca6",
   "metadata": {},
   "outputs": [],
   "source": [
    "#11. Create a Python class hierarchy for a school system, including classes for students,\n",
    "teachers, and courses, and implement encapsulation principles to protect sensitive\n",
    "information."
   ]
  },
  {
   "cell_type": "code",
   "execution_count": 63,
   "id": "9d19c353-d294-404a-b683-0b329cfc3126",
   "metadata": {},
   "outputs": [],
   "source": [
    "class university:\n",
    "    def __init__(self) :\n",
    "        self._staff_room = \"only staff allow\"\n",
    "        self.__lab_password = \"myfire\"\n",
    "        self._wifi = \"give password enjoyed whom know the password\"\n",
    "        \n",
    "    def __acess_lab(self):\n",
    "        return \"lab incharge require\"\n",
    "    \n",
    "    def access_wifi(self):\n",
    "        return self._wifi\n",
    "    \n",
    "    def update_lab_password(self , data):\n",
    "        self.__lab_password = data"
   ]
  },
  {
   "cell_type": "code",
   "execution_count": 64,
   "id": "9aff5da3-5e03-4553-9eae-08307321559a",
   "metadata": {},
   "outputs": [],
   "source": [
    "a = university()"
   ]
  },
  {
   "cell_type": "code",
   "execution_count": 65,
   "id": "b3b38d30-7601-4c4d-bc2c-4a79c21da441",
   "metadata": {},
   "outputs": [
    {
     "data": {
      "text/plain": [
       "'give password enjoyed whom know the password'"
      ]
     },
     "execution_count": 65,
     "metadata": {},
     "output_type": "execute_result"
    }
   ],
   "source": [
    "a.access_wifi()"
   ]
  },
  {
   "cell_type": "code",
   "execution_count": 66,
   "id": "08cf0fe5-a5b7-4469-b3af-f9db6bc5682d",
   "metadata": {},
   "outputs": [],
   "source": [
    "a.update_lab_password  = \"post\""
   ]
  },
  {
   "cell_type": "code",
   "execution_count": 69,
   "id": "a5438300-bbf1-4eac-b87e-ed7f52a202b6",
   "metadata": {},
   "outputs": [
    {
     "data": {
      "text/plain": [
       "'post'"
      ]
     },
     "execution_count": 69,
     "metadata": {},
     "output_type": "execute_result"
    }
   ],
   "source": [
    "a.update_lab_password"
   ]
  },
  {
   "cell_type": "code",
   "execution_count": 73,
   "id": "b59f341c-1430-42cf-b3b3-0f8ba8f5efa2",
   "metadata": {},
   "outputs": [
    {
     "data": {
      "text/plain": [
       "'lab incharge require'"
      ]
     },
     "execution_count": 73,
     "metadata": {},
     "output_type": "execute_result"
    }
   ],
   "source": [
    "a._university__acess_lab()"
   ]
  },
  {
   "cell_type": "code",
   "execution_count": null,
   "id": "e802e80e-7e1d-40e2-8aab-c35515196255",
   "metadata": {},
   "outputs": [],
   "source": []
  },
  {
   "cell_type": "code",
   "execution_count": null,
   "id": "f90b5bf5-d9fe-4d25-82b5-3b3099d1887e",
   "metadata": {},
   "outputs": [],
   "source": [
    "#13. What is data hiding, and why is it important in encapsulation? Provide examples"
   ]
  },
  {
   "cell_type": "code",
   "execution_count": 75,
   "id": "26c5463a-0213-4244-9e85-2bae44e2201e",
   "metadata": {},
   "outputs": [],
   "source": [
    "class test:\n",
    "    def __init__(self) :\n",
    "        self.__password = \"myfire\"\n",
    "        self._railway_wifi = \"railwire\"\n",
    "        self.z = \"nortje\"\n",
    "        \n",
    "    def __test_meth(self):\n",
    "        return \"this is just a test\"\n",
    "    \n",
    "    def access_var(self):\n",
    "        return self._x\n",
    "    \n",
    "    def update_var(self , data):\n",
    "        self._x = data"
   ]
  },
  {
   "cell_type": "code",
   "execution_count": 78,
   "id": "ee5f4b9e-beff-49db-a43d-4cd8b2cbd8df",
   "metadata": {},
   "outputs": [],
   "source": [
    "t1 = test()"
   ]
  },
  {
   "cell_type": "code",
   "execution_count": 84,
   "id": "f3292712-2141-49df-9da4-491d5e33dbc7",
   "metadata": {},
   "outputs": [
    {
     "data": {
      "text/plain": [
       "'railwire'"
      ]
     },
     "execution_count": 84,
     "metadata": {},
     "output_type": "execute_result"
    }
   ],
   "source": [
    "t1._railway_wifi"
   ]
  },
  {
   "cell_type": "code",
   "execution_count": null,
   "id": "085efaa3-9831-4cd2-a6dd-db136d3f6288",
   "metadata": {},
   "outputs": [],
   "source": []
  },
  {
   "cell_type": "code",
   "execution_count": null,
   "id": "f5cc96ba-2721-426b-a62b-b2968d0ceda3",
   "metadata": {},
   "outputs": [],
   "source": [
    "#14. Create a Python class called `Employee` with private attributes for salary (`__salary`)\n",
    "and employee ID (`__employee_id`). Provide a method to calculate yearly bonuses"
   ]
  },
  {
   "cell_type": "code",
   "execution_count": 9,
   "id": "6da0abbf-4a9e-402e-9321-47cc71880ac7",
   "metadata": {},
   "outputs": [],
   "source": [
    "class employee:\n",
    "    def __init__(self,salary,employee_id):\n",
    "        self.__salary = 23000\n",
    "        self.__employee_id = \"piyush234\"\n",
    "        \n",
    "    def access_salary(self):\n",
    "        return self.__salary\n",
    "    def update_salary(self,data1):\n",
    "        self.__salary = data1\n",
    "    \n",
    "    def access_employee_id(self):\n",
    "        return self.__employee\n",
    "    def update_employee(self,data2):\n",
    "        self.__employee_id = data2\n",
    "        "
   ]
  },
  {
   "cell_type": "code",
   "execution_count": 10,
   "id": "10d999e9-64c0-4264-bf99-a345241d04ca",
   "metadata": {},
   "outputs": [],
   "source": [
    "b = employee(23000,\"piyush234\")"
   ]
  },
  {
   "cell_type": "code",
   "execution_count": 11,
   "id": "02492cdf-dbdf-413e-8914-3f7762ef9cf5",
   "metadata": {},
   "outputs": [],
   "source": [
    "b.access_employee_id = \"subh234\""
   ]
  },
  {
   "cell_type": "code",
   "execution_count": 12,
   "id": "b54d95bc-82d8-4d3c-b70d-3d12e3180f2b",
   "metadata": {},
   "outputs": [
    {
     "data": {
      "text/plain": [
       "'subh234'"
      ]
     },
     "execution_count": 12,
     "metadata": {},
     "output_type": "execute_result"
    }
   ],
   "source": [
    "b.access_employee_id"
   ]
  },
  {
   "cell_type": "code",
   "execution_count": null,
   "id": "72cb9c26-d9d2-47c7-ab9d-7703c66a7c15",
   "metadata": {},
   "outputs": [],
   "source": []
  },
  {
   "cell_type": "code",
   "execution_count": null,
   "id": "b3b166e3-a83c-49ec-a596-127d02af7a83",
   "metadata": {},
   "outputs": [],
   "source": [
    "#17. Create a Python class for a library system that encapsulates book information,\n",
    "including titles, authors, and availability status"
   ]
  },
  {
   "cell_type": "code",
   "execution_count": 4,
   "id": "c05151f4-ecae-4b78-8c16-9e1f114398e7",
   "metadata": {},
   "outputs": [],
   "source": [
    "class customer:\n",
    "    def __init__(self,titles,author,availability):\n",
    "        self.titles =\"mother teresa \"\n",
    "        self._author = \"arun chaterjee\"\n",
    "        self.__availability = 23\n",
    "        \n",
    "    def access_availability(self):\n",
    "        return self.__availability\n",
    "    def update_availability(self,data):\n",
    "        self.__availability = data"
   ]
  },
  {
   "cell_type": "code",
   "execution_count": 5,
   "id": "91b04c99-4bd1-4ff2-b7a3-a9c00a5953b8",
   "metadata": {},
   "outputs": [],
   "source": [
    "a = customer(\"mother teresa\",\"chaterjee\",23)"
   ]
  },
  {
   "cell_type": "code",
   "execution_count": 6,
   "id": "5db8e81a-5057-4602-8063-41db1ad1e4eb",
   "metadata": {},
   "outputs": [
    {
     "data": {
      "text/plain": [
       "23"
      ]
     },
     "execution_count": 6,
     "metadata": {},
     "output_type": "execute_result"
    }
   ],
   "source": [
    "a.access_availability()"
   ]
  },
  {
   "cell_type": "code",
   "execution_count": null,
   "id": "7ad09c21-3b20-493d-801c-2759195082a6",
   "metadata": {},
   "outputs": [],
   "source": [
    "#20. Create a Python class called `Customer` with private attributes for customer details\n",
    "like name, address, and contact information. Implement encapsulation to ensure data\n",
    "integrity and security."
   ]
  },
  {
   "cell_type": "code",
   "execution_count": 47,
   "id": "35f2b6b7-4b86-4bf9-816f-eb3ffd36921c",
   "metadata": {},
   "outputs": [],
   "source": [
    "class customer:\n",
    "    def __init__(self,name,contact_info):\n",
    "        self.name = name\n",
    "        self.__contact_info = contact_info\n",
    "        \n",
    "    def __address(self):\n",
    "        return \"goregoan east\"\n",
    "        \n",
    "        \n",
    "    def access_contact_no(self):\n",
    "        return self.__contact_info\n",
    "    def update_contact_no(self,d1):\n",
    "        self.__contact_info = d1\n",
    "   \n",
    "    "
   ]
  },
  {
   "cell_type": "code",
   "execution_count": 48,
   "id": "71d6f466-ad70-4beb-b7d9-a29e6be03582",
   "metadata": {},
   "outputs": [],
   "source": [
    "a = customer(\"riya\",553253225)"
   ]
  },
  {
   "cell_type": "code",
   "execution_count": 49,
   "id": "b3bc7f29-8f84-4fba-90ac-fbe51c94262c",
   "metadata": {},
   "outputs": [
    {
     "data": {
      "text/plain": [
       "'goregoan east'"
      ]
     },
     "execution_count": 49,
     "metadata": {},
     "output_type": "execute_result"
    }
   ],
   "source": [
    "a._customer__address()"
   ]
  },
  {
   "cell_type": "code",
   "execution_count": 50,
   "id": "cdeb203c-1c49-431e-9611-bd9726aba14f",
   "metadata": {},
   "outputs": [
    {
     "data": {
      "text/plain": [
       "'riya'"
      ]
     },
     "execution_count": 50,
     "metadata": {},
     "output_type": "execute_result"
    }
   ],
   "source": [
    "a.name"
   ]
  },
  {
   "cell_type": "code",
   "execution_count": 51,
   "id": "b0f680ca-8b7d-4734-815c-c99a4d3149b4",
   "metadata": {},
   "outputs": [],
   "source": [
    "a.update_address = \"borivalli\""
   ]
  },
  {
   "cell_type": "code",
   "execution_count": 52,
   "id": "31d375db-14a2-45a4-95f6-814443dfe2da",
   "metadata": {},
   "outputs": [
    {
     "data": {
      "text/plain": [
       "'goregoan east'"
      ]
     },
     "execution_count": 52,
     "metadata": {},
     "output_type": "execute_result"
    }
   ],
   "source": [
    "a._customer__address()"
   ]
  },
  {
   "cell_type": "code",
   "execution_count": null,
   "id": "0864fd7d-32b6-4d38-ae0e-1f63581ceb2f",
   "metadata": {},
   "outputs": [],
   "source": [
    "#"
   ]
  },
  {
   "cell_type": "code",
   "execution_count": 4,
   "id": "082375ba-dbb1-4caf-9141-873dac1c5218",
   "metadata": {},
   "outputs": [],
   "source": [
    "class IRCTC:\n",
    "    def __init__(self,booking_status,pnr_no):\n",
    "        self.booking_status = booking_status\n",
    "        self.__pnr_no = pnr_no\n",
    "        \n",
    "    def check_PNR(self,password):\n",
    "        if password == \"churchil\":\n",
    "            return self.pnr_no\n",
    "        else:\n",
    "            print(\"incorrrect password\")"
   ]
  },
  {
   "cell_type": "code",
   "execution_count": null,
   "id": "5b72bd3e-a5d9-491a-a77d-b0c1697bf5ca",
   "metadata": {},
   "outputs": [],
   "source": [
    "                          #ABSTRACTION "
   ]
  },
  {
   "cell_type": "code",
   "execution_count": null,
   "id": "48dfa8f9-ee8b-4d5c-aff3-eddc03353f0f",
   "metadata": {},
   "outputs": [],
   "source": [
    "#1. What is abstraction in Python, and how does it relate to object-oriented programming?"
   ]
  },
  {
   "cell_type": "code",
   "execution_count": 54,
   "id": "2fa4ef71-98f4-4734-9d26-e6ab1da72b20",
   "metadata": {},
   "outputs": [
    {
     "data": {
      "text/plain": [
       "'it provide a scaleton or outline of project'"
      ]
     },
     "execution_count": 54,
     "metadata": {},
     "output_type": "execute_result"
    }
   ],
   "source": [
    "'''it provide a scaleton or outline of project'''"
   ]
  },
  {
   "cell_type": "code",
   "execution_count": 55,
   "id": "7fb8d3b9-4c14-4a21-bc75-86315e50370c",
   "metadata": {},
   "outputs": [],
   "source": [
    "#2. Describe the benefits of abstraction in terms of code organization and complexity reduction"
   ]
  },
  {
   "cell_type": "code",
   "execution_count": 56,
   "id": "9c53d13c-a478-4ed1-9cca-bdeab46380be",
   "metadata": {},
   "outputs": [
    {
     "data": {
      "text/plain": [
       "'abstraction reduce the complexity of code by decorate it by decorator'"
      ]
     },
     "execution_count": 56,
     "metadata": {},
     "output_type": "execute_result"
    }
   ],
   "source": [
    "'''abstraction reduce the complexity of code by decorate it by decorator'''"
   ]
  },
  {
   "cell_type": "code",
   "execution_count": null,
   "id": "9330d53d-b258-4eff-b9e2-c3123893c1b0",
   "metadata": {},
   "outputs": [],
   "source": [
    "#3. Create a Python class called `Shape` with an abstract method `calculate_area()`.\n",
    "Then, create child classes (e.g., `Circle`, `Rectangle`) that implement the\n",
    "`calculate_area()` method. Provide an example of using these classes."
   ]
  },
  {
   "cell_type": "code",
   "execution_count": 22,
   "id": "7f5e3fca-e000-462b-9ecc-749ecf4e0fc2",
   "metadata": {},
   "outputs": [],
   "source": [
    "from abc import ABC , abstractmethod\n",
    "class shape(ABC):\n",
    "    def cal_area():\n",
    "        pass"
   ]
  },
  {
   "cell_type": "code",
   "execution_count": 23,
   "id": "98d9073b-b94a-4ebe-b084-869c2896b0da",
   "metadata": {},
   "outputs": [],
   "source": [
    "class cal_area:\n",
    "    def area_of_circle(self,r):\n",
    "        return 3.14*r**2\n",
    "    def area_of_rectangle(self,l,b):\n",
    "        return l*b"
   ]
  },
  {
   "cell_type": "code",
   "execution_count": 24,
   "id": "f42d46ed-362a-4fc0-bdb0-76c8ba6dadd4",
   "metadata": {},
   "outputs": [],
   "source": [
    "a = cal_area()"
   ]
  },
  {
   "cell_type": "code",
   "execution_count": 25,
   "id": "0c8cd9d8-dceb-4e4b-8434-86a833ce7b8d",
   "metadata": {},
   "outputs": [
    {
     "data": {
      "text/plain": [
       "50.24"
      ]
     },
     "execution_count": 25,
     "metadata": {},
     "output_type": "execute_result"
    }
   ],
   "source": [
    "a.area_of_circle(4)"
   ]
  },
  {
   "cell_type": "code",
   "execution_count": 26,
   "id": "1d2f2d54-3757-400a-a0cd-17728ae5fa3e",
   "metadata": {},
   "outputs": [
    {
     "data": {
      "text/plain": [
       "6"
      ]
     },
     "execution_count": 26,
     "metadata": {},
     "output_type": "execute_result"
    }
   ],
   "source": [
    "a.area_of_rectangle(2,3)"
   ]
  },
  {
   "cell_type": "code",
   "execution_count": null,
   "id": "74212cdf-6536-4f35-a178-e3a2b591f7ea",
   "metadata": {},
   "outputs": [],
   "source": [
    "#4. Explain the concept of abstract classes in Python and how they are defined using the\n",
    "`abc` module. Provide an example"
   ]
  },
  {
   "cell_type": "code",
   "execution_count": 27,
   "id": "769ff615-0c43-4773-b596-c6aa90d26922",
   "metadata": {},
   "outputs": [],
   "source": [
    "from abc import ABC , abstractmethod\n",
    "class photographer_course(ABC):\n",
    "    \n",
    "    @abstractmethod\n",
    "    def user_connect(self):\n",
    "        pass\n",
    "    @abstractmethod\n",
    "    def checkuserenrollment(self, user_mailid):\n",
    "        pass\n",
    "    @abstractmethod\n",
    "    def check_connection_access(self, user_id , class_id):\n",
    "        pass\n",
    "    "
   ]
  },
  {
   "cell_type": "code",
   "execution_count": 28,
   "id": "2c0a926b-ebfd-47ca-96f8-784d0520db80",
   "metadata": {},
   "outputs": [],
   "source": [
    "class checkuserenrollment:\n",
    "    def checkuserenrollment(user_id):\n",
    "        if user_id == \"kalka mail\":\n",
    "            print(\"this user enrolled \")\n",
    "        else:\n",
    "            print(\"icorrect user id\")"
   ]
  },
  {
   "cell_type": "code",
   "execution_count": 30,
   "id": "2112ad2e-3a4e-468d-8771-7554bd5885da",
   "metadata": {},
   "outputs": [
    {
     "name": "stdout",
     "output_type": "stream",
     "text": [
      "icorrect user id\n"
     ]
    }
   ],
   "source": [
    "checkuserenrollment.checkuserenrollment(\"piyush\") #call function without creaating object"
   ]
  },
  {
   "cell_type": "code",
   "execution_count": null,
   "id": "edc1e903-66b7-4ce1-9585-be2c7f168cf8",
   "metadata": {},
   "outputs": [],
   "source": [
    "#5. How do abstract classes differ from regular classes in Python? Discuss their use cases"
   ]
  },
  {
   "cell_type": "code",
   "execution_count": 57,
   "id": "6ac60b5d-388c-448b-92fe-41b80eff550d",
   "metadata": {},
   "outputs": [
    {
     "data": {
      "text/plain": [
       "'A class is called an Abstract class if it contains one or more abstract␣\\nmethods. An abstract method is a method that is declared, but contains no␣\\nimplementation. Abstract classes may not be instantiated, and its abstract␣\\nmethods must be implemented by its'"
      ]
     },
     "execution_count": 57,
     "metadata": {},
     "output_type": "execute_result"
    }
   ],
   "source": [
    "'''A class is called an Abstract class if it contains one or more abstract␣\n",
    "methods. An abstract method is a method that is declared, but contains no␣\n",
    "implementation. Abstract classes may not be instantiated, and its abstract␣\n",
    "methods must be implemented by its'''"
   ]
  },
  {
   "cell_type": "code",
   "execution_count": null,
   "id": "28221087-7d46-4cd4-93b5-e5932ad9bc32",
   "metadata": {},
   "outputs": [],
   "source": [
    "#  6. Create a Python class for a bank account and demonstrate abstraction by hiding the\n",
    "account balance and providing methods to deposit and withdraw funds."
   ]
  },
  {
   "cell_type": "code",
   "execution_count": 103,
   "id": "44fedc78-7b9c-456d-be1e-77cbd29f6070",
   "metadata": {},
   "outputs": [],
   "source": [
    "from abc import ABC ,abstractmethod\n",
    "class bank_account(ABC):\n",
    "    @abstractmethod\n",
    "    def __init__(self, account_balance):\n",
    "        self.__account_balance = account_balance\n",
    "        pass\n",
    "    @abstractmethod\n",
    "    def deposit(self,amount,account_no):\n",
    "        pass\n",
    "    @abstractmethod\n",
    "    def withdraw(self,account_no,amount):\n",
    "        pass\n",
    "    @abstractmethod\n",
    "    def acces_balance():\n",
    "        pass"
   ]
  },
  {
   "cell_type": "code",
   "execution_count": 104,
   "id": "a4ff6707-7fc5-4ea7-a62f-8a3c20c09cf5",
   "metadata": {},
   "outputs": [],
   "source": [
    "class deposit(bank_account):\n",
    "    def deposit(account_no,amount):\n",
    "        if account_no == 123456:\n",
    "            print(\" deposited amount:\", amount)\n",
    "        else:\n",
    "            print(\"something went rong please try again\")"
   ]
  },
  {
   "cell_type": "code",
   "execution_count": 105,
   "id": "cd1ec4fb-414b-4cd6-be38-e269b1d50f11",
   "metadata": {},
   "outputs": [
    {
     "name": "stdout",
     "output_type": "stream",
     "text": [
      "something went rong please try again\n"
     ]
    }
   ],
   "source": [
    "deposit.deposit(1234,200)"
   ]
  },
  {
   "cell_type": "code",
   "execution_count": 106,
   "id": "2685abb7-5ca0-413b-bfba-15f2848d8201",
   "metadata": {},
   "outputs": [
    {
     "name": "stdout",
     "output_type": "stream",
     "text": [
      " deposited amount: 2000\n"
     ]
    }
   ],
   "source": [
    "deposit.deposit(123456,2000)"
   ]
  },
  {
   "cell_type": "code",
   "execution_count": 107,
   "id": "502b9cf3-7dfb-4f0a-97c2-f713b50ab13b",
   "metadata": {},
   "outputs": [],
   "source": [
    "class withdraw(bank_account):\n",
    "    def withdraw(password,amount,available_amt= 4000):\n",
    "        if password == \"myfire\":\n",
    "            print(\"login successfully:\",available_amt)\n",
    "            print(\"insufficient balance\",available_amt < amount)\n",
    "            print(\"amount credited:\",amount<available_amt)\n",
    "        else:\n",
    "            print(\"incorrect password please try again\")"
   ]
  },
  {
   "cell_type": "code",
   "execution_count": 108,
   "id": "d63b424c-ffea-45c4-bd8a-639f4227261e",
   "metadata": {},
   "outputs": [
    {
     "name": "stdout",
     "output_type": "stream",
     "text": [
      "login successfully: 4000\n",
      "insufficient balance False\n",
      "amount credited: True\n"
     ]
    }
   ],
   "source": [
    "withdraw.withdraw(\"myfire\",2000)"
   ]
  },
  {
   "cell_type": "code",
   "execution_count": 112,
   "id": "214bdaff-4916-4b9a-b643-ab11ab2a854c",
   "metadata": {},
   "outputs": [],
   "source": [
    "class access_balance:\n",
    "    def access_balance(self):\n",
    "        self.__account_balance"
   ]
  },
  {
   "cell_type": "code",
   "execution_count": 113,
   "id": "4a7dcf4e-8835-4c90-a03c-60ef960e907c",
   "metadata": {},
   "outputs": [],
   "source": [
    "a = access_balance()"
   ]
  },
  {
   "cell_type": "code",
   "execution_count": 114,
   "id": "4dbc0069-2e0c-47c2-806f-a59336f5a7d1",
   "metadata": {},
   "outputs": [
    {
     "ename": "AttributeError",
     "evalue": "'access_balance' object has no attribute '_access_balance__account_balance'",
     "output_type": "error",
     "traceback": [
      "\u001b[0;31m---------------------------------------------------------------------------\u001b[0m",
      "\u001b[0;31mAttributeError\u001b[0m                            Traceback (most recent call last)",
      "Cell \u001b[0;32mIn[114], line 1\u001b[0m\n\u001b[0;32m----> 1\u001b[0m \u001b[43ma\u001b[49m\u001b[38;5;241;43m.\u001b[39;49m\u001b[43maccess_balance\u001b[49m\u001b[43m(\u001b[49m\u001b[43m)\u001b[49m\n",
      "Cell \u001b[0;32mIn[112], line 3\u001b[0m, in \u001b[0;36maccess_balance.access_balance\u001b[0;34m(self)\u001b[0m\n\u001b[1;32m      2\u001b[0m \u001b[38;5;28;01mdef\u001b[39;00m \u001b[38;5;21maccess_balance\u001b[39m(\u001b[38;5;28mself\u001b[39m):\n\u001b[0;32m----> 3\u001b[0m     \u001b[38;5;28;43mself\u001b[39;49m\u001b[38;5;241;43m.\u001b[39;49m\u001b[43m__account_balance\u001b[49m\n",
      "\u001b[0;31mAttributeError\u001b[0m: 'access_balance' object has no attribute '_access_balance__account_balance'"
     ]
    }
   ],
   "source": [
    "a.access_balance()  # this error shows that account_balance is not visible"
   ]
  },
  {
   "cell_type": "code",
   "execution_count": null,
   "id": "1bcfd3e0-e88d-41ef-89f3-c3ceeeba151e",
   "metadata": {},
   "outputs": [],
   "source": [
    "#7. Discuss the concept of interface classes in Python and their role in achieving abstraction"
   ]
  },
  {
   "cell_type": "code",
   "execution_count": 58,
   "id": "001368d5-96f5-4e87-a3fc-de90b39fa271",
   "metadata": {},
   "outputs": [
    {
     "data": {
      "text/plain": [
       "'The interface in object-oriented languages like Python is a set of method␣\\nsignatures that the implementing class is expected to provide. Writing␣\\nordered code and achieving abstraction are both possible through interface␣\\nimplementation. Example: Python “object interfaces” are implemented in the␣\\nmodule zope.'"
      ]
     },
     "execution_count": 58,
     "metadata": {},
     "output_type": "execute_result"
    }
   ],
   "source": [
    "'''The interface in object-oriented languages like Python is a set of method␣\n",
    "signatures that the implementing class is expected to provide. Writing␣\n",
    "ordered code and achieving abstraction are both possible through interface␣\n",
    "implementation. Example: Python “object interfaces” are implemented in the␣\n",
    "module zope.'''"
   ]
  },
  {
   "cell_type": "code",
   "execution_count": null,
   "id": "622ed33d-0893-454a-9f34-f8f58b25de2e",
   "metadata": {},
   "outputs": [],
   "source": [
    "8. Create a Python class hierarchy for animals and implement abstraction by defining common methods (e.g., `eat()`, `sleep()`) in an abstract base class."
   ]
  },
  {
   "cell_type": "code",
   "execution_count": 115,
   "id": "ff4f4793-68f9-4aa3-b6e8-063c7175df81",
   "metadata": {},
   "outputs": [],
   "source": [
    "from abc import ABC, abstractmethod\n",
    "class animal(ABC):\n",
    "    \n",
    "    def eat(self):\n",
    "        pass\n",
    "    def speak(self):\n",
    "        pass\n",
    "    def yelling(self):\n",
    "        pass\n",
    "        "
   ]
  },
  {
   "cell_type": "code",
   "execution_count": 117,
   "id": "097aa56e-e64d-4738-8de4-ef5b5c524064",
   "metadata": {},
   "outputs": [],
   "source": [
    "class animal_eating:\n",
    "    def eating():\n",
    "        print(\"animals eat shrubs and herbs\")\n",
    "        \n",
    "    def speaking():\n",
    "        print(\"to listen the animal we must require a animal psychologist\")\n",
    "        \n",
    "    def yelling():\n",
    "        print(\"when any animal yelling it means that is in trouble\")"
   ]
  },
  {
   "cell_type": "code",
   "execution_count": 119,
   "id": "e09169c0-416c-4ae0-8f0e-b43811a137b6",
   "metadata": {},
   "outputs": [
    {
     "name": "stdout",
     "output_type": "stream",
     "text": [
      "to listen the animal we must require a animal psychologist\n",
      "when any animal yelling it means that is in trouble\n",
      "animals eat shrubs and herbs\n"
     ]
    }
   ],
   "source": [
    "animal_eating.speaking()\n",
    "animal_eating.yelling()\n",
    "animal_eating.eating()"
   ]
  },
  {
   "cell_type": "code",
   "execution_count": null,
   "id": "a2280e48-cbf9-4106-b3c7-3db93ca1dd77",
   "metadata": {},
   "outputs": [],
   "source": [
    "#9. Explain the significance of encapsulation in achieving abstraction. Provide examples"
   ]
  },
  {
   "cell_type": "code",
   "execution_count": 59,
   "id": "08d5bd9f-2875-4765-b7f2-a82771eadde6",
   "metadata": {},
   "outputs": [
    {
     "data": {
      "text/plain": [
       "'Encapsulation allows abstraction. Encapsulation is the process of hiding the␣\\nimplementation details of an object from the outside world, and only␣\\nexposing a public interface for interacting with the object. An example of␣\\nencapsulation in the real world is a car engine'"
      ]
     },
     "execution_count": 59,
     "metadata": {},
     "output_type": "execute_result"
    }
   ],
   "source": [
    "'''Encapsulation allows abstraction. Encapsulation is the process of hiding the␣\n",
    "implementation details of an object from the outside world, and only␣\n",
    "exposing a public interface for interacting with the object. An example of␣\n",
    "encapsulation in the real world is a car engine'''"
   ]
  },
  {
   "cell_type": "code",
   "execution_count": null,
   "id": "f9857b0e-cf19-4ef2-ba87-0ca83fd2b88f",
   "metadata": {},
   "outputs": [],
   "source": [
    "# reason is, of significance of encapsulation in abstraction, because manager do not able to know the developers what he/she \n",
    "# would know about the private project"
   ]
  },
  {
   "cell_type": "code",
   "execution_count": 7,
   "id": "a8084a67-1f2f-4f09-86e3-90dc229fc31e",
   "metadata": {},
   "outputs": [],
   "source": [
    "# abstraction as an encapsulation\n",
    "\n",
    "class file:\n",
    "    def __init__(self,filename):\n",
    "        self.filename = filename\n",
    "        \n",
    "    def read_file(self):\n",
    "        with open(self.filename,\"r\") as file:\n",
    "            return file.read()\n",
    "    def write_file(self,data):\n",
    "        with open(self.filename,\"w\") as file:\n",
    "            file.write(data)"
   ]
  },
  {
   "cell_type": "code",
   "execution_count": 8,
   "id": "fbb093ef-8ef0-4583-b6fc-6b87f78fda2d",
   "metadata": {},
   "outputs": [],
   "source": [
    "rahul = file('rahul.txt')\n"
   ]
  },
  {
   "cell_type": "code",
   "execution_count": null,
   "id": "a2f645af-ffc4-411c-93e8-e101ff031be6",
   "metadata": {},
   "outputs": [],
   "source": [
    "#10. What is the purpose of abstract methods, and how do they enforce abstraction in Python classes?"
   ]
  },
  {
   "cell_type": "code",
   "execution_count": 60,
   "id": "2068779d-2558-4c45-9313-8a50723557c4",
   "metadata": {},
   "outputs": [
    {
     "data": {
      "text/plain": [
       "'Abstract classes and methods provide a way to define a blueprint or template \\nfor a class without providing a complete implementation. '"
      ]
     },
     "execution_count": 60,
     "metadata": {},
     "output_type": "execute_result"
    }
   ],
   "source": [
    "'''Abstract classes and methods provide a way to define a blueprint or template \n",
    "for a class without providing a complete implementation. '''"
   ]
  },
  {
   "cell_type": "code",
   "execution_count": 9,
   "id": "bf7ac5cd-497c-486f-9617-de15ea3db486",
   "metadata": {},
   "outputs": [],
   "source": [
    "rahul.write_file(\"fhaiiniqngnqggn\")"
   ]
  },
  {
   "cell_type": "code",
   "execution_count": null,
   "id": "1b6d7417-b252-48f9-93a7-5102766258dd",
   "metadata": {},
   "outputs": [],
   "source": [
    "#11. Create a Python class for a vehicle system and demonstrate abstraction by defining common methods (e.g., `start()`, `stop()`) in an abstract base class."
   ]
  },
  {
   "cell_type": "code",
   "execution_count": 120,
   "id": "db4d9c5f-ed9e-449a-b4bf-f02419d389a3",
   "metadata": {},
   "outputs": [],
   "source": [
    "from abc import ABC, abstractmethod\n",
    "class car(ABC):\n",
    "    def model():\n",
    "        pass\n",
    "    def year_of_making():\n",
    "        pass\n",
    "    def start():\n",
    "        pass\n",
    "    def stop():\n",
    "        pass"
   ]
  },
  {
   "cell_type": "code",
   "execution_count": 121,
   "id": "d1536a7e-faac-4cd7-be0b-d7a20b477955",
   "metadata": {},
   "outputs": [],
   "source": [
    "class year_of_making:\n",
    "    def manufacture_year():\n",
    "        print(\"this car that is AUDI A8 manufactured in year 2019\")\n",
    "        \n",
    "    def model():\n",
    "        print(\"this is old  model as we look above \")\n",
    "        \n",
    "    def stop():\n",
    "        print(\"this is automatic car \")"
   ]
  },
  {
   "cell_type": "code",
   "execution_count": 122,
   "id": "c54c0861-15da-425d-bec1-61927dd8f0b1",
   "metadata": {},
   "outputs": [
    {
     "name": "stdout",
     "output_type": "stream",
     "text": [
      "this is old  model as we look above \n",
      "this is automatic car \n",
      "this car that is AUDI A8 manufactured in year 2019\n"
     ]
    }
   ],
   "source": [
    "year_of_making.model()\n",
    "year_of_making.stop()\n",
    "year_of_making.manufacture_year()"
   ]
  },
  {
   "cell_type": "code",
   "execution_count": null,
   "id": "32b0d51c-2c54-47e9-930f-27e12bdb1ed6",
   "metadata": {},
   "outputs": [],
   "source": [
    "#12. Describe the use of abstract properties in Python and how they can be employed in abstract classes"
   ]
  },
  {
   "cell_type": "code",
   "execution_count": 61,
   "id": "3f3aa71a-316d-42e5-a0f2-3df2ba004e30",
   "metadata": {},
   "outputs": [
    {
     "data": {
      "text/plain": [
       "'Properties are Pythonic ways of using getters and setters. The abc module␣\\nhas a @abstractproperty decorator to use abstract properties. Just like␣\\nabstract methods, we need to define abstract properties in implementation␣\\nclasses. '"
      ]
     },
     "execution_count": 61,
     "metadata": {},
     "output_type": "execute_result"
    }
   ],
   "source": [
    "'''Properties are Pythonic ways of using getters and setters. The abc module␣\n",
    "has a @abstractproperty decorator to use abstract properties. Just like␣\n",
    "abstract methods, we need to define abstract properties in implementation␣\n",
    "classes. '''"
   ]
  },
  {
   "cell_type": "code",
   "execution_count": null,
   "id": "17576ed3-f75b-4d1f-afbd-556a63efb548",
   "metadata": {},
   "outputs": [],
   "source": [
    "#13. Create a Python class hierarchy for employees in a company (e.g., manager,\n",
    "developer, designer) and implement abstraction by defining a common `get_salary()`\n",
    "method."
   ]
  },
  {
   "cell_type": "code",
   "execution_count": 124,
   "id": "1b676755-1d71-45e8-b799-1054a16e4566",
   "metadata": {},
   "outputs": [],
   "source": [
    "from abc import ABC,abstractmethod\n",
    "class employee(ABC):\n",
    "    def manager():\n",
    "        pass\n",
    "    def developer():\n",
    "        pass \n",
    "    def designer():\n",
    "        pass"
   ]
  },
  {
   "cell_type": "code",
   "execution_count": 127,
   "id": "5bd8192a-6354-47c1-aeb2-902bee0687cd",
   "metadata": {},
   "outputs": [],
   "source": [
    "class manager(employee):\n",
    "    def manager_salary():\n",
    "        print(\"manger is senior of company might be high salary\")"
   ]
  },
  {
   "cell_type": "code",
   "execution_count": 128,
   "id": "09b31571-341f-4a90-ad26-e3603ac17051",
   "metadata": {},
   "outputs": [
    {
     "name": "stdout",
     "output_type": "stream",
     "text": [
      "manger is senior of company might be high salary\n"
     ]
    }
   ],
   "source": [
    "manager.manager_salary()"
   ]
  },
  {
   "cell_type": "code",
   "execution_count": null,
   "id": "9f2b12b7-b8e6-4d74-9a9f-7f1f637fdcb9",
   "metadata": {},
   "outputs": [],
   "source": [
    "#14. Discuss the differences between abstract classes and concrete classes in Python, including theirinstantiation"
   ]
  },
  {
   "cell_type": "code",
   "execution_count": 62,
   "id": "eec18dbe-f66c-47a2-a9f2-6987eb6def0c",
   "metadata": {},
   "outputs": [
    {
     "data": {
      "text/plain": [
       "'Concrete classes contain only concrete (normal)methods whereas abstract \\nclasses may contain both concrete methods and abstract methods'"
      ]
     },
     "execution_count": 62,
     "metadata": {},
     "output_type": "execute_result"
    }
   ],
   "source": [
    "'''Concrete classes contain only concrete (normal)methods whereas abstract \n",
    "classes may contain both concrete methods and abstract methods'''"
   ]
  },
  {
   "cell_type": "code",
   "execution_count": 63,
   "id": "52998c1e-2091-411c-9072-89d7b7064536",
   "metadata": {},
   "outputs": [],
   "source": [
    "#15. Explain the concept of abstract data types (ADTs) and their role in achieving abstraction in Python"
   ]
  },
  {
   "cell_type": "code",
   "execution_count": 64,
   "id": "f063ef9a-0920-496a-87d5-7a5264b3235b",
   "metadata": {},
   "outputs": [
    {
     "data": {
      "text/plain": [
       "'Abstract data types (ADTs) are a way of encapsulating data and operations on \\nthat data into a single unit'"
      ]
     },
     "execution_count": 64,
     "metadata": {},
     "output_type": "execute_result"
    }
   ],
   "source": [
    "'''Abstract data types (ADTs) are a way of encapsulating data and operations on \n",
    "that data into a single unit'''"
   ]
  },
  {
   "cell_type": "code",
   "execution_count": null,
   "id": "5b665a76-eb3f-4c14-96d2-51c5ec3eb0be",
   "metadata": {},
   "outputs": [],
   "source": [
    "#16. Create a Python class for a computer system, demonstrating abstraction by defining\n",
    "common methods (e.g., `power_on()`, `shutdown()`) in an abstract base class."
   ]
  },
  {
   "cell_type": "code",
   "execution_count": 133,
   "id": "5aa867f8-74ab-46c9-bab0-7325ffc3079b",
   "metadata": {},
   "outputs": [],
   "source": [
    "from abc import ABC,abstractmethod\n",
    "class computer_system:\n",
    "    def power_on():\n",
    "        pass\n",
    "    def shutdown():\n",
    "        pass"
   ]
  },
  {
   "cell_type": "code",
   "execution_count": 134,
   "id": "fb6700c3-603c-44cc-a11e-6d2c21866b9d",
   "metadata": {},
   "outputs": [],
   "source": [
    "class power_on:\n",
    "    def power():\n",
    "        print(\"after 5 min of wait.automatic shut down\")\n",
    "    def shutdown():\n",
    "        print(\"shutdown\")"
   ]
  },
  {
   "cell_type": "code",
   "execution_count": 136,
   "id": "dd062324-8cf8-4565-b173-65d11d5087a1",
   "metadata": {},
   "outputs": [
    {
     "name": "stdout",
     "output_type": "stream",
     "text": [
      "after 5 min of wait.automatic shut down\n"
     ]
    }
   ],
   "source": [
    "power_on.power()"
   ]
  },
  {
   "cell_type": "code",
   "execution_count": null,
   "id": "e29e448e-1b66-41e6-8f7f-192fa9780cb7",
   "metadata": {},
   "outputs": [],
   "source": [
    "#17. Discuss the benefits of using abstraction in large-scale software development projects"
   ]
  },
  {
   "cell_type": "code",
   "execution_count": 65,
   "id": "1e7bec4f-f6a0-410a-9b18-6c06edf90909",
   "metadata": {},
   "outputs": [
    {
     "data": {
      "text/plain": [
       "'Helps to increase security of an application or program as only important \\ndetails are provided to the user.'"
      ]
     },
     "execution_count": 65,
     "metadata": {},
     "output_type": "execute_result"
    }
   ],
   "source": [
    "'''Helps to increase security of an application or program as only important \n",
    "details are provided to the user.'''"
   ]
  },
  {
   "cell_type": "code",
   "execution_count": null,
   "id": "8b879386-614a-4f5c-876e-207b599d0f40",
   "metadata": {},
   "outputs": [],
   "source": [
    "#18. Explain how abstraction enhances code reusability and modularity in Python programs."
   ]
  },
  {
   "cell_type": "code",
   "execution_count": 66,
   "id": "25888fc7-ce71-4870-b952-e67c681567d1",
   "metadata": {},
   "outputs": [
    {
     "data": {
      "text/plain": [
       "'Modularity is having smaller (more or less independent) problems to tackle,␣\\none by one. Abstraction is being able to think about the modules themselves␣\\nat a higher level, without worrying about the details of implementing each'"
      ]
     },
     "execution_count": 66,
     "metadata": {},
     "output_type": "execute_result"
    }
   ],
   "source": [
    "'''Modularity is having smaller (more or less independent) problems to tackle,␣\n",
    "one by one. Abstraction is being able to think about the modules themselves␣\n",
    "at a higher level, without worrying about the details of implementing each'''"
   ]
  },
  {
   "cell_type": "code",
   "execution_count": null,
   "id": "ef6aed0c-344a-4b4f-881c-ec253a54c598",
   "metadata": {},
   "outputs": [],
   "source": [
    "#19. Create a Python class for a library system, implementing abstraction by defining\n",
    "common methods (e.g., `add_book()`, `borrow_book()`) in an abstract base class."
   ]
  },
  {
   "cell_type": "code",
   "execution_count": 137,
   "id": "92b87fd8-cce2-4e4d-b6fd-c8ccf3f11cb0",
   "metadata": {},
   "outputs": [],
   "source": [
    "from abc import ABC,abstractmethod\n",
    "class library_sysytem:\n",
    "    def add_book():\n",
    "        pass\n",
    "    def borrow_book():\n",
    "        pass"
   ]
  },
  {
   "cell_type": "code",
   "execution_count": 138,
   "id": "a420f74d-3cba-4347-9f74-f32e2846e973",
   "metadata": {},
   "outputs": [],
   "source": [
    "class add_book:\n",
    "    def borrow_book():\n",
    "        print(\"this book returning date is 12 nov\")"
   ]
  },
  {
   "cell_type": "code",
   "execution_count": 140,
   "id": "b40fe766-6074-4f46-b099-e51c8fc28ff2",
   "metadata": {},
   "outputs": [
    {
     "name": "stdout",
     "output_type": "stream",
     "text": [
      "this book returning date is 12 nov\n"
     ]
    }
   ],
   "source": [
    "add_book.borrow_book()"
   ]
  },
  {
   "cell_type": "code",
   "execution_count": null,
   "id": "bd032694-c71d-4d2c-ab70-8044e9f162ee",
   "metadata": {},
   "outputs": [],
   "source": [
    "# 20. Describe the concept of method abstraction in Python and how it relates to\n",
    "polymorphism"
   ]
  },
  {
   "cell_type": "code",
   "execution_count": 129,
   "id": "a7a51830-6a45-4011-81ef-a655f6937dc8",
   "metadata": {},
   "outputs": [],
   "source": [
    "class calculation:\n",
    "    \n",
    "    @staticmethod\n",
    "    def add(x,y):\n",
    "        return x+y\n",
    "    \n",
    "    @staticmethod\n",
    "    def sub(x,y):\n",
    "        return x-y\n",
    "    \n",
    "    def div(self,x,y):\n",
    "        return x/y"
   ]
  },
  {
   "cell_type": "code",
   "execution_count": 130,
   "id": "dbe75049-df69-4c2b-8cba-8d34866c8128",
   "metadata": {},
   "outputs": [],
   "source": [
    "a = calculation()"
   ]
  },
  {
   "cell_type": "code",
   "execution_count": 131,
   "id": "62af50ca-d2f8-42ae-b593-8c5a49d6673b",
   "metadata": {},
   "outputs": [
    {
     "data": {
      "text/plain": [
       "0.5"
      ]
     },
     "execution_count": 131,
     "metadata": {},
     "output_type": "execute_result"
    }
   ],
   "source": [
    "a.div(1,2)"
   ]
  },
  {
   "cell_type": "code",
   "execution_count": 132,
   "id": "d6576c00-c02b-4f42-bd2a-7571a83dd341",
   "metadata": {},
   "outputs": [
    {
     "data": {
      "text/plain": [
       "3"
      ]
     },
     "execution_count": 132,
     "metadata": {},
     "output_type": "execute_result"
    }
   ],
   "source": [
    "a.add(1,2)"
   ]
  },
  {
   "cell_type": "code",
   "execution_count": null,
   "id": "e1e87de9-6a4b-43fe-a154-58b40e744c66",
   "metadata": {},
   "outputs": [],
   "source": [
    "                         #COMPOSITION "
   ]
  },
  {
   "cell_type": "code",
   "execution_count": null,
   "id": "d1d132aa-319c-4974-9984-c9526bf37738",
   "metadata": {},
   "outputs": [],
   "source": [
    "#1. Explain the concept of composition in Python and how it is used to build complex objects from simpler ones"
   ]
  },
  {
   "cell_type": "code",
   "execution_count": 67,
   "id": "776d0049-40ad-4c0f-aee6-92638bdbf7fd",
   "metadata": {},
   "outputs": [
    {
     "data": {
      "text/plain": [
       "'it make code complex by adding simple operation'"
      ]
     },
     "execution_count": 67,
     "metadata": {},
     "output_type": "execute_result"
    }
   ],
   "source": [
    "'''it make code complex by adding simple operation'''"
   ]
  },
  {
   "cell_type": "code",
   "execution_count": null,
   "id": "6383b331-b0a4-494c-805a-b94f31b5b246",
   "metadata": {},
   "outputs": [],
   "source": [
    "#2. Describe the difference between composition and inheritance in object-oriented programming"
   ]
  },
  {
   "cell_type": "code",
   "execution_count": 68,
   "id": "3fbd9e6f-9609-4d17-981b-c5cc8d6180e7",
   "metadata": {},
   "outputs": [
    {
     "data": {
      "text/plain": [
       "'In inheritance, the child class is dependent upon parent class. Whereas in \\ncomposition, both child class and parent class are independent'"
      ]
     },
     "execution_count": 68,
     "metadata": {},
     "output_type": "execute_result"
    }
   ],
   "source": [
    "'''In inheritance, the child class is dependent upon parent class. Whereas in \n",
    "composition, both child class and parent class are independent'''"
   ]
  },
  {
   "cell_type": "code",
   "execution_count": null,
   "id": "f1646a76-8f2b-45d0-9e74-5ce5e0b0b199",
   "metadata": {},
   "outputs": [],
   "source": [
    "#3. Create a Python class called `Author` with attributes for name and birthdate. Then,\n",
    "create a `Book` class that contains an instance of `Author` as a composition. Provide an\n",
    "example of creating a `Book` object."
   ]
  },
  {
   "cell_type": "code",
   "execution_count": 43,
   "id": "32993627-0856-4356-9162-592109a0e8ed",
   "metadata": {},
   "outputs": [],
   "source": [
    "class books :\n",
    "    def name(self):\n",
    "        return \"indian constitution \"\n",
    "    def birth_date(self):\n",
    "        return \"bipin chandra\"\n",
    "    \n",
    "class author:\n",
    "    def __init__(self):\n",
    "        self.name= books()"
   ]
  },
  {
   "cell_type": "code",
   "execution_count": 44,
   "id": "ef216226-a951-4d87-a4d6-5281cf2b0e9b",
   "metadata": {},
   "outputs": [],
   "source": [
    "b = books()"
   ]
  },
  {
   "cell_type": "code",
   "execution_count": 45,
   "id": "e5d84f95-8ba5-40f3-b707-712a18a0eed3",
   "metadata": {},
   "outputs": [
    {
     "data": {
      "text/plain": [
       "'indian constitution '"
      ]
     },
     "execution_count": 45,
     "metadata": {},
     "output_type": "execute_result"
    }
   ],
   "source": [
    "b.name()"
   ]
  },
  {
   "cell_type": "code",
   "execution_count": 46,
   "id": "68e07cf9-9240-469f-ad14-340a506cdded",
   "metadata": {},
   "outputs": [],
   "source": [
    "a = author()"
   ]
  },
  {
   "cell_type": "code",
   "execution_count": 48,
   "id": "9c66796e-fc97-4b7d-95db-d5722e1597a1",
   "metadata": {},
   "outputs": [
    {
     "data": {
      "text/plain": [
       "'indian constitution '"
      ]
     },
     "execution_count": 48,
     "metadata": {},
     "output_type": "execute_result"
    }
   ],
   "source": [
    "a.name.name()"
   ]
  },
  {
   "cell_type": "code",
   "execution_count": null,
   "id": "b4109e4e-93b8-4eee-99da-99ca34ec658d",
   "metadata": {},
   "outputs": [],
   "source": [
    "#5. How can you implement composition in Python classes? Provide examples of using\n",
    "composition to create complex objects"
   ]
  },
  {
   "cell_type": "code",
   "execution_count": 7,
   "id": "63fec62d-3f21-41e4-bc99-eb1e1865f1cd",
   "metadata": {},
   "outputs": [],
   "source": [
    "class flight:\n",
    "    def __init__(self,passenger_name) :\n",
    "        self.passenger_name = passenger_name\n",
    "        \n",
    "class airpot :\n",
    "    def __init__(self,passenger , check_in_counter):\n",
    "        self.passenger = passenger\n",
    "        self.check_in_counter = check_in_counter"
   ]
  },
  {
   "cell_type": "code",
   "execution_count": 15,
   "id": "e7f1bab8-4667-4ec9-8383-a591c16fdaf6",
   "metadata": {},
   "outputs": [],
   "source": [
    "a = flight(\"piyush\")\n",
    "b = airpot(a,\"passenger_id\")"
   ]
  },
  {
   "cell_type": "code",
   "execution_count": 18,
   "id": "b2a2d804-902a-4039-bccd-c1aaa90ca4fd",
   "metadata": {},
   "outputs": [
    {
     "data": {
      "text/plain": [
       "'passenger_id'"
      ]
     },
     "execution_count": 18,
     "metadata": {},
     "output_type": "execute_result"
    }
   ],
   "source": [
    "b.check_in_counter"
   ]
  },
  {
   "cell_type": "code",
   "execution_count": 19,
   "id": "b8b21066-4f10-4c53-93ca-18b7b7934249",
   "metadata": {},
   "outputs": [
    {
     "data": {
      "text/plain": [
       "'piyush'"
      ]
     },
     "execution_count": 19,
     "metadata": {},
     "output_type": "execute_result"
    }
   ],
   "source": [
    "a.passenger_name"
   ]
  },
  {
   "cell_type": "code",
   "execution_count": 21,
   "id": "44b47fcd-9774-4496-8bdd-86c32b5e1820",
   "metadata": {},
   "outputs": [
    {
     "data": {
      "text/plain": [
       "'piyush'"
      ]
     },
     "execution_count": 21,
     "metadata": {},
     "output_type": "execute_result"
    }
   ],
   "source": [
    "b.passenger.passenger_name"
   ]
  },
  {
   "cell_type": "code",
   "execution_count": null,
   "id": "aa477ba5-c539-4a49-8921-707af419b468",
   "metadata": {},
   "outputs": [],
   "source": [
    "#6. Create a Python class hierarchy for a music player system, using composition to\n",
    "represent playlists and songs."
   ]
  },
  {
   "cell_type": "code",
   "execution_count": 1,
   "id": "4bedbbc6-ab56-4d57-be9a-cfc4aa211cad",
   "metadata": {},
   "outputs": [],
   "source": [
    "class music_system:\n",
    "    def __init__(self,old_song):\n",
    "        self.old_song = old_song\n",
    "        \n",
    "class remake:\n",
    "    def __init__(self,playlist,song):\n",
    "        self.playlist = playlist\n",
    "        self.song = song"
   ]
  },
  {
   "cell_type": "code",
   "execution_count": 2,
   "id": "d11172df-45f0-4aa5-8a11-2848aa59ff45",
   "metadata": {},
   "outputs": [],
   "source": [
    "m = music_system(\"old skool\")\n",
    "r = remake(\" bambiha bhole,carry,peaches\",m)"
   ]
  },
  {
   "cell_type": "code",
   "execution_count": 3,
   "id": "e7f4154c-13ba-4cd3-abcc-2c58630082b4",
   "metadata": {},
   "outputs": [
    {
     "data": {
      "text/plain": [
       "' bambiha bhole,carry,peaches'"
      ]
     },
     "execution_count": 3,
     "metadata": {},
     "output_type": "execute_result"
    }
   ],
   "source": [
    "r.playlist"
   ]
  },
  {
   "cell_type": "code",
   "execution_count": null,
   "id": "33e61cc0-db6d-4203-96aa-401223737346",
   "metadata": {},
   "outputs": [],
   "source": [
    "#7. Explain the concept of \"has-a\" relationships in composition and how it helps design software systems"
   ]
  },
  {
   "cell_type": "code",
   "execution_count": 69,
   "id": "56618556-aa22-42c1-b6fb-02857499bf38",
   "metadata": {},
   "outputs": [
    {
     "data": {
      "text/plain": [
       "'. It enables creating complex types by combining objects of other types'"
      ]
     },
     "execution_count": 69,
     "metadata": {},
     "output_type": "execute_result"
    }
   ],
   "source": [
    "'''. It enables creating complex types by combining objects of other types'''"
   ]
  },
  {
   "cell_type": "code",
   "execution_count": null,
   "id": "c5a30005-1f8a-40d8-b664-d5cf496f3762",
   "metadata": {},
   "outputs": [],
   "source": [
    "# 8. Create a Python class for a computer system, using composition to represent\n",
    "components like CPU, RAM, and storage devices"
   ]
  },
  {
   "cell_type": "code",
   "execution_count": null,
   "id": "2f0345ce-08b7-4db2-ac38-15c79da4efd7",
   "metadata": {},
   "outputs": [],
   "source": []
  },
  {
   "cell_type": "code",
   "execution_count": 57,
   "id": "7f131a41-c90f-4031-9ec6-a74d24cfc408",
   "metadata": {},
   "outputs": [],
   "source": [
    "class computer_system :\n",
    "    def cpu(self):\n",
    "        return \"having 64-bit\"\n",
    "    def ram(self):\n",
    "        return \"having 8gb\"\n",
    "    def pen_drive(self):\n",
    "        return \"having 128gb\"\n",
    "    \n",
    "class storage_devices:\n",
    "    def __init__(self):\n",
    "        self.cpu= computer_system()"
   ]
  },
  {
   "cell_type": "code",
   "execution_count": 58,
   "id": "f34b76b1-8e53-4adf-8649-c43c8b7ae190",
   "metadata": {},
   "outputs": [],
   "source": [
    "c = computer_system()\n",
    "s = storage_devices()"
   ]
  },
  {
   "cell_type": "code",
   "execution_count": 61,
   "id": "0e624f53-2857-4e78-935d-3bc510c3775e",
   "metadata": {},
   "outputs": [
    {
     "data": {
      "text/plain": [
       "'having 128gb'"
      ]
     },
     "execution_count": 61,
     "metadata": {},
     "output_type": "execute_result"
    }
   ],
   "source": [
    "c.pen_drive()"
   ]
  },
  {
   "cell_type": "code",
   "execution_count": 65,
   "id": "5130f957-2692-4c67-93cd-89f3eaaa49d7",
   "metadata": {},
   "outputs": [
    {
     "data": {
      "text/plain": [
       "'having 8gb'"
      ]
     },
     "execution_count": 65,
     "metadata": {},
     "output_type": "execute_result"
    }
   ],
   "source": [
    "s.cpu.ram()"
   ]
  },
  {
   "cell_type": "code",
   "execution_count": 66,
   "id": "29034845-d875-4ee1-982b-0e65b42b5846",
   "metadata": {},
   "outputs": [
    {
     "data": {
      "text/plain": [
       "'having 128gb'"
      ]
     },
     "execution_count": 66,
     "metadata": {},
     "output_type": "execute_result"
    }
   ],
   "source": [
    "s.cpu.pen_drive()"
   ]
  },
  {
   "cell_type": "code",
   "execution_count": null,
   "id": "b8fe31a7-9ae3-471a-8054-fc1503506562",
   "metadata": {},
   "outputs": [],
   "source": [
    "#9. Describe the concept of \"delegation\" in composition and how it simplifies the design of complex systems."
   ]
  },
  {
   "cell_type": "code",
   "execution_count": 70,
   "id": "6ac1a908-c1f7-4de9-8d4e-f8f025b970bc",
   "metadata": {},
   "outputs": [
    {
     "data": {
      "text/plain": [
       "'Composition is about the relationships between objects. Delegation is about \\npassing work from one object to another. '"
      ]
     },
     "execution_count": 70,
     "metadata": {},
     "output_type": "execute_result"
    }
   ],
   "source": [
    "'''Composition is about the relationships between objects. Delegation is about \n",
    "passing work from one object to another. '''"
   ]
  },
  {
   "cell_type": "code",
   "execution_count": null,
   "id": "6745d300-4727-41cf-a876-b840ac4e235c",
   "metadata": {},
   "outputs": [],
   "source": [
    "# 10. Create a Python class for a car, using composition to represent components like the\n",
    "engine, wheels, and transmission."
   ]
  },
  {
   "cell_type": "code",
   "execution_count": 69,
   "id": "2eaf2fe6-cf53-4e97-95a7-f1f65fab834b",
   "metadata": {},
   "outputs": [],
   "source": [
    "class car:\n",
    "    def engine(self):\n",
    "        return \"this is only 150 cc\"\n",
    "    def wheels(self):\n",
    "        return \"this car have 4 wheels\"\n",
    "    def max_speed(self):\n",
    "        return \"this car goes up to max speed of 200km/ph\"\n",
    "    \n",
    "class transmission:\n",
    "    def __init__(self):\n",
    "        self.engine = car()"
   ]
  },
  {
   "cell_type": "code",
   "execution_count": 71,
   "id": "162e97be-3038-45f7-a43c-c4faee7949c0",
   "metadata": {},
   "outputs": [],
   "source": [
    "c = car()\n"
   ]
  },
  {
   "cell_type": "code",
   "execution_count": 72,
   "id": "3d4e87e9-534a-46d5-b850-4135a8659505",
   "metadata": {},
   "outputs": [
    {
     "data": {
      "text/plain": [
       "'this car goes up to max speed of 200km/ph'"
      ]
     },
     "execution_count": 72,
     "metadata": {},
     "output_type": "execute_result"
    }
   ],
   "source": [
    "c.max_speed()"
   ]
  },
  {
   "cell_type": "code",
   "execution_count": 73,
   "id": "adbf2cd3-08ce-4f34-93dc-7f704cc429fd",
   "metadata": {},
   "outputs": [],
   "source": [
    "t = transmission()"
   ]
  },
  {
   "cell_type": "code",
   "execution_count": 75,
   "id": "d57fa402-9936-45b4-a653-6184b5a584c3",
   "metadata": {},
   "outputs": [
    {
     "data": {
      "text/plain": [
       "'this is only 150 cc'"
      ]
     },
     "execution_count": 75,
     "metadata": {},
     "output_type": "execute_result"
    }
   ],
   "source": [
    "t.engine.engine()"
   ]
  },
  {
   "cell_type": "code",
   "execution_count": null,
   "id": "9e25180d-9b42-46c5-bec0-0c4abbc52175",
   "metadata": {},
   "outputs": [],
   "source": [
    "# 12. Create a Python class for a university course, using composition to represent\n",
    "students, instructors, and course materials"
   ]
  },
  {
   "cell_type": "code",
   "execution_count": 49,
   "id": "22e3ccda-86dc-45ef-b49e-753ca59e62e9",
   "metadata": {},
   "outputs": [],
   "source": [
    "class university :\n",
    "    def students(self):\n",
    "        return \"student details\"\n",
    "    def instructor(self):\n",
    "        return \"sudhanshu sir\"\n",
    "    def course_materials(self):\n",
    "        return \"oops dpp\"\n",
    "    \n",
    "class coachings:\n",
    "    def __init__(self):\n",
    "        self.instructor= university()"
   ]
  },
  {
   "cell_type": "code",
   "execution_count": 50,
   "id": "84cde5b9-b4e8-4f30-86e6-3d3844b87355",
   "metadata": {},
   "outputs": [],
   "source": [
    "u = university()"
   ]
  },
  {
   "cell_type": "code",
   "execution_count": 51,
   "id": "dc0bfb20-2d98-468c-a569-663324e2303c",
   "metadata": {},
   "outputs": [
    {
     "data": {
      "text/plain": [
       "'sudhanshu sir'"
      ]
     },
     "execution_count": 51,
     "metadata": {},
     "output_type": "execute_result"
    }
   ],
   "source": [
    "u.instructor()"
   ]
  },
  {
   "cell_type": "code",
   "execution_count": 52,
   "id": "ba28a415-0bc6-49f3-b0ec-874941564264",
   "metadata": {},
   "outputs": [],
   "source": [
    "c = coachings()"
   ]
  },
  {
   "cell_type": "code",
   "execution_count": 53,
   "id": "eb476737-a439-4be5-9130-d917c72d327c",
   "metadata": {},
   "outputs": [
    {
     "data": {
      "text/plain": [
       "'sudhanshu sir'"
      ]
     },
     "execution_count": 53,
     "metadata": {},
     "output_type": "execute_result"
    }
   ],
   "source": [
    "c.instructor.instructor()"
   ]
  },
  {
   "cell_type": "code",
   "execution_count": null,
   "id": "33b58ece-47aa-417d-acb5-677d1ceaaf0f",
   "metadata": {},
   "outputs": [],
   "source": []
  },
  {
   "cell_type": "code",
   "execution_count": null,
   "id": "4dfa87fb-b4ed-4b51-93fe-4aee3fd5673b",
   "metadata": {},
   "outputs": [],
   "source": [
    "#14. Create a Python class hierarchy for a restaurant system, using composition to\n",
    "represent menus, dishes, and ingredients"
   ]
  },
  {
   "cell_type": "code",
   "execution_count": 10,
   "id": "2de47910-73af-4b1b-86fd-a5384461da20",
   "metadata": {},
   "outputs": [],
   "source": [
    "class restaurant :\n",
    "    def menus(self):\n",
    "        return \"vegetatian or non-vegetarian\"\n",
    "    def dishes(self):\n",
    "        return \"1.chicken handi,2.matarpaneer,3.chole bhature\"\n",
    "    def ingredients(self):\n",
    "        return \"common ingredients: panner,chicken,dal\"\n",
    "    \n",
    "class home_restaurant:\n",
    "    def __init__(self):\n",
    "        self.dishes= restaurant()"
   ]
  },
  {
   "cell_type": "code",
   "execution_count": 11,
   "id": "ba60a3fd-d282-4ebf-ade5-018d0ab00f61",
   "metadata": {},
   "outputs": [],
   "source": [
    "c = restaurant()"
   ]
  },
  {
   "cell_type": "code",
   "execution_count": 12,
   "id": "96f2af9b-405f-4a6f-947c-e8fafbd0d5bc",
   "metadata": {},
   "outputs": [
    {
     "data": {
      "text/plain": [
       "'common ingredients: panner,chicken,dal'"
      ]
     },
     "execution_count": 12,
     "metadata": {},
     "output_type": "execute_result"
    }
   ],
   "source": [
    "c.ingredients()"
   ]
  },
  {
   "cell_type": "code",
   "execution_count": 13,
   "id": "078548db-2c1a-4b04-a952-1a9fc82f8e2f",
   "metadata": {},
   "outputs": [],
   "source": [
    "h = home_restaurant()"
   ]
  },
  {
   "cell_type": "code",
   "execution_count": 14,
   "id": "037a54be-4ac1-481b-8f51-cee80a9aa5d4",
   "metadata": {},
   "outputs": [
    {
     "data": {
      "text/plain": [
       "'common ingredients: panner,chicken,dal'"
      ]
     },
     "execution_count": 14,
     "metadata": {},
     "output_type": "execute_result"
    }
   ],
   "source": [
    "h.dishes.ingredients()"
   ]
  },
  {
   "cell_type": "code",
   "execution_count": null,
   "id": "31e0aeb3-28bc-48df-96a3-c1cc98091c70",
   "metadata": {},
   "outputs": [],
   "source": [
    "#16. Create a Python class for a computer game character, using composition to\n",
    "represent attributes like weapons, armor, and inventory"
   ]
  },
  {
   "cell_type": "code",
   "execution_count": 15,
   "id": "96439af2-eb5a-41c2-a99f-fd455bd31ed8",
   "metadata": {},
   "outputs": [],
   "source": [
    "class coc :\n",
    "    def troops(self):\n",
    "        return \"this wizard  is now the level of 7th means concurr\"\n",
    "    def weapons(self):\n",
    "        return \"rage spell my favourite war weapon in list\"\n",
    "    def infantry(self):\n",
    "        return \"israeal used to say if they access one indian infantry then we capture whole world\"\n",
    "class pupg:\n",
    "    def __init__(self):\n",
    "        self.weapons= coc()"
   ]
  },
  {
   "cell_type": "code",
   "execution_count": 19,
   "id": "27620aa4-3d08-49e8-a163-f7347201dd38",
   "metadata": {},
   "outputs": [],
   "source": [
    "c = coc()"
   ]
  },
  {
   "cell_type": "code",
   "execution_count": 20,
   "id": "553bd1de-baf2-40db-83e6-49a1573feccc",
   "metadata": {},
   "outputs": [
    {
     "data": {
      "text/plain": [
       "'israeal used to say if they access one indian infantry then we capture whole world'"
      ]
     },
     "execution_count": 20,
     "metadata": {},
     "output_type": "execute_result"
    }
   ],
   "source": [
    "c.infantry()"
   ]
  },
  {
   "cell_type": "code",
   "execution_count": 22,
   "id": "28820319-2d76-434f-9477-f7f827da12de",
   "metadata": {},
   "outputs": [],
   "source": [
    "p = pupg()"
   ]
  },
  {
   "cell_type": "code",
   "execution_count": 23,
   "id": "51368f9b-99c5-4bf6-a440-446c0610562c",
   "metadata": {},
   "outputs": [
    {
     "data": {
      "text/plain": [
       "'israeal used to say if they access one indian infantry then we capture whole world'"
      ]
     },
     "execution_count": 23,
     "metadata": {},
     "output_type": "execute_result"
    }
   ],
   "source": [
    "p.weapons.infantry()"
   ]
  },
  {
   "cell_type": "code",
   "execution_count": null,
   "id": "5e1f1fed-f8f9-4225-9c65-b50cd7333042",
   "metadata": {},
   "outputs": [],
   "source": [
    "# 18. Create a Python class for a house, using composition to represent rooms, furniture,\n",
    "and appliances."
   ]
  },
  {
   "cell_type": "code",
   "execution_count": 28,
   "id": "ef94cdf6-e37a-430f-97d0-044c4ace53be",
   "metadata": {},
   "outputs": [],
   "source": [
    "class hotels :\n",
    "    def rooms(self):\n",
    "        return \"rooms were very clean \"\n",
    "    def furniture(self):\n",
    "        return \"furnitures were to attractive\"\n",
    "    def kettle(self):\n",
    "        return \"tea making kettle was there\"\n",
    "    \n",
    "class crews:\n",
    "    def __init__(self):\n",
    "        self.rooms= hotels()"
   ]
  },
  {
   "cell_type": "code",
   "execution_count": 29,
   "id": "aa7e78ca-f822-4457-9fae-ea8f047d77b7",
   "metadata": {},
   "outputs": [],
   "source": [
    "h = hotels()"
   ]
  },
  {
   "cell_type": "code",
   "execution_count": 30,
   "id": "514c4246-51b8-43bd-82e8-dfac5c29feae",
   "metadata": {},
   "outputs": [
    {
     "data": {
      "text/plain": [
       "'furnitures were to attractive'"
      ]
     },
     "execution_count": 30,
     "metadata": {},
     "output_type": "execute_result"
    }
   ],
   "source": [
    "h.furniture()"
   ]
  },
  {
   "cell_type": "code",
   "execution_count": 31,
   "id": "a19d6cbd-5a73-42b1-a856-75de044e8cb6",
   "metadata": {},
   "outputs": [],
   "source": [
    "c = crews()"
   ]
  },
  {
   "cell_type": "code",
   "execution_count": 33,
   "id": "00104c95-fb0d-4955-8565-fc14ca287475",
   "metadata": {},
   "outputs": [
    {
     "data": {
      "text/plain": [
       "'furnitures were to attractive'"
      ]
     },
     "execution_count": 33,
     "metadata": {},
     "output_type": "execute_result"
    }
   ],
   "source": [
    "c.rooms.furniture()"
   ]
  },
  {
   "cell_type": "code",
   "execution_count": null,
   "id": "126b2765-4b9f-4870-a78b-28ccef73f706",
   "metadata": {},
   "outputs": [],
   "source": [
    "#20. Create a Python class for a social media application, using composition to represent\n",
    "users, posts, and comments."
   ]
  },
  {
   "cell_type": "code",
   "execution_count": 34,
   "id": "bb799928-1b26-40bc-94a2-7fca03eb47f5",
   "metadata": {},
   "outputs": [],
   "source": [
    "class fb :\n",
    "    def users(self):\n",
    "        return \"fb is user friendly\"\n",
    "    def posts(self):\n",
    "        return \"this app requires less time to post the update than whatsapp\"\n",
    "    def comments(self):\n",
    "        return \"create comments below the post\"\n",
    "    \n",
    "class whatapp:\n",
    "    def __init__(self):\n",
    "        self.users= fb()"
   ]
  },
  {
   "cell_type": "code",
   "execution_count": 38,
   "id": "53c3c7e8-eb8f-4db7-b0ba-63566202a643",
   "metadata": {},
   "outputs": [],
   "source": [
    "f  = fb()"
   ]
  },
  {
   "cell_type": "code",
   "execution_count": 39,
   "id": "c5506c2d-e098-40cf-ad36-eaa544b7eef6",
   "metadata": {},
   "outputs": [
    {
     "data": {
      "text/plain": [
       "'fb is user friendly'"
      ]
     },
     "execution_count": 39,
     "metadata": {},
     "output_type": "execute_result"
    }
   ],
   "source": [
    "f.users()"
   ]
  },
  {
   "cell_type": "code",
   "execution_count": 40,
   "id": "c9075a74-34b5-47eb-890d-83610859e64d",
   "metadata": {},
   "outputs": [],
   "source": [
    "w = whatapp()\n"
   ]
  },
  {
   "cell_type": "code",
   "execution_count": 42,
   "id": "8fb2108b-b49a-486e-bceb-956f341453d1",
   "metadata": {},
   "outputs": [
    {
     "data": {
      "text/plain": [
       "'fb is user friendly'"
      ]
     },
     "execution_count": 42,
     "metadata": {},
     "output_type": "execute_result"
    }
   ],
   "source": [
    "w.users.users()"
   ]
  },
  {
   "cell_type": "code",
   "execution_count": null,
   "id": "48a080ce-07bb-41d2-aadc-fc6a13fee2a1",
   "metadata": {},
   "outputs": [],
   "source": [
    "\n"
   ]
  }
 ],
 "metadata": {
  "kernelspec": {
   "display_name": "Python 3 (ipykernel)",
   "language": "python",
   "name": "python3"
  },
  "language_info": {
   "codemirror_mode": {
    "name": "ipython",
    "version": 3
   },
   "file_extension": ".py",
   "mimetype": "text/x-python",
   "name": "python",
   "nbconvert_exporter": "python",
   "pygments_lexer": "ipython3",
   "version": "3.10.8"
  }
 },
 "nbformat": 4,
 "nbformat_minor": 5
}
