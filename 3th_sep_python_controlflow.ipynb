{
 "cells": [
  {
   "cell_type": "code",
   "execution_count": null,
   "id": "bbd801e8-7088-43a7-95ca-bed5eea8960b",
   "metadata": {},
   "outputs": [],
   "source": [
    "# #1. Write a Python program to check if a given number is positive or negative."
   ]
  },
  {
   "cell_type": "code",
   "execution_count": 4,
   "id": "11051d79-4101-4ce2-a17b-c45d6be76879",
   "metadata": {},
   "outputs": [
    {
     "name": "stdout",
     "output_type": "stream",
     "text": [
      "the given number is positive\n"
     ]
    }
   ],
   "source": [
    "x=10\n",
    "if x>=10 :\n",
    "     print('the given number is positive')\n",
    "elif x<=10:\n",
    "     print('the number is negative')\n"
   ]
  },
  {
   "cell_type": "code",
   "execution_count": null,
   "id": "8acca2f9-8f9b-414d-ab91-26467870a21e",
   "metadata": {},
   "outputs": [],
   "source": [
    "# #2. Create a program that determines if a person is eligible to vote based on␣ ↪their age."
   ]
  },
  {
   "cell_type": "code",
   "execution_count": 6,
   "id": "e43352d0-4611-4972-b477-50ece9c89c4c",
   "metadata": {},
   "outputs": [
    {
     "name": "stdin",
     "output_type": "stream",
     "text": [
      "enter the age 23\n"
     ]
    },
    {
     "name": "stdout",
     "output_type": "stream",
     "text": [
      "the person is eligible for vote\n"
     ]
    }
   ],
   "source": [
    "age = int(input('enter the age'))\n",
    "if age < 0:\n",
    "    print('not eligible for vote')\n",
    "elif 0<=age<=17:\n",
    "    print('not eligible')\n",
    "elif 17<=age<=24:\n",
    "    print('the person is eligible for vote')"
   ]
  },
  {
   "cell_type": "code",
   "execution_count": null,
   "id": "1cd56847-465f-4dbb-a9a1-19858d76d3d4",
   "metadata": {},
   "outputs": [],
   "source": [
    "# #3. Develop a program to find the maximum of two numbers using if-else␣ ↪statements."
   ]
  },
  {
   "cell_type": "code",
   "execution_count": 10,
   "id": "60d50388-9113-4fee-9bae-9f548028f510",
   "metadata": {},
   "outputs": [
    {
     "name": "stdin",
     "output_type": "stream",
     "text": [
      "enter the first number 10\n",
      "enter the second number 20\n"
     ]
    },
    {
     "name": "stdout",
     "output_type": "stream",
     "text": [
      "largest number is  20\n"
     ]
    }
   ],
   "source": [
    "num1 = int(input('enter the first number'))\n",
    "num2 = int(input('enter the second number'))\n",
    "if num1>=num2:\n",
    "    largest = num1\n",
    "    print('largest number is',largest)\n",
    "elif num1<=num2:\n",
    "    largest = num2\n",
    "    print('largest number is ', largest)"
   ]
  },
  {
   "cell_type": "code",
   "execution_count": null,
   "id": "66528f20-fbaa-44f9-8f15-1aae3cb551d1",
   "metadata": {},
   "outputs": [],
   "source": [
    "# #4. Write a Python script to classify a given year as a leap year or not."
   ]
  },
  {
   "cell_type": "code",
   "execution_count": 11,
   "id": "0a22e291-fbd0-4d7e-b85e-0a902a05f64f",
   "metadata": {},
   "outputs": [
    {
     "name": "stdin",
     "output_type": "stream",
     "text": [
      "Enter year to be checked: 4\n"
     ]
    },
    {
     "name": "stdout",
     "output_type": "stream",
     "text": [
      "The year is a leap year!\n"
     ]
    }
   ],
   "source": [
    "year=int(input(\"Enter year to be checked:\"))\n",
    "if(year%4==0 and year%100!=0 or year%400==0):\n",
    "    print(\"The year is a leap year!\")\n",
    "else:\n",
    "    print(\"The year isn't a leap year!\")"
   ]
  },
  {
   "cell_type": "code",
   "execution_count": null,
   "id": "0d288bff-f95b-4590-850c-7bc27ee35627",
   "metadata": {},
   "outputs": [],
   "source": [
    "#5. Create a program that checks whether a character is a vowel or a consonant."
   ]
  },
  {
   "cell_type": "code",
   "execution_count": 14,
   "id": "6096d927-0cb0-4050-8174-a5c9ed3540b0",
   "metadata": {},
   "outputs": [
    {
     "name": "stdin",
     "output_type": "stream",
     "text": [
      "enter an character r\n"
     ]
    },
    {
     "name": "stdout",
     "output_type": "stream",
     "text": [
      "r is a consonant\n"
     ]
    }
   ],
   "source": [
    "c = input('enter an character')\n",
    "# checking for vowels\n",
    "if c == 'a' or c == 'e' or c == 'i' or c == 'o' or c == 'u' or c == 'A' or c =='E' or c == 'I' or c == 'O' or c == 'U':\n",
    "    print(c, \"is a vowel\") # condition true input is vowel\n",
    "else:\n",
    "    print(c, \"is a consonant\") # condition true input is consonant"
   ]
  },
  {
   "cell_type": "code",
   "execution_count": null,
   "id": "4e05b7c5-b166-4115-a67e-72484cafc198",
   "metadata": {},
   "outputs": [],
   "source": [
    "# #6. Implement a program to determine whether a given number is even or odd."
   ]
  },
  {
   "cell_type": "code",
   "execution_count": 15,
   "id": "29704817-675e-480c-8d6f-6c2bb19eea2b",
   "metadata": {},
   "outputs": [
    {
     "name": "stdin",
     "output_type": "stream",
     "text": [
      "enter an given number 45\n"
     ]
    },
    {
     "name": "stdout",
     "output_type": "stream",
     "text": [
      "given number is odd number\n"
     ]
    }
   ],
   "source": [
    "num = int(input('enter an given number'))\n",
    "if num%2 == 0:\n",
    "    print('given number is even number')\n",
    "else:\n",
    "    print('given number is odd number')"
   ]
  },
  {
   "cell_type": "code",
   "execution_count": null,
   "id": "2b402aa0-a049-4a57-b34e-eb754375f5e4",
   "metadata": {},
   "outputs": [],
   "source": [
    "# #7. Write a Python function to calculate the absolute value of a number without␣ ↪using the `abs()` function."
   ]
  },
  {
   "cell_type": "code",
   "execution_count": 28,
   "id": "f23cb77d-7f9b-412c-b4ee-fc1ba8dfc772",
   "metadata": {},
   "outputs": [
    {
     "name": "stdout",
     "output_type": "stream",
     "text": [
      "10\n",
      "20\n",
      "0\n"
     ]
    }
   ],
   "source": [
    "def absolute_value(num):\n",
    "    \"\"\"This function returns the absolute\n",
    "    value of the entered number\"\"\"\n",
    "    if num >= 0:\n",
    "        return num\n",
    "    else:\n",
    "        return -num\n",
    "# Test the function with positive, negative, and zero values\n",
    "print(absolute_value(10))\n",
    "print(absolute_value(-20))\n",
    "print(absolute_value(0))"
   ]
  },
  {
   "cell_type": "code",
   "execution_count": null,
   "id": "9b556448-4ad5-43bb-bc8e-137babcb755f",
   "metadata": {},
   "outputs": [],
   "source": [
    "# #8. Develop a program that determines the largest of three given numbers using␣ ↪if-else statements."
   ]
  },
  {
   "cell_type": "code",
   "execution_count": 22,
   "id": "2b22d272-60dc-4c0d-aeec-f4e6bd9c44f1",
   "metadata": {},
   "outputs": [
    {
     "name": "stdout",
     "output_type": "stream",
     "text": [
      "largest number is 30\n"
     ]
    }
   ],
   "source": [
    "num1=10\n",
    "num2=20\n",
    "num3=30\n",
    "if (num1>=num2) and (num1>=num3):\n",
    "    largest=num1\n",
    "    print(\"largest number is\",largest)\n",
    "elif (num2>=num1) and (num2>=num3):\n",
    "    largest=num2\n",
    "    print(\"largest number is\",largest)\n",
    "else:\n",
    "    largest=num3\n",
    "    print(\"largest number is\",largest)"
   ]
  },
  {
   "cell_type": "code",
   "execution_count": null,
   "id": "9100ba73-7c26-494d-a780-f496d4219f66",
   "metadata": {},
   "outputs": [],
   "source": [
    "#9. Create a program that checks if a given string is a palindrome."
   ]
  },
  {
   "cell_type": "code",
   "execution_count": 23,
   "id": "7f5d8a85-f6a6-4fc5-8672-f87206e55c9f",
   "metadata": {},
   "outputs": [
    {
     "name": "stdout",
     "output_type": "stream",
     "text": [
      "given string is not palindrom\n"
     ]
    }
   ],
   "source": [
    "s = 'vish'\n",
    "s1 ='hsiv'\n",
    "if s == s1:\n",
    "    print('given string is palindrom')\n",
    "else:\n",
    "    print('given string is not palindrom')"
   ]
  },
  {
   "cell_type": "code",
   "execution_count": null,
   "id": "fd123005-9651-48c3-910a-1c78437e1542",
   "metadata": {},
   "outputs": [],
   "source": [
    "#10. Write a Python program to calculate the grade based on a student's score."
   ]
  },
  {
   "cell_type": "code",
   "execution_count": 24,
   "id": "e89b8689-2ab3-4f14-9316-2d5c10745d64",
   "metadata": {},
   "outputs": [
    {
     "name": "stdin",
     "output_type": "stream",
     "text": [
      "enter the score 30\n",
      "enter the score 50\n"
     ]
    },
    {
     "name": "stdout",
     "output_type": "stream",
     "text": [
      "good score with grade b+\n"
     ]
    }
   ],
   "source": [
    "student1 = int(input('enter the score'))\n",
    "student2 = int(input('enter the score'))\n",
    "if student1 >=90:\n",
    "    print('excellent score with grade +a')\n",
    "elif student2 <=90:\n",
    "    print('good score with grade b+')\n",
    "else:\n",
    "    print('score is not given')"
   ]
  },
  {
   "cell_type": "code",
   "execution_count": null,
   "id": "e52c88b5-ecdd-41d5-8bc9-c8121bab51f2",
   "metadata": {},
   "outputs": [],
   "source": [
    "                           #NESTED IF-ELSE"
   ]
  },
  {
   "cell_type": "code",
   "execution_count": null,
   "id": "53e572c1-66bb-46ff-965a-d3c253455166",
   "metadata": {},
   "outputs": [],
   "source": [
    "##11. Write a program to find the largest among three numbers using nested␣ ↪if-else statements."
   ]
  },
  {
   "cell_type": "code",
   "execution_count": 25,
   "id": "68a2db3e-1c97-46b1-ba47-3c1673e6128c",
   "metadata": {},
   "outputs": [
    {
     "name": "stdout",
     "output_type": "stream",
     "text": [
      "largest number is 30\n"
     ]
    }
   ],
   "source": [
    "num1=10\n",
    "num2=20\n",
    "num3=30\n",
    "if (num1>=num2) and (num1>=num3):\n",
    "    largest=num1\n",
    "    print(\"largest number is\",largest)\n",
    "elif (num2>=num1) and (num2>=num3):\n",
    "    largest=num2\n",
    "    print(\"largest number is\",largest)\n",
    "else:\n",
    "    largest=num3\n",
    "    print(\"largest number is\",largest)"
   ]
  },
  {
   "cell_type": "code",
   "execution_count": null,
   "id": "bd98e971-d744-4561-8984-e7e12621c581",
   "metadata": {},
   "outputs": [],
   "source": [
    "# #12. Implement a program to determine if a triangle is equilateral, isosceles,␣ ↪or scalene."
   ]
  },
  {
   "cell_type": "code",
   "execution_count": 26,
   "id": "436d564a-a8c6-4b1e-81b4-bd4832f9c410",
   "metadata": {},
   "outputs": [
    {
     "name": "stdin",
     "output_type": "stream",
     "text": [
      "enter the side of tringle 3\n",
      "enter the side of tringle 4\n",
      "enter the side of tringle 2\n"
     ]
    },
    {
     "name": "stdout",
     "output_type": "stream",
     "text": [
      "given triangle is scalene triangle\n"
     ]
    }
   ],
   "source": [
    "side1 = int(input('enter the side of tringle'))\n",
    "side2 = int(input('enter the side of tringle'))\n",
    "side3 = int(input('enter the side of tringle'))\n",
    "if side1 == side2 == side3:\n",
    "    print('given triangle is equilateral triangle')\n",
    "elif side1 == side2 != side3:\n",
    "    print('given triangle is isoceles triangle')\n",
    "elif side1 != side2 != side3:\n",
    "    print('given triangle is scalene triangle')"
   ]
  },
  {
   "cell_type": "code",
   "execution_count": null,
   "id": "dded3585-2aa1-42e3-a810-50fcb350e4fc",
   "metadata": {},
   "outputs": [],
   "source": [
    "#"
   ]
  },
  {
   "cell_type": "code",
   "execution_count": 27,
   "id": "9ff85422-2dbd-4c93-a923-f05d2bbbce13",
   "metadata": {},
   "outputs": [
    {
     "name": "stdin",
     "output_type": "stream",
     "text": [
      "enter an year 4\n",
      "enter an year 5\n"
     ]
    },
    {
     "name": "stdout",
     "output_type": "stream",
     "text": [
      "4 is a leap year\n"
     ]
    }
   ],
   "source": [
    "year1 = int(input('enter an year'))\n",
    "year2 = int(input('enter an year'))\n",
    "# To get year (integer input) from the user\n",
    "# year = int(input(\"Enter a year: \"))\n",
    "# divided by 100 means century year (ending with 00)\n",
    "# century year divided by 400 is leap year\n",
    "if (year % 400 == 0) and (year % 100 == 0):\n",
    "    print(\"{0} is a leap year\".format(year))\n",
    "# not divided by 100 means not a century year\n",
    "# year divided by 4 is a leap year\n",
    "elif (year % 4 ==0) and (year2 % 100 != 0):\n",
    "    print(\"{0} is a leap year\".format(year))\n",
    "# if not divided by both 400 (century year) and 4 (not century year)\n",
    "# year is not leap year\n",
    "else:\n",
    "    print(\"{0} is not a leap year\".format(year))"
   ]
  },
  {
   "cell_type": "code",
   "execution_count": null,
   "id": "c456a3b2-cd84-4fd1-b92a-736987abb22b",
   "metadata": {},
   "outputs": [],
   "source": [
    "# #14. Write a Python script to determine if a number is positive, negative, or␣↪zero."
   ]
  },
  {
   "cell_type": "code",
   "execution_count": 29,
   "id": "4886e0b1-1257-41fd-8349-cd1edfd75275",
   "metadata": {
    "jp-MarkdownHeadingCollapsed": true,
    "tags": []
   },
   "outputs": [
    {
     "name": "stdin",
     "output_type": "stream",
     "text": [
      "enter a number 45\n"
     ]
    },
    {
     "name": "stdout",
     "output_type": "stream",
     "text": [
      "the number is positive\n"
     ]
    }
   ],
   "source": [
    " num = int(input('enter a number'))\n",
    "if num<=0:\n",
    "    print(' the number is negative ')\n",
    "elif num>=0:\n",
    "    print('the number is positive')\n",
    "elif num == 0:\n",
    "    print('the number is zero')"
   ]
  },
  {
   "cell_type": "code",
   "execution_count": null,
   "id": "8b2fdf90-79ef-4dbd-8757-35c920504c66",
   "metadata": {},
   "outputs": [],
   "source": [
    "# #15. Create a program to check if a person is a teenager (between 13 and 19␣ ↪years old)."
   ]
  },
  {
   "cell_type": "code",
   "execution_count": 30,
   "id": "edbaa982-1602-4b28-9114-03c67c68bd90",
   "metadata": {},
   "outputs": [
    {
     "name": "stdin",
     "output_type": "stream",
     "text": [
      " enter the age of person 45\n"
     ]
    }
   ],
   "source": [
    "age = int(input(' enter the age of person'))\n",
    "if 1<=age<=6 :\n",
    "    print(' the person is baby')\n",
    "elif 6<=age<=12:\n",
    "    print(' the person is middle age')\n",
    "elif 13<=age<=19:\n",
    "    print('the person is teenager')\n",
    "elif 19<=age<=23:\n",
    "    print('the person is adult')"
   ]
  },
  {
   "cell_type": "code",
   "execution_count": null,
   "id": "57c6c1b3-cebd-41f1-b49b-590db237dec1",
   "metadata": {},
   "outputs": [],
   "source": [
    "# #16. Develop a program that determines the type of angle based on its measure ↪(acute, obtuse, or right)."
   ]
  },
  {
   "cell_type": "code",
   "execution_count": 31,
   "id": "1fb351e0-c8ed-431a-b48b-f161b0a50c5f",
   "metadata": {},
   "outputs": [
    {
     "name": "stdin",
     "output_type": "stream",
     "text": [
      "enter an angle 30\n"
     ]
    },
    {
     "name": "stdout",
     "output_type": "stream",
     "text": [
      "the angle is acute\n"
     ]
    }
   ],
   "source": [
    "angle = int(input('enter an angle'))\n",
    "if angle <= 90:\n",
    "    print('the angle is acute')\n",
    "elif 90<=angle<=180 :\n",
    "    print('the angle is obtuse')\n",
    "elif angle == 90:\n",
    "    print('the angle is right angle')"
   ]
  },
  {
   "cell_type": "code",
   "execution_count": null,
   "id": "19dc9a22-b92d-48a7-84c4-be596c7808d6",
   "metadata": {},
   "outputs": [],
   "source": [
    "# #17. Write a Python program to calculate the roots of a quadratic equation."
   ]
  },
  {
   "cell_type": "code",
   "execution_count": 32,
   "id": "fcfb0ed4-4ce8-4981-ae6a-f2feb4aad5ab",
   "metadata": {},
   "outputs": [
    {
     "name": "stdout",
     "output_type": "stream",
     "text": [
      "Quadratic function : (a * x^2) + b*x + c\n"
     ]
    },
    {
     "name": "stdin",
     "output_type": "stream",
     "text": [
      "Enter the a Number : 4\n",
      "Enter the b Number : 6\n",
      "Enter the c Number : 9\n"
     ]
    },
    {
     "name": "stdout",
     "output_type": "stream",
     "text": [
      "No roots\n"
     ]
    }
   ],
   "source": [
    "from math import sqrt\n",
    "print(\"Quadratic function : (a * x^2) + b*x + c\")\n",
    "a = float(input(\"Enter the a Number :\"))\n",
    "b = float(input(\"Enter the b Number :\"))\n",
    "c = float(input(\"Enter the c Number :\"))\n",
    "r = b**2 - 4*a*c\n",
    "if( r > 0):\n",
    "    num_roots = 2\n",
    "    x1 = (((-b) + sqrt(r))/(2*a))\n",
    "    x2 = (((-b) - sqrt(r))/(2*a))\n",
    "    print(\"There are Two Roots: \",x1, \"and\",x2)\n",
    "elif(r == 0):\n",
    "    num_roots = 1\n",
    "    x = (-b) / 2*a\n",
    "    print(\"There is one Root: \", x)\n",
    "else:\n",
    "    num_roots = 0\n",
    "    print(\"No roots\")\n",
    "exit()"
   ]
  },
  {
   "cell_type": "code",
   "execution_count": 27,
   "id": "2ad360ef-665f-4b3e-88d0-9811fe45be97",
   "metadata": {},
   "outputs": [
    {
     "name": "stdin",
     "output_type": "stream",
     "text": [
      "enter a number 6\n"
     ]
    },
    {
     "name": "stdout",
     "output_type": "stream",
     "text": [
      "saturday\n"
     ]
    }
   ],
   "source": [
    "#18. Implement a program to determine the day of the week based on a␣ ↪user-provided number (1 for Monday, 2for Tuesday, etc.).\n",
    "num = int(input('enter a number'))\n",
    "if num == 1:\n",
    "    print('monday')\n",
    "elif num == 2:\n",
    "    print('tuesday')\n",
    "elif num == 3:\n",
    "    print('wednesday')\n",
    "elif num == 4:\n",
    "    print('thursday')\n",
    "elif num == 5:\n",
    "    print('friday')\n",
    "elif num == 6:\n",
    "    print('saturday')\n",
    "elif num == 7:\n",
    "    print('sunday')"
   ]
  },
  {
   "cell_type": "code",
   "execution_count": 8,
   "id": "9779cf94-de33-481c-82b2-ee3d0f918dc8",
   "metadata": {},
   "outputs": [
    {
     "name": "stdin",
     "output_type": "stream",
     "text": [
      "enter a number 23\n"
     ]
    }
   ],
   "source": [
    "#18. Implement a program to determine the day of the week based on a␣ ↪user-provided number (1 for Monday, 2for Tuesday, etc.).\n",
    "num = int(input('enter a number'))\n",
    "if num == 1:\n",
    "    print('monday')\n",
    "elif num == 2:\n",
    "    print('tuesday')\n",
    "elif num == 3:\n",
    "    print('wednesday')\n",
    "elif num == 4:\n",
    "\n",
    "    print('thursday')\n",
    "elif num == 5:\n",
    "    print('friday')\n",
    "elif num == 6:\n",
    "    print('saturday')\n",
    "elif num == 7:\n",
    "    print('sunday')"
   ]
  },
  {
   "cell_type": "code",
   "execution_count": 11,
   "id": "2dccc869-de1f-42c2-9f8c-2b785a5b63cf",
   "metadata": {},
   "outputs": [
    {
     "name": "stdout",
     "output_type": "stream",
     "text": [
      "2000 is a leap year\n"
     ]
    }
   ],
   "source": [
    "#19. Create a program that determines if a year is a leap year and also if it␣ ↪is evenly divisible by 400.\n",
    "year = 2000\n",
    "# To get year (integer input) from the user\n",
    "# year = int(input(\"Enter a year: \"))\n",
    "# divided by 100 means century year (ending with 00)\n",
    "# century year divided by 400 is leap year\n",
    "if (year % 400 == 0) and (year % 100 == 0):\n",
    "    print(\"{0} is a leap year\".format(year))\n",
    "# not divided by 100 means not a century year\n",
    "# year divided by 4 is a leap year\n",
    "elif (year % 4 ==0) and (year % 100 != 0):\n",
    "    print(\"{0} is a leap year\".format(year))\n",
    "# if not divided by both 400 (century year) and 4 (not century year)\n",
    "# year is not leap year\n",
    "else:\n",
    "    print(\"{0} is not a leap year\".format(year))"
   ]
  },
  {
   "cell_type": "code",
   "execution_count": null,
   "id": "1375163f-f0b0-42d6-9117-cd6657864a4c",
   "metadata": {},
   "outputs": [],
   "source": [
    "#20. Develop a program that checks if a given number is prime or not using␣nested if-else statements."
   ]
  },
  {
   "cell_type": "code",
   "execution_count": 26,
   "id": "75a2918e-40cc-4cd0-8f5a-2d7ab75742b8",
   "metadata": {},
   "outputs": [
    {
     "name": "stdin",
     "output_type": "stream",
     "text": [
      "enter a number 34\n"
     ]
    },
    {
     "name": "stdout",
     "output_type": "stream",
     "text": [
      "34 is not a prime number\n"
     ]
    }
   ],
   "source": [
    "num = int(input('enter a number'))\n",
    "if num > 1:\n",
    "    for i in range(2, int(num/2)+1):\n",
    "        if (num % i) == 0:\n",
    "            print(num, \"is not a prime number\")\n",
    "            break\n",
    "    else:\n",
    "        print(num, \"is a prime number\")\n",
    "else:\n",
    "    print(num, \"is not a prime number\")\n",
    "\n"
   ]
  },
  {
   "cell_type": "code",
   "execution_count": null,
   "id": "239d54ac-3f5b-490b-8150-f514b0846785",
   "metadata": {},
   "outputs": [],
   "source": []
  },
  {
   "cell_type": "code",
   "execution_count": null,
   "id": "27c735b0-2214-440e-a3a9-01c9b0151bf4",
   "metadata": {},
   "outputs": [],
   "source": []
  },
  {
   "cell_type": "code",
   "execution_count": 21,
   "id": "bcd5c606-9cd9-4135-9cdc-b92521105f49",
   "metadata": {},
   "outputs": [
    {
     "name": "stdin",
     "output_type": "stream",
     "text": [
      " enter a grade  50\n"
     ]
    },
    {
     "name": "stdout",
     "output_type": "stream",
     "text": [
      "D\n"
     ]
    }
   ],
   "source": [
    "# #21. Write a Python program to assign grades based on different ranges of scores using elif statements\n",
    "grade = int(input(' enter a numbeer '))\n",
    "if 10<=grade<=30:\n",
    "    print('F')\n",
    "elif 30<=grade<=40:\n",
    "    print('E')\n",
    "elif 40<=grade<=50:\n",
    "     print('D')\n",
    "elif 50<=grade<=60:\n",
    "    print('c')\n",
    "elif 60<=grade<=70:\n",
    "    print('b')\n",
    "elif 70<=grade<=80:\n",
    "    print('+B')\n",
    "elif 80<=grade<=90:\n",
    "    print('A')\n",
    "elif 90<=grade<=100:\n",
    "    print('+A')"
   ]
  },
  {
   "cell_type": "code",
   "execution_count": 22,
   "id": "50153dd0-c1bf-4433-bd29-2f1758fd902a",
   "metadata": {},
   "outputs": [
    {
     "name": "stdin",
     "output_type": "stream",
     "text": [
      "enter the side of tringle 3\n",
      "enter the side of tringle 4\n",
      "enter the side of tringle 7\n"
     ]
    },
    {
     "name": "stdout",
     "output_type": "stream",
     "text": [
      "given triangle is scalene triangle\n"
     ]
    }
   ],
   "source": [
    "#22. Implement a program to determine the type of a triangle based on its angles.\n",
    "side1 = int(input('enter the side of tringle'))\n",
    "side2 = int(input('enter the side of tringle'))\n",
    "side3 = int(input('enter the side of tringle'))\n",
    "if side1 == side2 == side3:\n",
    "    print('given triangle is equilateral triangle')\n",
    "elif side1 == side2 != side3:\n",
    "    print('given triangle is isoceles triangle')\n",
    "elif side1 != side2 != side3:\n",
    "    print('given triangle is scalene triangle')"
   ]
  },
  {
   "cell_type": "code",
   "execution_count": 23,
   "id": "f8c3bb5d-8c2b-4eaa-9b06-d6613708badc",
   "metadata": {},
   "outputs": [
    {
     "name": "stdin",
     "output_type": "stream",
     "text": [
      "enter a bmi of a person 19\n"
     ]
    },
    {
     "name": "stdout",
     "output_type": "stream",
     "text": [
      "normal\n"
     ]
    }
   ],
   "source": [
    "#23. Develop a program to categorize a given person's BMI into underweight, normal, overweight, or obese usingelif statements.\n",
    "bmi = float(input('enter a bmi of a person'))\n",
    "if bmi<18.5:\n",
    "    print ('underweight')\n",
    "elif 18.5<=bmi<=24.9:\n",
    "    print('normal')\n",
    "elif 24.9<=bmi<=29.9:\n",
    "    print('overweight')\n",
    "elif bmi>=30.1:\n",
    "    print('obesty')"
   ]
  },
  {
   "cell_type": "code",
   "execution_count": 25,
   "id": "95bbcdf5-853b-4f9c-9b3c-3ac4126e0b86",
   "metadata": {},
   "outputs": [
    {
     "name": "stdin",
     "output_type": "stream",
     "text": [
      "enter a number 34\n"
     ]
    },
    {
     "name": "stdout",
     "output_type": "stream",
     "text": [
      "the number is positive\n"
     ]
    }
   ],
   "source": [
    "#24. Create a program that determines whether a given number is positive,negative, or zero using elifstatements.\n",
    "num = int(input('enter a number'))\n",
    "if num<=0:\n",
    "    print(' the number is negative ')\n",
    "elif num>=0:\n",
    "    print('the number is positive')\n",
    "elif num == 0:\n",
    "    print('the number is zero')"
   ]
  },
  {
   "cell_type": "code",
   "execution_count": null,
   "id": "df8d53c7-f4a8-46ef-ab4c-43b106c365e4",
   "metadata": {},
   "outputs": [],
   "source": [
    "#25. Write a Python script to determine the type of a character (uppercase,lowercase, or special) using elifstatements"
   ]
  },
  {
   "cell_type": "code",
   "execution_count": 18,
   "id": "2a688ad7-ba34-4e43-b91e-f91d571c2487",
   "metadata": {},
   "outputs": [
    {
     "name": "stdout",
     "output_type": "stream",
     "text": [
      "Original String :  The quick Brown Fox\n",
      "No. of Upper case characters :  1\n",
      "No. of Lower case Characters :  0\n",
      "Original String :  The quick Brown Fox\n",
      "No. of Upper case characters :  1\n",
      "No. of Lower case Characters :  1\n",
      "Original String :  The quick Brown Fox\n",
      "No. of Upper case characters :  1\n",
      "No. of Lower case Characters :  2\n",
      "Original String :  The quick Brown Fox\n",
      "No. of Upper case characters :  1\n",
      "No. of Lower case Characters :  2\n",
      "Original String :  The quick Brown Fox\n",
      "No. of Upper case characters :  1\n",
      "No. of Lower case Characters :  3\n",
      "Original String :  The quick Brown Fox\n",
      "No. of Upper case characters :  1\n",
      "No. of Lower case Characters :  4\n",
      "Original String :  The quick Brown Fox\n",
      "No. of Upper case characters :  1\n",
      "No. of Lower case Characters :  5\n",
      "Original String :  The quick Brown Fox\n",
      "No. of Upper case characters :  1\n",
      "No. of Lower case Characters :  6\n",
      "Original String :  The quick Brown Fox\n",
      "No. of Upper case characters :  1\n",
      "No. of Lower case Characters :  7\n",
      "Original String :  The quick Brown Fox\n",
      "No. of Upper case characters :  1\n",
      "No. of Lower case Characters :  7\n",
      "Original String :  The quick Brown Fox\n",
      "No. of Upper case characters :  2\n",
      "No. of Lower case Characters :  7\n",
      "Original String :  The quick Brown Fox\n",
      "No. of Upper case characters :  2\n",
      "No. of Lower case Characters :  8\n",
      "Original String :  The quick Brown Fox\n",
      "No. of Upper case characters :  2\n",
      "No. of Lower case Characters :  9\n",
      "Original String :  The quick Brown Fox\n",
      "No. of Upper case characters :  2\n",
      "No. of Lower case Characters :  10\n",
      "Original String :  The quick Brown Fox\n",
      "No. of Upper case characters :  2\n",
      "No. of Lower case Characters :  11\n",
      "Original String :  The quick Brown Fox\n",
      "No. of Upper case characters :  2\n",
      "No. of Lower case Characters :  11\n",
      "Original String :  The quick Brown Fox\n",
      "No. of Upper case characters :  3\n",
      "No. of Lower case Characters :  11\n",
      "Original String :  The quick Brown Fox\n",
      "No. of Upper case characters :  3\n",
      "No. of Lower case Characters :  12\n",
      "Original String :  The quick Brown Fox\n",
      "No. of Upper case characters :  3\n",
      "No. of Lower case Characters :  13\n"
     ]
    }
   ],
   "source": [
    "def string_test(s):\n",
    "    d={\"UPPER_CASE\":0, \"LOWER_CASE\":0}\n",
    "    for c in s:\n",
    "        if c.isupper():\n",
    "            d[\"UPPER_CASE\"]+=1\n",
    "        elif c.islower():\n",
    "            d[\"LOWER_CASE\"]+=1\n",
    "        else:\n",
    "            pass\n",
    "        print (\"Original String : \", s)\n",
    "        print (\"No. of Upper case characters : \", d[\"UPPER_CASE\"])\n",
    "        print (\"No. of Lower case Characters : \", d[\"LOWER_CASE\"])\n",
    "string_test('The quick Brown Fox')\n",
    "                "
   ]
  },
  {
   "cell_type": "code",
   "execution_count": 39,
   "id": "274919d3-592f-476f-9905-c4080eda32db",
   "metadata": {},
   "outputs": [
    {
     "name": "stdin",
     "output_type": "stream",
     "text": [
      " enter an amount 5\n"
     ]
    },
    {
     "name": "stdout",
     "output_type": "stream",
     "text": [
      "you won discounted price of 2 rupees\n"
     ]
    }
   ],
   "source": [
    "#26. Implement a program to calculate the discounted price based on different purchase amounts using elifstatements.\n",
    "amount = int(input(' enter an amount'))\n",
    "if amount >= 500:\n",
    "    print('you won discounted price of 40 rupees')\n",
    "elif 400<=amount<=500:\n",
    "    print('you won discounted price of 10 rupees')\n",
    "elif 100<=amount<=400:\n",
    "    print('you won discounted price of 5 rupees')\n",
    "elif 5<= amount<=400:\n",
    "    print('you won discounted price of 2 rupees')\n"
   ]
  },
  {
   "cell_type": "code",
   "execution_count": 41,
   "id": "8bf6d93b-bb89-4da0-b80f-19fecd2b5ec2",
   "metadata": {},
   "outputs": [
    {
     "name": "stdin",
     "output_type": "stream",
     "text": [
      "Enter your unit:  1\n"
     ]
    }
   ],
   "source": [
    "#27. Develop a program to calculate the electricity bill based on different␣consumption slabs using elifstatements.\n",
    "unit = int(input(\"Enter your unit: \"))\n",
    "if unit <= 100:\n",
    "    bill = unit * 3.46\n",
    "elif unit >= 101 and unit <= 300:\n",
    "    bill = 346 + ((unit - 100) * 7.43)\n",
    "elif unit >= 301 and unit <= 500:\n",
    "    bill = 346 + 1486 + ((unit - 300) * 10.32)\n",
    "else:\n",
    "    bill = 346 + 1486 + 2064 + ((unit - 500) * 11.71)\n",
    "    print(\"Bill Per Unit:\",bill)\n",
    "    bill = bill + (unit*1.45)\n",
    "    print(\"Bill after adding Line rent:\",bill)\n",
    "    bill = bill + 100\n",
    "    print(\"Bill after adding Meter rent:\",bill)\n",
    "    bill = bill + (bill*0.16)\n",
    "    print(\"Total Bill after adding tax:\",bill)"
   ]
  },
  {
   "cell_type": "code",
   "execution_count": 42,
   "id": "8623f051-0070-4eba-997c-d626db496115",
   "metadata": {},
   "outputs": [
    {
     "name": "stdout",
     "output_type": "stream",
     "text": [
      "Input lengths of the triangle sides: \n"
     ]
    },
    {
     "name": "stdin",
     "output_type": "stream",
     "text": [
      "x:  3\n",
      "y:  4\n",
      "z:  5\n"
     ]
    },
    {
     "name": "stdout",
     "output_type": "stream",
     "text": [
      "Scalene triangle\n"
     ]
    }
   ],
   "source": [
    "#28. Create a program to determine the type of quadrilateral based on its␣angles and sides using elif statements.\n",
    "print(\"Input lengths of the triangle sides: \")\n",
    "x = int(input(\"x: \"))\n",
    "y = int(input(\"y: \"))\n",
    "z = int(input(\"z: \"))\n",
    "if x == y == z:\n",
    "    print(\"Equilateral triangle\")\n",
    "elif x==y or y==z or z==x:\n",
    "    print(\"isosceles triangle\")\n",
    "else:\n",
    "    print(\"Scalene triangle\")"
   ]
  },
  {
   "cell_type": "code",
   "execution_count": 44,
   "id": "d4f9e83b-5057-41ee-8bbb-6e97f373b308",
   "metadata": {},
   "outputs": [
    {
     "name": "stdin",
     "output_type": "stream",
     "text": [
      "Input the month (e.g. January, February etc.):  march\n",
      "Input the day:  8\n"
     ]
    },
    {
     "name": "stdout",
     "output_type": "stream",
     "text": [
      "Season is autumn\n"
     ]
    }
   ],
   "source": [
    "month = input(\"Input the month (e.g. January, February etc.): \")\n",
    "day = int(input(\"Input the day: \"))\n",
    "if month in ('January', 'February', 'March'):\n",
    "    season = 'winter'\n",
    "elif month in ('April', 'May', 'June'):\n",
    "    season = 'spring'\n",
    "elif month in ('July', 'August', 'September'):\n",
    "    season = 'summer'\n",
    "else:\n",
    "    season = 'autumn'\n",
    "if (month == 'March') and (day > 19):\n",
    "    season = 'spring'\n",
    "elif (month == 'June') and (day > 20):\n",
    "    season = 'summer'\n",
    "elif (month == 'September') and (day > 21):\n",
    "    season = 'autumn'\n",
    "elif (month == 'December') and (day > 20):\n",
    "    season = 'winter'\n",
    "print(\"Season is\",season)"
   ]
  },
  {
   "cell_type": "code",
   "execution_count": 46,
   "id": "88c1a3fd-ac77-438f-9407-d58511fb951c",
   "metadata": {},
   "outputs": [
    {
     "name": "stdout",
     "output_type": "stream",
     "text": [
      "Number of days is 31\n"
     ]
    }
   ],
   "source": [
    "#30. Implement a program to determine the type of a year (leap or common) and␣month (30 or 31 days) usingelif statements.\n",
    "month = 12\n",
    "year=2012\n",
    "if((month==2) and ((year%4==0) or ((year%100==0) and (year%400==0)))) :\n",
    "    print(\"Number of days is 29\");\n",
    "elif(month==2) :\n",
    "    print(\"Number of days is 28\");\n",
    "elif(month==1 or month==3 or month==5 or month==7 or month==8 or month==10 or month==12) :\n",
    "    print(\"Number of days is 31\");\n",
    "else :\n",
    "    print(\"Number of days is 30\");"
   ]
  },
  {
   "cell_type": "code",
   "execution_count": 47,
   "id": "72cd931a-a398-4d5a-858c-038b5abbdb0d",
   "metadata": {},
   "outputs": [
    {
     "name": "stdin",
     "output_type": "stream",
     "text": [
      "Enter a number:  34\n"
     ]
    },
    {
     "name": "stdout",
     "output_type": "stream",
     "text": [
      "Positive number\n"
     ]
    }
   ],
   "source": [
    "#1. Write a Python program that checks if a given number is positive, negative,or zero.\n",
    "num = float(input(\"Enter a number: \"))\n",
    "if num > 0:\n",
    "    print(\"Positive number\")\n",
    "elif num == 0:\n",
    "    print(\"Zero\")\n",
    "else:\n",
    "    print(\"Negative number\")"
   ]
  },
  {
   "cell_type": "code",
   "execution_count": 48,
   "id": "6ebe3781-a8bb-45b6-8434-ce66f268c2a8",
   "metadata": {},
   "outputs": [
    {
     "name": "stdin",
     "output_type": "stream",
     "text": [
      "Enter age :  34\n"
     ]
    },
    {
     "name": "stdout",
     "output_type": "stream",
     "text": [
      "Eligible for Voting!\n"
     ]
    }
   ],
   "source": [
    "#2. Create a program to determine if a person is eligible to vote based on␣their age.\n",
    "age = int(input(\"Enter age : \"))\n",
    "if age >= 18:\n",
    "    print(\"Eligible for Voting!\")\n",
    "else:\n",
    "    print(\"Not Eligible for Voting!\")"
   ]
  },
  {
   "cell_type": "code",
   "execution_count": 50,
   "id": "da840240-c734-4a9d-be1f-792e1c4dfbb4",
   "metadata": {},
   "outputs": [
    {
     "name": "stdout",
     "output_type": "stream",
     "text": [
      "4\n"
     ]
    }
   ],
   "source": [
    "#3. Write a program to find the maximum of two given numbers using conditional␣statements.\n",
    "def maximum(a, b):\n",
    "    if a >= b:\n",
    "        return a\n",
    "    else:\n",
    "        return b\n",
    "# Driver code\n",
    "a = 2\n",
    "b = 4\n",
    "print(maximum(a, b))"
   ]
  },
  {
   "cell_type": "code",
   "execution_count": 7,
   "id": "32fc8d8e-3128-4d3e-8946-9052e7f1c66a",
   "metadata": {},
   "outputs": [
    {
     "name": "stdout",
     "output_type": "stream",
     "text": [
      "Enter Marks Obtained in 5 Subjects: \n",
      "Your Grade is B1\n"
     ]
    }
   ],
   "source": [
    "#4. Develop a program that calculates the grade of a student based on their␣exam score.\n",
    "\n",
    "print(\"Enter Marks Obtained in 5 Subjects: \")\n",
    "total1 = 44\n",
    "total2 = 67\n",
    "total3 = 76\n",
    "total4 = 99\n",
    "total5 = 58\n",
    "tot = total1 + total2 + total3 + total4 + total4\n",
    "avg = tot / 5\n",
    "if avg >= 91 and avg <= 100:\n",
    "    print(\"Your Grade is A1\")\n",
    "elif avg >= 81 and avg < 91:\n",
    "    print(\"Your Grade is A2\")\n",
    "elif avg >= 71 and avg < 81:\n",
    "    print(\"Your Grade is B1\")\n",
    "elif avg >= 61 and avg < 71:\n",
    "    print(\"Your Grade is B2\")\n",
    "elif avg >= 51 and avg < 61:\n",
    "    print(\"Your Grade is C1\")\n",
    "elif avg >= 41 and avg < 51:\n",
    "    print(\"Your Grade is C2\")\n",
    "elif avg >= 33 and avg < 41:\n",
    "    print(\"Your Grade is D\")\n",
    "elif avg >= 21 and avg < 33:\n",
    "    print(\"Your Grade is E1\")\n",
    "elif avg >= 0 and avg < 21:\n",
    "    print(\"Your Grade is E2\")\n",
    "else:\n",
    "    print(\"Invalid Input!\")\n",
    "   \n"
   ]
  },
  {
   "cell_type": "code",
   "execution_count": 53,
   "id": "64342bcd-a7a6-4202-b436-fc4cb9e45c44",
   "metadata": {},
   "outputs": [
    {
     "name": "stdout",
     "output_type": "stream",
     "text": [
      "2000 is a leap year\n"
     ]
    }
   ],
   "source": [
    "#5. Create a program that checks if a year is a leap year or not.\n",
    "year = 2000\n",
    "# To get year (integer input) from the user\n",
    "# year = int(input(\"Enter a year: \"))\n",
    "# divided by 100 means century year (ending with 00)\n",
    "# century year divided by 400 is leap year\n",
    "if (year % 400 == 0) and (year % 100 == 0):\n",
    "    print(\"{0} is a leap year\".format(year))\n",
    "# not divided by 100 means not a century year\n",
    "# year divided by 4 is a leap year\n",
    "elif (year % 4 ==0) and (year % 100 != 0):\n",
    "    print(\"{0} is a leap year\".format(year))\n",
    "# if not divided by both 400 (century year) and 4 (not century year)\n",
    "# year is not leap year\n",
    "else:\n",
    "    print(\"{0} is not a leap year\".format(year))\n"
   ]
  },
  {
   "cell_type": "code",
   "execution_count": 54,
   "id": "8c7585a2-93ae-4d42-8fe9-fb1d8b4ea2b8",
   "metadata": {},
   "outputs": [
    {
     "name": "stdin",
     "output_type": "stream",
     "text": [
      "enter the side of tringle 3\n",
      "enter the side of tringle 4\n",
      "enter the side of tringle 5\n"
     ]
    },
    {
     "name": "stdout",
     "output_type": "stream",
     "text": [
      "given triangle is scalene triangle\n"
     ]
    }
   ],
   "source": [
    "#6. Write a program to classify a triangle based on its sides' lengths.\n",
    "side1 = int(input('enter the side of tringle'))\n",
    "side2 = int(input('enter the side of tringle'))\n",
    "side3 = int(input('enter the side of tringle'))\n",
    "if side1 == side2 == side3:\n",
    "    print('given triangle is equilateral triangle')\n",
    "elif side1 == side2 != side3:\n",
    "    print('given triangle is isoceles triangle')\n",
    "elif side1 != side2 != side3:\n",
    "    print('given triangle is scalene triangle')"
   ]
  },
  {
   "cell_type": "code",
   "execution_count": 56,
   "id": "b64112c9-c045-4293-8496-7d7588d55c2e",
   "metadata": {},
   "outputs": [
    {
     "name": "stdout",
     "output_type": "stream",
     "text": [
      "largest number is 30\n"
     ]
    }
   ],
   "source": [
    "#7. Build a program that determines the largest of three given numbers.\n",
    "num1=10\n",
    "num2=20\n",
    "num3=30\n",
    "if (num1>=num2) and (num1>=num3):\n",
    "    largest=num1\n",
    "    print(\"largest number is\",largest)\n",
    "elif (num2>=num1) and (num2>=num3):\n",
    "    largest=num2\n",
    "    print(\"largest number is\",largest)\n",
    "else:\n",
    "    largest=num3\n",
    "    print(\"largest number is\",largest)"
   ]
  },
  {
   "cell_type": "code",
   "execution_count": 57,
   "id": "8e4462c7-2859-4924-9621-31309ad7d444",
   "metadata": {},
   "outputs": [
    {
     "name": "stdin",
     "output_type": "stream",
     "text": [
      "enter an character kalka\n"
     ]
    },
    {
     "name": "stdout",
     "output_type": "stream",
     "text": [
      "kalka is a consonant\n"
     ]
    }
   ],
   "source": [
    "#8. Develop a program that checks whether a character is a vowel or a consonant.\n",
    "c = input('enter an character')\n",
    "# checking for vowels\n",
    "if c == 'a' or c == 'e' or c == 'i' or c == 'o' or c == 'u' or c == 'A' or c =='E' or c == 'I' or c == 'O' or c == 'U':\n",
    "    print(c, \"is a vowel\") # condition true input is vowel\n",
    "else:\n",
    "    print(c, \"is a consonant\") # condition true input is consona"
   ]
  },
  {
   "cell_type": "code",
   "execution_count": 58,
   "id": "9b23f2e8-4c18-406e-a95e-30bf10967e6b",
   "metadata": {},
   "outputs": [
    {
     "name": "stdout",
     "output_type": "stream",
     "text": [
      "How many drinks do you want?\n"
     ]
    },
    {
     "name": "stdin",
     "output_type": "stream",
     "text": [
      "Enter number:  67\n"
     ]
    },
    {
     "name": "stdout",
     "output_type": "stream",
     "text": [
      "That will be a total of:  67 rupees\n"
     ]
    }
   ],
   "source": [
    "#9. Create a program to calculate the total cost of a shopping cart based on␣discounts.\n",
    "print( \"How many drinks do you want?\" )\n",
    "drinks = input( \"Enter number: \")\n",
    "total = int(drinks)\n",
    "single = 2.25\n",
    "six = 10\n",
    "single * 6 == six\n",
    "if total > 20:\n",
    "    total * 0.75\n",
    "    print( \"That will be a total of: \", total, \"rupees\")"
   ]
  },
  {
   "cell_type": "code",
   "execution_count": 59,
   "id": "418bc52a-a86d-4c29-91c5-31ae9b28e510",
   "metadata": {},
   "outputs": [
    {
     "name": "stdin",
     "output_type": "stream",
     "text": [
      "enter an given number 56\n"
     ]
    },
    {
     "name": "stdout",
     "output_type": "stream",
     "text": [
      "given number is even number\n"
     ]
    }
   ],
   "source": [
    "#10. Write a program that checks if a given number is even or odd.\n",
    "num = int(input('enter an given number'))\n",
    "if num%2 == 0:\n",
    "    print('given number is even number')\n",
    "else:\n",
    "    print('given number is odd number')"
   ]
  },
  {
   "cell_type": "code",
   "execution_count": 60,
   "id": "0761540c-81aa-45aa-a21b-72a21d011d65",
   "metadata": {},
   "outputs": [
    {
     "name": "stdout",
     "output_type": "stream",
     "text": [
      "Quadratic function : (a * x^2) + b*x + c\n"
     ]
    },
    {
     "name": "stdin",
     "output_type": "stream",
     "text": [
      "Enter the a Number : 34\n",
      "Enter the b Number : 5\n",
      "Enter the c Number : 6\n"
     ]
    },
    {
     "name": "stdout",
     "output_type": "stream",
     "text": [
      "No roots\n"
     ]
    }
   ],
   "source": [
    "#11. Write a program that calculates the roots of a quadratic equation .\n",
    "from math import sqrt\n",
    "print(\"Quadratic function : (a * x^2) + b*x + c\")\n",
    "a = float(input(\"Enter the a Number :\"))\n",
    "b = float(input(\"Enter the b Number :\"))\n",
    "c = float(input(\"Enter the c Number :\"))\n",
    "r = b**2 - 4*a*c\n",
    "if( r > 0):\n",
    "    num_roots = 2\n",
    "    x1 = (((-b) + sqrt(r))/(2*a))\n",
    "    x2 = (((-b) - sqrt(r))/(2*a))\n",
    "    print(\"There are Two Roots: \",x1, \"and\",x2)\n",
    "elif(r == 0):\n",
    "    num_roots = 1\n",
    "    x = (-b) / 2*a\n",
    "    print(\"There is one Root: \", x)\n",
    "else:\n",
    "    num_roots = 0\n",
    "    print(\"No roots\")\n",
    "exit()\n"
   ]
  },
  {
   "cell_type": "code",
   "execution_count": 2,
   "id": "bbea2a1e-e037-4bd7-806b-1421bc0c5c4c",
   "metadata": {},
   "outputs": [
    {
     "name": "stdin",
     "output_type": "stream",
     "text": [
      "enter a number 4\n"
     ]
    },
    {
     "name": "stdout",
     "output_type": "stream",
     "text": [
      "thursday\n"
     ]
    }
   ],
   "source": [
    "# Write a Python program to determine the day of the week based on a user-provided number using if-else.\n",
    "num = int(input('enter a number'))\n",
    "if num == 1:\n",
    "    print('monday')\n",
    "elif num == 2:\n",
    "    print('tuesday')\n",
    "elif num == 3:\n",
    "    print('wednesday')\n",
    "elif num == 4:\n",
    "    print('thursday')\n",
    "elif num == 5:\n",
    "    print('friday')\n",
    "elif num == 6:\n",
    "    print('saturday')\n",
    "elif num == 7:\n",
    "    print('sunday')"
   ]
  },
  {
   "cell_type": "code",
   "execution_count": 7,
   "id": "a7862852-5a7d-4462-ab78-8e7e7a2a998f",
   "metadata": {},
   "outputs": [],
   "source": [
    "#13. Develop a program that calculates the factorial of a given number using␣recursion.\n",
    "def factorial(n):\n",
    "    if n == 0:\n",
    "        return 1\n",
    "    else:\n",
    "        return n * factorial(n - 1)\n",
    "        num = 5\n",
    "        print(\"Factorial of\", num, \"is\", factorial(num))"
   ]
  },
  {
   "cell_type": "code",
   "execution_count": 8,
   "id": "70011ae1-6013-4644-9e21-d475f22ba95d",
   "metadata": {},
   "outputs": [
    {
     "data": {
      "text/plain": [
       "720"
      ]
     },
     "execution_count": 8,
     "metadata": {},
     "output_type": "execute_result"
    }
   ],
   "source": [
    "factorial(6)"
   ]
  },
  {
   "cell_type": "code",
   "execution_count": 1,
   "id": "7e07f7a2-272f-4051-a4e0-0490617d424e",
   "metadata": {},
   "outputs": [
    {
     "name": "stdout",
     "output_type": "stream",
     "text": [
      "maximum number is 30\n"
     ]
    }
   ],
   "source": [
    "# #14. Write a program to find the largest among three numbers without using the`max()` function.\n",
    "num1=10\n",
    "num2=20\n",
    "num3=30\n",
    "if (num1>=num2) and (num1>=num3):\n",
    "    maximum=num1\n",
    "    print(\"maximum number is\",maximum)\n",
    "elif (num2>=num1) and (num2>=num3):\n",
    "    maximum=num2\n",
    "    print(\"maximum number is\",maximum)\n",
    "else:\n",
    "    maximum=num3\n",
    "    print(\"maximum number is\",maximum)"
   ]
  },
  {
   "cell_type": "code",
   "execution_count": 31,
   "id": "acbc3c37-f7a2-4f56-ab9e-6019b22a9ebe",
   "metadata": {},
   "outputs": [
    {
     "name": "stdin",
     "output_type": "stream",
     "text": [
      "Please enter your 4-digit pin:  1234\n"
     ]
    },
    {
     "name": "stdout",
     "output_type": "stream",
     "text": [
      "Welcome to the ATM!\n",
      "1. Check balance\n",
      "2. Withdraw cash\n",
      "3. Deposit cash\n",
      "4. Exit\n"
     ]
    },
    {
     "name": "stdin",
     "output_type": "stream",
     "text": [
      "Please choose an option:  2\n",
      "Please enter the amount to withdraw:  2000\n"
     ]
    },
    {
     "name": "stdout",
     "output_type": "stream",
     "text": [
      "Please collect your cash of 2000 rupees.\n",
      "Your new balance is 8000 rupees.\n"
     ]
    }
   ],
   "source": [
    "def atm_operation():\n",
    "    balance = 10000\n",
    "    pin = 1234\n",
    "    user_pin = int(input(\"Please enter your 4-digit pin: \"))\n",
    "    if user_pin == pin:\n",
    "        print(\"Welcome to the ATM!\")\n",
    "        print(\"1. Check balance\")\n",
    "        print(\"2. Withdraw cash\")\n",
    "        print(\"3. Deposit cash\")\n",
    "        print(\"4. Exit\")\n",
    "        option = int(input(\"Please choose an option: \"))\n",
    "        if option in [1, 2, 3, 4]:\n",
    "            if option == 1:\n",
    "                print(f\"Your balance is {balance} rupees.\")\n",
    "            elif option == 2:\n",
    "                amount = int(input(\"Please enter the amount to withdraw: \"))\n",
    "                if amount > 0 and amount <= balance:\n",
    "                    balance -= amount\n",
    "                    print(f\"Please collect your cash of {amount} rupees.\")\n",
    "                    print(f\"Your new balance is {balance} rupees.\")\n",
    "                else:\n",
    "                    print(\"Invalid amount. Please try again.\")\n",
    "            elif option == 3:\n",
    "                amount = int(input(\"Please enter the amount to deposit: \"))\n",
    "                if amount > 0:\n",
    "                    balance += amount\n",
    "                    print(f\"You have deposited {amount} rupees.\")\n",
    "                    print(f\"Your new balance is {balance} rupees.\")\n",
    "            else:\n",
    "                print(\"Thank you for using the ATM. Have a nice day!\")\n",
    "        else:\n",
    "            print(\"Invalid option. Please try again.\")\n",
    "    else:\n",
    "        print(\"Wrong pin. Please try again.\")\n",
    "atm_operation()"
   ]
  },
  {
   "cell_type": "code",
   "execution_count": 5,
   "id": "aa67f922-1984-4348-b00c-abad15e072d2",
   "metadata": {},
   "outputs": [
    {
     "name": "stdout",
     "output_type": "stream",
     "text": [
      "Average of the list = 2.5\n"
     ]
    }
   ],
   "source": [
    "#17. Write a program that calculates the average of a list of numbers,excluding the smallest and largest values.\n",
    "# Python program to get average of a list\n",
    "def Average(lst):\n",
    "    return sum(lst) / len(lst)\n",
    "# Driver Code\n",
    "lst = [1,2,3,4]\n",
    "average = Average(lst)\n",
    "# Printing average of the list\n",
    "print(\"Average of the list =\", round(average, 2))"
   ]
  },
  {
   "cell_type": "code",
   "execution_count": 6,
   "id": "45c8b17e-c899-4474-b208-6e6ea148c6a5",
   "metadata": {},
   "outputs": [
    {
     "name": "stdin",
     "output_type": "stream",
     "text": [
      "enter the value of temperature in celcius: 45\n"
     ]
    },
    {
     "data": {
      "text/plain": [
       "45.0"
      ]
     },
     "execution_count": 6,
     "metadata": {},
     "output_type": "execute_result"
    }
   ],
   "source": [
    "#18. Develop a program that converts a given temperature from Celsius toFahrenheit.\n",
    "celcius = float(input('enter the value of temperature in celcius:'))\n",
    "f = (celcius*1.8)+32\n",
    "celcius"
   ]
  },
  {
   "cell_type": "code",
   "execution_count": 2,
   "id": "86ec8d6d-e5f7-4141-9c5e-70244ef2656d",
   "metadata": {},
   "outputs": [
    {
     "name": "stdin",
     "output_type": "stream",
     "text": [
      "enter first number : 1\n",
      "enter operator (+,-,*,/,%) :  +\n",
      "enter second number : 4\n"
     ]
    },
    {
     "name": "stdout",
     "output_type": "stream",
     "text": [
      "5\n"
     ]
    }
   ],
   "source": [
    "#19. Create a program that simulates a basic calculator for addition,subtraction, multiplication, and division.\n",
    "first = input(\"enter first number :\")\n",
    "operator = input(\"enter operator (+,-,*,/,%) : \")\n",
    "second = input(\"enter second number :\")\n",
    "first = int(first)\n",
    "second = int(second)\n",
    "if operator == \"+\":\n",
    "    print(first+second)\n",
    "elif operator == \"-\":\n",
    "    print(first-second)\n",
    "elif operator == \"*\":\n",
    "    print(first*second)\n",
    "elif operator == \"/\":\n",
    "    print(first/second)\n",
    "elif operator == \"%\":\n",
    "    print(first%second)\n",
    "else:\n",
    "    print(\"invalid operation\")\n"
   ]
  },
  {
   "cell_type": "code",
   "execution_count": null,
   "id": "f0f6f9e6-1272-49e8-ad69-1c68de74ef11",
   "metadata": {},
   "outputs": [],
   "source": []
  }
 ],
 "metadata": {
  "kernelspec": {
   "display_name": "Python 3 (ipykernel)",
   "language": "python",
   "name": "python3"
  },
  "language_info": {
   "codemirror_mode": {
    "name": "ipython",
    "version": 3
   },
   "file_extension": ".py",
   "mimetype": "text/x-python",
   "name": "python",
   "nbconvert_exporter": "python",
   "pygments_lexer": "ipython3",
   "version": "3.10.8"
  }
 },
 "nbformat": 4,
 "nbformat_minor": 5
}
