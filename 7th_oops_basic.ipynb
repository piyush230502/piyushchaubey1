{
 "cells": [
  {
   "cell_type": "code",
   "execution_count": null,
   "id": "7bea8010-2f1d-40de-9cd6-7b5b9bdf27da",
   "metadata": {},
   "outputs": [],
   "source": [
    "#Problem 1: Bank Account Create a class representing a bank account with␣\n",
    "#attributes like account number, account holder name, and balance. Implement␣\n",
    "#methods to deposit and withdraw money from the account."
   ]
  },
  {
   "cell_type": "code",
   "execution_count": 8,
   "id": "52913df0-44c2-4b50-88fe-5daa533ee593",
   "metadata": {},
   "outputs": [],
   "source": [
    " class bank_account:\n",
    "    def __init__(self):\n",
    "        self.account_num = 12345678\n",
    "        self.account_hol_name = \"vishal rajput\"\n",
    "        self.balance = 2000\n",
    "    def account_num(self,account_num):\n",
    "        print(\"take account_num\" + self.account_num)\n",
    "    def account_hol_name(self,account_hol_name):\n",
    "        print(\"take account_hol_name\" + self.account_hol_name)\n",
    "    def balance(self,balance):\n",
    "        print(\"take balance\" + self.balance)\n",
    "    def deposite(self):\n",
    "        amount = 100\n",
    "        if amount>0:\n",
    "            self.balance += amount\n",
    "            print(f\"you have deposite {amount} rupess \")\n",
    "            print(f\"you have new balance is {self.balance} rupess\")\n",
    "        else:\n",
    "            print(\"invalid amountplease try again\")\n",
    "    def withdraw_money(self):\n",
    "        amount = 100\n",
    "        if amount > 0 and amount <= self.balance:\n",
    "            self.balance -= amount\n",
    "            print(f\"please collect your cash of {amount} rupess\")\n",
    "            print(f\" your new balnace is {self.balance} rupess\")\n",
    "        else:\n",
    "            print(\"invalid amount. please try again.\")"
   ]
  },
  {
   "cell_type": "code",
   "execution_count": 9,
   "id": "3c611bb1-b1bd-4f17-8386-caaec9533e9a",
   "metadata": {},
   "outputs": [
    {
     "data": {
      "text/plain": [
       "12345678"
      ]
     },
     "execution_count": 9,
     "metadata": {},
     "output_type": "execute_result"
    }
   ],
   "source": [
    "first_obj = bank_account()\n",
    "first_obj.account_num"
   ]
  },
  {
   "cell_type": "code",
   "execution_count": 11,
   "id": "edb222c6-2943-4dc2-8505-a8be4e7eef2b",
   "metadata": {},
   "outputs": [
    {
     "name": "stdout",
     "output_type": "stream",
     "text": [
      "you have deposite 100 rupess \n",
      "you have new balance is 2100 rupess\n"
     ]
    }
   ],
   "source": [
    "deposite = bank_account()\n",
    "deposite.deposite()"
   ]
  },
  {
   "cell_type": "code",
   "execution_count": null,
   "id": "a4b9bc1e-2be9-41f1-894d-dcbba888f0c7",
   "metadata": {},
   "outputs": [],
   "source": [
    "#Problem 2: Employee Management Create a class representing an employee with␣\n",
    "#attributes like employee ID, name, and salary. Implement methods to␣\n",
    "#calculate the yearly bonus and display employee details.\n"
   ]
  },
  {
   "cell_type": "code",
   "execution_count": 12,
   "id": "97e46c43-58a7-468d-a592-c3eb85c7c878",
   "metadata": {},
   "outputs": [],
   "source": [
    "class employee:\n",
    "    def __init__(self,userid,password):\n",
    "        self.userid = userid\n",
    "        self.name = name\n",
    "    def yearly_bonus(self):\n",
    "        diff=current_year-join_year\n",
    "        if(diff>3):\n",
    "            print(\"Bonus of Rs : 2500 /-\");\n",
    "        else:\n",
    "            print(\"No Bonus..\")"
   ]
  },
  {
   "cell_type": "code",
   "execution_count": 13,
   "id": "826f8905-79a0-4a99-980e-ad247ed108d3",
   "metadata": {},
   "outputs": [
    {
     "name": "stdin",
     "output_type": "stream",
     "text": [
      "Enter the Current Year : 2023\n",
      "Enter the Year of Joining : 2023\n"
     ]
    },
    {
     "name": "stdout",
     "output_type": "stream",
     "text": [
      "name 'yearly_bonus' is not defined\n"
     ]
    }
   ],
   "source": [
    "try:\n",
    "    current_year=int(input(\"Enter the Current Year :\"))\n",
    "    join_year=int(input(\"Enter the Year of Joining :\"))\n",
    "    diff=current_year-join_year\n",
    "    yearly_bonus(diff)\n",
    "except Exception as e:\n",
    "    print(e)"
   ]
  },
  {
   "cell_type": "code",
   "execution_count": null,
   "id": "adc1705d-6c70-489c-9c02-12fdb24734f5",
   "metadata": {},
   "outputs": [],
   "source": [
    ": #Problem 3: Vehicle Rental Create a class representing a vehicle rental system.␣\n",
    "#Implement methods to rent a vehicle, return a vehicle, and display available␣\n",
    "#vehicles."
   ]
  },
  {
   "cell_type": "code",
   "execution_count": 14,
   "id": "53f90fe1-b7d0-4ac9-bc75-5eae4e62cc1f",
   "metadata": {},
   "outputs": [],
   "source": [
    "class vehical_rental_system:\n",
    "    def rent_vehicle():\n",
    "        print('vehicles avialable in 5lac')\n",
    "    def avilable():\n",
    "        print(\"avilable company is odd\")"
   ]
  },
  {
   "cell_type": "code",
   "execution_count": 15,
   "id": "b83e493a-35d9-4701-82fb-39396ba7f334",
   "metadata": {},
   "outputs": [
    {
     "name": "stdout",
     "output_type": "stream",
     "text": [
      "vehicles avialable in 5lac\n"
     ]
    }
   ],
   "source": [
    "a = vehical_rental_system\n",
    "a.rent_vehicle()"
   ]
  },
  {
   "cell_type": "code",
   "execution_count": null,
   "id": "5394deea-3688-4969-a08e-f00e10a4665b",
   "metadata": {},
   "outputs": [],
   "source": [
    "#Problem 4: Library Catalog Create classes representing a library and a book.␣\n",
    "#Implement methods to add books to the library, borrow books, and display␣\n",
    "#available books.\n"
   ]
  },
  {
   "cell_type": "code",
   "execution_count": 16,
   "id": "b1d0ea6b-a454-4293-b695-10a19b07f10e",
   "metadata": {},
   "outputs": [],
   "source": [
    "class library:\n",
    "    def add_book():\n",
    "        print(\"book added to library\")\n",
    "    def desplay_book():\n",
    "        print(\"book added to library\")"
   ]
  },
  {
   "cell_type": "code",
   "execution_count": 17,
   "id": "bb9a19e5-b600-47ad-890f-ac1f70df7c92",
   "metadata": {},
   "outputs": [
    {
     "name": "stdout",
     "output_type": "stream",
     "text": [
      "book added to library\n"
     ]
    }
   ],
   "source": [
    "a = library\n",
    "a.add_book()"
   ]
  },
  {
   "cell_type": "code",
   "execution_count": null,
   "id": "1c492c12-15bf-4fe6-880d-10f32060f0bb",
   "metadata": {},
   "outputs": [],
   "source": [
    "#Problem 5: Product Inventory Create classes representing a product and an␣\n",
    "#inventory system. Implement methods to add products to the inventory, update␣\n",
    "#product quantity, and display available products."
   ]
  },
  {
   "cell_type": "code",
   "execution_count": 18,
   "id": "6831c71f-66c0-4884-b3db-1dd822a9f163",
   "metadata": {},
   "outputs": [],
   "source": [
    "class inventer_system:\n",
    "    def product():\n",
    "        print(\"quantuti is 27627\")\n",
    "    def display():\n",
    "        print(\"9080\")"
   ]
  },
  {
   "cell_type": "code",
   "execution_count": 19,
   "id": "383328b4-c633-41ad-828c-2fede90da089",
   "metadata": {},
   "outputs": [
    {
     "name": "stdout",
     "output_type": "stream",
     "text": [
      "quantuti is 27627\n"
     ]
    }
   ],
   "source": [
    "a = inventer_system\n",
    "a.product()"
   ]
  },
  {
   "cell_type": "code",
   "execution_count": null,
   "id": "c93ac42d-4bab-42ff-9b77-f6a724646aef",
   "metadata": {},
   "outputs": [],
   "source": [
    "#Problem 6: Shape Calculation Create a class representing a shape with␣ attributes like length, width, and height. Implement methods to calculate␣\n",
    "#the area and perimeter of the shape.\n"
   ]
  },
  {
   "cell_type": "code",
   "execution_count": 20,
   "id": "2a18dbf0-6c5f-41a6-8e7c-45384faadd02",
   "metadata": {},
   "outputs": [],
   "source": [
    "class shape:\n",
    "    def area(self,w,h):\n",
    "        area = w*h\n",
    "        print(\"the area of shape\", area)\n",
    "class circle(shape):\n",
    "    def area_of_circle(self,r):\n",
    "        area1 = 3.14*r**2\n",
    "        print(\"the area of circle is\",area1)\n",
    "class rectangle(circle):\n",
    "    def area_of_rectangle(w,h):\n",
    "        area = w*h\n",
    "        print(\"the area of shape\", area)"
   ]
  },
  {
   "cell_type": "code",
   "execution_count": 21,
   "id": "22a7fb6e-40aa-4dd5-a597-8986fc3e68d1",
   "metadata": {},
   "outputs": [
    {
     "name": "stdout",
     "output_type": "stream",
     "text": [
      "the area of shape 2\n"
     ]
    }
   ],
   "source": [
    "a = rectangle()\n",
    "a.area(1,2)"
   ]
  },
  {
   "cell_type": "code",
   "execution_count": null,
   "id": "e53f0d37-f10f-4448-88d6-7ed7ab8178ce",
   "metadata": {},
   "outputs": [],
   "source": [
    "#Problem 7: Student Management Create a class representing a student with␣\n",
    "#attributes like student ID, name, and grades. Implement methods to calculate␣\n",
    "#the average grade and display student details."
   ]
  },
  {
   "cell_type": "code",
   "execution_count": 33,
   "id": "7a2d5927-6284-4d8e-a4c1-4c44ab643b3b",
   "metadata": {},
   "outputs": [],
   "source": [
    "class Student:\n",
    "# Constructor\n",
    "    def __init__(self, name, rollno, m1, m2):\n",
    "        self.name = name\n",
    "        self.rollno = rollno\n",
    "        self.m1 = m1\n",
    "        self.m2 = m2\n",
    "# Function to create and append new student\n",
    "    def accept(self, Name, Rollno, marks1, marks2):\n",
    "# use ' int(input()) ' method to take input from user\n",
    "        ob = Student(Name, Rollno, marks1, marks2)\n",
    "        ls.append(ob)\n",
    "# Function to display student details\n",
    "    def display(self, ob):\n",
    "        print(\"Name : \", ob.name)\n",
    "        print(\"RollNo : \", ob.rollno)\n",
    "        print(\"Marks1 : \", ob.m1)\n",
    "        print(\"Marks2 : \", ob.m2)\n",
    "        print(\"\\n\")\n",
    "# Search Function\n",
    "    def search(self, rn):\n",
    "        for i in range(ls.__len__()):\n",
    "            if(ls[i].rollno == rn):\n",
    "                return i\n",
    "# Delete Function\n",
    "    def delete(self, rn):\n",
    "        i = obj.search(rn)\n",
    "        del ls[i]\n",
    "# Update Function\n",
    "    def update(self, rn, No):\n",
    "        i = obj.search(rn)\n",
    "        roll = No\n",
    "        ls[i].rollno = roll\n",
    "# Create a list to add Students\n",
    "        ls = []\n",
    "# an object of Student class\n",
    "        obj = Student('', 0, 0, 0)\n",
    "        print(\"\\nOperations used, \")\n",
    "        print(\"\\n1.Accept Student details\\n2.Display Student Details\\n3.Search Details\")\n",
    "        ch = int(input(\"Enter choice:\"))\n",
    "#if(ch == 1):\n",
    "        obj.accept(\"A\", 1, 100, 100)\n",
    "        obj.accept(\"B\", 2, 90, 90)\n",
    "        obj.accept(\"C\", 3, 80, 80)\n",
    "#elif(ch == 2):\n",
    "        print(\"\\n\")\n",
    "        print(\"\\nList of Students\\n\")\n",
    "        for i in range(ls.__len__()):\n",
    "            obj.display(ls[i])\n",
    "#elif(ch == 3):\n",
    "        print(\"\\n Student Found, \")\n",
    "        s = obj.search(2)\n",
    "        obj.display(ls[s])\n",
    "#elif(ch == 4):\n",
    "        obj.delete(2)\n",
    "        print(ls.__len__())\n",
    "        print(\"List after deletion\")\n",
    "        for i in range(ls.__len__()):\n",
    "            obj.display(ls[i])\n",
    "#elif(ch == 5):\n",
    "        obj.update(3, 2)\n",
    "        print(ls.__len__())\n",
    "        print(\"List after updation\")\n",
    "        for i in range(ls.__len__()):\n",
    "            obj.display(ls[i])\n",
    "#else:\n",
    "        print(\"Thank You !\")\n"
   ]
  },
  {
   "cell_type": "code",
   "execution_count": null,
   "id": "cb3b61c9-a45f-4058-aee7-6c06130b83bd",
   "metadata": {},
   "outputs": [],
   "source": [
    "#problem 8. Email Management Create a class representing an email with␣\n",
    "#attributes like sender, recipient, and subject. Implement methods to send an␣\n",
    "#email and display email details."
   ]
  },
  {
   "cell_type": "code",
   "execution_count": 35,
   "id": "ca570fc9-04ca-4020-926e-8fd2bf605940",
   "metadata": {},
   "outputs": [
    {
     "name": "stdout",
     "output_type": "stream",
     "text": [
      "To: someone_else@example.com\n",
      "From: Foo Bar <user@example.com>\n",
      "Subject: Test message\n",
      "Recipient username: someone_else\n",
      "Sender name: Foo Bar\n"
     ]
    }
   ],
   "source": [
    "from email.parser import Parser\n",
    "from email.policy import default\n",
    "# If the e-mail headers are in a file, uncomment these two lines:\n",
    "# with open(messagefile, 'rb') as fp:\n",
    "# headers = BytesParser(policy=default).parse(fp)\n",
    "# Or for parsing headers in a string (this is an uncommon operation), use:\n",
    "headers = Parser(policy=default).parsestr(\n",
    "        'From: Foo Bar <user@example.com>\\n'\n",
    "        'To: <someone_else@example.com>\\n'\n",
    "        'Subject: Test message\\n'\n",
    "        '\\n'\n",
    "        'Body would go here\\n')\n",
    "# Now the header items can be accessed as a dictionary:\n",
    "print('To: {}'.format(headers['to']))\n",
    "print('From: {}'.format(headers['from']))\n",
    "print('Subject: {}'.format(headers['subject']))\n",
    "# You can also access the parts of the addresses:\n",
    "print('Recipient username: {}'.format(headers['to'].addresses[0].username))\n",
    "print('Sender name: {}'.format(headers['from'].addresses[0].display_name))"
   ]
  },
  {
   "cell_type": "code",
   "execution_count": null,
   "id": "397b3aeb-e55c-4498-91fe-d9f0f491fbfb",
   "metadata": {},
   "outputs": [],
   "source": [
    "#Problem 10: ToDo List Create a class representing a ToDo list with attributes␣\n",
    "#like tasks and due dates. Implement methods to add tasks, mark tasks as␣\n",
    "#completed, and display pending tasks.\n"
   ]
  },
  {
   "cell_type": "code",
   "execution_count": 36,
   "id": "ca4a625c-0175-4212-a5fe-90ca7ebde5aa",
   "metadata": {},
   "outputs": [
    {
     "data": {
      "text/plain": [
       "[1, 2, 3, 4, 5, 6]"
      ]
     },
     "execution_count": 36,
     "metadata": {},
     "output_type": "execute_result"
    }
   ],
   "source": [
    "class list_ops:\n",
    "    def __init__(vish,l): #doonder function = it can be used to␣\n",
    "\n",
    "        vish.l2 = l\n",
    "        vish.l3= 40\n",
    "        vish.l4 = 'uhvu'\n",
    "        vish.l5 = (2,3,4,5)\n",
    "        vish.l6 = {'key':'value'}\n",
    "    def extractfromindex(self,l,index):\n",
    "        return l[index]\n",
    "    def extractrangedata(self,l,start,end):\n",
    "        return l[start:end]\n",
    "    def extractevennum(self,l):\n",
    "        l1 = []\n",
    "        for i in l:\n",
    "            if i%2 ==0:\n",
    "                l1.append(i)\n",
    "        return l1\n",
    "second_obj= list_ops([1,2,3,4,5,6])\n",
    "second_obj.l2\n"
   ]
  },
  {
   "cell_type": "code",
   "execution_count": null,
   "id": "215389c9-27d5-4b6e-8fd2-31c6b0ffca33",
   "metadata": {},
   "outputs": [],
   "source": []
  },
  {
   "cell_type": "code",
   "execution_count": null,
   "id": "e105b01d-77e0-46ef-bc2d-d82db1538984",
   "metadata": {},
   "outputs": [],
   "source": []
  },
  {
   "cell_type": "code",
   "execution_count": null,
   "id": "f3078ebb-129a-4976-8c99-532a4ad32360",
   "metadata": {},
   "outputs": [],
   "source": []
  },
  {
   "cell_type": "code",
   "execution_count": null,
   "id": "9730d496-8be0-48ba-8b40-568a2c43634a",
   "metadata": {},
   "outputs": [],
   "source": []
  },
  {
   "cell_type": "code",
   "execution_count": null,
   "id": "ff6a165e-65f5-4ba0-978a-c13ad6350273",
   "metadata": {},
   "outputs": [],
   "source": []
  },
  {
   "cell_type": "code",
   "execution_count": null,
   "id": "a431afeb-529c-46a6-8185-109ea0d2595c",
   "metadata": {},
   "outputs": [],
   "source": []
  },
  {
   "cell_type": "code",
   "execution_count": null,
   "id": "6c8436c1-1e1e-46db-88d0-05e6347ca946",
   "metadata": {},
   "outputs": [],
   "source": []
  }
 ],
 "metadata": {
  "kernelspec": {
   "display_name": "Python 3 (ipykernel)",
   "language": "python",
   "name": "python3"
  },
  "language_info": {
   "codemirror_mode": {
    "name": "ipython",
    "version": 3
   },
   "file_extension": ".py",
   "mimetype": "text/x-python",
   "name": "python",
   "nbconvert_exporter": "python",
   "pygments_lexer": "ipython3",
   "version": "3.10.8"
  }
 },
 "nbformat": 4,
 "nbformat_minor": 5
}
