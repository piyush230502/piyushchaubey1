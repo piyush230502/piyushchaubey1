{
 "cells": [
  {
   "cell_type": "code",
   "execution_count": null,
   "id": "ba1640d4-0143-429e-bf46-57ee5f283a1d",
   "metadata": {},
   "outputs": [],
   "source": [
    "#1 Find the val%e of T(2) for the rec%rrence relation T(n) = 3T(n-1) + 12n,given that T(0)=5."
   ]
  },
  {
   "cell_type": "code",
   "execution_count": 1,
   "id": "f4b76b1e-f095-4738-8c58-13fa5382ae65",
   "metadata": {},
   "outputs": [
    {
     "data": {
      "text/plain": [
       "'T(n) = 3T(n-1) + 12n\\nT(n-1) = 3T(n-2) + 12(n-1)\\nT(n) = 9T(n-2) + 36(n-1)+12n\\nT(2) = 9T(0) + 36*1+12*2\\n= 105'"
      ]
     },
     "execution_count": 1,
     "metadata": {},
     "output_type": "execute_result"
    }
   ],
   "source": [
    "\"\"\"T(n) = 3T(n-1) + 12n\n",
    "T(n-1) = 3T(n-2) + 12(n-1)\n",
    "T(n) = 9T(n-2) + 36(n-1)+12n\n",
    "T(2) = 9T(0) + 36*1+12*2\n",
    "= 105\"\"\""
   ]
  },
  {
   "cell_type": "code",
   "execution_count": null,
   "id": "d9b3bd4d-4a28-4d40-b3e8-91706dc0f1b7",
   "metadata": {},
   "outputs": [],
   "source": [
    "#2. Given a rec%rrence relation, solve it %sing the s%bstit%tion method:\n",
    "#a. T(n) = T(n-1) + c"
   ]
  },
  {
   "cell_type": "code",
   "execution_count": 2,
   "id": "5695ccce-f43e-4aa4-bef4-460aed6f53c9",
   "metadata": {},
   "outputs": [
    {
     "data": {
      "text/plain": [
       "'T(n) = T(n-1) + c\\nT(n-1) = T(n-2) + c\\nT(n) = T(n-2) + 2c\\nT(n-2) = T(n-4) + 4c\\nT(n-k) = T(n-k) + kc\\nT(n) = T(1) + (n-1)c\\nT(n) = O(n)'"
      ]
     },
     "execution_count": 2,
     "metadata": {},
     "output_type": "execute_result"
    }
   ],
   "source": [
    "\"\"\"T(n) = T(n-1) + c\n",
    "T(n-1) = T(n-2) + c\n",
    "T(n) = T(n-2) + 2c\n",
    "T(n-2) = T(n-4) + 4c\n",
    "T(n-k) = T(n-k) + kc\n",
    "T(n) = T(1) + (n-1)c\n",
    "T(n) = O(n)\"\"\""
   ]
  },
  {
   "cell_type": "code",
   "execution_count": null,
   "id": "e8f34a3d-3ece-4660-bb88-b0b946be1174",
   "metadata": {},
   "outputs": [],
   "source": [
    "#b. T(n) = 2T(n/2) + n"
   ]
  },
  {
   "cell_type": "code",
   "execution_count": 3,
   "id": "eb956947-57b8-4ee3-9d35-5b61d01887f4",
   "metadata": {},
   "outputs": [
    {
     "data": {
      "text/plain": [
       "'T(n) = 2T(n/2) + n --------1\\nT(n/2) = 2T(n/4) + n/2 -------2\\nT(n/4) = 2T(n/8) + n/4--------3\\n#put equation 2 in 1\\nT(n) = 2**2T(n/2**2) + n+n -----4\\n#put eq. 4 in 3\\nT(n) = 2**2 T(n/2**2) + 2n\\nT(n) = 2**k T(n/2**k) + kn\\nn = 2**k\\nk = log(n)\\nT(n) = n+nlog(n)\\nT(n) = O(nlogn)'"
      ]
     },
     "execution_count": 3,
     "metadata": {},
     "output_type": "execute_result"
    }
   ],
   "source": [
    "\"\"\"T(n) = 2T(n/2) + n --------1\n",
    "T(n/2) = 2T(n/4) + n/2 -------2\n",
    "T(n/4) = 2T(n/8) + n/4--------3\n",
    "#put equation 2 in 1\n",
    "T(n) = 2**2T(n/2**2) + n+n -----4\n",
    "#put eq. 4 in 3\n",
    "T(n) = 2**2 T(n/2**2) + 2n\n",
    "T(n) = 2**k T(n/2**k) + kn\n",
    "n = 2**k\n",
    "k = log(n)\n",
    "T(n) = n+nlog(n)\n",
    "T(n) = O(nlogn)\"\"\""
   ]
  },
  {
   "cell_type": "code",
   "execution_count": null,
   "id": "0d60adcf-ce67-453b-ba41-ab590caba4c3",
   "metadata": {},
   "outputs": [],
   "source": [
    "#c. T(n) = 2T(n/2) + c"
   ]
  },
  {
   "cell_type": "code",
   "execution_count": 4,
   "id": "06ace9bb-0571-4834-9509-1ab9929073cd",
   "metadata": {},
   "outputs": [
    {
     "data": {
      "text/plain": [
       "'T(n) = 2T(n/2) + c --------1\\nT(n/2) = 2T(n/4) + c -------2\\nT(n/4) = 2T(n/8) + c--------3\\n#put equation 2 in 1\\nT(n) = 2**2T(n/2**2) + 3c -----4\\n#put eq. 4 in 3\\nT(n) = 2**4 T(n/2**4) + 7n\\nT(n) = 2**k T(n/2**k) + kn\\nn = 2**k\\nk = log(n)\\nT(n)= n+log(n)'"
      ]
     },
     "execution_count": 4,
     "metadata": {},
     "output_type": "execute_result"
    }
   ],
   "source": [
    "\"\"\"T(n) = 2T(n/2) + c --------1\n",
    "T(n/2) = 2T(n/4) + c -------2\n",
    "T(n/4) = 2T(n/8) + c--------3\n",
    "#put equation 2 in 1\n",
    "T(n) = 2**2T(n/2**2) + 3c -----4\n",
    "#put eq. 4 in 3\n",
    "T(n) = 2**4 T(n/2**4) + 7n\n",
    "T(n) = 2**k T(n/2**k) + kn\n",
    "n = 2**k\n",
    "k = log(n)\n",
    "T(n)= n+log(n)\"\"\""
   ]
  },
  {
   "cell_type": "code",
   "execution_count": null,
   "id": "c9ca2f3f-864a-404a-9ed1-fe64ec8d918c",
   "metadata": {},
   "outputs": [],
   "source": [
    "#d. T(n) = T(n/2) + c"
   ]
  },
  {
   "cell_type": "code",
   "execution_count": 5,
   "id": "6a40c3d5-4160-4bd4-b8e4-d4180380dda5",
   "metadata": {},
   "outputs": [
    {
     "data": {
      "text/plain": [
       "'T(n) = T(n/2) + c --------1\\nT(n/2) = T(n/4) + c -------2\\nT(n/4) = T(n/8) + c--------3\\n#put eq. 4 in 3\\nT(n) = T(n/2**k) + kn\\nn = 2**k\\nk = log(n)\\nT(n)= O(log(n))'"
      ]
     },
     "execution_count": 5,
     "metadata": {},
     "output_type": "execute_result"
    }
   ],
   "source": [
    "\"\"\"T(n) = T(n/2) + c --------1\n",
    "T(n/2) = T(n/4) + c -------2\n",
    "T(n/4) = T(n/8) + c--------3\n",
    "#put eq. 4 in 3\n",
    "T(n) = T(n/2**k) + kn\n",
    "n = 2**k\n",
    "k = log(n)\n",
    "T(n)= O(log(n))\"\"\""
   ]
  },
  {
   "cell_type": "code",
   "execution_count": null,
   "id": "09e9687e-f108-4e61-aeec-834a849d873a",
   "metadata": {},
   "outputs": [],
   "source": [
    "#3. Given a recrrence relation, solve it %sing the rec%rsive tree approach:\n",
    "#a. T(n) = 2T(n-1) +1"
   ]
  },
  {
   "cell_type": "code",
   "execution_count": 6,
   "id": "508695dd-ab7d-408b-a06f-2841f0d178b4",
   "metadata": {},
   "outputs": [
    {
     "data": {
      "text/plain": [
       "'T(n-1) = 2T((n-1)-1)-1\\nT(n-1) = 2T(n-2)-1 ….. (2)\\nSimilarly..\\nT(n-2) = 2T(n-3)-1 ….. (3)\\nT(n-3 = 2T(n-4)-1 ….. (4) , and so on\\nNow Substitute:- equation (2), (3), (4) in equation (1)\\nT(n) = 2T(n-1)-1\\nT(n) = 2[2T(n-2)-1]-1 = 4T(n-2)-2–1 = 4T(n-2)-3\\nT(n) = 4[2T(n-3)-1]-3 = 8T(n-3)-4–3 = 8T(n-3)-7\\nT(n) = 8[2T(n-4)-1]-7 = 16T(n-4)-8–7 =16T(n-4)-15\\nT(n) = 16T(n-4)-15 can be written as,\\nT(n) =2^k T(n-k)-(2^k - 1)\\nSince value of T(n-1) is reducing one by one then lets assume\\nn-k = 1 <=> n = k\\nT(n) = 2^n T(1)-(2^n -1)\\nThen Time Complexity will be :\\n= O(2^n * c - 2^n + 1)\\n= O(2^n(c-1)+1)\\n= O(2^n)'"
      ]
     },
     "execution_count": 6,
     "metadata": {},
     "output_type": "execute_result"
    }
   ],
   "source": [
    "\"\"\"T(n-1) = 2T((n-1)-1)-1\n",
    "T(n-1) = 2T(n-2)-1 ….. (2)\n",
    "Similarly..\n",
    "T(n-2) = 2T(n-3)-1 ….. (3)\n",
    "T(n-3 = 2T(n-4)-1 ….. (4) , and so on\n",
    "Now Substitute:- equation (2), (3), (4) in equation (1)\n",
    "T(n) = 2T(n-1)-1\n",
    "T(n) = 2[2T(n-2)-1]-1 = 4T(n-2)-2–1 = 4T(n-2)-3\n",
    "T(n) = 4[2T(n-3)-1]-3 = 8T(n-3)-4–3 = 8T(n-3)-7\n",
    "T(n) = 8[2T(n-4)-1]-7 = 16T(n-4)-8–7 =16T(n-4)-15\n",
    "T(n) = 16T(n-4)-15 can be written as,\n",
    "T(n) =2^k T(n-k)-(2^k - 1)\n",
    "Since value of T(n-1) is reducing one by one then lets assume\n",
    "n-k = 1 <=> n = k\n",
    "T(n) = 2^n T(1)-(2^n -1)\n",
    "Then Time Complexity will be :\n",
    "= O(2^n * c - 2^n + 1)\n",
    "= O(2^n(c-1)+1)\n",
    "= O(2^n)\"\"\""
   ]
  },
  {
   "cell_type": "code",
   "execution_count": null,
   "id": "ed7870da-b5c8-434b-be28-d89b5c257527",
   "metadata": {},
   "outputs": [],
   "source": [
    "#b. T(n) = 2T(n/2) + n"
   ]
  },
  {
   "cell_type": "code",
   "execution_count": 7,
   "id": "c425d62f-df8e-448c-b0cf-66cb13d3dbed",
   "metadata": {},
   "outputs": [
    {
     "data": {
      "text/plain": [
       "'Assuming T(1)=C\\nT(n)=C+2∗C+4∗C+\\uffff+2n−1∗C=C∗(2n−1)'"
      ]
     },
     "execution_count": 7,
     "metadata": {},
     "output_type": "execute_result"
    }
   ],
   "source": [
    "\"\"\"Assuming T(1)=C\n",
    "T(n)=C+2∗C+4∗C+￿+2n−1∗C=C∗(2n−1)\"\"\""
   ]
  },
  {
   "cell_type": "code",
   "execution_count": null,
   "id": "2d2961a4-d7ed-4a70-a24e-05269c26b223",
   "metadata": {},
   "outputs": [],
   "source": []
  }
 ],
 "metadata": {
  "kernelspec": {
   "display_name": "Python 3 (ipykernel)",
   "language": "python",
   "name": "python3"
  },
  "language_info": {
   "codemirror_mode": {
    "name": "ipython",
    "version": 3
   },
   "file_extension": ".py",
   "mimetype": "text/x-python",
   "name": "python",
   "nbconvert_exporter": "python",
   "pygments_lexer": "ipython3",
   "version": "3.10.8"
  }
 },
 "nbformat": 4,
 "nbformat_minor": 5
}
