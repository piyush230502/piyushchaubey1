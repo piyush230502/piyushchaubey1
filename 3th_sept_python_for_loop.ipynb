{
 "cells": [
  {
   "cell_type": "code",
   "execution_count": null,
   "id": "a6b3e30b-652e-4aea-b618-5c7e098257f0",
   "metadata": {},
   "outputs": [],
   "source": [
    "\n",
    "# 1. Write a Python program to print the numbers from 1 to 10 using a `for` loop.\n"
   ]
  },
  {
   "cell_type": "code",
   "execution_count": 2,
   "id": "d1f9d6a8-65cc-4231-9923-2deb66265304",
   "metadata": {},
   "outputs": [],
   "source": [
    "l = [1,2,3,4,5,6,7,8,9,10]"
   ]
  },
  {
   "cell_type": "code",
   "execution_count": 2,
   "id": "e770521c-ccc7-4d62-be0c-9a84c8c0c973",
   "metadata": {},
   "outputs": [
    {
     "name": "stdout",
     "output_type": "stream",
     "text": [
      "1\n",
      "2\n",
      "3\n",
      "4\n",
      "5\n",
      "6\n",
      "7\n",
      "8\n",
      "9\n",
      "10\n"
     ]
    }
   ],
   "source": [
    "for i in l :\n",
    "    print(i)"
   ]
  },
  {
   "cell_type": "code",
   "execution_count": null,
   "id": "49e5fce3-7607-4596-ba6f-ef56b7e88f79",
   "metadata": {},
   "outputs": [],
   "source": [
    "#  2. Create a program that calculates the sum of all numbers in a list using a `for` loop.\n"
   ]
  },
  {
   "cell_type": "code",
   "execution_count": 13,
   "id": "d03fe29a-b244-44af-969b-2ec591aef8b4",
   "metadata": {},
   "outputs": [
    {
     "data": {
      "text/plain": [
       "[1, 2, 3, 4, 5, 6, 7, 8, 9, 10]"
      ]
     },
     "execution_count": 13,
     "metadata": {},
     "output_type": "execute_result"
    }
   ],
   "source": [
    "l"
   ]
  },
  {
   "cell_type": "code",
   "execution_count": 14,
   "id": "80906e68-e857-439e-a8d1-de32602d1bc6",
   "metadata": {},
   "outputs": [
    {
     "data": {
      "text/plain": [
       "10"
      ]
     },
     "execution_count": 14,
     "metadata": {},
     "output_type": "execute_result"
    }
   ],
   "source": [
    "len(l)"
   ]
  },
  {
   "cell_type": "code",
   "execution_count": 16,
   "id": "acca40cb-3dab-41ce-86d7-32c84f483d5c",
   "metadata": {},
   "outputs": [
    {
     "data": {
      "text/plain": [
       "range(0, 10)"
      ]
     },
     "execution_count": 16,
     "metadata": {},
     "output_type": "execute_result"
    }
   ],
   "source": [
    "range(len(l))"
   ]
  },
  {
   "cell_type": "code",
   "execution_count": 3,
   "id": "1839ea3d-3c0e-46b2-82b0-06fc5c11e5f3",
   "metadata": {},
   "outputs": [
    {
     "data": {
      "text/plain": [
       "55"
      ]
     },
     "execution_count": 3,
     "metadata": {},
     "output_type": "execute_result"
    }
   ],
   "source": [
    "result = 0\n",
    "for i in l :\n",
    "    result = result + i\n",
    "result"
   ]
  },
  {
   "cell_type": "code",
   "execution_count": null,
   "id": "41a51f8a-5d1f-4e9a-9c71-12f4092ff2dc",
   "metadata": {},
   "outputs": [],
   "source": [
    "# 3. Write a program to print the characters of a string in reverse order using a `for` loop"
   ]
  },
  {
   "cell_type": "code",
   "execution_count": 4,
   "id": "5bd0d294-e99d-4b90-8ebd-cb2dd5c8cf7d",
   "metadata": {},
   "outputs": [],
   "source": [
    "s = \"kalka\""
   ]
  },
  {
   "cell_type": "code",
   "execution_count": 5,
   "id": "60a3fc47-e979-4521-98f0-2e603276169c",
   "metadata": {},
   "outputs": [
    {
     "data": {
      "text/plain": [
       "'kalka'"
      ]
     },
     "execution_count": 5,
     "metadata": {},
     "output_type": "execute_result"
    }
   ],
   "source": [
    "s"
   ]
  },
  {
   "cell_type": "code",
   "execution_count": 9,
   "id": "d27ff972-62c5-452f-9d67-982e58a4ef8f",
   "metadata": {},
   "outputs": [
    {
     "data": {
      "text/plain": [
       "'aklak'"
      ]
     },
     "execution_count": 9,
     "metadata": {},
     "output_type": "execute_result"
    }
   ],
   "source": [
    "s[::-1]"
   ]
  },
  {
   "cell_type": "code",
   "execution_count": 10,
   "id": "68cbb559-d831-4e4e-9f16-0816ea9a42a9",
   "metadata": {},
   "outputs": [
    {
     "data": {
      "text/plain": [
       "str"
      ]
     },
     "execution_count": 10,
     "metadata": {},
     "output_type": "execute_result"
    }
   ],
   "source": [
    "type(s)"
   ]
  },
  {
   "cell_type": "code",
   "execution_count": 12,
   "id": "0d509233-b2ef-4e97-9d72-79ad229ee0bd",
   "metadata": {},
   "outputs": [
    {
     "data": {
      "text/plain": [
       "['k', 'a', 'l', 'k', 'a']"
      ]
     },
     "execution_count": 12,
     "metadata": {},
     "output_type": "execute_result"
    }
   ],
   "source": [
    "list(s)"
   ]
  },
  {
   "cell_type": "code",
   "execution_count": 14,
   "id": "ccf84f92-8927-49a9-a079-b6689a3abc9c",
   "metadata": {},
   "outputs": [
    {
     "data": {
      "text/plain": [
       "['a', 'k', 'l', 'a', 'k']"
      ]
     },
     "execution_count": 14,
     "metadata": {},
     "output_type": "execute_result"
    }
   ],
   "source": [
    "list(s)[::-1\n",
    "       ]"
   ]
  },
  {
   "cell_type": "code",
   "execution_count": 16,
   "id": "9c168d85-48d9-4822-a76a-715a8935d4d2",
   "metadata": {},
   "outputs": [
    {
     "name": "stdout",
     "output_type": "stream",
     "text": [
      "a\n",
      "k\n",
      "l\n",
      "a\n",
      "k\n"
     ]
    }
   ],
   "source": [
    "for i in list(s)[::-1]:\n",
    "    print(i)"
   ]
  },
  {
   "cell_type": "code",
   "execution_count": null,
   "id": "ac7e12cc-bd52-4749-b5b0-bbafb7beba2d",
   "metadata": {},
   "outputs": [],
   "source": [
    "# 4. Develop a program that finds the factorial of a given number using a `for` loop"
   ]
  },
  {
   "cell_type": "code",
   "execution_count": 18,
   "id": "706c1036-e1e7-441c-bda2-1958ec0b1668",
   "metadata": {},
   "outputs": [],
   "source": [
    "l1 = [1,2,3,4,5,6,7,8,9,10]"
   ]
  },
  {
   "cell_type": "code",
   "execution_count": 19,
   "id": "91918455-e056-4597-85a9-ad1df92fbfa7",
   "metadata": {},
   "outputs": [
    {
     "data": {
      "text/plain": [
       "[1, 2, 3, 4, 5, 6, 7, 8, 9, 10]"
      ]
     },
     "execution_count": 19,
     "metadata": {},
     "output_type": "execute_result"
    }
   ],
   "source": [
    "l1"
   ]
  },
  {
   "cell_type": "code",
   "execution_count": 20,
   "id": "63edc5ef-ef2e-4628-91d5-c74c263fc0f9",
   "metadata": {},
   "outputs": [
    {
     "data": {
      "text/plain": [
       "range(0, 5)"
      ]
     },
     "execution_count": 20,
     "metadata": {},
     "output_type": "execute_result"
    }
   ],
   "source": [
    "range(5)"
   ]
  },
  {
   "cell_type": "code",
   "execution_count": 21,
   "id": "1aae2e77-f03e-4205-8fe4-6d2716092cc5",
   "metadata": {},
   "outputs": [
    {
     "data": {
      "text/plain": [
       "[0, 1, 2, 3, 4]"
      ]
     },
     "execution_count": 21,
     "metadata": {},
     "output_type": "execute_result"
    }
   ],
   "source": [
    "list(range(5))"
   ]
  },
  {
   "cell_type": "code",
   "execution_count": 22,
   "id": "8bf073fd-8e91-4ad5-8a76-724a90250fc3",
   "metadata": {},
   "outputs": [
    {
     "data": {
      "text/plain": [
       "10"
      ]
     },
     "execution_count": 22,
     "metadata": {},
     "output_type": "execute_result"
    }
   ],
   "source": [
    "len(l1)"
   ]
  },
  {
   "cell_type": "code",
   "execution_count": 26,
   "id": "9e5ac2f6-c8c2-43bf-a613-2090c9b8432a",
   "metadata": {},
   "outputs": [
    {
     "data": {
      "text/plain": [
       "range(0, 10)"
      ]
     },
     "execution_count": 26,
     "metadata": {},
     "output_type": "execute_result"
    }
   ],
   "source": [
    "range(0,len(l1),1)"
   ]
  },
  {
   "cell_type": "code",
   "execution_count": 27,
   "id": "ec2e6907-ebf7-4991-9e29-f8ace9903b1b",
   "metadata": {},
   "outputs": [
    {
     "data": {
      "text/plain": [
       "[0, 1, 2, 3, 4, 5, 6, 7, 8, 9]"
      ]
     },
     "execution_count": 27,
     "metadata": {},
     "output_type": "execute_result"
    }
   ],
   "source": [
    "list(range(0,len(l1),1))"
   ]
  },
  {
   "cell_type": "code",
   "execution_count": 1,
   "id": "f2a0d3eb-a9fb-49ef-885a-ed3be918fa1c",
   "metadata": {},
   "outputs": [
    {
     "name": "stdin",
     "output_type": "stream",
     "text": [
      "enter your number 6\n"
     ]
    },
    {
     "data": {
      "text/plain": [
       "720"
      ]
     },
     "execution_count": 1,
     "metadata": {},
     "output_type": "execute_result"
    }
   ],
   "source": [
    "\n",
    "number = int(input(\"enter your number\"))\n",
    "factorial = 1 \n",
    "while number > 0 :                              # factorial using while loop\n",
    "    factorial = factorial*number\n",
    "    number = number-1\n",
    "factorial"
   ]
  },
  {
   "cell_type": "code",
   "execution_count": 49,
   "id": "4d5f871f-6e78-41fc-ad2e-312b8718fc24",
   "metadata": {},
   "outputs": [
    {
     "name": "stdout",
     "output_type": "stream",
     "text": [
      "1\n",
      "2\n",
      "6\n",
      "24\n",
      "120\n",
      "720\n",
      "5040\n",
      "40320\n"
     ]
    }
   ],
   "source": [
    "s = 1\n",
    "for a in list(range(2,10)):\n",
    "    a = a-1\n",
    "    s = a*s\n",
    "    print(s)\n",
    "     "
   ]
  },
  {
   "cell_type": "code",
   "execution_count": null,
   "id": "7ed18cb2-4309-483e-ab08-a9f271c938b7",
   "metadata": {},
   "outputs": [],
   "source": [
    "# 5. Create a program to print the multiplication table of a given number using a `for` loop"
   ]
  },
  {
   "cell_type": "code",
   "execution_count": 44,
   "id": "aa4b72c7-8f3d-4378-84e9-7d2cced340d4",
   "metadata": {},
   "outputs": [
    {
     "name": "stdout",
     "output_type": "stream",
     "text": [
      "7 * 1 = 7\n",
      "7 * 2 = 14\n",
      "7 * 3 = 21\n",
      "7 * 4 = 28\n",
      "7 * 5 = 35\n",
      "7 * 6 = 42\n",
      "7 * 7 = 49\n",
      "7 * 8 = 56\n",
      "7 * 9 = 63\n",
      "7 * 10 = 70\n"
     ]
    }
   ],
   "source": [
    "for i in range(1,11):\n",
    "    print(\"7 *\",i,\"=\",7*i)"
   ]
  },
  {
   "cell_type": "code",
   "execution_count": null,
   "id": "c8a80521-fddb-4f59-a9d5-a067b72f581e",
   "metadata": {},
   "outputs": [],
   "source": [
    "# 10. Develop a program that prints the first `n` Fibonacci numbers using a `for` loop.\n"
   ]
  },
  {
   "cell_type": "code",
   "execution_count": 3,
   "id": "657f4ec7-a5ad-4a51-8b69-b4e56e2c28ea",
   "metadata": {},
   "outputs": [
    {
     "name": "stdin",
     "output_type": "stream",
     "text": [
      "enter the number of element you are looking for  6\n"
     ]
    },
    {
     "name": "stdout",
     "output_type": "stream",
     "text": [
      "0\n",
      "1\n",
      "1\n",
      "2\n",
      "3\n",
      "5\n"
     ]
    }
   ],
   "source": [
    "number = int(input(\"enter the number of element you are looking for \"))\n",
    "a , b  = 0 , 1 \n",
    "counter = 0 \n",
    "while counter < number : \n",
    "    print(a)\n",
    "    c = a+ b\n",
    "    a = b \n",
    "    b = c \n",
    "    counter= counter+ 1\n",
    "    "
   ]
  },
  {
   "cell_type": "code",
   "execution_count": null,
   "id": "1ac7ed3e-89c3-4058-862a-5f853de65603",
   "metadata": {},
   "outputs": [],
   "source": [
    "# 8. Create a program to find the length of a string without using the `len()` function"
   ]
  },
  {
   "cell_type": "code",
   "execution_count": 4,
   "id": "9a9b3dc4-a109-4b9a-bc9c-bba0a0269de6",
   "metadata": {},
   "outputs": [],
   "source": [
    "l = [1,2,3,4,5,6]"
   ]
  },
  {
   "cell_type": "code",
   "execution_count": 5,
   "id": "0b060214-5090-42d9-bef3-24862c4adf9d",
   "metadata": {},
   "outputs": [
    {
     "data": {
      "text/plain": [
       "[1, 2, 3, 4, 5, 6]"
      ]
     },
     "execution_count": 5,
     "metadata": {},
     "output_type": "execute_result"
    }
   ],
   "source": [
    "l"
   ]
  },
  {
   "cell_type": "code",
   "execution_count": 13,
   "id": "afa795f2-a675-4100-8508-4380e36c32c8",
   "metadata": {},
   "outputs": [
    {
     "name": "stdin",
     "output_type": "stream",
     "text": [
      "enter the total number of index 6\n"
     ]
    },
    {
     "name": "stdout",
     "output_type": "stream",
     "text": [
      "7\n"
     ]
    }
   ],
   "source": [
    "index = int(input(\"enter the total number of index\"))\n",
    "\n",
    "for i in  l[5:6]:\n",
    "    length = index + 1\n",
    "    print(length)"
   ]
  },
  {
   "cell_type": "code",
   "execution_count": null,
   "id": "3b98b65a-7439-46bc-a223-34436320d4be",
   "metadata": {},
   "outputs": [],
   "source": [
    "# 7. Develop a program that prints the squares of numbers from 1 to 5 using a `for` loop"
   ]
  },
  {
   "cell_type": "code",
   "execution_count": 2,
   "id": "bd670b1f-5405-4eab-9dcc-f48174866856",
   "metadata": {},
   "outputs": [],
   "source": [
    "l1 = [1,2,3,4,5]"
   ]
  },
  {
   "cell_type": "code",
   "execution_count": 15,
   "id": "628b8ed4-838c-4a2e-8851-d2f3715e46f9",
   "metadata": {},
   "outputs": [
    {
     "data": {
      "text/plain": [
       "[1, 2, 3, 4, 5]"
      ]
     },
     "execution_count": 15,
     "metadata": {},
     "output_type": "execute_result"
    }
   ],
   "source": [
    "l1\n"
   ]
  },
  {
   "cell_type": "code",
   "execution_count": 16,
   "id": "3b86171b-4369-4913-9a76-3651ff9daff7",
   "metadata": {},
   "outputs": [
    {
     "name": "stdout",
     "output_type": "stream",
     "text": [
      "1\n",
      "4\n",
      "9\n",
      "16\n",
      "25\n"
     ]
    }
   ],
   "source": [
    "for i in l1[0:5]:\n",
    "    i = i**2\n",
    "    print(i)"
   ]
  },
  {
   "cell_type": "code",
   "execution_count": null,
   "id": "f80b0229-e001-4b39-a4bb-c2950b1d78d3",
   "metadata": {},
   "outputs": [],
   "source": [
    "# 9. Write a program that calculates the average of a list of numbers using a `for` loop.\n"
   ]
  },
  {
   "cell_type": "code",
   "execution_count": 6,
   "id": "83b50bd6-5eca-449a-8975-202ed32f75cc",
   "metadata": {},
   "outputs": [],
   "source": [
    "l = [1,2,3,4,5]"
   ]
  },
  {
   "cell_type": "code",
   "execution_count": 7,
   "id": "7aa859cf-33e1-446b-a501-0cda009a4535",
   "metadata": {},
   "outputs": [
    {
     "data": {
      "text/plain": [
       "[1, 2, 3, 4, 5]"
      ]
     },
     "execution_count": 7,
     "metadata": {},
     "output_type": "execute_result"
    }
   ],
   "source": [
    "l\n"
   ]
  },
  {
   "cell_type": "code",
   "execution_count": 18,
   "id": "03c81e81-74db-4392-91df-cde0a7f1ff09",
   "metadata": {},
   "outputs": [
    {
     "data": {
      "text/plain": [
       "3.0"
      ]
     },
     "execution_count": 18,
     "metadata": {},
     "output_type": "execute_result"
    }
   ],
   "source": [
    "result = 0\n",
    "for i in l:\n",
    "    result = result +i\n",
    "    average = result/5\n",
    "average"
   ]
  },
  {
   "cell_type": "code",
   "execution_count": null,
   "id": "b5ee096d-1021-44e8-bba2-c2dd2d06fa48",
   "metadata": {},
   "outputs": [],
   "source": [
    "# Write a Python program to find the product of all elements in a list using a for loop.\n"
   ]
  },
  {
   "cell_type": "code",
   "execution_count": 2,
   "id": "3cb2db3a-046b-4f88-ac88-931c09e917c3",
   "metadata": {},
   "outputs": [],
   "source": [
    "l = [1,2,3,4,5]"
   ]
  },
  {
   "cell_type": "code",
   "execution_count": 3,
   "id": "cc7a1ee2-d442-4096-b2ac-549bcd44b7bc",
   "metadata": {},
   "outputs": [
    {
     "data": {
      "text/plain": [
       "[1, 2, 3, 4, 5]"
      ]
     },
     "execution_count": 3,
     "metadata": {},
     "output_type": "execute_result"
    }
   ],
   "source": [
    "l"
   ]
  },
  {
   "cell_type": "code",
   "execution_count": 16,
   "id": "861f3ddd-1b88-4fff-a7db-be1c052a1418",
   "metadata": {},
   "outputs": [
    {
     "data": {
      "text/plain": [
       "120"
      ]
     },
     "execution_count": 16,
     "metadata": {},
     "output_type": "execute_result"
    }
   ],
   "source": [
    "product = 1\n",
    "for i in l:\n",
    "    product = product*i\n",
    "\n",
    "product\n",
    "   \n",
    "    "
   ]
  },
  {
   "cell_type": "code",
   "execution_count": null,
   "id": "48125061-2118-4809-a95d-8b1c44e43994",
   "metadata": {},
   "outputs": [],
   "source": [
    "# 6. Write a program that counts the number of even and odd numbers in a list using a `for` loop.\n"
   ]
  },
  {
   "cell_type": "code",
   "execution_count": 19,
   "id": "763b6e45-06c5-4d17-8368-d44d39ec77a6",
   "metadata": {},
   "outputs": [
    {
     "data": {
      "text/plain": [
       "[1, 2, 3, 4, 5]"
      ]
     },
     "execution_count": 19,
     "metadata": {},
     "output_type": "execute_result"
    }
   ],
   "source": [
    "l"
   ]
  },
  {
   "cell_type": "code",
   "execution_count": 22,
   "id": "f577ac02-d5ea-4f98-a679-7c1bab826dea",
   "metadata": {},
   "outputs": [
    {
     "data": {
      "text/plain": [
       "[0, 2, 4]"
      ]
     },
     "execution_count": 22,
     "metadata": {},
     "output_type": "execute_result"
    }
   ],
   "source": [
    "list(range(0,5,2))"
   ]
  },
  {
   "cell_type": "code",
   "execution_count": 24,
   "id": "40baa0d1-4cab-4acd-9f1d-a4ce1a64572a",
   "metadata": {},
   "outputs": [
    {
     "data": {
      "text/plain": [
       "[1, 3, 5]"
      ]
     },
     "execution_count": 24,
     "metadata": {},
     "output_type": "execute_result"
    }
   ],
   "source": [
    "list(range(1,6,2))"
   ]
  },
  {
   "cell_type": "code",
   "execution_count": 7,
   "id": "babf294b-6d1d-4c11-9232-0147b8ff043a",
   "metadata": {},
   "outputs": [
    {
     "name": "stdout",
     "output_type": "stream",
     "text": [
      "0\n",
      "2\n",
      "4\n"
     ]
    }
   ],
   "source": [
    "for i in list(range(0,5,2)):\n",
    "    print(i)\n",
    "    "
   ]
  },
  {
   "cell_type": "code",
   "execution_count": 8,
   "id": "13e37a87-bdbe-458c-bd6a-0aee546136ba",
   "metadata": {},
   "outputs": [
    {
     "name": "stdout",
     "output_type": "stream",
     "text": [
      "1\n",
      "3\n",
      "5\n"
     ]
    }
   ],
   "source": [
    "for i in list(range(1,6,2)):\n",
    "    print(i)"
   ]
  },
  {
   "cell_type": "code",
   "execution_count": null,
   "id": "b6ccf207-3934-4651-937d-0186911fbab6",
   "metadata": {},
   "outputs": [],
   "source": [
    "# 11. Write a program to check if a given list contains any duplicates using a `for` loop.\n"
   ]
  },
  {
   "cell_type": "code",
   "execution_count": 6,
   "id": "d4aab818-125c-4963-b148-9a7d961ff838",
   "metadata": {},
   "outputs": [],
   "source": [
    "s = {1,1,2,3,4,4,4,5,5}"
   ]
  },
  {
   "cell_type": "code",
   "execution_count": 8,
   "id": "d0ce177b-03a8-4d07-9412-ce0b15aa9cb8",
   "metadata": {},
   "outputs": [
    {
     "data": {
      "text/plain": [
       "{1, 2, 3, 4, 5}"
      ]
     },
     "execution_count": 8,
     "metadata": {},
     "output_type": "execute_result"
    }
   ],
   "source": [
    "s"
   ]
  },
  {
   "cell_type": "code",
   "execution_count": 9,
   "id": "a25e31b8-8d78-4929-8044-9679b2649487",
   "metadata": {},
   "outputs": [
    {
     "data": {
      "text/plain": [
       "set"
      ]
     },
     "execution_count": 9,
     "metadata": {},
     "output_type": "execute_result"
    }
   ],
   "source": [
    "type(s)"
   ]
  },
  {
   "cell_type": "code",
   "execution_count": 10,
   "id": "a6b711c4-8866-41af-9007-7178c4258902",
   "metadata": {},
   "outputs": [
    {
     "name": "stdout",
     "output_type": "stream",
     "text": [
      "1\n",
      "2\n",
      "3\n",
      "4\n",
      "5\n"
     ]
    }
   ],
   "source": [
    "for i in s :                    # since loop prints less number of elemnets indicates list have \n",
    "    print(i)                      # some duplicates"
   ]
  },
  {
   "cell_type": "code",
   "execution_count": null,
   "id": "7948210d-b11a-4353-afc0-71d4ecd422fb",
   "metadata": {},
   "outputs": [],
   "source": [
    "# 12. Create a program that prints the prime numbers in a given range using a `for` loop"
   ]
  },
  {
   "cell_type": "code",
   "execution_count": 2,
   "id": "5a68d6bc-fce3-4a42-9276-f5cf10e4a713",
   "metadata": {},
   "outputs": [],
   "source": [
    "l =[0, 1, 2, 3, 4, 5, 6, 7, 8, 9, 10, 11, 12, 13, 14, 15, 16, 17, 18, 19]"
   ]
  },
  {
   "cell_type": "code",
   "execution_count": 3,
   "id": "47f5fcd3-c310-4885-8a6a-751a827b05a8",
   "metadata": {},
   "outputs": [
    {
     "data": {
      "text/plain": [
       "[0, 1, 2, 3, 4, 5, 6, 7, 8, 9, 10, 11, 12, 13, 14, 15, 16, 17, 18, 19]"
      ]
     },
     "execution_count": 3,
     "metadata": {},
     "output_type": "execute_result"
    }
   ],
   "source": [
    "l"
   ]
  },
  {
   "cell_type": "code",
   "execution_count": null,
   "id": "1786a07f-9274-405c-afa0-29b3778b48b1",
   "metadata": {},
   "outputs": [
    {
     "name": "stdin",
     "output_type": "stream",
     "text": [
      " 10\n"
     ]
    }
   ],
   "source": [
    "n = int(input())\n",
    "i = 2\n",
    "\n",
    "while(i<=n):\n",
    "    flag = 0\n",
    "    for var in range(2,i):\n",
    "        if (i%var==0):\n",
    "            flag = 1\n",
    "            break\n",
    "        if (flag ==0):\n",
    "            print(i,end='')\n",
    "            \n",
    "        i = i+1"
   ]
  },
  {
   "cell_type": "code",
   "execution_count": 9,
   "id": "c200dd37-7745-4ee2-a998-92589194740e",
   "metadata": {},
   "outputs": [
    {
     "name": "stdout",
     "output_type": "stream",
     "text": [
      "india\n",
      "uk\n",
      "germenry\n"
     ]
    }
   ],
   "source": [
    " # country=[\"india\",\"uk\",\"germenry\"]\n",
    "#for index in range(len(country)):\n",
    "   # print(country[index])"
   ]
  },
  {
   "cell_type": "code",
   "execution_count": null,
   "id": "794c1eff-7f3e-42f2-893a-5821e67aafa0",
   "metadata": {},
   "outputs": [],
   "source": []
  },
  {
   "cell_type": "code",
   "execution_count": null,
   "id": "9867d5ad-334b-4122-952c-b7e77ccb0a65",
   "metadata": {},
   "outputs": [],
   "source": []
  },
  {
   "cell_type": "code",
   "execution_count": null,
   "id": "b53a96a2-2bc8-4ec2-b52b-e08ac3b1ece3",
   "metadata": {},
   "outputs": [],
   "source": []
  },
  {
   "cell_type": "code",
   "execution_count": null,
   "id": "18f6b03f-7d95-4a6c-b165-0f459f85c492",
   "metadata": {},
   "outputs": [],
   "source": []
  },
  {
   "cell_type": "code",
   "execution_count": null,
   "id": "28ff4519-0a3a-4bf8-9381-fb15cc6a4123",
   "metadata": {},
   "outputs": [],
   "source": [
    "# 13. Develop a program that counts the number of vowels in a string using a `for` loop.\n"
   ]
  },
  {
   "cell_type": "code",
   "execution_count": 29,
   "id": "34ea70f5-2101-41c7-9714-47a966dacc7c",
   "metadata": {},
   "outputs": [],
   "source": [
    "l = []\n",
    "s = \"kalka howrah mail from kalka to howrah via delhi shahganj aligarh\"\n",
    "for i in s:\n",
    "    if (i == \"a\") or (i == \"e\") or (i == \"i\") or (i == \"o\") or (i == \"u\"):\n",
    "        l.append(i)\n",
    "        \n",
    "        \n",
    "        \n",
    "        "
   ]
  },
  {
   "cell_type": "code",
   "execution_count": 30,
   "id": "e92f5031-108b-4790-85c3-b7b6b098e8bd",
   "metadata": {},
   "outputs": [
    {
     "data": {
      "text/plain": [
       "21"
      ]
     },
     "execution_count": 30,
     "metadata": {},
     "output_type": "execute_result"
    }
   ],
   "source": [
    "len(l)"
   ]
  },
  {
   "cell_type": "code",
   "execution_count": null,
   "id": "0b9998a4-5b91-4153-9cd1-da6571468932",
   "metadata": {},
   "outputs": [],
   "source": [
    "# 14. Write a program to find the maximum element in a 2D list using a nested `for` loop.\n"
   ]
  },
  {
   "cell_type": "code",
   "execution_count": 40,
   "id": "beb5498b-b550-49c5-8a21-b24b887b61d8",
   "metadata": {},
   "outputs": [],
   "source": [
    "l = [5,4,3,2,23]\n",
    "for i in l:\n",
    "    for j in l:\n",
    "        \n",
    "        \n",
    "        \n",
    "        \n"
   ]
  },
  {
   "cell_type": "code",
   "execution_count": 45,
   "id": "4a7fe428-ac49-47c7-8543-a2da2736c132",
   "metadata": {},
   "outputs": [
    {
     "data": {
      "text/plain": [
       "3"
      ]
     },
     "execution_count": 45,
     "metadata": {},
     "output_type": "execute_result"
    }
   ],
   "source": [
    "l[n-1]"
   ]
  },
  {
   "cell_type": "code",
   "execution_count": null,
   "id": "96a14d6d-1e90-4db0-bbce-ad9c5bba018b",
   "metadata": {},
   "outputs": [],
   "source": [
    "for "
   ]
  },
  {
   "cell_type": "code",
   "execution_count": null,
   "id": "88ce4b36-5585-457e-8bee-9c4e5e6a2e2d",
   "metadata": {},
   "outputs": [],
   "source": [
    "# printing integers"
   ]
  },
  {
   "cell_type": "code",
   "execution_count": 7,
   "id": "e2a43bcc-7e0c-448c-b4ae-af888c2f3e99",
   "metadata": {},
   "outputs": [
    {
     "name": "stdin",
     "output_type": "stream",
     "text": [
      "enter the number 6\n"
     ]
    },
    {
     "name": "stdout",
     "output_type": "stream",
     "text": [
      "4\n",
      "3\n",
      "2\n",
      "1\n",
      "0\n",
      "-1\n",
      "-2\n",
      "-3\n",
      "-4\n",
      "-5\n"
     ]
    }
   ],
   "source": [
    "n = int(input(\"enter the number\"))\n",
    "i = n-1\n",
    "for n in range(0,10):\n",
    "    i = i-1\n",
    "    print(i)"
   ]
  },
  {
   "cell_type": "code",
   "execution_count": null,
   "id": "ffb7f6e0-eee7-4629-b3e1-a47ad5a12050",
   "metadata": {},
   "outputs": [],
   "source": [
    "# factorial with for loop just for fun"
   ]
  },
  {
   "cell_type": "code",
   "execution_count": 39,
   "id": "cbf7a567-875d-4302-9559-7ec0399b8161",
   "metadata": {},
   "outputs": [
    {
     "name": "stdout",
     "output_type": "stream",
     "text": [
      "1\n",
      "2\n",
      "6\n",
      "24\n",
      "120\n",
      "720\n"
     ]
    }
   ],
   "source": [
    "s = 1\n",
    "for a in list(range(2,8)):\n",
    "    a = a-1\n",
    "    s = a*s\n",
    "    print(s)"
   ]
  },
  {
   "cell_type": "code",
   "execution_count": null,
   "id": "e55df968-6e07-41ed-ae2e-1122ea6a7d0a",
   "metadata": {},
   "outputs": [],
   "source": [
    "# fibbonaci numbers with for loop just as fun"
   ]
  },
  {
   "cell_type": "code",
   "execution_count": 42,
   "id": "2a8e3771-3551-4ba9-9eeb-70e87def998c",
   "metadata": {},
   "outputs": [
    {
     "name": "stdout",
     "output_type": "stream",
     "text": [
      "1\n",
      "3\n",
      "6\n",
      "10\n",
      "15\n",
      "21\n",
      "28\n",
      "36\n",
      "45\n"
     ]
    }
   ],
   "source": [
    "s = 0\n",
    "for a in list(range(1,10)):\n",
    "    s = a+s\n",
    "    print(s)"
   ]
  },
  {
   "cell_type": "code",
   "execution_count": null,
   "id": "fe59c96b-0eee-4350-b286-8f4b4336aa02",
   "metadata": {},
   "outputs": [],
   "source": [
    "# print table using for loop just as fun "
   ]
  },
  {
   "cell_type": "code",
   "execution_count": 41,
   "id": "7a2dcb82-2751-4970-96ca-b38851dae2bc",
   "metadata": {},
   "outputs": [
    {
     "name": "stdout",
     "output_type": "stream",
     "text": [
      "6* 1 = 6\n",
      "6* 2 = 12\n",
      "6* 3 = 18\n",
      "6* 4 = 24\n",
      "6* 5 = 30\n",
      "6* 6 = 36\n",
      "6* 7 = 42\n",
      "6* 8 = 48\n",
      "6* 9 = 54\n",
      "6* 10 = 60\n"
     ]
    }
   ],
   "source": [
    "\n",
    "for i in range(1,11):\n",
    "    print(\"6*\",i,\"=\",6*i)"
   ]
  },
  {
   "cell_type": "code",
   "execution_count": null,
   "id": "b97d79c3-3907-4d3f-85af-cde53fd4f226",
   "metadata": {},
   "outputs": [],
   "source": [
    "# prime numbers using for loop"
   ]
  },
  {
   "cell_type": "code",
   "execution_count": null,
   "id": "e00436c1-93cc-4654-8d67-d5af4a40d729",
   "metadata": {},
   "outputs": [],
   "source": [
    "for i in range(2,21):\n",
    "    if i% 2:\n",
    "        print(\"2\")\n",
    "    else:\n",
    "        print(\"3\")\n",
    "        \n",
    "    \n",
    "        \n",
    "        "
   ]
  },
  {
   "cell_type": "code",
   "execution_count": null,
   "id": "730ce396-7937-4c3b-bcf4-16292a51e14a",
   "metadata": {},
   "outputs": [],
   "source": [
    "#13"
   ]
  },
  {
   "cell_type": "code",
   "execution_count": 17,
   "id": "47cd0252-c247-437a-bb1a-a096cb255625",
   "metadata": {},
   "outputs": [
    {
     "name": "stdout",
     "output_type": "stream",
     "text": [
      "['a']\n",
      "['a', 'a']\n",
      "['a', 'a', 'o']\n",
      "['a', 'a', 'o', 'a']\n",
      "['a', 'a', 'o', 'a', 'a']\n",
      "['a', 'a', 'o', 'a', 'a', 'i']\n",
      "['a', 'a', 'o', 'a', 'a', 'i', 'o']\n",
      "['a', 'a', 'o', 'a', 'a', 'i', 'o', 'a']\n",
      "['a', 'a', 'o', 'a', 'a', 'i', 'o', 'a', 'a']\n",
      "['a', 'a', 'o', 'a', 'a', 'i', 'o', 'a', 'a', 'o']\n",
      "['a', 'a', 'o', 'a', 'a', 'i', 'o', 'a', 'a', 'o', 'o']\n",
      "['a', 'a', 'o', 'a', 'a', 'i', 'o', 'a', 'a', 'o', 'o', 'a']\n",
      "['a', 'a', 'o', 'a', 'a', 'i', 'o', 'a', 'a', 'o', 'o', 'a', 'i']\n",
      "['a', 'a', 'o', 'a', 'a', 'i', 'o', 'a', 'a', 'o', 'o', 'a', 'i', 'a']\n",
      "['a', 'a', 'o', 'a', 'a', 'i', 'o', 'a', 'a', 'o', 'o', 'a', 'i', 'a', 'e']\n",
      "['a', 'a', 'o', 'a', 'a', 'i', 'o', 'a', 'a', 'o', 'o', 'a', 'i', 'a', 'e', 'i']\n",
      "['a', 'a', 'o', 'a', 'a', 'i', 'o', 'a', 'a', 'o', 'o', 'a', 'i', 'a', 'e', 'i', 'a']\n",
      "['a', 'a', 'o', 'a', 'a', 'i', 'o', 'a', 'a', 'o', 'o', 'a', 'i', 'a', 'e', 'i', 'a', 'a']\n",
      "['a', 'a', 'o', 'a', 'a', 'i', 'o', 'a', 'a', 'o', 'o', 'a', 'i', 'a', 'e', 'i', 'a', 'a', 'a']\n",
      "['a', 'a', 'o', 'a', 'a', 'i', 'o', 'a', 'a', 'o', 'o', 'a', 'i', 'a', 'e', 'i', 'a', 'a', 'a', 'i']\n",
      "['a', 'a', 'o', 'a', 'a', 'i', 'o', 'a', 'a', 'o', 'o', 'a', 'i', 'a', 'e', 'i', 'a', 'a', 'a', 'i', 'a']\n"
     ]
    }
   ],
   "source": [
    "l = []\n",
    "s = \"kalka howrah mail from kalka to howrah via delhi shahganj aligarh\"\n",
    "for i in s:\n",
    "    if (i == \"a\") or (i == \"e\") or (i == \"i\") or (i == \"o\") or (i == \"u\"):\n",
    "        l.append(i)\n",
    "        print(l)\n",
    "        \n",
    "        #this remains in the pdf because it looks nice like downfall ladders\n",
    "    "
   ]
  },
  {
   "cell_type": "code",
   "execution_count": null,
   "id": "3b27d9e7-54a0-4ab9-ade4-c50cdd76f221",
   "metadata": {},
   "outputs": [],
   "source": [
    "# 15. Create a program that removes all occurrences of a specific element from a list using a `for` loop.\n"
   ]
  },
  {
   "cell_type": "code",
   "execution_count": 41,
   "id": "a6441c85-74da-47da-8c1b-f652db83abfb",
   "metadata": {},
   "outputs": [],
   "source": [
    "l1 = [\"k\",\"a\",\"l\",\"k\",\"a\"]\n",
    "for i in l1:\n",
    "    if i==\"k\":\n",
    "        l1.remove(\"k\")"
   ]
  },
  {
   "cell_type": "code",
   "execution_count": 42,
   "id": "c185d969-bbb8-4dd3-9b05-5d5aa6823871",
   "metadata": {},
   "outputs": [
    {
     "data": {
      "text/plain": [
       "['a', 'l', 'a']"
      ]
     },
     "execution_count": 42,
     "metadata": {},
     "output_type": "execute_result"
    }
   ],
   "source": [
    "l1"
   ]
  },
  {
   "cell_type": "code",
   "execution_count": null,
   "id": "5fe75ccc-18a8-407b-9b7a-a63a784ccbec",
   "metadata": {},
   "outputs": [],
   "source": [
    "# 16 .Develop a program that generates a multiplication table for numbers from 1 to 5 using a nested `for` loop.\n"
   ]
  },
  {
   "cell_type": "code",
   "execution_count": 116,
   "id": "dcefd455-0b56-472d-a1da-db52460fd287",
   "metadata": {},
   "outputs": [
    {
     "name": "stdout",
     "output_type": "stream",
     "text": [
      "1\n",
      "2\n",
      "3\n",
      "4\n",
      "5\n",
      "6\n",
      "7\n",
      "8\n",
      "9\n",
      "10\n",
      "2\n",
      "4\n",
      "6\n",
      "8\n",
      "10\n",
      "12\n",
      "14\n",
      "16\n",
      "18\n",
      "20\n",
      "3\n",
      "6\n",
      "9\n",
      "12\n",
      "15\n",
      "18\n",
      "21\n",
      "24\n",
      "27\n",
      "30\n",
      "4\n",
      "8\n",
      "12\n",
      "16\n",
      "20\n",
      "24\n",
      "28\n",
      "32\n",
      "36\n",
      "40\n",
      "5\n",
      "10\n",
      "15\n",
      "20\n",
      "25\n",
      "30\n",
      "35\n",
      "40\n",
      "45\n",
      "50\n",
      "6\n",
      "12\n",
      "18\n",
      "24\n",
      "30\n",
      "36\n",
      "42\n",
      "48\n",
      "54\n",
      "60\n",
      "7\n",
      "14\n",
      "21\n",
      "28\n",
      "35\n",
      "42\n",
      "49\n",
      "56\n",
      "63\n",
      "70\n",
      "8\n",
      "16\n",
      "24\n",
      "32\n",
      "40\n",
      "48\n",
      "56\n",
      "64\n",
      "72\n",
      "80\n",
      "9\n",
      "18\n",
      "27\n",
      "36\n",
      "45\n",
      "54\n",
      "63\n",
      "72\n",
      "81\n",
      "90\n",
      "10\n",
      "20\n",
      "30\n",
      "40\n",
      "50\n",
      "60\n",
      "70\n",
      "80\n",
      "90\n",
      "100\n"
     ]
    }
   ],
   "source": [
    "\n",
    "for i in range(1,11):\n",
    "    for j in range(1,11):\n",
    "        print(i*j)\n",
    "        \n",
    "    "
   ]
  },
  {
   "cell_type": "code",
   "execution_count": null,
   "id": "59f3dd8f-e6e8-4445-9962-fbe16e317be2",
   "metadata": {},
   "outputs": [],
   "source": []
  },
  {
   "cell_type": "code",
   "execution_count": null,
   "id": "979700e3-1ec5-4509-ac7e-a1d699dcf67a",
   "metadata": {},
   "outputs": [],
   "source": [
    "# 17. Write a program that converts a list of Fahrenheit temperatures to Celsius using a `for` loop.\n"
   ]
  },
  {
   "cell_type": "code",
   "execution_count": 82,
   "id": "a7c01bd3-ca93-45d6-b17f-059a8722504b",
   "metadata": {},
   "outputs": [],
   "source": [
    "l2 = [50,41,68,59]\n",
    "l3 = []\n",
    "\n",
    "for i in l2:\n",
    "    f = (i-32)*5//9\n",
    "    l3.append(f)\n",
    "    "
   ]
  },
  {
   "cell_type": "code",
   "execution_count": 83,
   "id": "cca79f3c-223c-4026-b456-d32c579d27a1",
   "metadata": {},
   "outputs": [
    {
     "data": {
      "text/plain": [
       "[10, 5, 20, 15]"
      ]
     },
     "execution_count": 83,
     "metadata": {},
     "output_type": "execute_result"
    }
   ],
   "source": [
    "l3"
   ]
  },
  {
   "cell_type": "code",
   "execution_count": null,
   "id": "d834dacc-9a10-4a65-8387-8bcc48744dcd",
   "metadata": {},
   "outputs": [],
   "source": [
    "# 18. Create a program to print the common elements from two lists using a `for` loop"
   ]
  },
  {
   "cell_type": "code",
   "execution_count": 86,
   "id": "b2b15d30-87be-4248-9593-9f39a27e9898",
   "metadata": {},
   "outputs": [],
   "source": [
    "p = [1,2,3,4,5,6]\n",
    "p1 = [4,5,6,7,8,9]\n",
    "p2 =[]\n",
    "for i in p:\n",
    "    for j in p1:\n",
    "        if j==i:\n",
    "            p2.append(j)"
   ]
  },
  {
   "cell_type": "code",
   "execution_count": 87,
   "id": "3015b003-1f72-4cad-8e25-5ed34a76e882",
   "metadata": {},
   "outputs": [
    {
     "data": {
      "text/plain": [
       "[4, 5, 6]"
      ]
     },
     "execution_count": 87,
     "metadata": {},
     "output_type": "execute_result"
    }
   ],
   "source": [
    "p2"
   ]
  },
  {
   "cell_type": "code",
   "execution_count": null,
   "id": "dccca610-d9cb-4919-bc32-7ff59a67b133",
   "metadata": {},
   "outputs": [],
   "source": []
  },
  {
   "cell_type": "code",
   "execution_count": null,
   "id": "ddb23d1f-5e64-495f-a6aa-838eb1ec1e3c",
   "metadata": {},
   "outputs": [],
   "source": [
    "                             # nested for loop rehersal/practise"
   ]
  },
  {
   "cell_type": "code",
   "execution_count": null,
   "id": "099c89a7-9dcd-4390-9441-afe9db28fdd0",
   "metadata": {},
   "outputs": [],
   "source": [
    "#syntax:\n",
    "#outer loop:\n",
    "#       inner loop:\n",
    "#               statements of inner loop\n",
    "#        statements of outer loop"
   ]
  },
  {
   "cell_type": "code",
   "execution_count": null,
   "id": "28e6d589-c2d0-49cf-959b-316e5e083b38",
   "metadata": {},
   "outputs": [],
   "source": [
    "# 14. Write a program to find the maximum element in a 2D list using a nested `for` loop."
   ]
  },
  {
   "cell_type": "code",
   "execution_count": 114,
   "id": "9ec2228e-d4d8-467a-a7bb-64149ff8b139",
   "metadata": {},
   "outputs": [
    {
     "name": "stdout",
     "output_type": "stream",
     "text": [
      "3 2\n",
      "4 3\n",
      "5 4\n",
      "6 5\n",
      "4 2\n",
      "5 3\n",
      "6 4\n",
      "7 5\n",
      "5 2\n",
      "6 3\n",
      "7 4\n",
      "8 5\n"
     ]
    }
   ],
   "source": [
    "p3 = [1,2,3,4]\n",
    "for i in p3:\n",
    "    for j in p3:\n",
    "        if i>j:\n",
    "            i = i+1\n",
    "            j = j+1\n",
    "            \n",
    "            print(i,j)"
   ]
  },
  {
   "cell_type": "code",
   "execution_count": null,
   "id": "3fc53a67-a9ff-4438-ab83-3c3271cac595",
   "metadata": {},
   "outputs": [],
   "source": [
    "#19. Develop a program that prints the pattern of right-angled triangles using a `for` loop. Use ‘*’ to draw the pattern\n"
   ]
  },
  {
   "cell_type": "code",
   "execution_count": 99,
   "id": "6d12ace9-00e2-45a0-b348-5697fe910c42",
   "metadata": {},
   "outputs": [
    {
     "name": "stdout",
     "output_type": "stream",
     "text": [
      "['*']\n",
      "['*', '*']\n",
      "['*', '*', '*']\n",
      "['*', '*', '*', '*']\n",
      "['*', '*', '*', '*', '*']\n",
      "['*', '*', '*', '*', '*', '*']\n",
      "['*', '*', '*', '*', '*', '*', '*']\n",
      "['*', '*', '*', '*', '*', '*', '*', '*']\n",
      "['*', '*', '*', '*', '*', '*', '*', '*', '*']\n",
      "['*', '*', '*', '*', '*', '*', '*', '*', '*', '*']\n",
      "['*', '*', '*', '*', '*', '*', '*', '*', '*', '*', '*']\n"
     ]
    }
   ],
   "source": [
    "l = []\n",
    "s = \"***********\"\n",
    "for i in s:\n",
    "    if (i == \"*\") :\n",
    "        l.append(i)\n",
    "        print(l)\n",
    "        "
   ]
  },
  {
   "cell_type": "code",
   "execution_count": null,
   "id": "5b1783e7-f18e-41a6-bf6f-0f01aee27522",
   "metadata": {},
   "outputs": [],
   "source": [
    "# 20. Write a program to find the greatest common divisor (GCD) of two numbers using a `for` loop.\n",
    "\n"
   ]
  },
  {
   "cell_type": "code",
   "execution_count": 107,
   "id": "a403f904-f5bb-46f2-9640-0097bc46468c",
   "metadata": {},
   "outputs": [
    {
     "name": "stdout",
     "output_type": "stream",
     "text": [
      "4\n",
      "20\n",
      "120\n"
     ]
    }
   ],
   "source": [
    "p = [1,2,3,4,5,6]\n",
    "p1 = [4,5,6,7,8,9]\n",
    "p2 =[]\n",
    "prod = 1\n",
    "for i in p:\n",
    "    for j in p1:\n",
    "        if j==i:\n",
    "            prod = prod*j\n",
    "            print(prod)\n",
    "            "
   ]
  },
  {
   "cell_type": "code",
   "execution_count": 94,
   "id": "7522659b-3086-45b9-a17a-274c95fcf4ba",
   "metadata": {},
   "outputs": [
    {
     "data": {
      "text/plain": [
       "[0, 1, 2, 3, 4, 5]"
      ]
     },
     "execution_count": 94,
     "metadata": {},
     "output_type": "execute_result"
    }
   ],
   "source": [
    "list(range(0,6))"
   ]
  },
  {
   "cell_type": "code",
   "execution_count": null,
   "id": "94d9aaa2-2071-4807-b4a5-d3b92c068140",
   "metadata": {},
   "outputs": [],
   "source": []
  },
  {
   "cell_type": "code",
   "execution_count": null,
   "id": "e6ddfcb0-a98f-4dd2-9e0f-0bdb9f6e29a8",
   "metadata": {},
   "outputs": [],
   "source": [
    "# 21. Create a program that calculates the sum of the digits of numbers in a list using a list comprehension"
   ]
  },
  {
   "cell_type": "code",
   "execution_count": 8,
   "id": "eb661ae1-ee6a-40bc-9d35-3bc0c37683e5",
   "metadata": {},
   "outputs": [
    {
     "data": {
      "text/plain": [
       "54"
      ]
     },
     "execution_count": 8,
     "metadata": {},
     "output_type": "execute_result"
    }
   ],
   "source": [
    "l = [12,3,4,5,6,7,8,9]\n",
    "sum(i for i in l )\n"
   ]
  },
  {
   "cell_type": "code",
   "execution_count": null,
   "id": "dd212aae-3dd0-487d-ab76-0b29e23890d1",
   "metadata": {},
   "outputs": [],
   "source": [
    "# 25. Write a program to flatten a nested list using list comprehension.\n"
   ]
  },
  {
   "cell_type": "code",
   "execution_count": 9,
   "id": "bca07d55-0424-4041-aa70-d35c49b35995",
   "metadata": {},
   "outputs": [],
   "source": [
    "l1 = [[1,2,3,4],[5,6,7],[8,9,0]]\n",
    "in_list = [ elements for in_list in l1 for elements in in_list]"
   ]
  },
  {
   "cell_type": "code",
   "execution_count": 10,
   "id": "c69fb796-ac3d-4c5e-a5dc-4ca2802a92f5",
   "metadata": {},
   "outputs": [
    {
     "data": {
      "text/plain": [
       "[1, 2, 3, 4, 5, 6, 7, 8, 9, 0]"
      ]
     },
     "execution_count": 10,
     "metadata": {},
     "output_type": "execute_result"
    }
   ],
   "source": [
    "in_list"
   ]
  },
  {
   "cell_type": "code",
   "execution_count": null,
   "id": "37d032c5-16c0-4dfd-8064-1ac56e5ad642",
   "metadata": {},
   "outputs": [],
   "source": [
    "# 26. Develop a program that computes the sum of even and odd numbers in a list separately using list comprehension\n",
    "#"
   ]
  },
  {
   "cell_type": "code",
   "execution_count": 17,
   "id": "6dacfe7d-74c6-4f9d-8d96-7dd90e87073a",
   "metadata": {},
   "outputs": [
    {
     "data": {
      "text/plain": [
       "20"
      ]
     },
     "execution_count": 17,
     "metadata": {},
     "output_type": "execute_result"
    }
   ],
   "source": [
    "l = [1,2,3,4,5,6,7,8,9]\n",
    "sum(i for i in l if i%2==0)\n"
   ]
  },
  {
   "cell_type": "code",
   "execution_count": null,
   "id": "c1c4952e-fd40-4750-ad83-bbba91e8f832",
   "metadata": {},
   "outputs": [],
   "source": [
    "## 27. Create a program that generates a list of squares of odd numbers between 1 and 10 using list comprehension.\n"
   ]
  },
  {
   "cell_type": "code",
   "execution_count": 35,
   "id": "1938172d-e8ab-40fe-9cd1-01c48f02c8e8",
   "metadata": {},
   "outputs": [],
   "source": [
    "\n",
    "squares_of_odd_numbers = [ i**2 for i in range(1,11) if i%2!=0]\n"
   ]
  },
  {
   "cell_type": "code",
   "execution_count": 36,
   "id": "974551ff-f01b-4031-97c9-9ee33d57b873",
   "metadata": {},
   "outputs": [
    {
     "name": "stdout",
     "output_type": "stream",
     "text": [
      "[1, 9, 25, 49, 81]\n"
     ]
    }
   ],
   "source": [
    "print(squares_of_odd_numbers)"
   ]
  },
  {
   "cell_type": "code",
   "execution_count": null,
   "id": "457df9d3-e8c6-472f-830f-c2ff4774abb6",
   "metadata": {},
   "outputs": [],
   "source": [
    "# 28. Write a program that combines two lists into a dictionary using list comprehension  #"
   ]
  },
  {
   "cell_type": "code",
   "execution_count": 45,
   "id": "2af05444-d995-48e1-95be-0ee797172a7f",
   "metadata": {},
   "outputs": [
    {
     "name": "stdout",
     "output_type": "stream",
     "text": [
      "[5, 6, 7, 8, 6, 7, 8, 9, 7, 8, 9, 10, 8, 9, 10, 11]\n"
     ]
    }
   ],
   "source": [
    "print(conbine_of_lists)"
   ]
  },
  {
   "cell_type": "code",
   "execution_count": null,
   "id": "eed239c6-8367-43c5-b5ad-58b63791db82",
   "metadata": {},
   "outputs": [],
   "source": [
    "# 29. Develop a program that extracts the vowels from a string and stores them in a list using list comprehension"
   ]
  },
  {
   "cell_type": "code",
   "execution_count": 57,
   "id": "ba7620df-4ee1-4aa5-8784-0ea290358408",
   "metadata": {},
   "outputs": [],
   "source": [
    "s = \"north,east,express,kamakhya,anand vihar\"\n",
    "l4 = []\n",
    "vowels = [ l4.append(i) for i in s if (i==\"a\")or(i ==\"e\")or(i ==\"i\")or(i ==\"o\")or(i ==\"u\") ]"
   ]
  },
  {
   "cell_type": "code",
   "execution_count": 58,
   "id": "691a004e-a5b2-4a62-865e-6ae43e897fd7",
   "metadata": {},
   "outputs": [
    {
     "data": {
      "text/plain": [
       "['o', 'e', 'a', 'e', 'e', 'a', 'a', 'a', 'a', 'a', 'i', 'a']"
      ]
     },
     "execution_count": 58,
     "metadata": {},
     "output_type": "execute_result"
    }
   ],
   "source": [
    "l4"
   ]
  },
  {
   "cell_type": "code",
   "execution_count": null,
   "id": "b53e6f3f-ac5a-418b-85d2-b4fd7ac8a4ec",
   "metadata": {},
   "outputs": [],
   "source": [
    "# 23. Develop a program that extracts unique elements from a list and stores them in a new list using a list comprehension.\n"
   ]
  },
  {
   "cell_type": "code",
   "execution_count": 65,
   "id": "b5e26d0a-1fd4-4cb2-ac23-2b410269697d",
   "metadata": {},
   "outputs": [],
   "source": [
    "l4 = [[1,2,3],[4,5,6],[7.5,8j,9]]\n",
    "l5 =[]\n",
    "unique_elements = [l5.append(l4[0:1]) for i in l4 ]\n"
   ]
  },
  {
   "cell_type": "code",
   "execution_count": 66,
   "id": "07eb9533-8f7b-4f44-8b1e-5cf51e3bea92",
   "metadata": {},
   "outputs": [
    {
     "name": "stdout",
     "output_type": "stream",
     "text": [
      "[None, None, None]\n"
     ]
    }
   ],
   "source": [
    "print(unique_elements)"
   ]
  },
  {
   "cell_type": "code",
   "execution_count": 67,
   "id": "fc5ecbb1-b8bc-4700-b36d-eca71d9df4ad",
   "metadata": {},
   "outputs": [
    {
     "data": {
      "text/plain": [
       "[[[1, 2, 3]], [[1, 2, 3]], [[1, 2, 3]]]"
      ]
     },
     "execution_count": 67,
     "metadata": {},
     "output_type": "execute_result"
    }
   ],
   "source": [
    "l5"
   ]
  },
  {
   "cell_type": "code",
   "execution_count": null,
   "id": "7d3a38dc-0172-4546-84a8-cd8ba8d024ef",
   "metadata": {},
   "outputs": [],
   "source": [
    "# 24. Create a program that generates a list of all palindromic numbers up to a specified limit using a list comprehension"
   ]
  },
  {
   "cell_type": "code",
   "execution_count": null,
   "id": "d6fc0898-5145-4d02-8db9-8f473c7e499e",
   "metadata": {},
   "outputs": [],
   "source": [
    "s = \"lool\",\"papul\",\"roar\""
   ]
  },
  {
   "cell_type": "code",
   "execution_count": null,
   "id": "b2354d41-9938-470c-b1af-4aa8b23414bf",
   "metadata": {},
   "outputs": [],
   "source": [
    "# 26. Develop a program that computes the sum of even and odd numbers in a list separately using list comprehension.\n"
   ]
  },
  {
   "cell_type": "code",
   "execution_count": 22,
   "id": "b4f2d3e0-331a-4f93-a602-76c90e4b12d2",
   "metadata": {},
   "outputs": [],
   "source": [
    "l = [1,2,3,4,56,6,7,8,9]\n",
    "l1 = []\n",
    "l2 = []\n",
    "A =sum(i for i in l if i%2==0 )\n",
    "B = sum(i for i in l if i%2!=0)\n",
    "l1.append(A)\n",
    "l2.append(B)\n"
   ]
  },
  {
   "cell_type": "code",
   "execution_count": 23,
   "id": "33a7ae5f-9a95-46ba-a380-35121cce2696",
   "metadata": {},
   "outputs": [
    {
     "data": {
      "text/plain": [
       "[76]"
      ]
     },
     "execution_count": 23,
     "metadata": {},
     "output_type": "execute_result"
    }
   ],
   "source": [
    "l1"
   ]
  },
  {
   "cell_type": "code",
   "execution_count": 24,
   "id": "b42f5d5f-9d42-49ce-ad92-0a0ca7a30813",
   "metadata": {},
   "outputs": [
    {
     "data": {
      "text/plain": [
       "[20]"
      ]
     },
     "execution_count": 24,
     "metadata": {},
     "output_type": "execute_result"
    }
   ],
   "source": [
    "l2"
   ]
  },
  {
   "cell_type": "code",
   "execution_count": null,
   "id": "0194b108-6523-49f7-bc27-c1ca4a0038da",
   "metadata": {},
   "outputs": [],
   "source": [
    "# 30. Create a program that removes all non-numeric characters from a list of strings using list comprehension"
   ]
  },
  {
   "cell_type": "code",
   "execution_count": 81,
   "id": "b0269eb0-18c3-4150-af28-b85805781e10",
   "metadata": {},
   "outputs": [],
   "source": [
    "s = [\"123\",\"kalka\",\"howrah\",\"mail\",\"124\",\"gomti\",\"express\"]\n",
    "s1 =[]\n",
    "non_numeric = [ i for i in s if (i==\"1\")or(i==\"2\")or(i==\"3\")or(i==\"4\")]"
   ]
  },
  {
   "cell_type": "code",
   "execution_count": 82,
   "id": "e4c4952c-321d-4f64-aa5b-cb9f4b41c7fd",
   "metadata": {},
   "outputs": [
    {
     "name": "stdout",
     "output_type": "stream",
     "text": [
      "[]\n"
     ]
    }
   ],
   "source": [
    "print(non_numeric)"
   ]
  },
  {
   "cell_type": "code",
   "execution_count": 86,
   "id": "f21be48b-150e-42e2-b41d-8078ded9263a",
   "metadata": {},
   "outputs": [],
   "source": [
    "l = [1,2,4,5,5,6,6]"
   ]
  },
  {
   "cell_type": "code",
   "execution_count": 89,
   "id": "47b06cb7-587a-4d95-8b5a-2a29716015cc",
   "metadata": {},
   "outputs": [
    {
     "data": {
      "text/plain": [
       "4"
      ]
     },
     "execution_count": 89,
     "metadata": {},
     "output_type": "execute_result"
    }
   ],
   "source": [
    "l[0+2]"
   ]
  },
  {
   "cell_type": "code",
   "execution_count": null,
   "id": "d4c2c189-976c-40a3-ba38-9097ee7b81f4",
   "metadata": {},
   "outputs": [],
   "source": [
    "# 22. Write a program to find the prime factors of a given number using a `for` loop and list comprehension.\n"
   ]
  },
  {
   "cell_type": "code",
   "execution_count": 3,
   "id": "bfb15a5a-93c8-4d17-b260-8a407cd4b6fb",
   "metadata": {},
   "outputs": [],
   "source": [
    "\n",
    "prime = [i for i in range(2,100) if check_prime(i)]\n",
    "        "
   ]
  },
  {
   "cell_type": "code",
   "execution_count": 4,
   "id": "1ba68829-387e-42af-a7e0-71f852617bb4",
   "metadata": {},
   "outputs": [
    {
     "data": {
      "text/plain": [
       "True"
      ]
     },
     "execution_count": 4,
     "metadata": {},
     "output_type": "execute_result"
    }
   ],
   "source": [
    "check_prime(29)"
   ]
  },
  {
   "cell_type": "code",
   "execution_count": 5,
   "id": "fb5d826b-95e8-484d-b749-3463d6f8f91d",
   "metadata": {},
   "outputs": [],
   "source": [
    "prime = [i for i in range(2,100) if check_prime(i)]"
   ]
  },
  {
   "cell_type": "code",
   "execution_count": 6,
   "id": "5214e8a4-c2da-42dc-bdf3-cb0904752ed1",
   "metadata": {},
   "outputs": [
    {
     "data": {
      "text/plain": [
       "True"
      ]
     },
     "execution_count": 6,
     "metadata": {},
     "output_type": "execute_result"
    }
   ],
   "source": [
    "check_prime(29)"
   ]
  },
  {
   "cell_type": "code",
   "execution_count": null,
   "id": "bd4fac57-5cbb-486b-b4fc-8aa5319cbee8",
   "metadata": {},
   "outputs": [],
   "source": []
  }
 ],
 "metadata": {
  "kernelspec": {
   "display_name": "Python 3 (ipykernel)",
   "language": "python",
   "name": "python3"
  },
  "language_info": {
   "codemirror_mode": {
    "name": "ipython",
    "version": 3
   },
   "file_extension": ".py",
   "mimetype": "text/x-python",
   "name": "python",
   "nbconvert_exporter": "python",
   "pygments_lexer": "ipython3",
   "version": "3.10.8"
  }
 },
 "nbformat": 4,
 "nbformat_minor": 5
}
