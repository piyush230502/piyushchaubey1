{
 "cells": [
  {
   "cell_type": "code",
   "execution_count": 20,
   "id": "73127619-279f-4875-b817-413caa695de1",
   "metadata": {},
   "outputs": [
    {
     "data": {
      "text/plain": [
       "'True'"
      ]
     },
     "execution_count": 20,
     "metadata": {},
     "output_type": "execute_result"
    }
   ],
   "source": [
    "# 1. Given an array, check if it contains any duplicates or not\n",
    "# time complexity: o(n)\n",
    "# space comlexity: o(1)\n",
    "def checkduplicate(arr):\n",
    "    for i in range(6):\n",
    "        if i==i:\n",
    "            return \"True\"\n",
    "#source code\n",
    "arr = [1, 2, 4, 2, 5, 9]\n",
    "checkduplicate(arr)"
   ]
  },
  {
   "cell_type": "code",
   "execution_count": null,
   "id": "904a4246-50cd-4bae-84a5-4e80e6dead79",
   "metadata": {},
   "outputs": [],
   "source": []
  },
  {
   "cell_type": "code",
   "execution_count": 17,
   "id": "e558be1f-7d29-47b2-b533-594fc0f270f4",
   "metadata": {},
   "outputs": [
    {
     "name": "stdout",
     "output_type": "stream",
     "text": [
      "[[5, 6, 7], [1, 2, 3, 4]]\n"
     ]
    }
   ],
   "source": [
    "# 2. Given an array and an integer k, rotate the array to the right by k steps.\n",
    "# time complexity:o(n)\n",
    "# space complexity:o(1)\n",
    "for i in range(7):\n",
    "    if i==4:\n",
    "        arr.reverse()\n",
    "        print(arr)\n",
    "        \n",
    "#source code\n",
    "arr = [[1, 2, 3, 4],[ 5, 6, 7]]\n",
    "k = 3"
   ]
  },
  {
   "cell_type": "code",
   "execution_count": 33,
   "id": "c8d64417-075d-4416-b1ec-b455bf5d2ac7",
   "metadata": {},
   "outputs": [
    {
     "name": "stdout",
     "output_type": "stream",
     "text": [
      "[12, 9, 7, 5, 4, 2]\n"
     ]
    }
   ],
   "source": [
    "# 3. Reverse the given array in-place, means without using any extra data structure.\n",
    "# time complexity:o(1)\n",
    "# space complexity :o(1)\n",
    "def reverse(arr):\n",
    "    \n",
    "    if len(arr) == 1:\n",
    "        return len(arr)\n",
    "    else:\n",
    "        return arr[::-1]\n",
    "#source code\n",
    "arr = [2, 4, 5, 7, 9, 12]\n",
    " \n",
    "print(reverse(arr))"
   ]
  },
  {
   "cell_type": "code",
   "execution_count": 16,
   "id": "4addc293-7b4c-49ee-a1b8-494918354a1c",
   "metadata": {},
   "outputs": [
    {
     "name": "stdout",
     "output_type": "stream",
     "text": [
      "20\n"
     ]
    }
   ],
   "source": [
    "#4. Given an array of integers, find the maximum element in an array\n",
    "# time complexity: o(n)\n",
    "# space complexity: o(1)\n",
    "def maximum(arr):\n",
    "    max = arr[0]\n",
    "    for i in arr:\n",
    "        if i>max:\n",
    "            max=i\n",
    "    return max\n",
    "            \n",
    "       \n",
    "#source code\n",
    "arr = [10, 5, 20, 8, 15]\n",
    "target= 20\n",
    "print(maximum(arr))\n"
   ]
  },
  {
   "cell_type": "code",
   "execution_count": 2,
   "id": "2728ac60-caa1-42d4-8e71-d5406d311d67",
   "metadata": {},
   "outputs": [
    {
     "name": "stdout",
     "output_type": "stream",
     "text": [
      "[1, 2, 3, 4, 5]\n"
     ]
    }
   ],
   "source": [
    "# 5. Given a sorted array, remove the duplicate element without using any extra data structure.\n",
    "# time complexity:o(n)\n",
    "# space complexity:o(n)\n",
    "def remove_dup(arr):\n",
    "    outduplist=[]\n",
    "    for element in arr:\n",
    "        if element not in outduplist:\n",
    "            outduplist.append(element)\n",
    "            \n",
    "    return outduplist\n",
    "        \n",
    "        \n",
    "            \n",
    "# source code\n",
    "arr = [1, 1, 2, 2, 2, 3, 3, 4, 4, 4, 5, 5]\n",
    "target = [1, 2, 3, 4, 5,0,0,0,0,0,0,0]\n",
    "print(remove_dup(arr))\n",
    "    "
   ]
  }
 ],
 "metadata": {
  "kernelspec": {
   "display_name": "Python 3 (ipykernel)",
   "language": "python",
   "name": "python3"
  },
  "language_info": {
   "codemirror_mode": {
    "name": "ipython",
    "version": 3
   },
   "file_extension": ".py",
   "mimetype": "text/x-python",
   "name": "python",
   "nbconvert_exporter": "python",
   "pygments_lexer": "ipython3",
   "version": "3.10.8"
  }
 },
 "nbformat": 4,
 "nbformat_minor": 5
}
