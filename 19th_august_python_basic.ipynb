{
 "cells": [
  {
   "cell_type": "code",
   "execution_count": null,
   "id": "3d774699-3edf-491b-8b1f-8f8161442174",
   "metadata": {},
   "outputs": [],
   "source": [
    "# 1. Declare two variables, `x` and `y`, and assign them integer values. Swap the\n",
    " # values of these variables without using any temporary variable."
   ]
  },
  {
   "cell_type": "code",
   "execution_count": 1,
   "id": "3f914ca0-4b47-499e-b7a0-4954a45dd9fa",
   "metadata": {},
   "outputs": [],
   "source": [
    "x = 1"
   ]
  },
  {
   "cell_type": "code",
   "execution_count": 2,
   "id": "686520f3-0265-47c0-94b1-d9709e60977b",
   "metadata": {},
   "outputs": [
    {
     "data": {
      "text/plain": [
       "1"
      ]
     },
     "execution_count": 2,
     "metadata": {},
     "output_type": "execute_result"
    }
   ],
   "source": [
    "x\n"
   ]
  },
  {
   "cell_type": "code",
   "execution_count": 3,
   "id": "60f4fb25-cb5b-4969-9f44-fecaf2183185",
   "metadata": {},
   "outputs": [],
   "source": [
    "y = 4"
   ]
  },
  {
   "cell_type": "code",
   "execution_count": 4,
   "id": "54605df4-5fa1-43f3-ae79-767201aea49c",
   "metadata": {},
   "outputs": [],
   "source": [
    "x,y = y,x"
   ]
  },
  {
   "cell_type": "code",
   "execution_count": 5,
   "id": "df5bfc56-98a2-4a1d-8ff9-32be2355c42b",
   "metadata": {},
   "outputs": [
    {
     "data": {
      "text/plain": [
       "4"
      ]
     },
     "execution_count": 5,
     "metadata": {},
     "output_type": "execute_result"
    }
   ],
   "source": [
    "x"
   ]
  },
  {
   "cell_type": "code",
   "execution_count": 6,
   "id": "727aebc6-c65b-4a57-a52a-68043ccc3e1a",
   "metadata": {},
   "outputs": [
    {
     "data": {
      "text/plain": [
       "1"
      ]
     },
     "execution_count": 6,
     "metadata": {},
     "output_type": "execute_result"
    }
   ],
   "source": [
    "y"
   ]
  },
  {
   "cell_type": "code",
   "execution_count": null,
   "id": "214f0140-24c5-43cd-ad3d-2241249f3970",
   "metadata": {},
   "outputs": [],
   "source": [
    "# 2. Create a program that calculates the area of a rectangle. Take the length andwidth as inputs from the user and store them in variables. Calculate anddisplay the area"
   ]
  },
  {
   "cell_type": "code",
   "execution_count": 7,
   "id": "f45a59d6-9ea4-4acf-9f8f-f3b857b72676",
   "metadata": {},
   "outputs": [
    {
     "name": "stdin",
     "output_type": "stream",
     "text": [
      "enter the length of rectangle: 6\n"
     ]
    }
   ],
   "source": [
    "length = float(input('enter the length of rectangle:'))"
   ]
  },
  {
   "cell_type": "code",
   "execution_count": 8,
   "id": "6311656c-dce2-4758-9c6b-22eda6d46a7c",
   "metadata": {},
   "outputs": [
    {
     "name": "stdin",
     "output_type": "stream",
     "text": [
      "enter the width of rectangle: 5\n"
     ]
    },
    {
     "name": "stdout",
     "output_type": "stream",
     "text": [
      "the area of rectangle is  30.0\n"
     ]
    }
   ],
   "source": [
    " width = float(input('enter the width of rectangle:'))\n",
    "area = length*width\n",
    "print('the area of rectangle is ', area)"
   ]
  },
  {
   "cell_type": "code",
   "execution_count": null,
   "id": "60441065-c0d7-49fe-8d14-e7f72245f8c1",
   "metadata": {},
   "outputs": [],
   "source": [
    "# 3. Write a Python program that converts temperatures from Celsius toFahrenheit. Take the temperature in Celsius as input, store it in a variable,convert it to Fahrenheit, and display the result"
   ]
  },
  {
   "cell_type": "code",
   "execution_count": 11,
   "id": "3d9d46ab-72c5-44be-a98c-9ad97f0e2f1d",
   "metadata": {},
   "outputs": [
    {
     "name": "stdin",
     "output_type": "stream",
     "text": [
      "enter the value of temperature in celcius: 7\n"
     ]
    },
    {
     "data": {
      "text/plain": [
       "7.0"
      ]
     },
     "execution_count": 11,
     "metadata": {},
     "output_type": "execute_result"
    }
   ],
   "source": [
    "\n",
    "celcius = float(input('enter the value of temperature in celcius:'))\n",
    "f = (celcius*1.8)+32\n",
    "celcius"
   ]
  },
  {
   "cell_type": "code",
   "execution_count": null,
   "id": "dba9fd4d-7719-42db-8dd9-1e717bcab025",
   "metadata": {},
   "outputs": [],
   "source": [
    "# 1. Write a Python program that takes a string as input and prints the length ofthe string."
   ]
  },
  {
   "cell_type": "code",
   "execution_count": 12,
   "id": "c303705a-051c-412f-aebc-597def70dca2",
   "metadata": {},
   "outputs": [
    {
     "name": "stdin",
     "output_type": "stream",
     "text": [
      "enter the value of string: 7\n"
     ]
    },
    {
     "data": {
      "text/plain": [
       "1"
      ]
     },
     "execution_count": 12,
     "metadata": {},
     "output_type": "execute_result"
    }
   ],
   "source": [
    " str = (input('enter the value of string:'))\n",
    "len(str)"
   ]
  },
  {
   "cell_type": "code",
   "execution_count": null,
   "id": "db2cd211-67b7-4073-94b2-78ee4266cdd0",
   "metadata": {},
   "outputs": [],
   "source": [
    "# 2. Create a program that takes a sentence from the user and counts the numberof vowels (a, e, i, o, u) in the string."
   ]
  },
  {
   "cell_type": "code",
   "execution_count": 14,
   "id": "257cb408-3725-4788-86ac-4a206cb33b41",
   "metadata": {},
   "outputs": [
    {
     "name": "stdout",
     "output_type": "stream",
     "text": [
      "number of vowel 9\n"
     ]
    }
   ],
   "source": [
    "s1 = (' my name is piyush')\n",
    "count = len('a,e,i,o,u')\n",
    "print('number of vowel', count)"
   ]
  },
  {
   "cell_type": "code",
   "execution_count": null,
   "id": "5a9f091e-55e0-4192-b30e-0ef41ab13ffe",
   "metadata": {},
   "outputs": [],
   "source": [
    "# 3. Given a string, reverse the order of characters using string slicing and printthe reversed string"
   ]
  },
  {
   "cell_type": "code",
   "execution_count": 15,
   "id": "143715ef-a968-467a-8899-924d0e49b883",
   "metadata": {},
   "outputs": [
    {
     "data": {
      "text/plain": [
       "'5,4,3,2'"
      ]
     },
     "execution_count": 15,
     "metadata": {},
     "output_type": "execute_result"
    }
   ],
   "source": [
    " s2 = '2,3,4,5'\n",
    "s2[::-1]"
   ]
  },
  {
   "cell_type": "code",
   "execution_count": null,
   "id": "3770f312-e92c-45e0-a6bf-758397f1bc70",
   "metadata": {},
   "outputs": [],
   "source": [
    "# 4 Write a program that takes a string as input and checks if it is a palindrome(reads the same forwards and backwards"
   ]
  },
  {
   "cell_type": "code",
   "execution_count": 18,
   "id": "e140465b-ba96-4f53-8741-5c13d5d951f8",
   "metadata": {},
   "outputs": [
    {
     "name": "stdin",
     "output_type": "stream",
     "text": [
      "enter the value of string: radar\n"
     ]
    },
    {
     "data": {
      "text/plain": [
       "True"
      ]
     },
     "execution_count": 18,
     "metadata": {},
     "output_type": "execute_result"
    }
   ],
   "source": [
    " s = (input('enter the value of string:'))\n",
    "s[::-1]\n",
    " s == s[::-1]"
   ]
  },
  {
   "cell_type": "code",
   "execution_count": null,
   "id": "62a9ce3f-4ac6-4cc7-b896-afecba4073bd",
   "metadata": {},
   "outputs": [],
   "source": [
    "# 5. Create a program that takes a string as input and removes all the spaces fromit. Print the modified string without spaces."
   ]
  },
  {
   "cell_type": "code",
   "execution_count": 17,
   "id": "9a3e899a-53ac-4a50-88e2-e28e9e7f25a5",
   "metadata": {},
   "outputs": [
    {
     "name": "stdin",
     "output_type": "stream",
     "text": [
      "enter the value of string: 7 6\n"
     ]
    },
    {
     "data": {
      "text/plain": [
       "'76'"
      ]
     },
     "execution_count": 17,
     "metadata": {},
     "output_type": "execute_result"
    }
   ],
   "source": [
    "s1 = (input ('enter the value of string:'))\n",
    "s1.replace(' ','')"
   ]
  },
  {
   "cell_type": "code",
   "execution_count": null,
   "id": "8a71cf77-e113-47b1-a021-d307decdb593",
   "metadata": {},
   "outputs": [],
   "source": []
  }
 ],
 "metadata": {
  "kernelspec": {
   "display_name": "Python 3 (ipykernel)",
   "language": "python",
   "name": "python3"
  },
  "language_info": {
   "codemirror_mode": {
    "name": "ipython",
    "version": 3
   },
   "file_extension": ".py",
   "mimetype": "text/x-python",
   "name": "python",
   "nbconvert_exporter": "python",
   "pygments_lexer": "ipython3",
   "version": "3.10.8"
  }
 },
 "nbformat": 4,
 "nbformat_minor": 5
}
