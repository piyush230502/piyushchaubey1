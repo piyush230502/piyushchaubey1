{
 "cells": [
  {
   "cell_type": "code",
   "execution_count": null,
   "id": "c17f20a2-b075-4fef-b22f-1e5e3785c1dd",
   "metadata": {},
   "outputs": [],
   "source": [
    "                                            # STRINGS"
   ]
  },
  {
   "cell_type": "code",
   "execution_count": 12,
   "id": "d0d52933-db98-4b08-9ef2-c605bfd39c98",
   "metadata": {},
   "outputs": [
    {
     "data": {
      "text/plain": [
       "'hsuyip'"
      ]
     },
     "execution_count": 12,
     "metadata": {},
     "output_type": "execute_result"
    }
   ],
   "source": [
    "\n",
    "# 1. Write a program to reverse a string.\n",
    "s1 = \"piyush\"\n",
    "s1 = \"piyush\"\n",
    "s1\n",
    "'piyush'\n",
    "s1[0]\n",
    "'p'\n",
    "s1[0:4]\n",
    "'piyu'\n",
    "s1[::-1]\n",
    "'hsuyip'"
   ]
  },
  {
   "cell_type": "code",
   "execution_count": 11,
   "id": "d8cd625d-b06e-4445-a264-8de8889b1737",
   "metadata": {},
   "outputs": [
    {
     "data": {
      "text/plain": [
       "False"
      ]
     },
     "execution_count": 11,
     "metadata": {},
     "output_type": "execute_result"
    }
   ],
   "source": [
    "\n",
    "# 2. Check if a string is a palindrome.\n",
    "s1[0:]\n",
    "'piyush'\n",
    "s1[::-1\n",
    "  ]\n",
    "'hsuyip'\n",
    "s1 == s1[::-1]\n",
    "False"
   ]
  },
  {
   "cell_type": "code",
   "execution_count": 14,
   "id": "bf1d350f-158d-42bd-bc91-e3e1087ce479",
   "metadata": {},
   "outputs": [
    {
     "data": {
      "text/plain": [
       "'PIYUSH'"
      ]
     },
     "execution_count": 14,
     "metadata": {},
     "output_type": "execute_result"
    }
   ],
   "source": [
    "\n",
    "s1 \n",
    "'piyush'\n",
    "s1.upper()\n",
    "\n"
   ]
  },
  {
   "cell_type": "code",
   "execution_count": 15,
   "id": "8a3f164f-5249-4290-82a9-a045717d37ec",
   "metadata": {},
   "outputs": [
    {
     "data": {
      "text/plain": [
       "'chaubey'"
      ]
     },
     "execution_count": 15,
     "metadata": {},
     "output_type": "execute_result"
    }
   ],
   "source": [
    "\n",
    "# 4. Convert a string to lowercase.\n",
    "s1\n",
    "'piyush'\n",
    "s2 =\"CHAUBEY\"\n",
    "s2\n",
    "'CHAUBEY'\n",
    "s2.lower()\n",
    "'chaubey'"
   ]
  },
  {
   "cell_type": "code",
   "execution_count": 16,
   "id": "4400ae73-9cf9-4d98-9974-acdb8a3891b2",
   "metadata": {},
   "outputs": [
    {
     "data": {
      "text/plain": [
       "'farrakaexpress'"
      ]
     },
     "execution_count": 16,
     "metadata": {},
     "output_type": "execute_result"
    }
   ],
   "source": [
    "\n",
    "# 7. Remove all whitespaces from a string.\n",
    "s3 = \"farraka express\"\n",
    "s3\n",
    "'farraka express'\n",
    "s3.replace(' ','')\n",
    "'farrakaexpress'"
   ]
  },
  {
   "cell_type": "code",
   "execution_count": 17,
   "id": "4865ac25-9901-450b-920f-2328f92f220d",
   "metadata": {},
   "outputs": [
    {
     "data": {
      "text/plain": [
       "7"
      ]
     },
     "execution_count": 17,
     "metadata": {},
     "output_type": "execute_result"
    }
   ],
   "source": [
    "\n",
    "# 8. Find the length of a string with using the `len()` function.\n",
    "s3\n",
    "'farraka express'\n",
    "len(s2)\n",
    "7"
   ]
  },
  {
   "cell_type": "code",
   "execution_count": 18,
   "id": "9253233c-2c40-4122-9d0f-971c329add4c",
   "metadata": {},
   "outputs": [
    {
     "data": {
      "text/plain": [
       "'piyush'"
      ]
     },
     "execution_count": 18,
     "metadata": {},
     "output_type": "execute_result"
    }
   ],
   "source": [
    "\n",
    "# 9. Check if a string contains a specific word.\n",
    "s1.count('y')\n",
    "1\n",
    "s1\n",
    "'piyush'"
   ]
  },
  {
   "cell_type": "code",
   "execution_count": 19,
   "id": "719ece5c-e747-4bfa-afe3-902e785ca6a4",
   "metadata": {},
   "outputs": [
    {
     "data": {
      "text/plain": [
       "'CHUUBEY'"
      ]
     },
     "execution_count": 19,
     "metadata": {},
     "output_type": "execute_result"
    }
   ],
   "source": [
    "\n",
    "# 10. Replace a word in a string with another word.\n",
    "s2\n",
    "'CHAUBEY'\n",
    "s2.replace('A','U')\n",
    "'CHUUBEY'"
   ]
  },
  {
   "cell_type": "code",
   "execution_count": 21,
   "id": "57663714-2bae-476c-a62a-d37d412c2c11",
   "metadata": {},
   "outputs": [
    {
     "data": {
      "text/plain": [
       "1"
      ]
     },
     "execution_count": 21,
     "metadata": {},
     "output_type": "execute_result"
    }
   ],
   "source": [
    "\n",
    "# 11. Count the occurrences of a word in a string.\n",
    "s2\n",
    "\n",
    "'CHAUBEY'\n",
    "s2.count('U')\n",
    "1"
   ]
  },
  {
   "cell_type": "code",
   "execution_count": 22,
   "id": "5eb61caa-45ba-4500-ae17-f2f083500bb0",
   "metadata": {},
   "outputs": [
    {
     "data": {
      "text/plain": [
       "'p'"
      ]
     },
     "execution_count": 22,
     "metadata": {},
     "output_type": "execute_result"
    }
   ],
   "source": [
    "\n",
    "#12 Find the first occurrence of a word in a string.\n",
    "\n",
    "s1\n",
    "'piyush'\n",
    "s1[0]\n",
    "'p'"
   ]
  },
  {
   "cell_type": "code",
   "execution_count": 24,
   "id": "283b8549-dc43-4716-a940-509553f07958",
   "metadata": {},
   "outputs": [
    {
     "data": {
      "text/plain": [
       "'h'"
      ]
     },
     "execution_count": 24,
     "metadata": {},
     "output_type": "execute_result"
    }
   ],
   "source": [
    "\n",
    "# 13. Find the last occurrence of a word in a string.\n",
    "s1\n",
    "'piyush'\n",
    "s1[5]\n"
   ]
  },
  {
   "cell_type": "code",
   "execution_count": 25,
   "id": "df087f93-f10d-44d2-b3ef-7b7869171b18",
   "metadata": {},
   "outputs": [
    {
     "data": {
      "text/plain": [
       "['square', 'of', '26', 'is', '676']"
      ]
     },
     "execution_count": 25,
     "metadata": {},
     "output_type": "execute_result"
    }
   ],
   "source": [
    "\n",
    "\n",
    "# 14. Split a string into a list of words.\n",
    "\n",
    "s4 = \"square of 26 is 676\"\n",
    "s4\n",
    "'square of 26 is 676'\n",
    "s4.split()"
   ]
  },
  {
   "cell_type": "code",
   "execution_count": 29,
   "id": "55d86e27-4046-4187-90c5-7052b613fd40",
   "metadata": {},
   "outputs": [
    {
     "data": {
      "text/plain": [
       "'neelanchal_express'"
      ]
     },
     "execution_count": 29,
     "metadata": {},
     "output_type": "execute_result"
    }
   ],
   "source": [
    "\n",
    "\n",
    "\n",
    "# 16. Convert a string where words are separated by spaces to one where words\n",
    "# are separated by underscores.\n",
    "s5 =  \"neelanchal express\"\n",
    "'neelanchal express'\n",
    "s5.replace(' ','_')\n",
    "'neelanchal_express'\n"
   ]
  },
  {
   "cell_type": "code",
   "execution_count": 30,
   "id": "fed3366b-a35e-4309-a87d-cc4404aeb5e7",
   "metadata": {},
   "outputs": [
    {
     "data": {
      "text/plain": [
       "True"
      ]
     },
     "execution_count": 30,
     "metadata": {},
     "output_type": "execute_result"
    }
   ],
   "source": [
    "\n",
    "# 17. Check if a string starts with a specific word or phrase.\n",
    "s5\n",
    "'neelanchal express'\n",
    "s5.startswith('n')\n",
    "True"
   ]
  },
  {
   "cell_type": "code",
   "execution_count": 31,
   "id": "83278a4b-1989-481f-b3fe-db8812d55f56",
   "metadata": {},
   "outputs": [
    {
     "data": {
      "text/plain": [
       "True"
      ]
     },
     "execution_count": 31,
     "metadata": {},
     "output_type": "execute_result"
    }
   ],
   "source": [
    "\n",
    "# 18. Check if a string ends with a specific word or phrase.\n",
    "s5.endswith('a')\n",
    "False\n",
    "s5.endswith('ss')\n",
    "True"
   ]
  },
  {
   "cell_type": "code",
   "execution_count": 32,
   "id": "4cd090d4-f187-4819-a7e9-03256e1ff005",
   "metadata": {},
   "outputs": [
    {
     "data": {
      "text/plain": [
       "'Neelanchal Express'"
      ]
     },
     "execution_count": 32,
     "metadata": {},
     "output_type": "execute_result"
    }
   ],
   "source": [
    "\n",
    "# 19. Convert a string to title case (e.g., \"hello world\" to \"Hello World\").\n",
    "s5\n",
    "'neelanchal express'\n",
    "s5.title()\n",
    "'Neelanchal Express'"
   ]
  },
  {
   "cell_type": "code",
   "execution_count": 33,
   "id": "cd046a08-f22a-43e9-8b14-34ec971cb6d0",
   "metadata": {},
   "outputs": [
    {
     "data": {
      "text/plain": [
       "6"
      ]
     },
     "execution_count": 33,
     "metadata": {},
     "output_type": "execute_result"
    }
   ],
   "source": [
    "\n",
    "# 20. Find the longest word in a string.\n",
    "s6 =(\"kalka howrah mail\")\n",
    "s6\n",
    "'kalka howrah mail'\n",
    "s6.split()\n",
    "['kalka', 'howrah', 'mail']\n",
    "len('howrah')\n",
    "6"
   ]
  },
  {
   "cell_type": "code",
   "execution_count": 34,
   "id": "70ae9284-a4c7-4743-b20e-17dd82b81d01",
   "metadata": {},
   "outputs": [
    {
     "data": {
      "text/plain": [
       "4"
      ]
     },
     "execution_count": 34,
     "metadata": {},
     "output_type": "execute_result"
    }
   ],
   "source": [
    "\n",
    "# 21. Find the shortest word in a string.\n",
    "s6\n",
    "'kalka howrah mail'\n",
    "s6.split()\n",
    "['kalka', 'howrah', 'mail']\n",
    "len('mail')\n",
    "4"
   ]
  },
  {
   "cell_type": "code",
   "execution_count": 35,
   "id": "2f3fb4cc-742c-4b2a-b251-d7f27ab27cee",
   "metadata": {},
   "outputs": [
    {
     "data": {
      "text/plain": [
       "'liam harwoh aklak'"
      ]
     },
     "execution_count": 35,
     "metadata": {},
     "output_type": "execute_result"
    }
   ],
   "source": [
    "\n",
    "# 22. Reverse the order of words in a string.\n",
    "s6 =(\"kalka howrah mail\")\n",
    "s6\n",
    "'kalka howrah mail'\n",
    "s6[::-1]\n",
    "'liam harwoh aklak'"
   ]
  },
  {
   "cell_type": "code",
   "execution_count": 36,
   "id": "45ba054a-1548-49ae-8928-872c7e4406a3",
   "metadata": {},
   "outputs": [
    {
     "data": {
      "text/plain": [
       "False"
      ]
     },
     "execution_count": 36,
     "metadata": {},
     "output_type": "execute_result"
    }
   ],
   "source": [
    "\n",
    "# 23. Check if a string is alphanumeric.\n",
    "s6\n",
    "'kalka howrah mail'\n",
    "s6.isalpha()\n",
    "False"
   ]
  },
  {
   "cell_type": "code",
   "execution_count": 37,
   "id": "fdf498e1-3371-4123-8048-e90b685d3698",
   "metadata": {},
   "outputs": [
    {
     "data": {
      "text/plain": [
       "'kalka . howrah . mail'"
      ]
     },
     "execution_count": 37,
     "metadata": {},
     "output_type": "execute_result"
    }
   ],
   "source": [
    "\n",
    "# 24. Extract all digits from a string.\n",
    "\n",
    "s6\n",
    "'kalka howrah mail'\n",
    "s6.isdigit()\n",
    "False\n",
    "s6 =\"kalka . howrah . mail\"\n",
    "s6\n",
    "'kalka . howrah . mail'\n",
    "s6.split('_')[0]\n",
    "'kalka . howrah . mail'"
   ]
  },
  {
   "cell_type": "code",
   "execution_count": 40,
   "id": "f6450fdd-cf5e-4262-955d-e839bc44df19",
   "metadata": {},
   "outputs": [
    {
     "data": {
      "text/plain": [
       "['k',\n",
       " 'a',\n",
       " 'l',\n",
       " 'k',\n",
       " 'a',\n",
       " ' ',\n",
       " '.',\n",
       " ' ',\n",
       " 'h',\n",
       " 'o',\n",
       " 'w',\n",
       " 'r',\n",
       " 'a',\n",
       " 'h',\n",
       " ' ',\n",
       " '.',\n",
       " ' ',\n",
       " 'm',\n",
       " 'a',\n",
       " 'i',\n",
       " 'l']"
      ]
     },
     "execution_count": 40,
     "metadata": {},
     "output_type": "execute_result"
    }
   ],
   "source": [
    "\n",
    "# 25. Extract all alphabets from a string.\n",
    "s6\n",
    "\n",
    "s6.rstrip('_')\n",
    "\n",
    "s6\n",
    "\n",
    "str(s6)\n",
    "list(s6)\n"
   ]
  },
  {
   "cell_type": "code",
   "execution_count": null,
   "id": "992a26d9-4ecf-45f6-962b-09650306fe4c",
   "metadata": {},
   "outputs": [],
   "source": [
    "# 26. Count the number of uppercase letters in a string"
   ]
  },
  {
   "cell_type": "code",
   "execution_count": 82,
   "id": "39359588-461d-425b-a8b0-f408356903b0",
   "metadata": {},
   "outputs": [],
   "source": [
    "s2 = \"skils\""
   ]
  },
  {
   "cell_type": "code",
   "execution_count": 83,
   "id": "8e71fe31-f485-4bab-9976-991cb72c0d75",
   "metadata": {},
   "outputs": [
    {
     "data": {
      "text/plain": [
       "False"
      ]
     },
     "execution_count": 83,
     "metadata": {},
     "output_type": "execute_result"
    }
   ],
   "source": [
    "s2.isupper()"
   ]
  },
  {
   "cell_type": "code",
   "execution_count": null,
   "id": "f27c8c88-9354-4ab6-9f97-ced6a49e410b",
   "metadata": {},
   "outputs": [],
   "source": [
    "# 27. Count the number of lowercase letters in a string."
   ]
  },
  {
   "cell_type": "code",
   "execution_count": 84,
   "id": "9aa344d8-b99a-4d03-a938-c37b7b951f1c",
   "metadata": {},
   "outputs": [
    {
     "data": {
      "text/plain": [
       "True"
      ]
     },
     "execution_count": 84,
     "metadata": {},
     "output_type": "execute_result"
    }
   ],
   "source": [
    "s2.islower()"
   ]
  },
  {
   "cell_type": "code",
   "execution_count": null,
   "id": "712e4324-4ec2-461e-9677-27f5f7d0b950",
   "metadata": {},
   "outputs": [],
   "source": [
    "# 28. Swap the case of each character in a string"
   ]
  },
  {
   "cell_type": "code",
   "execution_count": 86,
   "id": "34a5c3e2-d555-43dc-b363-eba9673ee553",
   "metadata": {},
   "outputs": [
    {
     "data": {
      "text/plain": [
       "'KALKA HOWRAH MAIL'"
      ]
     },
     "execution_count": 86,
     "metadata": {},
     "output_type": "execute_result"
    }
   ],
   "source": [
    "s2 ='kalka howrah mail'\n",
    "s2.swapcase()"
   ]
  },
  {
   "cell_type": "code",
   "execution_count": null,
   "id": "dd003ee0-8956-453c-94b9-5c8314016c42",
   "metadata": {},
   "outputs": [],
   "source": [
    "# 29. Remove a specific word from a string"
   ]
  },
  {
   "cell_type": "code",
   "execution_count": 88,
   "id": "c3525ded-ac38-4960-9ea3-61aca689a02a",
   "metadata": {},
   "outputs": [
    {
     "data": {
      "text/plain": [
       "'azad '"
      ]
     },
     "execution_count": 88,
     "metadata": {},
     "output_type": "execute_result"
    }
   ],
   "source": [
    "s2 = 'azad hind'\n",
    "s2.removesuffix('hind')"
   ]
  },
  {
   "cell_type": "code",
   "execution_count": null,
   "id": "04c28f26-32fd-445f-9bba-d27bfbd72fe2",
   "metadata": {},
   "outputs": [],
   "source": [
    "# 30. Check if a string is a valid email address"
   ]
  },
  {
   "cell_type": "code",
   "execution_count": 89,
   "id": "4ba62709-8a9f-4d58-9435-19dd3e999006",
   "metadata": {},
   "outputs": [
    {
     "data": {
      "text/plain": [
       "0"
      ]
     },
     "execution_count": 89,
     "metadata": {},
     "output_type": "execute_result"
    }
   ],
   "source": [
    "s3 = 'viush@gmail.com'\n",
    "s3.count('vius@gmail.com')\n",
    "0\n"
   ]
  },
  {
   "cell_type": "code",
   "execution_count": null,
   "id": "1abc8c84-b625-4866-915e-04db7f6d7736",
   "metadata": {},
   "outputs": [],
   "source": [
    "# 31. Extract the username from an email address string."
   ]
  },
  {
   "cell_type": "code",
   "execution_count": 91,
   "id": "9615d63f-34e6-4657-98ec-7bf4ba237cbd",
   "metadata": {},
   "outputs": [
    {
     "data": {
      "text/plain": [
       "'vishal'"
      ]
     },
     "execution_count": 91,
     "metadata": {},
     "output_type": "execute_result"
    }
   ],
   "source": [
    "s4 = 'hello vishal34@gmail.com'\n",
    "\n",
    "s4[6:12]\n"
   ]
  },
  {
   "cell_type": "code",
   "execution_count": null,
   "id": "16ce475d-62d2-45cd-9fbb-38a2380a24a7",
   "metadata": {},
   "outputs": [],
   "source": [
    "# 32. Extract the domain name from an email address string"
   ]
  },
  {
   "cell_type": "code",
   "execution_count": 94,
   "id": "50243acb-817d-42f4-a4d7-a1c7fe3f0a44",
   "metadata": {},
   "outputs": [
    {
     "data": {
      "text/plain": [
       "'ress'"
      ]
     },
     "execution_count": 94,
     "metadata": {},
     "output_type": "execute_result"
    }
   ],
   "source": [
    "s4 = 'neelanchal express'\n",
    "s4[14:26]\n"
   ]
  },
  {
   "cell_type": "code",
   "execution_count": null,
   "id": "731f6e5b-8cca-42b4-bdd4-69f3bf8e09bf",
   "metadata": {},
   "outputs": [],
   "source": [
    "# 33. Replace multiple spaces in a string with a single space"
   ]
  },
  {
   "cell_type": "code",
   "execution_count": 95,
   "id": "c6eb20bb-9620-4bd8-b9ff-93cb7e921d0b",
   "metadata": {},
   "outputs": [
    {
     "data": {
      "text/plain": [
       "'vishal rajput'"
      ]
     },
     "execution_count": 95,
     "metadata": {},
     "output_type": "execute_result"
    }
   ],
   "source": [
    "s2= 'vishal     rajput'\n",
    "s2.replace('     ',' ')"
   ]
  },
  {
   "cell_type": "code",
   "execution_count": null,
   "id": "576c63b8-0e4c-4126-bca8-05c1e47db8d4",
   "metadata": {},
   "outputs": [],
   "source": [
    "# 34. Check if a string is a valid URL."
   ]
  },
  {
   "cell_type": "code",
   "execution_count": null,
   "id": "2b883b9b-7082-428b-ad2b-6bf65b919814",
   "metadata": {},
   "outputs": [],
   "source": []
  },
  {
   "cell_type": "code",
   "execution_count": null,
   "id": "895e3182-53ec-4810-bc4f-0682a62192aa",
   "metadata": {},
   "outputs": [],
   "source": [
    "# 35. Extract the protocol (http or https) from a URL string."
   ]
  },
  {
   "cell_type": "code",
   "execution_count": 97,
   "id": "022456ed-616b-4caf-bd80-863f2c16f68e",
   "metadata": {},
   "outputs": [
    {
     "data": {
      "text/plain": [
       "'kali'"
      ]
     },
     "execution_count": 97,
     "metadata": {},
     "output_type": "execute_result"
    }
   ],
   "source": [
    " s8 = 'kalindi express'\n",
    "s8[0:4]"
   ]
  },
  {
   "cell_type": "code",
   "execution_count": null,
   "id": "e68f3918-9a12-4aac-9e18-67bd768ebccf",
   "metadata": {},
   "outputs": [],
   "source": [
    "# 36. Find the frequency of each character in a string."
   ]
  },
  {
   "cell_type": "code",
   "execution_count": 98,
   "id": "15564b2d-58e6-4230-8584-30fa3bca0da0",
   "metadata": {},
   "outputs": [
    {
     "name": "stdout",
     "output_type": "stream",
     "text": [
      "True\n"
     ]
    }
   ],
   "source": [
    "s1 = 'indore patna express'\n",
    "print('patna' in s1)"
   ]
  },
  {
   "cell_type": "code",
   "execution_count": null,
   "id": "2f9c1841-cc28-4eaf-a510-af67d15b385e",
   "metadata": {},
   "outputs": [],
   "source": [
    "# 37. Remove all punctuation from a string."
   ]
  },
  {
   "cell_type": "code",
   "execution_count": 99,
   "id": "ae225d0a-5f8e-42ea-a814-9085befa6238",
   "metadata": {},
   "outputs": [
    {
     "name": "stdout",
     "output_type": "stream",
     "text": [
      "True\n"
     ]
    }
   ],
   "source": [
    "print('indore' in s1)"
   ]
  },
  {
   "cell_type": "code",
   "execution_count": null,
   "id": "5e2d8bd7-9b3a-4286-bb55-06cd1f55a665",
   "metadata": {},
   "outputs": [],
   "source": [
    "# 38. Check if a string contains only digits."
   ]
  },
  {
   "cell_type": "code",
   "execution_count": 100,
   "id": "2bf0dbf8-fc6c-478d-be9f-f20ebc5247d4",
   "metadata": {},
   "outputs": [
    {
     "data": {
      "text/plain": [
       "False"
      ]
     },
     "execution_count": 100,
     "metadata": {},
     "output_type": "execute_result"
    }
   ],
   "source": [
    "s2= 'north east express'\n",
    "s2.isdigit()"
   ]
  },
  {
   "cell_type": "code",
   "execution_count": null,
   "id": "0fda4245-f93f-4e09-b0ca-75e1dfb07051",
   "metadata": {},
   "outputs": [],
   "source": [
    "# 39. Check if a string contains only alphabets"
   ]
  },
  {
   "cell_type": "code",
   "execution_count": 101,
   "id": "00a283ae-a015-4419-9d90-bb6b098ed1c5",
   "metadata": {},
   "outputs": [
    {
     "data": {
      "text/plain": [
       "False"
      ]
     },
     "execution_count": 101,
     "metadata": {},
     "output_type": "execute_result"
    }
   ],
   "source": [
    "s2\n",
    "'prayag raj express'\n",
    "s2.isalpha()"
   ]
  },
  {
   "cell_type": "code",
   "execution_count": null,
   "id": "79d3613c-30c9-4636-a76d-8891469f6d7f",
   "metadata": {},
   "outputs": [],
   "source": [
    "# 40. Convert a string to a list of characters."
   ]
  },
  {
   "cell_type": "code",
   "execution_count": 102,
   "id": "826dff36-b0ea-4a52-ba3b-4f3d29259988",
   "metadata": {},
   "outputs": [
    {
     "name": "stdout",
     "output_type": "stream",
     "text": [
      "['i', 'n', 'd', 'o', 'r', 'e', ' ', 'p', 'a', 't', 'n', 'a', ' ', 'e', 'x', 'p', 'r', 'e', 's', 's']\n"
     ]
    }
   ],
   "source": [
    "s1\n",
    "'tatanagar jammutawi express'\n",
    "x = list(s1)\n",
    "print(x)"
   ]
  },
  {
   "cell_type": "code",
   "execution_count": null,
   "id": "2f2ee668-792f-44a3-952c-30969a8d47f6",
   "metadata": {},
   "outputs": [],
   "source": [
    "# 41. Check if two strings are anagrams"
   ]
  },
  {
   "cell_type": "code",
   "execution_count": 103,
   "id": "a45297bd-6bea-411e-b7ad-ca2a6d2b1ecc",
   "metadata": {},
   "outputs": [],
   "source": [
    "s1\n",
    "'listen'\n",
    "s2\n",
    "'silent'\n",
    "def are_anagram(s1:str,s2:str)->bool:return sorted(s1)== sorted(s2)"
   ]
  },
  {
   "cell_type": "code",
   "execution_count": null,
   "id": "324587d7-71ad-4966-9b94-cde8824a5c12",
   "metadata": {},
   "outputs": [],
   "source": [
    "# 42. Encode a string using a Caesar cipher"
   ]
  },
  {
   "cell_type": "code",
   "execution_count": 105,
   "id": "cf8e7769-9925-44b2-ab42-1974e3dcec44",
   "metadata": {},
   "outputs": [
    {
     "data": {
      "text/plain": [
       "1"
      ]
     },
     "execution_count": 105,
     "metadata": {},
     "output_type": "execute_result"
    }
   ],
   "source": [
    "s2 = 'jhelum express'\n",
    "s2.count('l')"
   ]
  },
  {
   "cell_type": "code",
   "execution_count": null,
   "id": "88971204-fc7b-40db-a0ba-31702e25637d",
   "metadata": {},
   "outputs": [],
   "source": [
    "# 45. Find all unique words in a string."
   ]
  },
  {
   "cell_type": "code",
   "execution_count": 106,
   "id": "c752cf1a-49cd-4c92-ab3c-872feecceed4",
   "metadata": {},
   "outputs": [
    {
     "data": {
      "text/plain": [
       "0"
      ]
     },
     "execution_count": 106,
     "metadata": {},
     "output_type": "execute_result"
    }
   ],
   "source": [
    "s2 =  'jingle bell'\n",
    "s2.count('s2')"
   ]
  },
  {
   "cell_type": "code",
   "execution_count": null,
   "id": "49c6b486-7ada-4d00-b2cc-f7ec2ade577c",
   "metadata": {},
   "outputs": [],
   "source": [
    "# 46. Count the number of syllables in a string."
   ]
  },
  {
   "cell_type": "code",
   "execution_count": 108,
   "id": "cf0e7cc2-39ea-442e-980a-3bf12990b525",
   "metadata": {},
   "outputs": [
    {
     "name": "stdout",
     "output_type": "stream",
     "text": [
      "number of vowels in s2 piyush chaubey\n"
     ]
    }
   ],
   "source": [
    "count = \"piyush chaubey\"\n",
    "print('number of vowels in s2', count)"
   ]
  },
  {
   "cell_type": "code",
   "execution_count": null,
   "id": "6e9d51a7-5a1a-492f-805d-0949a1d140d5",
   "metadata": {},
   "outputs": [],
   "source": [
    "# 47. Check if a string contains any special characters"
   ]
  },
  {
   "cell_type": "code",
   "execution_count": 110,
   "id": "3e251453-fa1f-43b9-99f5-ab92c644a7f3",
   "metadata": {},
   "outputs": [
    {
     "data": {
      "text/plain": [
       "True"
      ]
     },
     "execution_count": 110,
     "metadata": {},
     "output_type": "execute_result"
    }
   ],
   "source": [
    "s1 = 'gdwsvxuw454'\n",
    "s1.isidentifier()\n",
    "s1.isalnum()"
   ]
  },
  {
   "cell_type": "code",
   "execution_count": null,
   "id": "6ca231a4-c8d6-48e0-acf4-fbe4602edac1",
   "metadata": {},
   "outputs": [],
   "source": [
    "# 48. Remove the nth word from a string."
   ]
  },
  {
   "cell_type": "code",
   "execution_count": 111,
   "id": "dafbb5fd-9557-4084-86f9-1758aa16e143",
   "metadata": {},
   "outputs": [
    {
     "data": {
      "text/plain": [
       "' 0 hbvx00'"
      ]
     },
     "execution_count": 111,
     "metadata": {},
     "output_type": "execute_result"
    }
   ],
   "source": [
    "s1 = ' n hbvxnn'\n",
    "s1.replace('n','0')"
   ]
  },
  {
   "cell_type": "code",
   "execution_count": null,
   "id": "90bc5e4c-4b86-407b-b079-8ccde9c5915e",
   "metadata": {},
   "outputs": [],
   "source": [
    "# 49. Insert a word at the nth position in a string"
   ]
  },
  {
   "cell_type": "code",
   "execution_count": 112,
   "id": "521a79da-c5c6-49c7-b870-4793838945bb",
   "metadata": {},
   "outputs": [
    {
     "data": {
      "text/plain": [
       "'vush_g'"
      ]
     },
     "execution_count": 112,
     "metadata": {},
     "output_type": "execute_result"
    }
   ],
   "source": [
    "s = 'vushg'\n",
    "s[:4] + '_'+ s[4:]"
   ]
  },
  {
   "cell_type": "code",
   "execution_count": null,
   "id": "75a6b12f-7f2d-4e85-9c3e-e05f611f3e57",
   "metadata": {},
   "outputs": [],
   "source": [
    "# 50. Convert a CSV string to a list of lists"
   ]
  },
  {
   "cell_type": "code",
   "execution_count": 113,
   "id": "2f406f78-9696-4315-9f20-88fceea0e2d7",
   "metadata": {},
   "outputs": [
    {
     "name": "stdout",
     "output_type": "stream",
     "text": [
      "visha, iu\n"
     ]
    }
   ],
   "source": [
    "s5 = 'visha, iu'\n",
    "x = ['v,9,i,90']\n",
    "x = list(s5)\n",
    "print(s5)"
   ]
  },
  {
   "cell_type": "code",
   "execution_count": null,
   "id": "7a92d12f-0fb6-4955-93c7-167351e34350",
   "metadata": {},
   "outputs": [],
   "source": [
    "#1. Create a list with integers from 1 to 10."
   ]
  },
  {
   "cell_type": "code",
   "execution_count": 1,
   "id": "a255cc77-f5a9-463b-8124-477e34123e66",
   "metadata": {},
   "outputs": [],
   "source": [
    "l = [1,2,3,4,5,6,7,8,9,10]"
   ]
  },
  {
   "cell_type": "code",
   "execution_count": null,
   "id": "8565eab6-7682-4c22-ac99-df272ac8fae6",
   "metadata": {},
   "outputs": [],
   "source": [
    "# 3. Append an element to the end of a list."
   ]
  },
  {
   "cell_type": "code",
   "execution_count": 2,
   "id": "153ae963-1fa7-45b9-afea-9c3b1006061c",
   "metadata": {},
   "outputs": [
    {
     "data": {
      "text/plain": [
       "[1, 2, 3, 4, 5, 6, 7, 8, 9, 10]"
      ]
     },
     "execution_count": 2,
     "metadata": {},
     "output_type": "execute_result"
    }
   ],
   "source": [
    "l"
   ]
  },
  {
   "cell_type": "code",
   "execution_count": 3,
   "id": "c897804b-7767-4c98-806e-7ac622e477d0",
   "metadata": {},
   "outputs": [],
   "source": [
    "l.append('11')"
   ]
  },
  {
   "cell_type": "code",
   "execution_count": 4,
   "id": "49bff5b0-e23b-450b-8b9e-fc236aad98e5",
   "metadata": {},
   "outputs": [
    {
     "data": {
      "text/plain": [
       "[1, 2, 3, 4, 5, 6, 7, 8, 9, 10, '11']"
      ]
     },
     "execution_count": 4,
     "metadata": {},
     "output_type": "execute_result"
    }
   ],
   "source": [
    "l"
   ]
  },
  {
   "cell_type": "code",
   "execution_count": null,
   "id": "9a68212a-27c4-468e-86eb-91d88e0e1ddc",
   "metadata": {},
   "outputs": [],
   "source": [
    "# 4. Insert an element at a specific index in a list."
   ]
  },
  {
   "cell_type": "code",
   "execution_count": 5,
   "id": "84599253-c12f-4334-9af7-68d9438fcbc6",
   "metadata": {},
   "outputs": [
    {
     "data": {
      "text/plain": [
       "[1, 2, 3, 4, 5, 6, 7, 8, 9, 10, '11']"
      ]
     },
     "execution_count": 5,
     "metadata": {},
     "output_type": "execute_result"
    }
   ],
   "source": [
    "l\n"
   ]
  },
  {
   "cell_type": "code",
   "execution_count": 9,
   "id": "cd575ce0-c57b-4541-814b-4e0f0a85bbcf",
   "metadata": {},
   "outputs": [],
   "source": [
    "l.insert(4,'mail')"
   ]
  },
  {
   "cell_type": "code",
   "execution_count": 10,
   "id": "2107449a-6a66-4fee-9cc6-a344c9f2525c",
   "metadata": {},
   "outputs": [
    {
     "data": {
      "text/plain": [
       "[1, 2, 3, 4, 'mail', 5, 6, 7, 8, 9, 10, '11']"
      ]
     },
     "execution_count": 10,
     "metadata": {},
     "output_type": "execute_result"
    }
   ],
   "source": [
    "l"
   ]
  },
  {
   "cell_type": "code",
   "execution_count": null,
   "id": "a41363b6-efe9-47b6-a5f3-9c567d8a00e2",
   "metadata": {},
   "outputs": [],
   "source": [
    "# .6. Remove an element from a list by its index."
   ]
  },
  {
   "cell_type": "code",
   "execution_count": 11,
   "id": "a273d85f-f045-41d1-9d36-214054dc0cf1",
   "metadata": {},
   "outputs": [
    {
     "data": {
      "text/plain": [
       "[1, 2, 3, 4, 'mail', 5, 6, 7, 8, 9, 10, '11']"
      ]
     },
     "execution_count": 11,
     "metadata": {},
     "output_type": "execute_result"
    }
   ],
   "source": [
    "l"
   ]
  },
  {
   "cell_type": "code",
   "execution_count": 12,
   "id": "d1554dc3-7129-486c-8bd0-a200a42e6489",
   "metadata": {},
   "outputs": [
    {
     "data": {
      "text/plain": [
       "4"
      ]
     },
     "execution_count": 12,
     "metadata": {},
     "output_type": "execute_result"
    }
   ],
   "source": [
    "l.pop(3)"
   ]
  },
  {
   "cell_type": "code",
   "execution_count": 13,
   "id": "60dabc61-cf9f-42c8-bc72-c325f582ae21",
   "metadata": {},
   "outputs": [
    {
     "data": {
      "text/plain": [
       "[1, 2, 3, 'mail', 5, 6, 7, 8, 9, 10, '11']"
      ]
     },
     "execution_count": 13,
     "metadata": {},
     "output_type": "execute_result"
    }
   ],
   "source": [
    "l"
   ]
  },
  {
   "cell_type": "code",
   "execution_count": null,
   "id": "f124761b-861f-4133-bf2e-8ef3fcee83b8",
   "metadata": {},
   "outputs": [],
   "source": [
    "# 5. Remove an element from a list by its value."
   ]
  },
  {
   "cell_type": "code",
   "execution_count": 14,
   "id": "6af076f5-912a-4464-bcbb-7c695fba508b",
   "metadata": {},
   "outputs": [
    {
     "data": {
      "text/plain": [
       "[1, 2, 3, 'mail', 5, 6, 7, 8, 9, 10, '11']"
      ]
     },
     "execution_count": 14,
     "metadata": {},
     "output_type": "execute_result"
    }
   ],
   "source": [
    "l"
   ]
  },
  {
   "cell_type": "code",
   "execution_count": 15,
   "id": "ebdf403b-b70a-4436-b42c-3041b642e3cb",
   "metadata": {},
   "outputs": [],
   "source": [
    "l.remove('11')"
   ]
  },
  {
   "cell_type": "code",
   "execution_count": 16,
   "id": "df967fdc-7275-4f51-8630-a878912eba3b",
   "metadata": {},
   "outputs": [
    {
     "data": {
      "text/plain": [
       "[1, 2, 3, 'mail', 5, 6, 7, 8, 9, 10]"
      ]
     },
     "execution_count": 16,
     "metadata": {},
     "output_type": "execute_result"
    }
   ],
   "source": [
    "l"
   ]
  },
  {
   "cell_type": "code",
   "execution_count": null,
   "id": "f3d8c750-8885-4863-bed1-b21085f80241",
   "metadata": {},
   "outputs": [],
   "source": [
    "# 8. Find the index of the first occurrence of an element in a list."
   ]
  },
  {
   "cell_type": "code",
   "execution_count": 17,
   "id": "da75217d-d8b3-4df9-937e-fff95691b8e8",
   "metadata": {},
   "outputs": [
    {
     "data": {
      "text/plain": [
       "[1, 2, 3, 'mail', 5, 6, 7, 8, 9, 10]"
      ]
     },
     "execution_count": 17,
     "metadata": {},
     "output_type": "execute_result"
    }
   ],
   "source": [
    "l"
   ]
  },
  {
   "cell_type": "code",
   "execution_count": 22,
   "id": "da8a144d-f069-4f8e-9a36-c07d6bc580e0",
   "metadata": {},
   "outputs": [
    {
     "data": {
      "text/plain": [
       "2"
      ]
     },
     "execution_count": 22,
     "metadata": {},
     "output_type": "execute_result"
    }
   ],
   "source": [
    "l.index(3)"
   ]
  },
  {
   "cell_type": "code",
   "execution_count": null,
   "id": "3c320cfb-251e-4c3a-b011-c6a3828bc9cc",
   "metadata": {},
   "outputs": [],
   "source": [
    "# 9. Count the occurrences of an element in a list."
   ]
  },
  {
   "cell_type": "code",
   "execution_count": 23,
   "id": "1e3a7a2d-5746-4c0e-91ea-306fd0d27975",
   "metadata": {},
   "outputs": [
    {
     "data": {
      "text/plain": [
       "[1, 2, 3, 'mail', 5, 6, 7, 8, 9, 10]"
      ]
     },
     "execution_count": 23,
     "metadata": {},
     "output_type": "execute_result"
    }
   ],
   "source": [
    "l"
   ]
  },
  {
   "cell_type": "code",
   "execution_count": 24,
   "id": "291e20cb-4601-4cbf-be39-3c8fc5fe8103",
   "metadata": {},
   "outputs": [
    {
     "data": {
      "text/plain": [
       "1"
      ]
     },
     "execution_count": 24,
     "metadata": {},
     "output_type": "execute_result"
    }
   ],
   "source": [
    "l.count(3)"
   ]
  },
  {
   "cell_type": "code",
   "execution_count": null,
   "id": "f953225f-9bad-401c-8c6f-5f59dc816f7c",
   "metadata": {},
   "outputs": [],
   "source": [
    "# 10. Reverse the order of elements in a list."
   ]
  },
  {
   "cell_type": "code",
   "execution_count": 25,
   "id": "324bc1a4-fb5e-4149-b4a5-0b2d31ba6b3e",
   "metadata": {},
   "outputs": [
    {
     "data": {
      "text/plain": [
       "[1, 2, 3, 'mail', 5, 6, 7, 8, 9, 10]"
      ]
     },
     "execution_count": 25,
     "metadata": {},
     "output_type": "execute_result"
    }
   ],
   "source": [
    "l"
   ]
  },
  {
   "cell_type": "code",
   "execution_count": 26,
   "id": "5aae3f39-000e-4ba8-aadb-a337ef869498",
   "metadata": {},
   "outputs": [
    {
     "data": {
      "text/plain": [
       "[10, 9, 8, 7, 6, 5, 'mail', 3, 2, 1]"
      ]
     },
     "execution_count": 26,
     "metadata": {},
     "output_type": "execute_result"
    }
   ],
   "source": [
    "l[::-1]"
   ]
  },
  {
   "cell_type": "code",
   "execution_count": null,
   "id": "4ce26fb1-cf09-4a62-b6ac-80ee6f403dcc",
   "metadata": {},
   "outputs": [],
   "source": [
    "# 11. Sort a list in ascending order."
   ]
  },
  {
   "cell_type": "code",
   "execution_count": 27,
   "id": "33f3064b-647d-45a6-960c-cc3b7831f663",
   "metadata": {},
   "outputs": [
    {
     "data": {
      "text/plain": [
       "[1, 2, 3, 'mail', 5, 6, 7, 8, 9, 10]"
      ]
     },
     "execution_count": 27,
     "metadata": {},
     "output_type": "execute_result"
    }
   ],
   "source": [
    "l"
   ]
  },
  {
   "cell_type": "code",
   "execution_count": 34,
   "id": "53d5fc1a-3005-4e04-88bd-926ce3ba762f",
   "metadata": {},
   "outputs": [],
   "source": [
    "l1 = [\"anand\",\"vihar\",\"to\",\"kamakhya\",\"via\",\"aligarh\",\"north\",\"east\",\"express\"]"
   ]
  },
  {
   "cell_type": "code",
   "execution_count": 35,
   "id": "06669feb-cb6a-4302-9e92-a0ac94b1e1e4",
   "metadata": {},
   "outputs": [
    {
     "data": {
      "text/plain": [
       "['anand',\n",
       " 'vihar',\n",
       " 'to',\n",
       " 'kamakhya',\n",
       " 'via',\n",
       " 'aligarh',\n",
       " 'north',\n",
       " 'east',\n",
       " 'express']"
      ]
     },
     "execution_count": 35,
     "metadata": {},
     "output_type": "execute_result"
    }
   ],
   "source": [
    "l1\n"
   ]
  },
  {
   "cell_type": "code",
   "execution_count": 36,
   "id": "b87aaee8-ad4c-4da8-9176-be1a5c039f95",
   "metadata": {},
   "outputs": [],
   "source": [
    "l1.sort()"
   ]
  },
  {
   "cell_type": "code",
   "execution_count": 37,
   "id": "fffe6de9-01d7-4f9c-807f-daeb7ba26be9",
   "metadata": {},
   "outputs": [
    {
     "data": {
      "text/plain": [
       "['aligarh',\n",
       " 'anand',\n",
       " 'east',\n",
       " 'express',\n",
       " 'kamakhya',\n",
       " 'north',\n",
       " 'to',\n",
       " 'via',\n",
       " 'vihar']"
      ]
     },
     "execution_count": 37,
     "metadata": {},
     "output_type": "execute_result"
    }
   ],
   "source": [
    "l1\n"
   ]
  },
  {
   "cell_type": "code",
   "execution_count": null,
   "id": "b643d7de-b1e2-4fbc-a6be-4cb8fda78d4d",
   "metadata": {},
   "outputs": [],
   "source": [
    "# 12. Sort a list in descending order."
   ]
  },
  {
   "cell_type": "code",
   "execution_count": 38,
   "id": "bc74a68a-bfd5-4a14-8512-bcf34ab8dd6a",
   "metadata": {},
   "outputs": [
    {
     "data": {
      "text/plain": [
       "['aligarh',\n",
       " 'anand',\n",
       " 'east',\n",
       " 'express',\n",
       " 'kamakhya',\n",
       " 'north',\n",
       " 'to',\n",
       " 'via',\n",
       " 'vihar']"
      ]
     },
     "execution_count": 38,
     "metadata": {},
     "output_type": "execute_result"
    }
   ],
   "source": [
    "l1\n"
   ]
  },
  {
   "cell_type": "code",
   "execution_count": 39,
   "id": "551a3125-1e71-4070-8cb8-efc587b215a9",
   "metadata": {},
   "outputs": [],
   "source": [
    "l1.sort(reverse = True)"
   ]
  },
  {
   "cell_type": "code",
   "execution_count": 40,
   "id": "3dd3d26b-a737-4f11-afa1-76b2f1765d7c",
   "metadata": {},
   "outputs": [
    {
     "data": {
      "text/plain": [
       "['vihar',\n",
       " 'via',\n",
       " 'to',\n",
       " 'north',\n",
       " 'kamakhya',\n",
       " 'express',\n",
       " 'east',\n",
       " 'anand',\n",
       " 'aligarh']"
      ]
     },
     "execution_count": 40,
     "metadata": {},
     "output_type": "execute_result"
    }
   ],
   "source": [
    "l1"
   ]
  },
  {
   "cell_type": "code",
   "execution_count": null,
   "id": "6479bc5c-0dd7-4a8e-93a3-c46a76adf3c3",
   "metadata": {},
   "outputs": [],
   "source": [
    "# 13. Create a list of even numbers from 1 to 20."
   ]
  },
  {
   "cell_type": "code",
   "execution_count": 2,
   "id": "4b2a29dd-d893-4ef2-8db4-e162df92c68b",
   "metadata": {},
   "outputs": [],
   "source": [
    "l2 = [2,4,6,8,10,12,14,16,18,20]"
   ]
  },
  {
   "cell_type": "code",
   "execution_count": 42,
   "id": "c15f3650-4ee6-4026-bcd7-6655f9e35296",
   "metadata": {},
   "outputs": [
    {
     "data": {
      "text/plain": [
       "[2, 4, 6, 8, 10, 12, 14, 16, 18, 20]"
      ]
     },
     "execution_count": 42,
     "metadata": {},
     "output_type": "execute_result"
    }
   ],
   "source": [
    "l2"
   ]
  },
  {
   "cell_type": "code",
   "execution_count": null,
   "id": "b6c53066-c691-462f-9076-9e97ae77f193",
   "metadata": {},
   "outputs": [],
   "source": [
    "# 14. Create a list of odd numbers from 1 to 20."
   ]
  },
  {
   "cell_type": "code",
   "execution_count": 3,
   "id": "62a6471a-7416-4676-b931-75019db573d1",
   "metadata": {},
   "outputs": [],
   "source": [
    "l3 = [1,3,5,7,9,11,13,15,17,19]"
   ]
  },
  {
   "cell_type": "code",
   "execution_count": 44,
   "id": "c26245ac-8484-470b-858d-3f7fbf6ff81f",
   "metadata": {},
   "outputs": [
    {
     "data": {
      "text/plain": [
       "[1, 3, 5, 7, 9, 11, 13, 15, 17, 19]"
      ]
     },
     "execution_count": 44,
     "metadata": {},
     "output_type": "execute_result"
    }
   ],
   "source": [
    "l3"
   ]
  },
  {
   "cell_type": "code",
   "execution_count": null,
   "id": "0a005b76-4622-4631-9351-27cab2c77ecd",
   "metadata": {},
   "outputs": [],
   "source": [
    "# 16. Find the maximum value in a list."
   ]
  },
  {
   "cell_type": "code",
   "execution_count": 54,
   "id": "e89c0493-037c-4e76-9b04-deef9b9fb4b7",
   "metadata": {},
   "outputs": [
    {
     "data": {
      "text/plain": [
       "[20]"
      ]
     },
     "execution_count": 54,
     "metadata": {},
     "output_type": "execute_result"
    }
   ],
   "source": [
    "l2[-1:]"
   ]
  },
  {
   "cell_type": "code",
   "execution_count": null,
   "id": "412bf351-583c-4347-a1f4-52bc8226cdaf",
   "metadata": {},
   "outputs": [],
   "source": [
    "# 17. Find the minimum value in a list."
   ]
  },
  {
   "cell_type": "code",
   "execution_count": 56,
   "id": "1079fa36-de1f-408c-b40a-907ca6ed9419",
   "metadata": {},
   "outputs": [
    {
     "data": {
      "text/plain": [
       "[1, 3, 5, 7, 9, 11, 13, 15, 17, 19]"
      ]
     },
     "execution_count": 56,
     "metadata": {},
     "output_type": "execute_result"
    }
   ],
   "source": [
    "l3"
   ]
  },
  {
   "cell_type": "code",
   "execution_count": 57,
   "id": "f105ec92-e831-4f4b-9d2c-3dc4437c819a",
   "metadata": {},
   "outputs": [
    {
     "data": {
      "text/plain": [
       "[1]"
      ]
     },
     "execution_count": 57,
     "metadata": {},
     "output_type": "execute_result"
    }
   ],
   "source": [
    "l3[0:1]"
   ]
  },
  {
   "cell_type": "code",
   "execution_count": null,
   "id": "98d066c3-bd33-48ab-b7d4-819f454dea41",
   "metadata": {},
   "outputs": [],
   "source": [
    "# 18. Create a list of squares of numbers from 1 to 10."
   ]
  },
  {
   "cell_type": "code",
   "execution_count": 16,
   "id": "d5f8bce0-65cf-4ca2-b2c2-39ba5890095a",
   "metadata": {},
   "outputs": [],
   "source": [
    "l4 = [1,4,9,16,25,36,49,64,81,100]"
   ]
  },
  {
   "cell_type": "code",
   "execution_count": 59,
   "id": "b6b9639d-5ba1-4c07-af98-a5bc606763f2",
   "metadata": {},
   "outputs": [
    {
     "data": {
      "text/plain": [
       "[1, 4, 9, 16, 25, 36, 49, 64, 81, 100]"
      ]
     },
     "execution_count": 59,
     "metadata": {},
     "output_type": "execute_result"
    }
   ],
   "source": [
    "l4"
   ]
  },
  {
   "cell_type": "code",
   "execution_count": null,
   "id": "8dff9e16-8671-4b25-92d4-a4345bafc247",
   "metadata": {},
   "outputs": [],
   "source": [
    "#19. Create a list of random numbers."
   ]
  },
  {
   "cell_type": "code",
   "execution_count": 5,
   "id": "f3163204-853c-4b8c-b679-31ad77c728c9",
   "metadata": {},
   "outputs": [],
   "source": [
    "l5 = [2,34,4,5,6,78,7,7,4]"
   ]
  },
  {
   "cell_type": "code",
   "execution_count": 63,
   "id": "34676777-5a84-4d04-a51a-4b52c441b855",
   "metadata": {},
   "outputs": [
    {
     "data": {
      "text/plain": [
       "[2, 34, 4, 5, 6, 78, 7, 7, 4]"
      ]
     },
     "execution_count": 63,
     "metadata": {},
     "output_type": "execute_result"
    }
   ],
   "source": [
    "l5"
   ]
  },
  {
   "cell_type": "code",
   "execution_count": null,
   "id": "44625c66-4cec-4ed1-979d-2dfb30b0e16e",
   "metadata": {},
   "outputs": [],
   "source": [
    "# 20. Remove duplicates from a list."
   ]
  },
  {
   "cell_type": "code",
   "execution_count": 65,
   "id": "39670b3e-eb0a-46e9-83bd-849aaa59d5f4",
   "metadata": {},
   "outputs": [
    {
     "data": {
      "text/plain": [
       "list"
      ]
     },
     "execution_count": 65,
     "metadata": {},
     "output_type": "execute_result"
    }
   ],
   "source": [
    "type(l5)"
   ]
  },
  {
   "cell_type": "code",
   "execution_count": 66,
   "id": "921bebe0-57ac-4f53-8fc4-3acd6737ba9f",
   "metadata": {},
   "outputs": [
    {
     "data": {
      "text/plain": [
       "{2, 4, 5, 6, 7, 34, 78}"
      ]
     },
     "execution_count": 66,
     "metadata": {},
     "output_type": "execute_result"
    }
   ],
   "source": [
    "set(list(l5))"
   ]
  },
  {
   "cell_type": "code",
   "execution_count": null,
   "id": "3c536e72-1398-4a57-a4a0-e9e9aaf4b901",
   "metadata": {},
   "outputs": [],
   "source": [
    "# 21. Find the common elements between two lists."
   ]
  },
  {
   "cell_type": "code",
   "execution_count": 67,
   "id": "e92ae0cd-f197-4d93-ab39-2142e44f44bd",
   "metadata": {},
   "outputs": [
    {
     "data": {
      "text/plain": [
       "[2, 4, 6, 8, 10, 12, 14, 16, 18, 20]"
      ]
     },
     "execution_count": 67,
     "metadata": {},
     "output_type": "execute_result"
    }
   ],
   "source": [
    "l2"
   ]
  },
  {
   "cell_type": "code",
   "execution_count": 68,
   "id": "4bb56d39-5018-4221-9b84-e62aa26729bc",
   "metadata": {},
   "outputs": [
    {
     "data": {
      "text/plain": [
       "[1, 3, 5, 7, 9, 11, 13, 15, 17, 19]"
      ]
     },
     "execution_count": 68,
     "metadata": {},
     "output_type": "execute_result"
    }
   ],
   "source": [
    "l3\n"
   ]
  },
  {
   "cell_type": "code",
   "execution_count": 70,
   "id": "5e7d6301-66c4-409e-a3d6-8cacbd23c5de",
   "metadata": {},
   "outputs": [
    {
     "data": {
      "text/plain": [
       "[2, 34, 4, 5, 6, 78, 7, 7, 4]"
      ]
     },
     "execution_count": 70,
     "metadata": {},
     "output_type": "execute_result"
    }
   ],
   "source": [
    "l5"
   ]
  },
  {
   "cell_type": "code",
   "execution_count": 71,
   "id": "edc55d82-ac4c-40cf-a9fc-d44ee008f6a4",
   "metadata": {},
   "outputs": [],
   "source": [
    "l3[2:3] = l5[5:6]"
   ]
  },
  {
   "cell_type": "code",
   "execution_count": 73,
   "id": "519c27dc-5bd6-43af-8829-5de00e6f15f4",
   "metadata": {},
   "outputs": [],
   "source": [
    "l2[0:1] = l5[1:2]"
   ]
  },
  {
   "cell_type": "code",
   "execution_count": 74,
   "id": "d6d8da2d-5e7f-4136-a4d5-fb615b665232",
   "metadata": {},
   "outputs": [
    {
     "data": {
      "text/plain": [
       "[34, 4, 6, 8, 10, 12, 14, 16, 18, 20]"
      ]
     },
     "execution_count": 74,
     "metadata": {},
     "output_type": "execute_result"
    }
   ],
   "source": [
    "l2"
   ]
  },
  {
   "cell_type": "code",
   "execution_count": 75,
   "id": "9d3312e9-7800-4f02-8c66-cc29933dfb90",
   "metadata": {},
   "outputs": [
    {
     "data": {
      "text/plain": [
       "[2, 34, 4, 5, 6, 78, 7, 7, 4]"
      ]
     },
     "execution_count": 75,
     "metadata": {},
     "output_type": "execute_result"
    }
   ],
   "source": [
    "l3"
   ]
  },
  {
   "cell_type": "code",
   "execution_count": 76,
   "id": "58400f04-a822-4dad-aadf-adccc3343cef",
   "metadata": {},
   "outputs": [
    {
     "data": {
      "text/plain": [
       "[2, 34, 4, 5, 6, 78, 7, 7, 4]"
      ]
     },
     "execution_count": 76,
     "metadata": {},
     "output_type": "execute_result"
    }
   ],
   "source": [
    "l5"
   ]
  },
  {
   "cell_type": "code",
   "execution_count": null,
   "id": "f003c207-6928-4299-bcc3-5aed294001bd",
   "metadata": {},
   "outputs": [],
   "source": [
    "# 23. Merge two lists."
   ]
  },
  {
   "cell_type": "code",
   "execution_count": 80,
   "id": "70eb60c2-ac97-4ec5-8f5f-df44c9b2b8c8",
   "metadata": {},
   "outputs": [
    {
     "data": {
      "text/plain": [
       "[34, 4, 6, 8, 10, 12, 14, 16, 18, 20, 2, 34, 4, 5, 6, 78, 7, 7, 4]"
      ]
     },
     "execution_count": 80,
     "metadata": {},
     "output_type": "execute_result"
    }
   ],
   "source": [
    "l2 + l3"
   ]
  },
  {
   "cell_type": "code",
   "execution_count": null,
   "id": "e3d0defb-e3d2-4a5e-8b28-d656fa39f829",
   "metadata": {},
   "outputs": [],
   "source": [
    "# 24. Multiply all elements in a list by 2."
   ]
  },
  {
   "cell_type": "code",
   "execution_count": 81,
   "id": "71ff2db4-e7e2-4227-ac4a-0644e4a32457",
   "metadata": {},
   "outputs": [
    {
     "data": {
      "text/plain": [
       "[2, 34, 4, 5, 6, 78, 7, 7, 4]"
      ]
     },
     "execution_count": 81,
     "metadata": {},
     "output_type": "execute_result"
    }
   ],
   "source": [
    "l5"
   ]
  },
  {
   "cell_type": "code",
   "execution_count": 6,
   "id": "6febed58-35f2-468f-9514-aae49bfd1f6f",
   "metadata": {},
   "outputs": [
    {
     "data": {
      "text/plain": [
       "[1, 4, 9, 16, 25, 36, 49, 64, 81, 100]"
      ]
     },
     "execution_count": 6,
     "metadata": {},
     "output_type": "execute_result"
    }
   ],
   "source": [
    "l4"
   ]
  },
  {
   "cell_type": "code",
   "execution_count": 83,
   "id": "bacf5969-688f-4a0a-9b2f-0af0431d51b7",
   "metadata": {},
   "outputs": [
    {
     "data": {
      "text/plain": [
       "[2, 34, 4, 5, 6, 78, 7, 7, 4, 2, 34, 4, 5, 6, 78, 7, 7, 4]"
      ]
     },
     "execution_count": 83,
     "metadata": {},
     "output_type": "execute_result"
    }
   ],
   "source": [
    "l5*2"
   ]
  },
  {
   "cell_type": "code",
   "execution_count": null,
   "id": "1a4db698-7d62-4a93-af0e-f2355f2eb4b0",
   "metadata": {},
   "outputs": [],
   "source": [
    "# 25. Filter out all even numbers from a list.\n"
   ]
  },
  {
   "cell_type": "code",
   "execution_count": 10,
   "id": "69c1eb2c-4f02-4544-8f0d-bc50bc46a051",
   "metadata": {},
   "outputs": [
    {
     "data": {
      "text/plain": [
       "[2, 34, 4, 5, 6, 78, 7, 7, 4]"
      ]
     },
     "execution_count": 10,
     "metadata": {},
     "output_type": "execute_result"
    }
   ],
   "source": [
    "l5"
   ]
  },
  {
   "cell_type": "code",
   "execution_count": 19,
   "id": "3d301109-c9ce-4a70-ae2e-d738bbe2afdf",
   "metadata": {},
   "outputs": [],
   "source": [
    "l6 = [2,3,4,5,6,7]"
   ]
  },
  {
   "cell_type": "code",
   "execution_count": 20,
   "id": "22d44c5f-d458-4ff1-b3d6-54a3bbe399b6",
   "metadata": {},
   "outputs": [
    {
     "data": {
      "text/plain": [
       "[2, 3, 4, 5, 6, 7]"
      ]
     },
     "execution_count": 20,
     "metadata": {},
     "output_type": "execute_result"
    }
   ],
   "source": [
    "l6"
   ]
  },
  {
   "cell_type": "code",
   "execution_count": 21,
   "id": "ee59d1c1-32de-4d3c-87c3-1dc680bdee09",
   "metadata": {},
   "outputs": [
    {
     "data": {
      "text/plain": [
       "[2, 4, 6]"
      ]
     },
     "execution_count": 21,
     "metadata": {},
     "output_type": "execute_result"
    }
   ],
   "source": [
    "l6[0:6:2]"
   ]
  },
  {
   "cell_type": "code",
   "execution_count": null,
   "id": "e7c43498-28a3-44a8-bada-3211802952b2",
   "metadata": {},
   "outputs": [],
   "source": [
    "# 26. Convert a list of strings to a list of integers."
   ]
  },
  {
   "cell_type": "code",
   "execution_count": 27,
   "id": "27d732c2-faa2-4cab-893d-dde1c33adc95",
   "metadata": {},
   "outputs": [],
   "source": [
    "l7 = \"neelanchal\""
   ]
  },
  {
   "cell_type": "code",
   "execution_count": 28,
   "id": "3e7c18f2-13ac-4a4f-ac11-ff0fec2f17ec",
   "metadata": {},
   "outputs": [
    {
     "data": {
      "text/plain": [
       "'neelanchal'"
      ]
     },
     "execution_count": 28,
     "metadata": {},
     "output_type": "execute_result"
    }
   ],
   "source": [
    "l7"
   ]
  },
  {
   "cell_type": "code",
   "execution_count": 33,
   "id": "74e73e32-bdea-4410-b9df-8112d8259302",
   "metadata": {},
   "outputs": [],
   "source": [
    "l8 = [1,2,3,4,5,6,7,8]"
   ]
  },
  {
   "cell_type": "code",
   "execution_count": 72,
   "id": "b50c528b-7724-47c4-9682-767e776060c4",
   "metadata": {},
   "outputs": [],
   "source": [
    "l7 = list(l8)"
   ]
  },
  {
   "cell_type": "code",
   "execution_count": 73,
   "id": "cb659877-e0f4-44e3-923c-7f5bfd3ee835",
   "metadata": {},
   "outputs": [
    {
     "data": {
      "text/plain": [
       "[1, 2, 3, 4, 5, 6, 7, 8]"
      ]
     },
     "execution_count": 73,
     "metadata": {},
     "output_type": "execute_result"
    }
   ],
   "source": [
    "l7"
   ]
  },
  {
   "cell_type": "code",
   "execution_count": null,
   "id": "fa51c88b-261a-4e40-9769-537d2abcfe54",
   "metadata": {},
   "outputs": [],
   "source": [
    "# 27. Convert a list of integers to a list of strings."
   ]
  },
  {
   "cell_type": "code",
   "execution_count": 40,
   "id": "2d5b7625-79f9-4f34-9748-56c15f8eeadd",
   "metadata": {},
   "outputs": [],
   "source": [
    "l9 = [6,7,8,9]"
   ]
  },
  {
   "cell_type": "code",
   "execution_count": 41,
   "id": "217637c8-7f15-4e93-b145-bde3fe901d43",
   "metadata": {},
   "outputs": [
    {
     "data": {
      "text/plain": [
       "[6, 7, 8, 9]"
      ]
     },
     "execution_count": 41,
     "metadata": {},
     "output_type": "execute_result"
    }
   ],
   "source": [
    "l9"
   ]
  },
  {
   "cell_type": "code",
   "execution_count": 67,
   "id": "07a663bb-1450-4c52-987c-4b6aee4a213d",
   "metadata": {},
   "outputs": [],
   "source": [
    "l10 = [\"skills\"]"
   ]
  },
  {
   "cell_type": "code",
   "execution_count": 68,
   "id": "c099a10a-284a-4632-b049-163dc1645b09",
   "metadata": {},
   "outputs": [
    {
     "data": {
      "text/plain": [
       "['skills']"
      ]
     },
     "execution_count": 68,
     "metadata": {},
     "output_type": "execute_result"
    }
   ],
   "source": [
    "l10"
   ]
  },
  {
   "cell_type": "code",
   "execution_count": 69,
   "id": "95d9df87-095c-4f3a-88b7-2640c7fadd49",
   "metadata": {},
   "outputs": [],
   "source": [
    "l9 = list(l10)"
   ]
  },
  {
   "cell_type": "code",
   "execution_count": 70,
   "id": "5dd68afc-8d63-4991-9b6b-67806b6b1c6a",
   "metadata": {},
   "outputs": [
    {
     "data": {
      "text/plain": [
       "['skills']"
      ]
     },
     "execution_count": 70,
     "metadata": {},
     "output_type": "execute_result"
    }
   ],
   "source": [
    "l9"
   ]
  },
  {
   "cell_type": "code",
   "execution_count": null,
   "id": "e3f223a6-636c-43c9-b332-8eebfaf03f20",
   "metadata": {},
   "outputs": [],
   "source": [
    "# 28. Flatten a nested list."
   ]
  },
  {
   "cell_type": "code",
   "execution_count": 143,
   "id": "e44dec4f-7c4f-4981-8885-5f9f25752e1c",
   "metadata": {},
   "outputs": [],
   "source": [
    "l11 = ['farraka', 'express',1,2,3,4,[5,6,7],(8+7j) ]"
   ]
  },
  {
   "cell_type": "code",
   "execution_count": null,
   "id": "5a36699b-9263-486a-b83c-ee0e120ff3f2",
   "metadata": {},
   "outputs": [],
   "source": [
    " # 29. Create a list of the first 10 Fibonacci numbers."
   ]
  },
  {
   "cell_type": "code",
   "execution_count": 1,
   "id": "ef6b58a2-3b5d-4c3b-be5b-503e2a6b0db7",
   "metadata": {},
   "outputs": [],
   "source": [
    "l12 = [1,2,5,7,13,20,33,53,86,139]"
   ]
  },
  {
   "cell_type": "code",
   "execution_count": null,
   "id": "aceb640c-4875-40fc-b2e3-89f47c1cbbcb",
   "metadata": {},
   "outputs": [],
   "source": [
    " # 30. Check if a list is sorted."
   ]
  },
  {
   "cell_type": "code",
   "execution_count": 77,
   "id": "e5c29d3d-55aa-4e88-8503-fbe5cfba6ab5",
   "metadata": {},
   "outputs": [
    {
     "data": {
      "text/plain": [
       "[1, 2, 5, 7, 13, 20, 33, 53, 86, 139]"
      ]
     },
     "execution_count": 77,
     "metadata": {},
     "output_type": "execute_result"
    }
   ],
   "source": [
    "l12"
   ]
  },
  {
   "cell_type": "code",
   "execution_count": 82,
   "id": "3a056ad4-69f2-411b-8c30-75492a312aef",
   "metadata": {},
   "outputs": [],
   "source": [
    "l12.sort()      # signify that list is sorted in ascending order"
   ]
  },
  {
   "cell_type": "code",
   "execution_count": 87,
   "id": "337baf3b-a910-4489-b244-cacfd4e6a804",
   "metadata": {},
   "outputs": [],
   "source": [
    "l12.sort(reverse = True)   # signify that list is sorted in descending order"
   ]
  },
  {
   "cell_type": "code",
   "execution_count": null,
   "id": "eaa20a7f-111d-4dfe-ae25-3c3d0d0bd3e0",
   "metadata": {},
   "outputs": [],
   "source": [
    "# 32. Rotate a list to the right by `n` positions."
   ]
  },
  {
   "cell_type": "code",
   "execution_count": 88,
   "id": "28a3b531-d046-45b3-acfa-10cd12b600cb",
   "metadata": {},
   "outputs": [
    {
     "data": {
      "text/plain": [
       "[139, 86, 53, 33, 20, 13, 7, 5, 2, 1]"
      ]
     },
     "execution_count": 88,
     "metadata": {},
     "output_type": "execute_result"
    }
   ],
   "source": [
    "\n",
    "l12"
   ]
  },
  {
   "cell_type": "code",
   "execution_count": 99,
   "id": "2f01f1a1-3cad-4068-831c-b916b1dc6751",
   "metadata": {},
   "outputs": [
    {
     "data": {
      "text/plain": [
       "[1, 2, 5, 7, 13, 20, 33]"
      ]
     },
     "execution_count": 99,
     "metadata": {},
     "output_type": "execute_result"
    }
   ],
   "source": [
    "l12[:-8:-1]    # signify that the string is rotated by last three positions from right by 8th term"
   ]
  },
  {
   "cell_type": "code",
   "execution_count": null,
   "id": "5eb262f7-eb2e-4c53-8460-41f6cac3d39a",
   "metadata": {},
   "outputs": [],
   "source": [
    "# 31. Rotate a list to the left by `n` positions."
   ]
  },
  {
   "cell_type": "code",
   "execution_count": 101,
   "id": "fb5eecc1-1588-46af-90a7-3523e932e6e2",
   "metadata": {},
   "outputs": [
    {
     "data": {
      "text/plain": [
       "[139, 86, 53, 33, 20, 13, 7, 5, 2, 1]"
      ]
     },
     "execution_count": 101,
     "metadata": {},
     "output_type": "execute_result"
    }
   ],
   "source": [
    "l12"
   ]
  },
  {
   "cell_type": "code",
   "execution_count": 104,
   "id": "7af1c7f1-6924-4fef-ad7c-6ba09f4fe384",
   "metadata": {},
   "outputs": [
    {
     "data": {
      "text/plain": [
       "[20, 33, 53, 86, 139]"
      ]
     },
     "execution_count": 104,
     "metadata": {},
     "output_type": "execute_result"
    }
   ],
   "source": [
    "l12[0:5:1][::-1]"
   ]
  },
  {
   "cell_type": "code",
   "execution_count": null,
   "id": "b76b893f-4c86-415a-8979-b32a2fa7e1f9",
   "metadata": {},
   "outputs": [],
   "source": [
    " # 33. Create a list of prime numbers up to 50."
   ]
  },
  {
   "cell_type": "code",
   "execution_count": 3,
   "id": "9baa9a8f-4881-41a8-b2ca-0c6c778bb048",
   "metadata": {},
   "outputs": [],
   "source": [
    "l14 = [2,3,5,7,11,13,17,19,23,29,31,37,43,47,49]\n"
   ]
  },
  {
   "cell_type": "code",
   "execution_count": null,
   "id": "dced3144-7359-49cf-b5f5-acf1ea7212c8",
   "metadata": {},
   "outputs": [],
   "source": [
    " # 34. Split a list into chunks of size `n`."
   ]
  },
  {
   "cell_type": "code",
   "execution_count": 10,
   "id": "f7233413-5be2-4af4-a8bd-4a3f8a0f1e05",
   "metadata": {},
   "outputs": [],
   "source": [
    "l15 = \"chaubey\""
   ]
  },
  {
   "cell_type": "code",
   "execution_count": 11,
   "id": "6a8f15c5-c077-4281-8567-9e1ba087ecc7",
   "metadata": {},
   "outputs": [
    {
     "data": {
      "text/plain": [
       "'chaubey'"
      ]
     },
     "execution_count": 11,
     "metadata": {},
     "output_type": "execute_result"
    }
   ],
   "source": [
    "l15"
   ]
  },
  {
   "cell_type": "code",
   "execution_count": 12,
   "id": "d62851c4-30e0-4235-aa45-e7bf329f6658",
   "metadata": {},
   "outputs": [
    {
     "data": {
      "text/plain": [
       "['c', 'h', 'a', 'u', 'b', 'e', 'y']"
      ]
     },
     "execution_count": 12,
     "metadata": {},
     "output_type": "execute_result"
    }
   ],
   "source": [
    "list(l15)"
   ]
  },
  {
   "cell_type": "code",
   "execution_count": null,
   "id": "b6a5c034-1d6a-4d1a-a10e-f0e95167e44c",
   "metadata": {},
   "outputs": [],
   "source": [
    " # 35. Find the second largest number in a list"
   ]
  },
  {
   "cell_type": "code",
   "execution_count": 13,
   "id": "f176864e-8a5a-4e48-8acd-5cbac6b792a7",
   "metadata": {},
   "outputs": [
    {
     "data": {
      "text/plain": [
       "[2, 3, 5, 7, 11, 13, 17, 19, 23, 29, 31, 37, 43, 47, 49]"
      ]
     },
     "execution_count": 13,
     "metadata": {},
     "output_type": "execute_result"
    }
   ],
   "source": [
    "l14"
   ]
  },
  {
   "cell_type": "code",
   "execution_count": 15,
   "id": "02b71e53-3a7a-4a17-8d43-9c8d9e9379d3",
   "metadata": {},
   "outputs": [
    {
     "data": {
      "text/plain": [
       "[47]"
      ]
     },
     "execution_count": 15,
     "metadata": {},
     "output_type": "execute_result"
    }
   ],
   "source": [
    "l14[13:14:1]"
   ]
  },
  {
   "cell_type": "code",
   "execution_count": null,
   "id": "45139160-d95b-44a7-8fb5-4367d117acdf",
   "metadata": {},
   "outputs": [],
   "source": [
    " # 36. Replace every element in a list with its square."
   ]
  },
  {
   "cell_type": "code",
   "execution_count": 17,
   "id": "0bc42e3a-d085-4174-ab7d-12d61456cb53",
   "metadata": {},
   "outputs": [
    {
     "data": {
      "text/plain": [
       "[1, 4, 9, 16, 25, 36, 49, 64, 81, 100]"
      ]
     },
     "execution_count": 17,
     "metadata": {},
     "output_type": "execute_result"
    }
   ],
   "source": [
    "l4"
   ]
  },
  {
   "cell_type": "code",
   "execution_count": 19,
   "id": "587d31c4-3178-4ed5-a103-2e9c7fd97396",
   "metadata": {},
   "outputs": [],
   "source": [
    "l16 = [1,2,3,4,5,6,7,8,9,10]"
   ]
  },
  {
   "cell_type": "code",
   "execution_count": 20,
   "id": "11fcc729-438d-4857-a3ad-01798ea019d2",
   "metadata": {},
   "outputs": [
    {
     "data": {
      "text/plain": [
       "[1, 2, 3, 4, 5, 6, 7, 8, 9, 10]"
      ]
     },
     "execution_count": 20,
     "metadata": {},
     "output_type": "execute_result"
    }
   ],
   "source": [
    "l16"
   ]
  },
  {
   "cell_type": "code",
   "execution_count": 22,
   "id": "01389e84-260a-49f7-a19e-463280e0a30f",
   "metadata": {},
   "outputs": [],
   "source": [
    "l16 = list(l4)"
   ]
  },
  {
   "cell_type": "code",
   "execution_count": 23,
   "id": "3579b423-1a38-47fa-a580-5b0055f5647f",
   "metadata": {},
   "outputs": [
    {
     "data": {
      "text/plain": [
       "[1, 4, 9, 16, 25, 36, 49, 64, 81, 100]"
      ]
     },
     "execution_count": 23,
     "metadata": {},
     "output_type": "execute_result"
    }
   ],
   "source": [
    "l16"
   ]
  },
  {
   "cell_type": "code",
   "execution_count": null,
   "id": "412d153e-0dd1-41cf-a5c6-da8ec3aec032",
   "metadata": {},
   "outputs": [],
   "source": [
    "# 37. Convert a list to a dictionary where list elements become keys and their\n",
    "indices become values"
   ]
  },
  {
   "cell_type": "code",
   "execution_count": 24,
   "id": "c2d5499f-2187-498f-b786-1b6a5c121b96",
   "metadata": {},
   "outputs": [],
   "source": [
    "d1 ={}"
   ]
  },
  {
   "cell_type": "code",
   "execution_count": 25,
   "id": "940610d1-7f33-4ecb-8fdb-95df5b80cc80",
   "metadata": {},
   "outputs": [
    {
     "data": {
      "text/plain": [
       "dict"
      ]
     },
     "execution_count": 25,
     "metadata": {},
     "output_type": "execute_result"
    }
   ],
   "source": [
    "type(d1)"
   ]
  },
  {
   "cell_type": "code",
   "execution_count": 30,
   "id": "c97a125c-28b0-425b-9d06-b9abe9579571",
   "metadata": {},
   "outputs": [],
   "source": [
    "d1 = {\"name\":\"piyush_chaubey\", \"train\": \"13484\"}"
   ]
  },
  {
   "cell_type": "code",
   "execution_count": 28,
   "id": "ff77a3ac-6d15-4f08-b150-586ecfd994f3",
   "metadata": {},
   "outputs": [
    {
     "data": {
      "text/plain": [
       "[1, 4, 9, 16, 25, 36, 49, 64, 81, 100]"
      ]
     },
     "execution_count": 28,
     "metadata": {},
     "output_type": "execute_result"
    }
   ],
   "source": [
    "l4"
   ]
  },
  {
   "cell_type": "code",
   "execution_count": 32,
   "id": "eab1a546-2b91-46c3-a0be-b4f099e00ffd",
   "metadata": {},
   "outputs": [],
   "source": [
    "l4 = list(d1)"
   ]
  },
  {
   "cell_type": "code",
   "execution_count": 33,
   "id": "d249a43a-fb3b-4dc0-af9a-6bd9c1fd162a",
   "metadata": {},
   "outputs": [
    {
     "data": {
      "text/plain": [
       "['name', 'train']"
      ]
     },
     "execution_count": 33,
     "metadata": {},
     "output_type": "execute_result"
    }
   ],
   "source": [
    "l4"
   ]
  },
  {
   "cell_type": "code",
   "execution_count": null,
   "id": "a5fa367a-0cbd-47f9-af15-8f3c337e0b28",
   "metadata": {},
   "outputs": [],
   "source": [
    "# 38. Shuffle the elements of a list randomly"
   ]
  },
  {
   "cell_type": "code",
   "execution_count": 34,
   "id": "54b0e78e-66d6-4815-a389-464fdefd3b91",
   "metadata": {},
   "outputs": [
    {
     "data": {
      "text/plain": [
       "[1, 4, 9, 16, 25, 36, 49, 64, 81, 100]"
      ]
     },
     "execution_count": 34,
     "metadata": {},
     "output_type": "execute_result"
    }
   ],
   "source": [
    "l16"
   ]
  },
  {
   "cell_type": "code",
   "execution_count": 37,
   "id": "d4bc9486-29f3-4dda-8107-5678c057d1f1",
   "metadata": {},
   "outputs": [
    {
     "data": {
      "text/plain": [
       "[100, 64, 36, 16, 4]"
      ]
     },
     "execution_count": 37,
     "metadata": {},
     "output_type": "execute_result"
    }
   ],
   "source": [
    "l16[1:10:2][::-1]"
   ]
  },
  {
   "cell_type": "code",
   "execution_count": null,
   "id": "d5ab45e1-9d99-47e3-9289-1bbdc775bb8b",
   "metadata": {},
   "outputs": [],
   "source": [
    "# 39. Create a list of the first 10 factorial numbers"
   ]
  },
  {
   "cell_type": "code",
   "execution_count": 38,
   "id": "d877eb6f-4a10-40a7-905f-376caf1b36d3",
   "metadata": {},
   "outputs": [],
   "source": [
    "l17 = [1,2,6,24,120,720,5040,40320,362880,3628800]"
   ]
  },
  {
   "cell_type": "code",
   "execution_count": 39,
   "id": "06697c72-7ea0-42f7-b48d-cf59e43c6a91",
   "metadata": {},
   "outputs": [
    {
     "data": {
      "text/plain": [
       "[1, 2, 6, 24, 120, 720, 5040, 40320, 362880, 3628800]"
      ]
     },
     "execution_count": 39,
     "metadata": {},
     "output_type": "execute_result"
    }
   ],
   "source": [
    "l17"
   ]
  },
  {
   "cell_type": "code",
   "execution_count": null,
   "id": "3e8bd1d0-d575-4258-ad30-36be01dd2dfd",
   "metadata": {},
   "outputs": [],
   "source": [
    "  # Check if two lists have at least one element in common."
   ]
  },
  {
   "cell_type": "code",
   "execution_count": 40,
   "id": "955219a0-4735-4ba6-91d9-103519f6dc37",
   "metadata": {},
   "outputs": [
    {
     "data": {
      "text/plain": [
       "[1, 4, 9, 16, 25, 36, 49, 64, 81, 100]"
      ]
     },
     "execution_count": 40,
     "metadata": {},
     "output_type": "execute_result"
    }
   ],
   "source": [
    "l16"
   ]
  },
  {
   "cell_type": "code",
   "execution_count": 43,
   "id": "ab75afe5-6d97-4c64-8f29-f0c8fcb4e9d7",
   "metadata": {},
   "outputs": [
    {
     "data": {
      "text/plain": [
       "[1, 2, 6, 24, 120, 720, 5040, 40320, 362880, 3628800]"
      ]
     },
     "execution_count": 43,
     "metadata": {},
     "output_type": "execute_result"
    }
   ],
   "source": [
    "l17"
   ]
  },
  {
   "cell_type": "code",
   "execution_count": 44,
   "id": "b4700c4b-5cac-4b41-a3dd-f672ae42a848",
   "metadata": {},
   "outputs": [],
   "source": [
    "l18 = [1,2,34,5,64,4]"
   ]
  },
  {
   "cell_type": "code",
   "execution_count": 45,
   "id": "73bbd185-0483-430f-a01c-828c3284af20",
   "metadata": {},
   "outputs": [
    {
     "data": {
      "text/plain": [
       "[1, 2, 34, 5, 64, 4]"
      ]
     },
     "execution_count": 45,
     "metadata": {},
     "output_type": "execute_result"
    }
   ],
   "source": [
    "l18"
   ]
  },
  {
   "cell_type": "code",
   "execution_count": 47,
   "id": "0eaf8450-cbd2-45f4-a074-7311329a9acd",
   "metadata": {},
   "outputs": [
    {
     "data": {
      "text/plain": [
       "[4]"
      ]
     },
     "execution_count": 47,
     "metadata": {},
     "output_type": "execute_result"
    }
   ],
   "source": [
    "l16[1:2]"
   ]
  },
  {
   "cell_type": "code",
   "execution_count": 52,
   "id": "fc001deb-48ee-43d7-981e-b0c905914f21",
   "metadata": {},
   "outputs": [
    {
     "data": {
      "text/plain": [
       "[4]"
      ]
     },
     "execution_count": 52,
     "metadata": {},
     "output_type": "execute_result"
    }
   ],
   "source": [
    "l18[5:]"
   ]
  },
  {
   "cell_type": "code",
   "execution_count": 53,
   "id": "2b8c16c6-1e97-4e15-9e9d-f65c92423bf4",
   "metadata": {},
   "outputs": [],
   "source": [
    "l16[1:2] = l18[5:]   #signify that they have one commen point that is '4'"
   ]
  },
  {
   "cell_type": "code",
   "execution_count": null,
   "id": "5a1da604-b1a6-4af4-a30f-bab401fab0e1",
   "metadata": {},
   "outputs": [],
   "source": [
    "# 41. Remove all elements from a list"
   ]
  },
  {
   "cell_type": "code",
   "execution_count": 54,
   "id": "5de7be5f-631b-495a-9a50-c1bb2ca5a5f8",
   "metadata": {},
   "outputs": [
    {
     "data": {
      "text/plain": [
       "[1, 2, 34, 5, 64, 4]"
      ]
     },
     "execution_count": 54,
     "metadata": {},
     "output_type": "execute_result"
    }
   ],
   "source": [
    "l18"
   ]
  },
  {
   "cell_type": "code",
   "execution_count": 74,
   "id": "997d25bf-eb17-4ee5-8ed5-704eba576144",
   "metadata": {},
   "outputs": [
    {
     "data": {
      "text/plain": [
       "4"
      ]
     },
     "execution_count": 74,
     "metadata": {},
     "output_type": "execute_result"
    }
   ],
   "source": [
    "l18.pop()"
   ]
  },
  {
   "cell_type": "code",
   "execution_count": 76,
   "id": "c93c5261-6adc-4314-92b6-4b24cab20c6b",
   "metadata": {},
   "outputs": [
    {
     "data": {
      "text/plain": [
       "64"
      ]
     },
     "execution_count": 76,
     "metadata": {},
     "output_type": "execute_result"
    }
   ],
   "source": [
    "l18.pop()"
   ]
  },
  {
   "cell_type": "code",
   "execution_count": 77,
   "id": "42434938-8849-4197-ab1a-58008c289789",
   "metadata": {},
   "outputs": [
    {
     "data": {
      "text/plain": [
       "[1, 2, 34, 5]"
      ]
     },
     "execution_count": 77,
     "metadata": {},
     "output_type": "execute_result"
    }
   ],
   "source": [
    "l18"
   ]
  },
  {
   "cell_type": "code",
   "execution_count": 78,
   "id": "ec03de01-14da-42b1-881d-90fdcab0bf80",
   "metadata": {},
   "outputs": [
    {
     "data": {
      "text/plain": [
       "5"
      ]
     },
     "execution_count": 78,
     "metadata": {},
     "output_type": "execute_result"
    }
   ],
   "source": [
    "l18.pop()"
   ]
  },
  {
   "cell_type": "code",
   "execution_count": 79,
   "id": "d790d95d-3882-4c71-809a-e7eccda426cd",
   "metadata": {},
   "outputs": [
    {
     "data": {
      "text/plain": [
       "[1, 2, 34]"
      ]
     },
     "execution_count": 79,
     "metadata": {},
     "output_type": "execute_result"
    }
   ],
   "source": [
    "l18"
   ]
  },
  {
   "cell_type": "code",
   "execution_count": 80,
   "id": "831495bf-514e-4b5b-be70-ea240e53d485",
   "metadata": {},
   "outputs": [
    {
     "data": {
      "text/plain": [
       "34"
      ]
     },
     "execution_count": 80,
     "metadata": {},
     "output_type": "execute_result"
    }
   ],
   "source": [
    "l18.pop()"
   ]
  },
  {
   "cell_type": "code",
   "execution_count": 81,
   "id": "5a277642-5fe2-4c82-ac4b-ed4bf523945f",
   "metadata": {},
   "outputs": [
    {
     "data": {
      "text/plain": [
       "[1, 2]"
      ]
     },
     "execution_count": 81,
     "metadata": {},
     "output_type": "execute_result"
    }
   ],
   "source": [
    "l18"
   ]
  },
  {
   "cell_type": "code",
   "execution_count": 82,
   "id": "e420839f-88c1-444a-b21d-75d6fc31d68e",
   "metadata": {},
   "outputs": [
    {
     "data": {
      "text/plain": [
       "2"
      ]
     },
     "execution_count": 82,
     "metadata": {},
     "output_type": "execute_result"
    }
   ],
   "source": [
    "l18.pop()"
   ]
  },
  {
   "cell_type": "code",
   "execution_count": 83,
   "id": "9c0709f8-6935-4bc9-ad71-f7fa6c90f3bc",
   "metadata": {},
   "outputs": [
    {
     "data": {
      "text/plain": [
       "[1]"
      ]
     },
     "execution_count": 83,
     "metadata": {},
     "output_type": "execute_result"
    }
   ],
   "source": [
    "l18"
   ]
  },
  {
   "cell_type": "code",
   "execution_count": 84,
   "id": "4fa4dcb0-2557-47e9-bcb5-10f326642677",
   "metadata": {},
   "outputs": [
    {
     "data": {
      "text/plain": [
       "1"
      ]
     },
     "execution_count": 84,
     "metadata": {},
     "output_type": "execute_result"
    }
   ],
   "source": [
    "l18.pop()"
   ]
  },
  {
   "cell_type": "code",
   "execution_count": 85,
   "id": "fe8e740a-0cc7-4f21-8e78-b5f55ecc70b8",
   "metadata": {},
   "outputs": [
    {
     "data": {
      "text/plain": [
       "[]"
      ]
     },
     "execution_count": 85,
     "metadata": {},
     "output_type": "execute_result"
    }
   ],
   "source": [
    "l18  # hence all elements are removed"
   ]
  },
  {
   "cell_type": "code",
   "execution_count": null,
   "id": "0cf0c97d-daec-4a5d-9c0c-c0f45ca2217d",
   "metadata": {},
   "outputs": [],
   "source": [
    " # 42. Replace negative numbers in a list with 0."
   ]
  },
  {
   "cell_type": "code",
   "execution_count": 86,
   "id": "6ce52440-40dd-4f8d-9114-d802a8e82299",
   "metadata": {},
   "outputs": [],
   "source": [
    "l19 = [-1,-2,-3]"
   ]
  },
  {
   "cell_type": "code",
   "execution_count": 87,
   "id": "2c6ab333-a69f-41b4-be46-01c9276ac9d1",
   "metadata": {},
   "outputs": [
    {
     "data": {
      "text/plain": [
       "[-1, -2, -3]"
      ]
     },
     "execution_count": 87,
     "metadata": {},
     "output_type": "execute_result"
    }
   ],
   "source": [
    "l19"
   ]
  },
  {
   "cell_type": "code",
   "execution_count": 93,
   "id": "457a8c98-0cb3-4538-bfdf-02b286fa0261",
   "metadata": {},
   "outputs": [],
   "source": [
    "l19.insert(0,l19[0:3])"
   ]
  },
  {
   "cell_type": "code",
   "execution_count": 94,
   "id": "6ca76ef1-7928-40fa-b8d9-4cedd00abe00",
   "metadata": {},
   "outputs": [
    {
     "data": {
      "text/plain": [
       "[[-1, -2, -3], -1, -2, -3]"
      ]
     },
     "execution_count": 94,
     "metadata": {},
     "output_type": "execute_result"
    }
   ],
   "source": [
    "l19"
   ]
  },
  {
   "cell_type": "code",
   "execution_count": 95,
   "id": "d8e6c5d0-125e-4281-b60c-611efd84f86b",
   "metadata": {},
   "outputs": [],
   "source": [
    "l19.insert(0,0)"
   ]
  },
  {
   "cell_type": "code",
   "execution_count": 96,
   "id": "d640d048-b4ea-4d3d-a662-4e72d2acb446",
   "metadata": {},
   "outputs": [
    {
     "data": {
      "text/plain": [
       "[0, [-1, -2, -3], -1, -2, -3]"
      ]
     },
     "execution_count": 96,
     "metadata": {},
     "output_type": "execute_result"
    }
   ],
   "source": [
    "l19"
   ]
  },
  {
   "cell_type": "code",
   "execution_count": 97,
   "id": "7e3d50bb-5722-4cf4-a89d-b9294c7efb08",
   "metadata": {},
   "outputs": [],
   "source": [
    "l19.insert(1,0)"
   ]
  },
  {
   "cell_type": "code",
   "execution_count": 98,
   "id": "de4e1e29-d4ae-4fcf-affb-d4867b18d251",
   "metadata": {},
   "outputs": [
    {
     "data": {
      "text/plain": [
       "[0, 0, [-1, -2, -3], -1, -2, -3]"
      ]
     },
     "execution_count": 98,
     "metadata": {},
     "output_type": "execute_result"
    }
   ],
   "source": [
    "l19"
   ]
  },
  {
   "cell_type": "code",
   "execution_count": 99,
   "id": "7e3c208c-5aec-4af4-b4c9-0f78086036a8",
   "metadata": {},
   "outputs": [],
   "source": [
    "l19.insert(2,0)"
   ]
  },
  {
   "cell_type": "code",
   "execution_count": 100,
   "id": "b0ad7886-dcdb-40d5-97e9-c3c32b1f8f1d",
   "metadata": {},
   "outputs": [
    {
     "data": {
      "text/plain": [
       "[0, 0, 0, [-1, -2, -3], -1, -2, -3]"
      ]
     },
     "execution_count": 100,
     "metadata": {},
     "output_type": "execute_result"
    }
   ],
   "source": [
    "l19"
   ]
  },
  {
   "cell_type": "code",
   "execution_count": 101,
   "id": "d8bf5394-98fd-4ff8-960b-a2bfb7fb21b2",
   "metadata": {},
   "outputs": [
    {
     "data": {
      "text/plain": [
       "-3"
      ]
     },
     "execution_count": 101,
     "metadata": {},
     "output_type": "execute_result"
    }
   ],
   "source": [
    "l19.pop()"
   ]
  },
  {
   "cell_type": "code",
   "execution_count": 102,
   "id": "ca014e06-867d-4f88-8025-a1cd5c7237ff",
   "metadata": {},
   "outputs": [
    {
     "data": {
      "text/plain": [
       "[0, 0, 0, [-1, -2, -3], -1, -2]"
      ]
     },
     "execution_count": 102,
     "metadata": {},
     "output_type": "execute_result"
    }
   ],
   "source": [
    "l19"
   ]
  },
  {
   "cell_type": "code",
   "execution_count": 103,
   "id": "2bf2d006-7b85-4014-8921-d0d1ad512c82",
   "metadata": {},
   "outputs": [
    {
     "data": {
      "text/plain": [
       "-2"
      ]
     },
     "execution_count": 103,
     "metadata": {},
     "output_type": "execute_result"
    }
   ],
   "source": [
    "l19.pop()"
   ]
  },
  {
   "cell_type": "code",
   "execution_count": 104,
   "id": "05ebe2aa-bf8a-4b3b-8d45-8207d4b8101b",
   "metadata": {},
   "outputs": [
    {
     "data": {
      "text/plain": [
       "[0, 0, 0, [-1, -2, -3], -1]"
      ]
     },
     "execution_count": 104,
     "metadata": {},
     "output_type": "execute_result"
    }
   ],
   "source": [
    "l19"
   ]
  },
  {
   "cell_type": "code",
   "execution_count": 106,
   "id": "1a751cb5-3ccd-4ad9-b0a6-e7548c082648",
   "metadata": {},
   "outputs": [
    {
     "data": {
      "text/plain": [
       "-1"
      ]
     },
     "execution_count": 106,
     "metadata": {},
     "output_type": "execute_result"
    }
   ],
   "source": [
    "l19.pop()"
   ]
  },
  {
   "cell_type": "code",
   "execution_count": 107,
   "id": "a2b847d7-52e0-45b3-977c-039e45cfe928",
   "metadata": {},
   "outputs": [
    {
     "data": {
      "text/plain": [
       "[0, 0, 0, [-1, -2, -3]]"
      ]
     },
     "execution_count": 107,
     "metadata": {},
     "output_type": "execute_result"
    }
   ],
   "source": [
    "l19\n"
   ]
  },
  {
   "cell_type": "code",
   "execution_count": 108,
   "id": "c856b23e-3552-43ff-81b2-5a16476e3f1f",
   "metadata": {},
   "outputs": [
    {
     "data": {
      "text/plain": [
       "[-1, -2, -3]"
      ]
     },
     "execution_count": 108,
     "metadata": {},
     "output_type": "execute_result"
    }
   ],
   "source": [
    "l19.pop()"
   ]
  },
  {
   "cell_type": "code",
   "execution_count": 109,
   "id": "59eccdf1-bf38-4368-a91b-9e39f09001e2",
   "metadata": {},
   "outputs": [
    {
     "data": {
      "text/plain": [
       "[0, 0, 0]"
      ]
     },
     "execution_count": 109,
     "metadata": {},
     "output_type": "execute_result"
    }
   ],
   "source": [
    "l19        # hence we got the 0 on all the index"
   ]
  },
  {
   "cell_type": "code",
   "execution_count": null,
   "id": "f91f043a-1a3a-4d15-805e-b477a0555fc1",
   "metadata": {},
   "outputs": [],
   "source": [
    "#43. Convert a string into a list of words."
   ]
  },
  {
   "cell_type": "code",
   "execution_count": 115,
   "id": "f8f01c7a-764a-426c-83cf-41c9d6102ea9",
   "metadata": {},
   "outputs": [],
   "source": [
    "l20 = \"grant\""
   ]
  },
  {
   "cell_type": "code",
   "execution_count": 116,
   "id": "f41cbc90-96a6-4a22-a0cd-a1b82a030bf7",
   "metadata": {},
   "outputs": [
    {
     "data": {
      "text/plain": [
       "'grant'"
      ]
     },
     "execution_count": 116,
     "metadata": {},
     "output_type": "execute_result"
    }
   ],
   "source": [
    "l20"
   ]
  },
  {
   "cell_type": "code",
   "execution_count": 117,
   "id": "9c8fddea-5284-4cbd-a8b4-f3dfb5a5a3d1",
   "metadata": {},
   "outputs": [
    {
     "data": {
      "text/plain": [
       "['g', 'r', 'a', 'n', 't']"
      ]
     },
     "execution_count": 117,
     "metadata": {},
     "output_type": "execute_result"
    }
   ],
   "source": [
    "list(l20)"
   ]
  },
  {
   "cell_type": "code",
   "execution_count": null,
   "id": "3150cfb7-e802-4931-a5f4-d34df8a73d4b",
   "metadata": {},
   "outputs": [],
   "source": [
    "# 44. Convert a list of words into a string"
   ]
  },
  {
   "cell_type": "code",
   "execution_count": 118,
   "id": "228dd85c-ebd5-4f12-b0f5-eb85b3ecfbf7",
   "metadata": {},
   "outputs": [],
   "source": [
    "l21 = [\"mahananda\"]"
   ]
  },
  {
   "cell_type": "code",
   "execution_count": 119,
   "id": "7743e181-89af-4600-bcd1-ffb02b9a723f",
   "metadata": {},
   "outputs": [
    {
     "data": {
      "text/plain": [
       "list"
      ]
     },
     "execution_count": 119,
     "metadata": {},
     "output_type": "execute_result"
    }
   ],
   "source": [
    "type(l21)"
   ]
  },
  {
   "cell_type": "code",
   "execution_count": 120,
   "id": "2f8e63c8-bbe7-4f69-8eff-a0a91a2e667b",
   "metadata": {},
   "outputs": [],
   "source": [
    "l22 = \"kashi\""
   ]
  },
  {
   "cell_type": "code",
   "execution_count": 121,
   "id": "6176342a-1106-4533-b233-f90ef20588a4",
   "metadata": {},
   "outputs": [
    {
     "data": {
      "text/plain": [
       "'kashi'"
      ]
     },
     "execution_count": 121,
     "metadata": {},
     "output_type": "execute_result"
    }
   ],
   "source": [
    "l22\n"
   ]
  },
  {
   "cell_type": "code",
   "execution_count": 122,
   "id": "aab52d02-33f4-4c5b-972f-d1cefa51cd40",
   "metadata": {},
   "outputs": [],
   "source": [
    "l21 =  list(l22)"
   ]
  },
  {
   "cell_type": "code",
   "execution_count": 123,
   "id": "87cf6239-8051-4103-b400-796470523b65",
   "metadata": {},
   "outputs": [
    {
     "data": {
      "text/plain": [
       "['k', 'a', 's', 'h', 'i']"
      ]
     },
     "execution_count": 123,
     "metadata": {},
     "output_type": "execute_result"
    }
   ],
   "source": [
    "l21"
   ]
  },
  {
   "cell_type": "code",
   "execution_count": null,
   "id": "0a69ca1d-772c-43d9-b484-59996d9da64b",
   "metadata": {},
   "outputs": [],
   "source": [
    "# 45. Create a list of the first `n` powers of 2."
   ]
  },
  {
   "cell_type": "code",
   "execution_count": 124,
   "id": "34df4742-99ec-40ce-b005-cc524bdfa850",
   "metadata": {},
   "outputs": [],
   "source": [
    "l23 = [1,2,4,8,16,32,64,128,256,512]"
   ]
  },
  {
   "cell_type": "code",
   "execution_count": 125,
   "id": "8fa7aeac-3043-45e9-ad5b-f551cfb6192d",
   "metadata": {},
   "outputs": [
    {
     "data": {
      "text/plain": [
       "[1, 2, 4, 8, 16, 32, 64, 128, 256, 512]"
      ]
     },
     "execution_count": 125,
     "metadata": {},
     "output_type": "execute_result"
    }
   ],
   "source": [
    "l23"
   ]
  },
  {
   "cell_type": "code",
   "execution_count": null,
   "id": "bf7585c4-8665-40ed-a628-471d5ce3e5ec",
   "metadata": {},
   "outputs": [],
   "source": [
    "# 46. Find the longest string in a list of strings"
   ]
  },
  {
   "cell_type": "code",
   "execution_count": 140,
   "id": "e4ce59f3-b06e-471d-aa9e-bd6ebeb2e6a2",
   "metadata": {},
   "outputs": [],
   "source": [
    "l24 = [\"tatanagar\",\"jammutawi\",\"muri\",\"express\"]"
   ]
  },
  {
   "cell_type": "code",
   "execution_count": 127,
   "id": "6f022019-926a-4ff4-a31a-cc032a4ba234",
   "metadata": {},
   "outputs": [
    {
     "data": {
      "text/plain": [
       "['tatanagar', 'jammutawi', 'muri', 'express']"
      ]
     },
     "execution_count": 127,
     "metadata": {},
     "output_type": "execute_result"
    }
   ],
   "source": [
    "l24"
   ]
  },
  {
   "cell_type": "code",
   "execution_count": 130,
   "id": "1c523ddf-0210-4ce7-9102-62b802d1efe7",
   "metadata": {},
   "outputs": [],
   "source": [
    "l24.sort(reverse = True)"
   ]
  },
  {
   "cell_type": "code",
   "execution_count": 131,
   "id": "6aa43641-ab8f-493a-8173-ed0cace84d1c",
   "metadata": {},
   "outputs": [
    {
     "data": {
      "text/plain": [
       "['tatanagar', 'muri', 'jammutawi', 'express']"
      ]
     },
     "execution_count": 131,
     "metadata": {},
     "output_type": "execute_result"
    }
   ],
   "source": [
    "l24"
   ]
  },
  {
   "cell_type": "code",
   "execution_count": 136,
   "id": "ac3bb79a-b0dd-43d1-a05f-7c3622dc9399",
   "metadata": {},
   "outputs": [
    {
     "data": {
      "text/plain": [
       "['tatanagar', 'jammutawi']"
      ]
     },
     "execution_count": 136,
     "metadata": {},
     "output_type": "execute_result"
    }
   ],
   "source": [
    "l24[0:1]+l24[2:3]"
   ]
  },
  {
   "cell_type": "code",
   "execution_count": null,
   "id": "58058195-0b96-41e7-8717-98e2efd54ced",
   "metadata": {},
   "outputs": [],
   "source": [
    "# 47. Find the shortest string in a list of strings"
   ]
  },
  {
   "cell_type": "code",
   "execution_count": 137,
   "id": "81bec98f-759a-4d89-b210-43d72c3ee743",
   "metadata": {},
   "outputs": [
    {
     "data": {
      "text/plain": [
       "['tatanagar', 'muri', 'jammutawi', 'express']"
      ]
     },
     "execution_count": 137,
     "metadata": {},
     "output_type": "execute_result"
    }
   ],
   "source": [
    "l24"
   ]
  },
  {
   "cell_type": "code",
   "execution_count": 139,
   "id": "715314f6-ad45-41bc-bba9-61214e49ea48",
   "metadata": {},
   "outputs": [
    {
     "data": {
      "text/plain": [
       "['muri', 'express']"
      ]
     },
     "execution_count": 139,
     "metadata": {},
     "output_type": "execute_result"
    }
   ],
   "source": [
    "l24[1:2]+l24[3:4]"
   ]
  },
  {
   "cell_type": "code",
   "execution_count": null,
   "id": "d4e6833b-e38c-49af-a914-2f2e81e8ae1b",
   "metadata": {},
   "outputs": [],
   "source": [
    "# 48. Create a list of the first `n` triangular numbers"
   ]
  },
  {
   "cell_type": "code",
   "execution_count": 141,
   "id": "07cdb56f-5634-4431-8894-778bdf6d3e0e",
   "metadata": {},
   "outputs": [],
   "source": [
    "l25 = [1,3,6,10,15,21]"
   ]
  },
  {
   "cell_type": "code",
   "execution_count": 142,
   "id": "84d7165e-83b7-46db-8ed3-40b79247512a",
   "metadata": {},
   "outputs": [
    {
     "data": {
      "text/plain": [
       "[1, 3, 6, 10, 15, 21]"
      ]
     },
     "execution_count": 142,
     "metadata": {},
     "output_type": "execute_result"
    }
   ],
   "source": [
    "l25"
   ]
  },
  {
   "cell_type": "code",
   "execution_count": null,
   "id": "6fe20848-d021-44fd-8222-7e8cf59b3321",
   "metadata": {},
   "outputs": [],
   "source": [
    " # 49. Check if a list contains another list as a subsequence"
   ]
  },
  {
   "cell_type": "code",
   "execution_count": 144,
   "id": "2624b53e-4828-4773-a93f-d9b8a085337b",
   "metadata": {},
   "outputs": [
    {
     "data": {
      "text/plain": [
       "['farraka', 'express', 1, 2, 3, 4, [5, 6, 7], (8+7j)]"
      ]
     },
     "execution_count": 144,
     "metadata": {},
     "output_type": "execute_result"
    }
   ],
   "source": [
    "l11"
   ]
  },
  {
   "cell_type": "code",
   "execution_count": 145,
   "id": "d39d0916-f8f0-49fd-b213-d6acf3aefd5d",
   "metadata": {},
   "outputs": [
    {
     "data": {
      "text/plain": [
       "[[5, 6, 7]]"
      ]
     },
     "execution_count": 145,
     "metadata": {},
     "output_type": "execute_result"
    }
   ],
   "source": [
    "l11[6:7]"
   ]
  },
  {
   "cell_type": "code",
   "execution_count": 150,
   "id": "8ae9a1e8-0377-4a11-8999-954642b8be8e",
   "metadata": {},
   "outputs": [
    {
     "data": {
      "text/plain": [
       "6"
      ]
     },
     "execution_count": 150,
     "metadata": {},
     "output_type": "execute_result"
    }
   ],
   "source": [
    "l11.index([ 5,6,7])    # it proves that the subsequence is on index '6' "
   ]
  },
  {
   "cell_type": "code",
   "execution_count": null,
   "id": "97b11964-94ce-49bb-9238-dd1988199e88",
   "metadata": {},
   "outputs": [],
   "source": [
    "# 50. Swap two elements in a list by their indices"
   ]
  },
  {
   "cell_type": "code",
   "execution_count": 151,
   "id": "5b768833-f5a9-427e-a132-22e4b1a19ef9",
   "metadata": {},
   "outputs": [],
   "source": [
    "l26 = [1,2,3]"
   ]
  },
  {
   "cell_type": "code",
   "execution_count": 152,
   "id": "7e8486d4-d97a-4b6c-9c85-736e37c1d974",
   "metadata": {},
   "outputs": [
    {
     "data": {
      "text/plain": [
       "[1, 2, 3]"
      ]
     },
     "execution_count": 152,
     "metadata": {},
     "output_type": "execute_result"
    }
   ],
   "source": [
    "l26"
   ]
  },
  {
   "cell_type": "code",
   "execution_count": 154,
   "id": "dcc8630a-b2a4-414a-b8e5-ef2aa097233a",
   "metadata": {},
   "outputs": [],
   "source": [
    "x = l26[0:1]"
   ]
  },
  {
   "cell_type": "code",
   "execution_count": 155,
   "id": "32f70b2d-da8a-4944-9e7f-66dd551e8d89",
   "metadata": {},
   "outputs": [
    {
     "data": {
      "text/plain": [
       "[1]"
      ]
     },
     "execution_count": 155,
     "metadata": {},
     "output_type": "execute_result"
    }
   ],
   "source": [
    "x"
   ]
  },
  {
   "cell_type": "code",
   "execution_count": 156,
   "id": "c3114e3f-a534-4a4b-a667-169d6315452b",
   "metadata": {},
   "outputs": [],
   "source": [
    "l27 = [4,5,6]"
   ]
  },
  {
   "cell_type": "code",
   "execution_count": 157,
   "id": "0b1802fb-1056-4492-a73a-e5fda4e7ee9d",
   "metadata": {},
   "outputs": [
    {
     "data": {
      "text/plain": [
       "[4, 5, 6]"
      ]
     },
     "execution_count": 157,
     "metadata": {},
     "output_type": "execute_result"
    }
   ],
   "source": [
    "l27"
   ]
  },
  {
   "cell_type": "code",
   "execution_count": 158,
   "id": "cb92b483-0258-4e04-96fe-33612ec07a1f",
   "metadata": {},
   "outputs": [],
   "source": [
    "y = l27[0:1]"
   ]
  },
  {
   "cell_type": "code",
   "execution_count": 159,
   "id": "15aa37f5-1d4c-40b3-9ee5-8a3b201bb718",
   "metadata": {},
   "outputs": [
    {
     "data": {
      "text/plain": [
       "[4]"
      ]
     },
     "execution_count": 159,
     "metadata": {},
     "output_type": "execute_result"
    }
   ],
   "source": [
    "y"
   ]
  },
  {
   "cell_type": "code",
   "execution_count": 165,
   "id": "0212f35e-010e-44f8-b6b2-570387a65165",
   "metadata": {},
   "outputs": [],
   "source": [
    "x = l27[0:1]"
   ]
  },
  {
   "cell_type": "code",
   "execution_count": 166,
   "id": "308fcd4d-7966-491e-b3fc-785d1acf87a6",
   "metadata": {},
   "outputs": [
    {
     "data": {
      "text/plain": [
       "[4, 5, 6]"
      ]
     },
     "execution_count": 166,
     "metadata": {},
     "output_type": "execute_result"
    }
   ],
   "source": [
    "l27"
   ]
  },
  {
   "cell_type": "code",
   "execution_count": 168,
   "id": "436e9668-7530-4af5-851a-cc3fa4edbc77",
   "metadata": {},
   "outputs": [],
   "source": [
    "y  = l26[0:1]"
   ]
  },
  {
   "cell_type": "code",
   "execution_count": 169,
   "id": "aa2807da-6718-4c8a-b5af-7b08a3535576",
   "metadata": {},
   "outputs": [
    {
     "data": {
      "text/plain": [
       "[1, 2, 3]"
      ]
     },
     "execution_count": 169,
     "metadata": {},
     "output_type": "execute_result"
    }
   ],
   "source": [
    "l26"
   ]
  },
  {
   "cell_type": "code",
   "execution_count": null,
   "id": "47fe9276-fb1f-4436-8e1d-f6a5ca84692b",
   "metadata": {},
   "outputs": [],
   "source": [
    "                                       # TUPPLES ARE STARTED"
   ]
  },
  {
   "cell_type": "code",
   "execution_count": null,
   "id": "933dd20e-991f-4d24-be9d-e2b7a57cecf2",
   "metadata": {},
   "outputs": [],
   "source": [
    "# 1. Create a tuple with integers from 1 to 5."
   ]
  },
  {
   "cell_type": "code",
   "execution_count": 171,
   "id": "24a71fa2-4695-417f-96c4-ab721d83eac1",
   "metadata": {},
   "outputs": [],
   "source": [
    "t = ()"
   ]
  },
  {
   "cell_type": "code",
   "execution_count": 173,
   "id": "4aa3390c-d44e-4a59-bf5e-12be41c01fce",
   "metadata": {},
   "outputs": [
    {
     "data": {
      "text/plain": [
       "tuple"
      ]
     },
     "execution_count": 173,
     "metadata": {},
     "output_type": "execute_result"
    }
   ],
   "source": [
    "type(t)"
   ]
  },
  {
   "cell_type": "code",
   "execution_count": 174,
   "id": "1c11e27e-8e5e-4e2d-b6f7-3810638a44c4",
   "metadata": {},
   "outputs": [],
   "source": [
    "t = (1,2,3,4,5)"
   ]
  },
  {
   "cell_type": "code",
   "execution_count": 176,
   "id": "7a399b25-dd29-4982-8ac5-5b77ae68bf80",
   "metadata": {},
   "outputs": [
    {
     "data": {
      "text/plain": [
       "(1, 2, 3, 4, 5)"
      ]
     },
     "execution_count": 176,
     "metadata": {},
     "output_type": "execute_result"
    }
   ],
   "source": [
    "t"
   ]
  },
  {
   "cell_type": "code",
   "execution_count": null,
   "id": "e5728fd9-f9db-490d-b528-ea78a3f3b713",
   "metadata": {},
   "outputs": [],
   "source": [
    "# 2. Access the third element of a tuple."
   ]
  },
  {
   "cell_type": "code",
   "execution_count": 175,
   "id": "e32e4eae-0e81-47c0-9218-fe4c096f69d0",
   "metadata": {},
   "outputs": [
    {
     "data": {
      "text/plain": [
       "(4,)"
      ]
     },
     "execution_count": 175,
     "metadata": {},
     "output_type": "execute_result"
    }
   ],
   "source": [
    "t[3:4]"
   ]
  },
  {
   "cell_type": "code",
   "execution_count": null,
   "id": "3461099b-6cf8-46b1-802b-d93238adc219",
   "metadata": {},
   "outputs": [],
   "source": [
    "# 3. Find the length of a tuple without using the `len()` function"
   ]
  },
  {
   "cell_type": "code",
   "execution_count": 177,
   "id": "526b5b36-eed1-4b19-be8a-b06f79c44c95",
   "metadata": {},
   "outputs": [
    {
     "data": {
      "text/plain": [
       "(1, 2, 3, 4, 5)"
      ]
     },
     "execution_count": 177,
     "metadata": {},
     "output_type": "execute_result"
    }
   ],
   "source": [
    "t"
   ]
  },
  {
   "cell_type": "code",
   "execution_count": null,
   "id": "be2b48e1-6e41-45f4-a503-58dda38285e3",
   "metadata": {},
   "outputs": [],
   "source": [
    "# NOTE 1/-   to prove:- lenght of string  = total index + 1"
   ]
  },
  {
   "cell_type": "code",
   "execution_count": 178,
   "id": "76b71596-00bd-4f97-9c15-601e1d11f72d",
   "metadata": {},
   "outputs": [
    {
     "data": {
      "text/plain": [
       "4"
      ]
     },
     "execution_count": 178,
     "metadata": {},
     "output_type": "execute_result"
    }
   ],
   "source": [
    "t.index(5)        #since last element is on the 4th position"
   ]
  },
  {
   "cell_type": "code",
   "execution_count": null,
   "id": "273f4ae6-ad97-42ba-ad52-fac02f6f5fb6",
   "metadata": {},
   "outputs": [],
   "source": [
    "length = 4 + 1  =5 elements      # FROM NOTE 1"
   ]
  },
  {
   "cell_type": "code",
   "execution_count": null,
   "id": "a4652dad-545e-4769-ace1-c594f4bb9231",
   "metadata": {},
   "outputs": [],
   "source": [
    "# 4. Count the occurrences of an element in a tuple."
   ]
  },
  {
   "cell_type": "code",
   "execution_count": 179,
   "id": "ccf9d77c-18c9-4cfa-8484-516bf148115d",
   "metadata": {},
   "outputs": [
    {
     "data": {
      "text/plain": [
       "(1, 2, 3, 4, 5)"
      ]
     },
     "execution_count": 179,
     "metadata": {},
     "output_type": "execute_result"
    }
   ],
   "source": [
    "t"
   ]
  },
  {
   "cell_type": "code",
   "execution_count": 180,
   "id": "de7c725f-e022-4471-9c44-e09723e65f4f",
   "metadata": {},
   "outputs": [
    {
     "data": {
      "text/plain": [
       "1"
      ]
     },
     "execution_count": 180,
     "metadata": {},
     "output_type": "execute_result"
    }
   ],
   "source": [
    "t.count(3)"
   ]
  },
  {
   "cell_type": "code",
   "execution_count": null,
   "id": "24be6788-8d3f-4f29-bd51-42547b5ccc4a",
   "metadata": {},
   "outputs": [],
   "source": [
    "# 5. Find the index of the first occurrence of an element in a tuple"
   ]
  },
  {
   "cell_type": "code",
   "execution_count": 181,
   "id": "a2bd668f-86d5-4076-bbee-66adb6525191",
   "metadata": {},
   "outputs": [
    {
     "data": {
      "text/plain": [
       "(1, 2, 3, 4, 5)"
      ]
     },
     "execution_count": 181,
     "metadata": {},
     "output_type": "execute_result"
    }
   ],
   "source": [
    "t"
   ]
  },
  {
   "cell_type": "code",
   "execution_count": 182,
   "id": "38650252-3a1d-4bd0-a122-cf60c239d938",
   "metadata": {},
   "outputs": [
    {
     "data": {
      "text/plain": [
       "1"
      ]
     },
     "execution_count": 182,
     "metadata": {},
     "output_type": "execute_result"
    }
   ],
   "source": [
    "t[0:1].count(1)"
   ]
  },
  {
   "cell_type": "code",
   "execution_count": null,
   "id": "7605e329-6761-4f30-b9ed-caac47e93491",
   "metadata": {},
   "outputs": [],
   "source": [
    "# 6. Check if an element exists in a tuple"
   ]
  },
  {
   "cell_type": "code",
   "execution_count": 183,
   "id": "599c27af-54a0-415d-9ff3-e855136c6d38",
   "metadata": {},
   "outputs": [
    {
     "data": {
      "text/plain": [
       "(1, 2, 3, 4, 5)"
      ]
     },
     "execution_count": 183,
     "metadata": {},
     "output_type": "execute_result"
    }
   ],
   "source": [
    "t"
   ]
  },
  {
   "cell_type": "code",
   "execution_count": 184,
   "id": "2b7d39bb-3764-467a-9d91-e1f7538dda37",
   "metadata": {},
   "outputs": [
    {
     "ename": "ValueError",
     "evalue": "tuple.index(x): x not in tuple",
     "output_type": "error",
     "traceback": [
      "\u001b[0;31m---------------------------------------------------------------------------\u001b[0m",
      "\u001b[0;31mValueError\u001b[0m                                Traceback (most recent call last)",
      "Cell \u001b[0;32mIn[184], line 1\u001b[0m\n\u001b[0;32m----> 1\u001b[0m \u001b[43mt\u001b[49m\u001b[38;5;241;43m.\u001b[39;49m\u001b[43mindex\u001b[49m\u001b[43m(\u001b[49m\u001b[38;5;241;43m6\u001b[39;49m\u001b[43m)\u001b[49m\n",
      "\u001b[0;31mValueError\u001b[0m: tuple.index(x): x not in tuple"
     ]
    }
   ],
   "source": [
    "t.index(6)         # hence proved that error showed given supossed(6) element is not present in tuple"
   ]
  },
  {
   "cell_type": "code",
   "execution_count": null,
   "id": "6feeeeb1-8c21-4182-b7af-2a06ed5d1834",
   "metadata": {},
   "outputs": [],
   "source": [
    "# 7. Convert a tuple to a list"
   ]
  },
  {
   "cell_type": "code",
   "execution_count": 185,
   "id": "b71b3186-0d66-4107-b94a-500a75c935bc",
   "metadata": {},
   "outputs": [
    {
     "data": {
      "text/plain": [
       "(1, 2, 3, 4, 5)"
      ]
     },
     "execution_count": 185,
     "metadata": {},
     "output_type": "execute_result"
    }
   ],
   "source": [
    "t"
   ]
  },
  {
   "cell_type": "code",
   "execution_count": 186,
   "id": "dbfc6b70-1ac8-4040-9a72-337e1b449cca",
   "metadata": {},
   "outputs": [
    {
     "data": {
      "text/plain": [
       "[1, 2, 3, 4, 5]"
      ]
     },
     "execution_count": 186,
     "metadata": {},
     "output_type": "execute_result"
    }
   ],
   "source": [
    "list(t)"
   ]
  },
  {
   "cell_type": "code",
   "execution_count": null,
   "id": "c502ec95-76f6-42eb-9053-42183aa62b92",
   "metadata": {},
   "outputs": [],
   "source": [
    "#  8. Convert a list to a tuple"
   ]
  },
  {
   "cell_type": "code",
   "execution_count": 187,
   "id": "97a48838-2ba4-4a73-bb13-729aa174a85c",
   "metadata": {},
   "outputs": [
    {
     "data": {
      "text/plain": [
       "(1, 2, 3, 4, 5)"
      ]
     },
     "execution_count": 187,
     "metadata": {},
     "output_type": "execute_result"
    }
   ],
   "source": [
    "t"
   ]
  },
  {
   "cell_type": "code",
   "execution_count": 189,
   "id": "c25d352c-19b8-45db-8b92-0e99685d67e4",
   "metadata": {},
   "outputs": [
    {
     "data": {
      "text/plain": [
       "[4, 5, 6]"
      ]
     },
     "execution_count": 189,
     "metadata": {},
     "output_type": "execute_result"
    }
   ],
   "source": [
    "l27"
   ]
  },
  {
   "cell_type": "code",
   "execution_count": 190,
   "id": "3f614178-436e-414c-a936-f78ff4121d48",
   "metadata": {},
   "outputs": [
    {
     "data": {
      "text/plain": [
       "(4, 5, 6)"
      ]
     },
     "execution_count": 190,
     "metadata": {},
     "output_type": "execute_result"
    }
   ],
   "source": [
    "tuple(l27)"
   ]
  },
  {
   "cell_type": "code",
   "execution_count": null,
   "id": "80394744-9bb3-44b1-b9e4-dbd5bab8777b",
   "metadata": {},
   "outputs": [],
   "source": [
    "# 9. Unpack the elements of a tuple into variables"
   ]
  },
  {
   "cell_type": "code",
   "execution_count": 191,
   "id": "2a06354f-3064-42da-9891-b3bc187c725a",
   "metadata": {},
   "outputs": [
    {
     "data": {
      "text/plain": [
       "(1, 2, 3, 4, 5)"
      ]
     },
     "execution_count": 191,
     "metadata": {},
     "output_type": "execute_result"
    }
   ],
   "source": [
    "t"
   ]
  },
  {
   "cell_type": "code",
   "execution_count": 193,
   "id": "849afb6c-e347-4b59-803b-27e98b6ebb4f",
   "metadata": {},
   "outputs": [],
   "source": [
    "t1 = \"lucky\""
   ]
  },
  {
   "cell_type": "code",
   "execution_count": 194,
   "id": "1abb6303-f18c-4d28-8161-cfc78b98de3d",
   "metadata": {},
   "outputs": [
    {
     "data": {
      "text/plain": [
       "'lucky'"
      ]
     },
     "execution_count": 194,
     "metadata": {},
     "output_type": "execute_result"
    }
   ],
   "source": [
    "t1"
   ]
  },
  {
   "cell_type": "code",
   "execution_count": 195,
   "id": "d18d9c60-1216-4002-b98b-029c32b9d6ab",
   "metadata": {},
   "outputs": [
    {
     "data": {
      "text/plain": [
       "('l', 'u', 'c', 'k', 'y')"
      ]
     },
     "execution_count": 195,
     "metadata": {},
     "output_type": "execute_result"
    }
   ],
   "source": [
    "tuple(t1)"
   ]
  },
  {
   "cell_type": "code",
   "execution_count": null,
   "id": "eab89bd1-1dce-4748-8e8b-bad4d81cc89b",
   "metadata": {},
   "outputs": [],
   "source": [
    "# 10. Create a tuple of even numbers from 1 to 10"
   ]
  },
  {
   "cell_type": "code",
   "execution_count": 246,
   "id": "715c3490-894b-49d9-916e-728a73165427",
   "metadata": {},
   "outputs": [],
   "source": [
    "t2 = (2,4,6,8,10)"
   ]
  },
  {
   "cell_type": "code",
   "execution_count": 197,
   "id": "0951b5a2-d5cf-4fe0-9c6b-0a3e897abee7",
   "metadata": {},
   "outputs": [
    {
     "data": {
      "text/plain": [
       "(2, 4, 6, 8, 10)"
      ]
     },
     "execution_count": 197,
     "metadata": {},
     "output_type": "execute_result"
    }
   ],
   "source": [
    "t2"
   ]
  },
  {
   "cell_type": "code",
   "execution_count": null,
   "id": "c792cfbc-1a6a-4477-9766-1f49aa8d6498",
   "metadata": {},
   "outputs": [],
   "source": [
    "#11. Create a tuple of odd numbers from 1 to 10."
   ]
  },
  {
   "cell_type": "code",
   "execution_count": 198,
   "id": "7a5d69dd-b21d-49de-ad98-11e66e8aa1ee",
   "metadata": {},
   "outputs": [],
   "source": [
    "t3 = (1,3,5,7,9)"
   ]
  },
  {
   "cell_type": "code",
   "execution_count": 199,
   "id": "b018d8e0-9c4d-49c8-aee1-3e6d975f4eec",
   "metadata": {},
   "outputs": [
    {
     "data": {
      "text/plain": [
       "(1, 3, 5, 7, 9)"
      ]
     },
     "execution_count": 199,
     "metadata": {},
     "output_type": "execute_result"
    }
   ],
   "source": [
    "t3"
   ]
  },
  {
   "cell_type": "code",
   "execution_count": null,
   "id": "dae76e90-a1ba-4609-8239-6226afbebcaa",
   "metadata": {},
   "outputs": [],
   "source": [
    "# 12. Concatenate two tuples"
   ]
  },
  {
   "cell_type": "code",
   "execution_count": 247,
   "id": "941a1bcf-e85d-4c51-8e5e-3f5389dc631e",
   "metadata": {},
   "outputs": [
    {
     "data": {
      "text/plain": [
       "(2, 4, 6, 8, 10)"
      ]
     },
     "execution_count": 247,
     "metadata": {},
     "output_type": "execute_result"
    }
   ],
   "source": [
    "t2"
   ]
  },
  {
   "cell_type": "code",
   "execution_count": 201,
   "id": "5a157bd8-77ae-4183-8a4e-ff6e40bff998",
   "metadata": {},
   "outputs": [
    {
     "data": {
      "text/plain": [
       "(1, 3, 5, 7, 9)"
      ]
     },
     "execution_count": 201,
     "metadata": {},
     "output_type": "execute_result"
    }
   ],
   "source": [
    "t3"
   ]
  },
  {
   "cell_type": "code",
   "execution_count": 203,
   "id": "c9c563ea-e1b4-46c8-a691-20f116e6aaf4",
   "metadata": {},
   "outputs": [
    {
     "data": {
      "text/plain": [
       "(2, 4, 6, 8, 10, 1, 3, 5, 7, 9)"
      ]
     },
     "execution_count": 203,
     "metadata": {},
     "output_type": "execute_result"
    }
   ],
   "source": [
    "t2+t3"
   ]
  },
  {
   "cell_type": "code",
   "execution_count": null,
   "id": "e2739509-9563-4884-8718-6f1de5c91bf6",
   "metadata": {},
   "outputs": [],
   "source": [
    "# 13. Repeat a tuple three times"
   ]
  },
  {
   "cell_type": "code",
   "execution_count": 204,
   "id": "78da303a-20c8-4e21-b649-09121357b2ef",
   "metadata": {},
   "outputs": [
    {
     "data": {
      "text/plain": [
       "(2, 4, 6, 8, 10)"
      ]
     },
     "execution_count": 204,
     "metadata": {},
     "output_type": "execute_result"
    }
   ],
   "source": [
    "t2\n"
   ]
  },
  {
   "cell_type": "code",
   "execution_count": 205,
   "id": "070b737e-c56e-4e4a-9765-e79b20e653b2",
   "metadata": {},
   "outputs": [
    {
     "data": {
      "text/plain": [
       "(2, 4, 6, 8, 10, 2, 4, 6, 8, 10)"
      ]
     },
     "execution_count": 205,
     "metadata": {},
     "output_type": "execute_result"
    }
   ],
   "source": [
    "t2*2"
   ]
  },
  {
   "cell_type": "code",
   "execution_count": null,
   "id": "f941a2e1-b3ab-4832-a346-617927fe1605",
   "metadata": {},
   "outputs": [],
   "source": [
    "# 14. Check if a tuple is empty."
   ]
  },
  {
   "cell_type": "code",
   "execution_count": 206,
   "id": "48a54063-6ee2-404b-a4fd-bca73dd187a9",
   "metadata": {},
   "outputs": [
    {
     "data": {
      "text/plain": [
       "(2, 4, 6, 8, 10)"
      ]
     },
     "execution_count": 206,
     "metadata": {},
     "output_type": "execute_result"
    }
   ],
   "source": [
    "t2"
   ]
  },
  {
   "cell_type": "code",
   "execution_count": 207,
   "id": "67a9808a-0359-4f2f-8572-a6b4c5282063",
   "metadata": {},
   "outputs": [
    {
     "data": {
      "text/plain": [
       "(1, 3, 5, 7, 9)"
      ]
     },
     "execution_count": 207,
     "metadata": {},
     "output_type": "execute_result"
    }
   ],
   "source": [
    "t3"
   ]
  },
  {
   "cell_type": "code",
   "execution_count": 214,
   "id": "33b64ff5-a40c-460f-81be-0763163ad493",
   "metadata": {},
   "outputs": [
    {
     "ename": "ValueError",
     "evalue": "tuple.index(x): x not in tuple",
     "output_type": "error",
     "traceback": [
      "\u001b[0;31m---------------------------------------------------------------------------\u001b[0m",
      "\u001b[0;31mValueError\u001b[0m                                Traceback (most recent call last)",
      "Cell \u001b[0;32mIn[214], line 1\u001b[0m\n\u001b[0;32m----> 1\u001b[0m \u001b[43mt3\u001b[49m\u001b[38;5;241;43m.\u001b[39;49m\u001b[43mindex\u001b[49m\u001b[43m(\u001b[49m\u001b[38;5;241;43m5\u001b[39;49m\u001b[43m,\u001b[49m\u001b[38;5;241;43m3\u001b[39;49m\u001b[43m,\u001b[49m\u001b[38;5;241;43m1\u001b[39;49m\u001b[43m)\u001b[49m            \u001b[38;5;66;03m# hence proved that the given element have some index but in case of empty \u001b[39;00m\n\u001b[1;32m      2\u001b[0m                             \u001b[38;5;66;03m# tuple index=false\u001b[39;00m\n",
      "\u001b[0;31mValueError\u001b[0m: tuple.index(x): x not in tuple"
     ]
    }
   ],
   "source": [
    "t3.index(5,3,1)            # hence proved that the given element have some index but in case of empty tuple\n",
    "                            #  index=no element"
   ]
  },
  {
   "cell_type": "code",
   "execution_count": 215,
   "id": "7c69aed0-7c45-493a-821d-476686e79745",
   "metadata": {},
   "outputs": [
    {
     "ename": "ValueError",
     "evalue": "tuple.index(x): x not in tuple",
     "output_type": "error",
     "traceback": [
      "\u001b[0;31m---------------------------------------------------------------------------\u001b[0m",
      "\u001b[0;31mValueError\u001b[0m                                Traceback (most recent call last)",
      "Cell \u001b[0;32mIn[215], line 1\u001b[0m\n\u001b[0;32m----> 1\u001b[0m \u001b[43mt3\u001b[49m\u001b[38;5;241;43m.\u001b[39;49m\u001b[43mindex\u001b[49m\u001b[43m(\u001b[49m\u001b[38;5;241;43m7\u001b[39;49m\u001b[43m,\u001b[49m\u001b[38;5;241;43m9\u001b[39;49m\u001b[43m)\u001b[49m\n",
      "\u001b[0;31mValueError\u001b[0m: tuple.index(x): x not in tuple"
     ]
    }
   ],
   "source": [
    "t3.index(7,9)"
   ]
  },
  {
   "cell_type": "code",
   "execution_count": null,
   "id": "6c151eed-445e-48f1-a70e-8c7a84147c73",
   "metadata": {},
   "outputs": [],
   "source": [
    "# 15. Create a nested tuple."
   ]
  },
  {
   "cell_type": "code",
   "execution_count": 216,
   "id": "5a76a7d3-9de8-4304-b53f-0964ba95fdda",
   "metadata": {},
   "outputs": [],
   "source": [
    "t4 = (1,2,3,(4,5,6))"
   ]
  },
  {
   "cell_type": "code",
   "execution_count": 217,
   "id": "f0bb3742-1cb3-495b-8695-4ac51c7cd752",
   "metadata": {},
   "outputs": [
    {
     "data": {
      "text/plain": [
       "(1, 2, 3, (4, 5, 6))"
      ]
     },
     "execution_count": 217,
     "metadata": {},
     "output_type": "execute_result"
    }
   ],
   "source": [
    "t4"
   ]
  },
  {
   "cell_type": "code",
   "execution_count": null,
   "id": "83eb1894-47d6-4921-977c-23a141f023df",
   "metadata": {},
   "outputs": [],
   "source": [
    "# 16. Access the first element of a nested tuple             #"
   ]
  },
  {
   "cell_type": "code",
   "execution_count": 225,
   "id": "718d8754-39c3-44d8-bb63-789f4a0a0167",
   "metadata": {},
   "outputs": [
    {
     "data": {
      "text/plain": [
       "((4, 5, 6),)"
      ]
     },
     "execution_count": 225,
     "metadata": {},
     "output_type": "execute_result"
    }
   ],
   "source": [
    "t4[3:4][0:1]"
   ]
  },
  {
   "cell_type": "code",
   "execution_count": null,
   "id": "cc25479b-4572-413f-8f7f-68e481a1a3f5",
   "metadata": {},
   "outputs": [],
   "source": [
    " # 17. Create a tuple with a single element"
   ]
  },
  {
   "cell_type": "code",
   "execution_count": 241,
   "id": "91d88870-b652-45ed-b5ed-d0dbd9fd1f36",
   "metadata": {},
   "outputs": [],
   "source": [
    "t5 = (3)\n"
   ]
  },
  {
   "cell_type": "code",
   "execution_count": 242,
   "id": "6e7cba6f-d234-4a67-9e7e-c0f63be0c2d2",
   "metadata": {},
   "outputs": [
    {
     "data": {
      "text/plain": [
       "3"
      ]
     },
     "execution_count": 242,
     "metadata": {},
     "output_type": "execute_result"
    }
   ],
   "source": [
    "t5"
   ]
  },
  {
   "cell_type": "code",
   "execution_count": null,
   "id": "6273b7f7-9517-4809-8649-af563d2435a5",
   "metadata": {},
   "outputs": [],
   "source": [
    "# 18. Compare two tuples."
   ]
  },
  {
   "cell_type": "code",
   "execution_count": 248,
   "id": "0ae2e1f3-c8b5-43ff-8fbd-cbadad2c2420",
   "metadata": {},
   "outputs": [
    {
     "data": {
      "text/plain": [
       "(2, 4, 6, 8, 10)"
      ]
     },
     "execution_count": 248,
     "metadata": {},
     "output_type": "execute_result"
    }
   ],
   "source": [
    "t2"
   ]
  },
  {
   "cell_type": "code",
   "execution_count": 249,
   "id": "a6ecf724-090e-4848-a169-cac63f705d28",
   "metadata": {},
   "outputs": [
    {
     "data": {
      "text/plain": [
       "(1, 3, 5, 7, 9)"
      ]
     },
     "execution_count": 249,
     "metadata": {},
     "output_type": "execute_result"
    }
   ],
   "source": [
    "t3"
   ]
  },
  {
   "cell_type": "code",
   "execution_count": 250,
   "id": "8097cf08-05f9-4f5e-b606-e1f4a2a51bd3",
   "metadata": {},
   "outputs": [
    {
     "data": {
      "text/plain": [
       "False"
      ]
     },
     "execution_count": 250,
     "metadata": {},
     "output_type": "execute_result"
    }
   ],
   "source": [
    "t2<t3"
   ]
  },
  {
   "cell_type": "code",
   "execution_count": null,
   "id": "9ca357bd-1bf2-4452-a90e-159619bb37fd",
   "metadata": {},
   "outputs": [],
   "source": [
    "# 19. Delete a tuple                        #"
   ]
  },
  {
   "cell_type": "code",
   "execution_count": 251,
   "id": "6f404a26-90e0-402b-93d4-b850ad639ce9",
   "metadata": {},
   "outputs": [
    {
     "data": {
      "text/plain": [
       "(2, 4, 6, 8, 10)"
      ]
     },
     "execution_count": 251,
     "metadata": {},
     "output_type": "execute_result"
    }
   ],
   "source": [
    "t2"
   ]
  },
  {
   "cell_type": "code",
   "execution_count": 252,
   "id": "d75ddec9-fa3d-44a1-9da7-7cdd7ede9dd8",
   "metadata": {},
   "outputs": [
    {
     "data": {
      "text/plain": [
       "(1, 3, 5, 7, 9)"
      ]
     },
     "execution_count": 252,
     "metadata": {},
     "output_type": "execute_result"
    }
   ],
   "source": [
    "t3"
   ]
  },
  {
   "cell_type": "code",
   "execution_count": null,
   "id": "c18833aa-8cbe-452e-93eb-a40c1abf0291",
   "metadata": {},
   "outputs": [],
   "source": [
    "#20. Slice a tuple."
   ]
  },
  {
   "cell_type": "code",
   "execution_count": 267,
   "id": "f30566a0-3657-4b77-ada6-81656a04402c",
   "metadata": {},
   "outputs": [],
   "source": [
    "t5 = (\"shivaji\")"
   ]
  },
  {
   "cell_type": "code",
   "execution_count": 268,
   "id": "d5106c65-b17a-4036-800d-a55ad7ee956d",
   "metadata": {},
   "outputs": [
    {
     "data": {
      "text/plain": [
       "'shivaji'"
      ]
     },
     "execution_count": 268,
     "metadata": {},
     "output_type": "execute_result"
    }
   ],
   "source": [
    "t5"
   ]
  },
  {
   "cell_type": "code",
   "execution_count": 269,
   "id": "36c534f2-e8e2-4b5e-8dda-99b96f64dd92",
   "metadata": {},
   "outputs": [
    {
     "data": {
      "text/plain": [
       "'shi'"
      ]
     },
     "execution_count": 269,
     "metadata": {},
     "output_type": "execute_result"
    }
   ],
   "source": [
    "t5[0:3]"
   ]
  },
  {
   "cell_type": "code",
   "execution_count": null,
   "id": "823a53d5-6a83-4274-bda4-f4b591b82da0",
   "metadata": {},
   "outputs": [],
   "source": [
    "#21. Find the maximum value in a tuple"
   ]
  },
  {
   "cell_type": "code",
   "execution_count": 270,
   "id": "87b83b9f-fba8-4292-b8db-40b6b8b9be60",
   "metadata": {},
   "outputs": [
    {
     "data": {
      "text/plain": [
       "(2, 4, 6, 8, 10)"
      ]
     },
     "execution_count": 270,
     "metadata": {},
     "output_type": "execute_result"
    }
   ],
   "source": [
    "t2"
   ]
  },
  {
   "cell_type": "code",
   "execution_count": 271,
   "id": "d07bf623-bbb7-4d5f-8cfb-ab6d02a40a96",
   "metadata": {},
   "outputs": [
    {
     "data": {
      "text/plain": [
       "10"
      ]
     },
     "execution_count": 271,
     "metadata": {},
     "output_type": "execute_result"
    }
   ],
   "source": [
    "t2[-1]"
   ]
  },
  {
   "cell_type": "code",
   "execution_count": null,
   "id": "baa89459-a022-4af2-919b-ad03293f925a",
   "metadata": {},
   "outputs": [],
   "source": [
    "# 22. Find the minimum value in a tuple."
   ]
  },
  {
   "cell_type": "code",
   "execution_count": 273,
   "id": "04273e4e-98ee-4878-a0a5-28ffe2efb95b",
   "metadata": {},
   "outputs": [
    {
     "data": {
      "text/plain": [
       "(2, 4, 6, 8, 10)"
      ]
     },
     "execution_count": 273,
     "metadata": {},
     "output_type": "execute_result"
    }
   ],
   "source": [
    "t2"
   ]
  },
  {
   "cell_type": "code",
   "execution_count": 274,
   "id": "7cffe413-4db2-4659-b36e-380d746810dc",
   "metadata": {},
   "outputs": [
    {
     "data": {
      "text/plain": [
       "2"
      ]
     },
     "execution_count": 274,
     "metadata": {},
     "output_type": "execute_result"
    }
   ],
   "source": [
    "t2[0]"
   ]
  },
  {
   "cell_type": "code",
   "execution_count": null,
   "id": "f8bc58ec-b2c5-4838-9bc8-2e2bebac0cf2",
   "metadata": {},
   "outputs": [],
   "source": [
    "# 23. Convert a string to a tuple of characters"
   ]
  },
  {
   "cell_type": "code",
   "execution_count": 275,
   "id": "74b273fb-e3c1-407e-9228-45f4e8f72ddc",
   "metadata": {},
   "outputs": [
    {
     "data": {
      "text/plain": [
       "'shivaji'"
      ]
     },
     "execution_count": 275,
     "metadata": {},
     "output_type": "execute_result"
    }
   ],
   "source": [
    "t5"
   ]
  },
  {
   "cell_type": "code",
   "execution_count": 276,
   "id": "a4cac94e-6a0f-461f-8abb-ce02c576b902",
   "metadata": {},
   "outputs": [],
   "source": [
    "s1  = \"maharaj\""
   ]
  },
  {
   "cell_type": "code",
   "execution_count": 278,
   "id": "a4914aad-7702-4a64-8467-960ce218fd7e",
   "metadata": {},
   "outputs": [
    {
     "data": {
      "text/plain": [
       "str"
      ]
     },
     "execution_count": 278,
     "metadata": {},
     "output_type": "execute_result"
    }
   ],
   "source": [
    "type(s1)"
   ]
  },
  {
   "cell_type": "code",
   "execution_count": 279,
   "id": "35f1577a-e02c-4608-8961-c60fc495bf03",
   "metadata": {},
   "outputs": [],
   "source": [
    "s1 = tuple(t5)"
   ]
  },
  {
   "cell_type": "code",
   "execution_count": 280,
   "id": "c89e32d7-0117-45b9-8117-87649758f083",
   "metadata": {},
   "outputs": [
    {
     "data": {
      "text/plain": [
       "('s', 'h', 'i', 'v', 'a', 'j', 'i')"
      ]
     },
     "execution_count": 280,
     "metadata": {},
     "output_type": "execute_result"
    }
   ],
   "source": [
    "s1"
   ]
  },
  {
   "cell_type": "code",
   "execution_count": null,
   "id": "a12206fb-9538-4256-8964-9bca48fbcfd3",
   "metadata": {},
   "outputs": [],
   "source": [
    "# 24. Convert a tuple of characters to a string"
   ]
  },
  {
   "cell_type": "code",
   "execution_count": 281,
   "id": "55cf77d8-7791-4151-8863-c80a2a3de9d1",
   "metadata": {},
   "outputs": [
    {
     "data": {
      "text/plain": [
       "'shivaji'"
      ]
     },
     "execution_count": 281,
     "metadata": {},
     "output_type": "execute_result"
    }
   ],
   "source": [
    "t5"
   ]
  },
  {
   "cell_type": "code",
   "execution_count": 283,
   "id": "462339a6-733f-428b-a134-e5498d455b17",
   "metadata": {},
   "outputs": [],
   "source": [
    "s2 = \"chatrapati\""
   ]
  },
  {
   "cell_type": "code",
   "execution_count": 284,
   "id": "ddbca531-d2b8-4b04-b9d8-8a5984950933",
   "metadata": {},
   "outputs": [
    {
     "data": {
      "text/plain": [
       "str"
      ]
     },
     "execution_count": 284,
     "metadata": {},
     "output_type": "execute_result"
    }
   ],
   "source": [
    "type(s2)"
   ]
  },
  {
   "cell_type": "code",
   "execution_count": 286,
   "id": "b562ec24-88b7-4898-a2c4-afc93450104c",
   "metadata": {},
   "outputs": [],
   "source": [
    "s2 = str(t5)"
   ]
  },
  {
   "cell_type": "code",
   "execution_count": 287,
   "id": "9206aa50-d385-40a6-904d-e8c5c8d014ae",
   "metadata": {},
   "outputs": [
    {
     "data": {
      "text/plain": [
       "'shivaji'"
      ]
     },
     "execution_count": 287,
     "metadata": {},
     "output_type": "execute_result"
    }
   ],
   "source": [
    "s2"
   ]
  },
  {
   "cell_type": "code",
   "execution_count": null,
   "id": "714c4beb-0905-48fd-8977-985e08ea02d9",
   "metadata": {},
   "outputs": [],
   "source": [
    "# 25. Create a tuple from multiple data types"
   ]
  },
  {
   "cell_type": "code",
   "execution_count": 310,
   "id": "445cb743-594f-4e5e-9bd6-105511ffe793",
   "metadata": {},
   "outputs": [],
   "source": [
    "t6 = (\"key\",\"express\",2345,\"skills\")"
   ]
  },
  {
   "cell_type": "code",
   "execution_count": 311,
   "id": "4e2d4b31-e48b-47bd-8f9e-ad36bd14afc4",
   "metadata": {},
   "outputs": [
    {
     "data": {
      "text/plain": [
       "\"('key', 'express', 2345, 'skills')\""
      ]
     },
     "execution_count": 311,
     "metadata": {},
     "output_type": "execute_result"
    }
   ],
   "source": [
    "str(t6)"
   ]
  },
  {
   "cell_type": "code",
   "execution_count": 312,
   "id": "e5e03d34-f3e8-46ce-8d20-8e9d5095a028",
   "metadata": {},
   "outputs": [
    {
     "data": {
      "text/plain": [
       "['key', 'express', 2345, 'skills']"
      ]
     },
     "execution_count": 312,
     "metadata": {},
     "output_type": "execute_result"
    }
   ],
   "source": [
    "list(t6)"
   ]
  },
  {
   "cell_type": "code",
   "execution_count": 314,
   "id": "91b23150-e5e3-4794-9782-6c0ff438f8ac",
   "metadata": {},
   "outputs": [
    {
     "data": {
      "text/plain": [
       "(2, 4, 6, 8, 10)"
      ]
     },
     "execution_count": 314,
     "metadata": {},
     "output_type": "execute_result"
    }
   ],
   "source": [
    "t2"
   ]
  },
  {
   "cell_type": "code",
   "execution_count": 315,
   "id": "1c603044-42bc-46d0-87a8-87c4bfd73711",
   "metadata": {},
   "outputs": [
    {
     "data": {
      "text/plain": [
       "(1, 3, 5, 7, 9)"
      ]
     },
     "execution_count": 315,
     "metadata": {},
     "output_type": "execute_result"
    }
   ],
   "source": [
    "t3"
   ]
  },
  {
   "cell_type": "code",
   "execution_count": 316,
   "id": "fd27fcce-3880-486a-9f1b-8a5d4cfd4966",
   "metadata": {},
   "outputs": [
    {
     "data": {
      "text/plain": [
       "{2, 4, 6, 8, 10}"
      ]
     },
     "execution_count": 316,
     "metadata": {},
     "output_type": "execute_result"
    }
   ],
   "source": [
    "set(t2)"
   ]
  },
  {
   "cell_type": "code",
   "execution_count": 317,
   "id": "32f66070-b414-4cec-a412-3f2e73dbcef7",
   "metadata": {},
   "outputs": [
    {
     "data": {
      "text/plain": [
       "{1, 3, 5, 7, 9}"
      ]
     },
     "execution_count": 317,
     "metadata": {},
     "output_type": "execute_result"
    }
   ],
   "source": [
    "set(t3)"
   ]
  },
  {
   "cell_type": "code",
   "execution_count": 318,
   "id": "b662888a-e7d7-4330-a4fd-ddc5edf72eec",
   "metadata": {},
   "outputs": [
    {
     "data": {
      "text/plain": [
       "False"
      ]
     },
     "execution_count": 318,
     "metadata": {},
     "output_type": "execute_result"
    }
   ],
   "source": [
    "set(t2) == set(t3)"
   ]
  },
  {
   "cell_type": "code",
   "execution_count": null,
   "id": "ec09bd91-72a4-480d-b73d-954d4d8b7025",
   "metadata": {},
   "outputs": [],
   "source": [
    "# 27. Sort the elements of a tuple"
   ]
  },
  {
   "cell_type": "code",
   "execution_count": 319,
   "id": "3009de97-6e14-44f7-b825-67beebd19bce",
   "metadata": {},
   "outputs": [],
   "source": [
    "t6 = (58,543,67,73)"
   ]
  },
  {
   "cell_type": "code",
   "execution_count": 320,
   "id": "d7ae3c01-2828-4590-827e-8061ee23074d",
   "metadata": {},
   "outputs": [
    {
     "data": {
      "text/plain": [
       "(58, 543, 67, 73)"
      ]
     },
     "execution_count": 320,
     "metadata": {},
     "output_type": "execute_result"
    }
   ],
   "source": [
    "t6"
   ]
  },
  {
   "cell_type": "code",
   "execution_count": 340,
   "id": "79da7793-01c4-43b3-8022-ab49231a2fa8",
   "metadata": {},
   "outputs": [
    {
     "data": {
      "text/plain": [
       "(58, 67, 73, 543)"
      ]
     },
     "execution_count": 340,
     "metadata": {},
     "output_type": "execute_result"
    }
   ],
   "source": [
    "t6[0:1] + t6[2:3] + t6[3:4] + t6[1:2]     # hence above tuple is sorted"
   ]
  },
  {
   "cell_type": "code",
   "execution_count": null,
   "id": "e429ae85-3580-4a1f-bbc7-61c5e372cec6",
   "metadata": {},
   "outputs": [],
   "source": [
    "# 28. Convert a tuple of integers to a tuple of strings"
   ]
  },
  {
   "cell_type": "code",
   "execution_count": 341,
   "id": "de9823e5-c36f-43f2-85dc-9fa8f8f9d67c",
   "metadata": {},
   "outputs": [
    {
     "data": {
      "text/plain": [
       "(58, 543, 67, 73)"
      ]
     },
     "execution_count": 341,
     "metadata": {},
     "output_type": "execute_result"
    }
   ],
   "source": [
    "t6"
   ]
  },
  {
   "cell_type": "code",
   "execution_count": 342,
   "id": "33879eb0-60c6-4fc1-8797-d05ceb7f2248",
   "metadata": {},
   "outputs": [],
   "source": [
    "t7 = (\"kaifiyat\")"
   ]
  },
  {
   "cell_type": "code",
   "execution_count": 343,
   "id": "3997e9df-6148-4204-99f5-702df18001c6",
   "metadata": {},
   "outputs": [
    {
     "data": {
      "text/plain": [
       "'kaifiyat'"
      ]
     },
     "execution_count": 343,
     "metadata": {},
     "output_type": "execute_result"
    }
   ],
   "source": [
    "t7"
   ]
  },
  {
   "cell_type": "code",
   "execution_count": 344,
   "id": "871aaf49-7bea-4052-b71e-6cea5348cd6b",
   "metadata": {},
   "outputs": [],
   "source": [
    "t7 = tuple(t6)"
   ]
  },
  {
   "cell_type": "code",
   "execution_count": 345,
   "id": "1ec91bd4-5d38-4841-8085-89a0cb321cb8",
   "metadata": {},
   "outputs": [
    {
     "data": {
      "text/plain": [
       "(58, 543, 67, 73)"
      ]
     },
     "execution_count": 345,
     "metadata": {},
     "output_type": "execute_result"
    }
   ],
   "source": [
    "t7"
   ]
  },
  {
   "cell_type": "code",
   "execution_count": null,
   "id": "26b32dde-05bd-4e45-82ce-0c7a95fc85fb",
   "metadata": {},
   "outputs": [],
   "source": [
    "# 29. Convert a tuple of strings to a tuple of integers."
   ]
  },
  {
   "cell_type": "code",
   "execution_count": 346,
   "id": "de3bd27f-9328-4246-8b6d-829c38e21399",
   "metadata": {},
   "outputs": [
    {
     "data": {
      "text/plain": [
       "(58, 543, 67, 73)"
      ]
     },
     "execution_count": 346,
     "metadata": {},
     "output_type": "execute_result"
    }
   ],
   "source": [
    "t7"
   ]
  },
  {
   "cell_type": "code",
   "execution_count": 348,
   "id": "bed66d97-66b5-44dc-86c7-abb3fb620c77",
   "metadata": {},
   "outputs": [],
   "source": [
    "t8 = (\"dr abdul kalam\")"
   ]
  },
  {
   "cell_type": "code",
   "execution_count": 349,
   "id": "eec7cb80-4069-4b0e-b3e4-15edba9e7b1d",
   "metadata": {},
   "outputs": [],
   "source": [
    "t8 = tuple(t7)"
   ]
  },
  {
   "cell_type": "code",
   "execution_count": 350,
   "id": "613e93c9-029c-4359-abaa-daab47300d05",
   "metadata": {},
   "outputs": [
    {
     "data": {
      "text/plain": [
       "(58, 543, 67, 73)"
      ]
     },
     "execution_count": 350,
     "metadata": {},
     "output_type": "execute_result"
    }
   ],
   "source": [
    "t8"
   ]
  },
  {
   "cell_type": "code",
   "execution_count": null,
   "id": "1d5d767b-4396-4f93-8ac8-c1f5991c86e2",
   "metadata": {},
   "outputs": [],
   "source": [
    "# 30. Merge two tuples"
   ]
  },
  {
   "cell_type": "code",
   "execution_count": 351,
   "id": "f6315889-124e-4415-b738-77ff5ab1cc6c",
   "metadata": {},
   "outputs": [
    {
     "data": {
      "text/plain": [
       "(2, 4, 6, 8, 10)"
      ]
     },
     "execution_count": 351,
     "metadata": {},
     "output_type": "execute_result"
    }
   ],
   "source": [
    "t2"
   ]
  },
  {
   "cell_type": "code",
   "execution_count": 352,
   "id": "fe5828db-cd91-4766-bcde-30e917becbb4",
   "metadata": {},
   "outputs": [
    {
     "data": {
      "text/plain": [
       "(1, 3, 5, 7, 9)"
      ]
     },
     "execution_count": 352,
     "metadata": {},
     "output_type": "execute_result"
    }
   ],
   "source": [
    "t3"
   ]
  },
  {
   "cell_type": "code",
   "execution_count": 353,
   "id": "d4ee2069-3171-4ec3-956c-5b519ec649df",
   "metadata": {},
   "outputs": [
    {
     "data": {
      "text/plain": [
       "(2, 4, 6, 8, 10, 1, 3, 5, 7, 9)"
      ]
     },
     "execution_count": 353,
     "metadata": {},
     "output_type": "execute_result"
    }
   ],
   "source": [
    "t2 + t3"
   ]
  },
  {
   "cell_type": "code",
   "execution_count": null,
   "id": "414a68a8-fb5e-44d4-9acc-9e8bde4a2d62",
   "metadata": {},
   "outputs": [],
   "source": [
    "# 31. Flatten a nested tuple                      #"
   ]
  },
  {
   "cell_type": "code",
   "execution_count": null,
   "id": "c1a88768-4c6d-4cfb-9171-f3cb59436a31",
   "metadata": {},
   "outputs": [],
   "source": [
    "# 32. Create a tuple of the first 5 prime numbers."
   ]
  },
  {
   "cell_type": "code",
   "execution_count": 354,
   "id": "5fd62262-9c32-48a2-8377-77072bb06ee3",
   "metadata": {},
   "outputs": [],
   "source": [
    "t9 = (2,3,5,7,11)"
   ]
  },
  {
   "cell_type": "code",
   "execution_count": 355,
   "id": "3a39f7ab-8651-48e8-b7ed-b68a9669fdf0",
   "metadata": {},
   "outputs": [
    {
     "data": {
      "text/plain": [
       "(2, 3, 5, 7, 11)"
      ]
     },
     "execution_count": 355,
     "metadata": {},
     "output_type": "execute_result"
    }
   ],
   "source": [
    "t9\n"
   ]
  },
  {
   "cell_type": "code",
   "execution_count": null,
   "id": "b967c519-bc0c-4cc0-8d01-f90b5379eaed",
   "metadata": {},
   "outputs": [],
   "source": [
    "# 33. Check if a tuple is a palindrome."
   ]
  },
  {
   "cell_type": "code",
   "execution_count": 356,
   "id": "14fc33c2-9212-498a-a112-f3cf17844f07",
   "metadata": {},
   "outputs": [],
   "source": [
    "t10 = [\"dhoni\", \"is\", \"dhoni\"]"
   ]
  },
  {
   "cell_type": "code",
   "execution_count": 357,
   "id": "2f9d2345-403c-4223-b36b-d95d9ff23454",
   "metadata": {},
   "outputs": [
    {
     "data": {
      "text/plain": [
       "['dhoni', 'is', 'dhoni']"
      ]
     },
     "execution_count": 357,
     "metadata": {},
     "output_type": "execute_result"
    }
   ],
   "source": [
    "t10"
   ]
  },
  {
   "cell_type": "code",
   "execution_count": 360,
   "id": "d85d476a-4f68-4868-a4b8-b5807a5edbf3",
   "metadata": {},
   "outputs": [
    {
     "data": {
      "text/plain": [
       "['dhoni', 'is', 'dhoni']"
      ]
     },
     "execution_count": 360,
     "metadata": {},
     "output_type": "execute_result"
    }
   ],
   "source": [
    "t10[::-1]"
   ]
  },
  {
   "cell_type": "code",
   "execution_count": null,
   "id": "af161990-8912-4f54-977d-4b520a6ec996",
   "metadata": {},
   "outputs": [],
   "source": [
    "#  above tuple is palindrome"
   ]
  },
  {
   "cell_type": "code",
   "execution_count": null,
   "id": "acb7c773-2194-4690-8c8d-df69401eb1cc",
   "metadata": {},
   "outputs": [],
   "source": [
    "# 34. Create a tuple of squares of numbers from 1 to 5."
   ]
  },
  {
   "cell_type": "code",
   "execution_count": 361,
   "id": "d2366f71-e4b3-42be-9270-a9804713e0a7",
   "metadata": {},
   "outputs": [],
   "source": [
    "t11 = (1,4,9,16,25)"
   ]
  },
  {
   "cell_type": "code",
   "execution_count": 362,
   "id": "b145f06e-b2be-4b28-9e5c-ad21b385fa24",
   "metadata": {},
   "outputs": [
    {
     "data": {
      "text/plain": [
       "(1, 4, 9, 16, 25)"
      ]
     },
     "execution_count": 362,
     "metadata": {},
     "output_type": "execute_result"
    }
   ],
   "source": [
    "t11"
   ]
  },
  {
   "cell_type": "code",
   "execution_count": null,
   "id": "17ab13f4-58ed-4a1b-864c-51ae7b1bee57",
   "metadata": {},
   "outputs": [],
   "source": [
    "# 35. Filter out all even numbers from a tuple."
   ]
  },
  {
   "cell_type": "code",
   "execution_count": 363,
   "id": "14d4a41f-47a0-4661-a64e-643c0ee66118",
   "metadata": {},
   "outputs": [
    {
     "data": {
      "text/plain": [
       "(1, 4, 9, 16, 25)"
      ]
     },
     "execution_count": 363,
     "metadata": {},
     "output_type": "execute_result"
    }
   ],
   "source": [
    "t11"
   ]
  },
  {
   "cell_type": "code",
   "execution_count": 365,
   "id": "5f7b4b54-ef90-469b-88a9-3bf8724e357b",
   "metadata": {},
   "outputs": [
    {
     "data": {
      "text/plain": [
       "(4, 16)"
      ]
     },
     "execution_count": 365,
     "metadata": {},
     "output_type": "execute_result"
    }
   ],
   "source": [
    "t11[1:5:2]"
   ]
  },
  {
   "cell_type": "code",
   "execution_count": null,
   "id": "206e07f5-7ef9-4fcc-b4eb-a96a7e3414b7",
   "metadata": {},
   "outputs": [],
   "source": [
    "# 36. Multiply all elements in a tuple by 2.               #"
   ]
  },
  {
   "cell_type": "code",
   "execution_count": 372,
   "id": "71388513-3465-4e81-b7dd-d81073fdae3c",
   "metadata": {},
   "outputs": [
    {
     "data": {
      "text/plain": [
       "[1, 4, 9, 16, 25]"
      ]
     },
     "execution_count": 372,
     "metadata": {},
     "output_type": "execute_result"
    }
   ],
   "source": [
    "list(t11)"
   ]
  },
  {
   "cell_type": "code",
   "execution_count": 373,
   "id": "f58fe297-d16a-4584-a574-bcd7329a19d5",
   "metadata": {},
   "outputs": [
    {
     "ename": "TypeError",
     "evalue": "unsupported operand type(s) for ^: 'list' and 'int'",
     "output_type": "error",
     "traceback": [
      "\u001b[0;31m---------------------------------------------------------------------------\u001b[0m",
      "\u001b[0;31mTypeError\u001b[0m                                 Traceback (most recent call last)",
      "Cell \u001b[0;32mIn[373], line 1\u001b[0m\n\u001b[0;32m----> 1\u001b[0m \u001b[38;5;28;43mlist\u001b[39;49m\u001b[43m(\u001b[49m\u001b[43mt11\u001b[49m\u001b[43m)\u001b[49m\u001b[38;5;241;43m^\u001b[39;49m\u001b[38;5;241;43m2\u001b[39;49m\n",
      "\u001b[0;31mTypeError\u001b[0m: unsupported operand type(s) for ^: 'list' and 'int'"
     ]
    }
   ],
   "source": [
    "list(t11)^2"
   ]
  },
  {
   "cell_type": "code",
   "execution_count": null,
   "id": "de3347d6-954f-41d4-83b0-52d777b924ad",
   "metadata": {},
   "outputs": [],
   "source": [
    "# 37. Create a tuple of random numbers"
   ]
  },
  {
   "cell_type": "code",
   "execution_count": 376,
   "id": "e74ff321-9457-4d3d-b104-61097fc72687",
   "metadata": {},
   "outputs": [],
   "source": [
    "t12 = (4,5,7,8,3)"
   ]
  },
  {
   "cell_type": "code",
   "execution_count": 377,
   "id": "82f9dca2-1c60-4b61-9aee-a9ba08dac1a7",
   "metadata": {},
   "outputs": [
    {
     "data": {
      "text/plain": [
       "(4, 5, 7, 8, 3)"
      ]
     },
     "execution_count": 377,
     "metadata": {},
     "output_type": "execute_result"
    }
   ],
   "source": [
    "t12"
   ]
  },
  {
   "cell_type": "code",
   "execution_count": 378,
   "id": "48aeb0c2-9173-4ded-8d6d-76152753b496",
   "metadata": {},
   "outputs": [
    {
     "data": {
      "text/plain": [
       "4"
      ]
     },
     "execution_count": 378,
     "metadata": {},
     "output_type": "execute_result"
    }
   ],
   "source": [
    "t12.index(3)"
   ]
  },
  {
   "cell_type": "code",
   "execution_count": 379,
   "id": "31a924f7-a574-464c-9fcb-a02feaabab15",
   "metadata": {},
   "outputs": [
    {
     "data": {
      "text/plain": [
       "3"
      ]
     },
     "execution_count": 379,
     "metadata": {},
     "output_type": "execute_result"
    }
   ],
   "source": [
    "t12.index(8)       #  since '3' is on the right index according to descending sorting but '8' is not \n",
    "                   #  that indicates given tuple is not sorted"
   ]
  },
  {
   "cell_type": "code",
   "execution_count": null,
   "id": "73e79e2e-fd55-4e70-a332-7b89d70d86ba",
   "metadata": {},
   "outputs": [],
   "source": [
    "# 39. Rotate a tuple to the left by `n` positions"
   ]
  },
  {
   "cell_type": "code",
   "execution_count": 380,
   "id": "4467e106-ff73-4467-9858-520840905101",
   "metadata": {},
   "outputs": [
    {
     "data": {
      "text/plain": [
       "(4, 5, 7, 8, 3)"
      ]
     },
     "execution_count": 380,
     "metadata": {},
     "output_type": "execute_result"
    }
   ],
   "source": [
    "t12"
   ]
  },
  {
   "cell_type": "code",
   "execution_count": 384,
   "id": "c2da0228-1814-4921-8293-093626ee54f7",
   "metadata": {},
   "outputs": [
    {
     "data": {
      "text/plain": [
       "(7, 5, 4)"
      ]
     },
     "execution_count": 384,
     "metadata": {},
     "output_type": "execute_result"
    }
   ],
   "source": [
    "t12[0:3][::-1]"
   ]
  },
  {
   "cell_type": "code",
   "execution_count": null,
   "id": "e3d12517-8c55-4021-a006-2c69e25f7220",
   "metadata": {},
   "outputs": [],
   "source": [
    "# 40. Rotate a tuple to the right by `n` positions."
   ]
  },
  {
   "cell_type": "code",
   "execution_count": 385,
   "id": "668e5409-25a1-4374-ac1f-6293fd7b487f",
   "metadata": {},
   "outputs": [
    {
     "data": {
      "text/plain": [
       "(4, 5, 7, 8, 3)"
      ]
     },
     "execution_count": 385,
     "metadata": {},
     "output_type": "execute_result"
    }
   ],
   "source": [
    "t12"
   ]
  },
  {
   "cell_type": "code",
   "execution_count": 388,
   "id": "8731785e-b793-4f16-99b8-02a701ac14a9",
   "metadata": {},
   "outputs": [
    {
     "data": {
      "text/plain": [
       "(8, 7)"
      ]
     },
     "execution_count": 388,
     "metadata": {},
     "output_type": "execute_result"
    }
   ],
   "source": [
    "t12[-3:-1][::-1]"
   ]
  },
  {
   "cell_type": "code",
   "execution_count": null,
   "id": "1fbd28d6-3e6c-4b80-9caa-213d4c587314",
   "metadata": {},
   "outputs": [],
   "source": [
    "# 41. Create a tuple of the first 5 Fibonacci numbers"
   ]
  },
  {
   "cell_type": "code",
   "execution_count": 1,
   "id": "b21cc877-f325-4a35-a760-639c2a094064",
   "metadata": {},
   "outputs": [],
   "source": [
    "t13 = (1,2,5,7,13\n",
    "      )"
   ]
  },
  {
   "cell_type": "code",
   "execution_count": 2,
   "id": "5049e8e7-2039-4e22-b1a4-a70d729735ff",
   "metadata": {},
   "outputs": [
    {
     "data": {
      "text/plain": [
       "(1, 2, 5, 7, 13)"
      ]
     },
     "execution_count": 2,
     "metadata": {},
     "output_type": "execute_result"
    }
   ],
   "source": [
    "t13"
   ]
  },
  {
   "cell_type": "code",
   "execution_count": null,
   "id": "138d4884-2115-497c-8769-22c9b35b9085",
   "metadata": {},
   "outputs": [],
   "source": [
    "# 42. Create a tuple from user input"
   ]
  },
  {
   "cell_type": "code",
   "execution_count": 3,
   "id": "b9b93ec1-728a-4239-83cf-4b5d46b83571",
   "metadata": {},
   "outputs": [
    {
     "data": {
      "text/plain": [
       "(1, 2, 5, 7, 13)"
      ]
     },
     "execution_count": 3,
     "metadata": {},
     "output_type": "execute_result"
    }
   ],
   "source": [
    "t13"
   ]
  },
  {
   "cell_type": "code",
   "execution_count": 4,
   "id": "7a14cba5-cfd2-458e-b81b-bac6054bd9ac",
   "metadata": {},
   "outputs": [],
   "source": [
    "t14 = (1,3,6,9,10)"
   ]
  },
  {
   "cell_type": "code",
   "execution_count": 5,
   "id": "88697024-0313-4a3b-a2c0-838f01d92518",
   "metadata": {},
   "outputs": [
    {
     "data": {
      "text/plain": [
       "(1, 3, 6, 9, 10)"
      ]
     },
     "execution_count": 5,
     "metadata": {},
     "output_type": "execute_result"
    }
   ],
   "source": [
    "t14"
   ]
  },
  {
   "cell_type": "code",
   "execution_count": null,
   "id": "d37bdbcf-a12f-410c-abbc-6152e77ae46d",
   "metadata": {},
   "outputs": [],
   "source": [
    "# 43. Swap two elements in a tuple"
   ]
  },
  {
   "cell_type": "code",
   "execution_count": 6,
   "id": "d981873a-2d34-4982-8e29-26216c638530",
   "metadata": {},
   "outputs": [
    {
     "data": {
      "text/plain": [
       "(1, 3, 6, 9, 10)"
      ]
     },
     "execution_count": 6,
     "metadata": {},
     "output_type": "execute_result"
    }
   ],
   "source": [
    "t14"
   ]
  },
  {
   "cell_type": "code",
   "execution_count": 22,
   "id": "fb6bb92a-332a-4a2a-92d7-8aab5199c9da",
   "metadata": {},
   "outputs": [
    {
     "data": {
      "text/plain": [
       "(1, 10)"
      ]
     },
     "execution_count": 22,
     "metadata": {},
     "output_type": "execute_result"
    }
   ],
   "source": [
    "(t14[0:1] + t14[4:5])"
   ]
  },
  {
   "cell_type": "code",
   "execution_count": 24,
   "id": "4fc2d486-332c-48e4-9f36-ff68c8d38cd4",
   "metadata": {},
   "outputs": [
    {
     "data": {
      "text/plain": [
       "(10, 1)"
      ]
     },
     "execution_count": 24,
     "metadata": {},
     "output_type": "execute_result"
    }
   ],
   "source": [
    " t14[4:5] + t14[0:1] "
   ]
  },
  {
   "cell_type": "code",
   "execution_count": 21,
   "id": "45e65fc9-2775-4581-b3d8-19774babb855",
   "metadata": {},
   "outputs": [
    {
     "data": {
      "text/plain": [
       "False"
      ]
     },
     "execution_count": 21,
     "metadata": {},
     "output_type": "execute_result"
    }
   ],
   "source": [
    "(t14[0:1] + t14[4:5]) ==  (t14[4:5] + t14[0:1] )"
   ]
  },
  {
   "cell_type": "code",
   "execution_count": null,
   "id": "4d9ac259-094f-4996-993a-90147baff1c4",
   "metadata": {},
   "outputs": [],
   "source": [
    "# 44. Reverse the elements of a tuple."
   ]
  },
  {
   "cell_type": "code",
   "execution_count": 25,
   "id": "115a6f10-090c-4ce7-b429-ca3653834a20",
   "metadata": {},
   "outputs": [
    {
     "data": {
      "text/plain": [
       "(1, 3, 6, 9, 10)"
      ]
     },
     "execution_count": 25,
     "metadata": {},
     "output_type": "execute_result"
    }
   ],
   "source": [
    "t14"
   ]
  },
  {
   "cell_type": "code",
   "execution_count": 26,
   "id": "bc528d45-c86f-4b0b-b757-1b623fd2209e",
   "metadata": {},
   "outputs": [
    {
     "data": {
      "text/plain": [
       "(10, 9, 6, 3, 1)"
      ]
     },
     "execution_count": 26,
     "metadata": {},
     "output_type": "execute_result"
    }
   ],
   "source": [
    "t14[::-1]"
   ]
  },
  {
   "cell_type": "code",
   "execution_count": null,
   "id": "0b716870-b54c-454d-adb5-be5053e33d46",
   "metadata": {},
   "outputs": [],
   "source": [
    "# 45. Create a tuple of the first `n` powers of 2."
   ]
  },
  {
   "cell_type": "code",
   "execution_count": 29,
   "id": "9d53398c-7909-4e83-9c32-774b65eafbd7",
   "metadata": {},
   "outputs": [],
   "source": [
    "t15 = (2,4,8,16,32)"
   ]
  },
  {
   "cell_type": "code",
   "execution_count": 30,
   "id": "6b554a01-5af9-4585-ba0f-e95d9f3fafaa",
   "metadata": {},
   "outputs": [
    {
     "data": {
      "text/plain": [
       "(2, 4, 8, 16, 32)"
      ]
     },
     "execution_count": 30,
     "metadata": {},
     "output_type": "execute_result"
    }
   ],
   "source": [
    "t15"
   ]
  },
  {
   "cell_type": "code",
   "execution_count": null,
   "id": "251e3e64-173f-4c78-b60b-feea0124abdd",
   "metadata": {},
   "outputs": [],
   "source": [
    "# 46. Find the longest string in a tuple of strings."
   ]
  },
  {
   "cell_type": "code",
   "execution_count": 31,
   "id": "c78d72e6-15fc-4ae7-85db-cfebd50bb92f",
   "metadata": {},
   "outputs": [],
   "source": [
    "t16 = (\"india\",\"is\",\"on\",\"moon\")"
   ]
  },
  {
   "cell_type": "code",
   "execution_count": 32,
   "id": "0ecd24e9-be4a-4973-a218-7383e5a8ddd4",
   "metadata": {},
   "outputs": [
    {
     "data": {
      "text/plain": [
       "('india', 'is', 'on', 'moon')"
      ]
     },
     "execution_count": 32,
     "metadata": {},
     "output_type": "execute_result"
    }
   ],
   "source": [
    "t16"
   ]
  },
  {
   "cell_type": "code",
   "execution_count": 37,
   "id": "bedba921-8774-48e4-8f0c-df142dcf984c",
   "metadata": {},
   "outputs": [
    {
     "data": {
      "text/plain": [
       "0"
      ]
     },
     "execution_count": 37,
     "metadata": {},
     "output_type": "execute_result"
    }
   ],
   "source": [
    "t16.index(\"india\")"
   ]
  },
  {
   "cell_type": "code",
   "execution_count": null,
   "id": "29196f93-1bcb-40a1-b588-64499c91b8f0",
   "metadata": {},
   "outputs": [],
   "source": [
    "# 47. Find the shortest string in a tuple of strings"
   ]
  },
  {
   "cell_type": "code",
   "execution_count": 34,
   "id": "9448a9b9-26d8-4c4a-967d-c147be4abc7f",
   "metadata": {},
   "outputs": [
    {
     "data": {
      "text/plain": [
       "('india', 'is', 'on', 'moon')"
      ]
     },
     "execution_count": 34,
     "metadata": {},
     "output_type": "execute_result"
    }
   ],
   "source": [
    "t16\n"
   ]
  },
  {
   "cell_type": "code",
   "execution_count": 36,
   "id": "8997f8c1-544e-448e-8848-1f338decf27a",
   "metadata": {},
   "outputs": [
    {
     "data": {
      "text/plain": [
       "2"
      ]
     },
     "execution_count": 36,
     "metadata": {},
     "output_type": "execute_result"
    }
   ],
   "source": [
    "t16.index(\"on\")"
   ]
  },
  {
   "cell_type": "code",
   "execution_count": null,
   "id": "b51a4ac0-dba6-4851-98b6-43a03e250e8e",
   "metadata": {},
   "outputs": [],
   "source": [
    "# 48. Create a tuple of the first `n` triangular numbers"
   ]
  },
  {
   "cell_type": "code",
   "execution_count": 38,
   "id": "f19bea39-3d8b-4625-9c83-7d8d7a07f242",
   "metadata": {},
   "outputs": [],
   "source": [
    "t17 = (1,3,6,10,15,21)"
   ]
  },
  {
   "cell_type": "code",
   "execution_count": 39,
   "id": "813079ff-fea8-4e20-8c08-30836c290cf6",
   "metadata": {},
   "outputs": [
    {
     "data": {
      "text/plain": [
       "(1, 3, 6, 10, 15, 21)"
      ]
     },
     "execution_count": 39,
     "metadata": {},
     "output_type": "execute_result"
    }
   ],
   "source": [
    "t17"
   ]
  },
  {
   "cell_type": "code",
   "execution_count": null,
   "id": "a0b12cb2-1bc8-4721-b7ba-274879de7232",
   "metadata": {},
   "outputs": [],
   "source": [
    "# 49. Check if a tuple contains another tuple as a subsequence"
   ]
  },
  {
   "cell_type": "code",
   "execution_count": 40,
   "id": "129c62ac-b11e-410a-9983-095a6ac79da7",
   "metadata": {},
   "outputs": [],
   "source": [
    "t18 = (1,2,3,\"superconductor\",\"magnetic\",(4,5,6))"
   ]
  },
  {
   "cell_type": "code",
   "execution_count": 41,
   "id": "32e8abaf-2aa4-40fa-a657-118b89615ec3",
   "metadata": {},
   "outputs": [
    {
     "data": {
      "text/plain": [
       "(1, 2, 3, 'superconductor', 'magnetic', (4, 5, 6))"
      ]
     },
     "execution_count": 41,
     "metadata": {},
     "output_type": "execute_result"
    }
   ],
   "source": [
    "t18"
   ]
  },
  {
   "cell_type": "code",
   "execution_count": 46,
   "id": "ad330c92-8593-4c3f-a289-a670b8d71317",
   "metadata": {},
   "outputs": [
    {
     "data": {
      "text/plain": [
       "5"
      ]
     },
     "execution_count": 46,
     "metadata": {},
     "output_type": "execute_result"
    }
   ],
   "source": [
    "t18.index((4,5,6))"
   ]
  },
  {
   "cell_type": "code",
   "execution_count": null,
   "id": "6a697c11-0677-4fe4-b3ac-4c51bdac7615",
   "metadata": {},
   "outputs": [],
   "source": [
    "# 50. Create a tuple of alternating 1s and 0s of length `n`"
   ]
  },
  {
   "cell_type": "code",
   "execution_count": 47,
   "id": "94b0935c-a497-4e3d-94d9-1f546aa9e337",
   "metadata": {},
   "outputs": [],
   "source": [
    "t19 = (10,101,1010,101010,101001)         # theory of computation"
   ]
  },
  {
   "cell_type": "code",
   "execution_count": 48,
   "id": "b4fa5863-a079-4cb6-bd26-f1e861aaff92",
   "metadata": {},
   "outputs": [
    {
     "data": {
      "text/plain": [
       "(10, 101, 1010, 101010, 101001)"
      ]
     },
     "execution_count": 48,
     "metadata": {},
     "output_type": "execute_result"
    }
   ],
   "source": [
    "t19"
   ]
  },
  {
   "cell_type": "code",
   "execution_count": null,
   "id": "39668c08-6d09-4e89-9820-c879c20ab972",
   "metadata": {},
   "outputs": [],
   "source": [
    "                                  # DICTIONARY IS STARTED"
   ]
  },
  {
   "cell_type": "code",
   "execution_count": null,
   "id": "86fe97ca-ad62-41fe-894f-ea3efc3993b3",
   "metadata": {},
   "outputs": [],
   "source": [
    "# Create a set with integers from 1 to 5."
   ]
  },
  {
   "cell_type": "code",
   "execution_count": 53,
   "id": "f5a1a1bc-c59e-47ed-b4f8-293a7fc948b1",
   "metadata": {},
   "outputs": [],
   "source": [
    "s = {}"
   ]
  },
  {
   "cell_type": "code",
   "execution_count": 54,
   "id": "16d4bb16-c3d6-4595-bbf3-99b7168f5293",
   "metadata": {},
   "outputs": [
    {
     "data": {
      "text/plain": [
       "dict"
      ]
     },
     "execution_count": 54,
     "metadata": {},
     "output_type": "execute_result"
    }
   ],
   "source": [
    "type(s)"
   ]
  },
  {
   "cell_type": "code",
   "execution_count": 4,
   "id": "ed936ff7-097d-4366-99af-6cfb47b9daaa",
   "metadata": {},
   "outputs": [],
   "source": [
    " s = {1,2,3,4,5}"
   ]
  },
  {
   "cell_type": "code",
   "execution_count": 56,
   "id": "a6dbaa85-c8c4-4773-a2f7-010e23cbddc5",
   "metadata": {},
   "outputs": [
    {
     "data": {
      "text/plain": [
       "set"
      ]
     },
     "execution_count": 56,
     "metadata": {},
     "output_type": "execute_result"
    }
   ],
   "source": [
    "type(s)"
   ]
  },
  {
   "cell_type": "code",
   "execution_count": 57,
   "id": "9432bbed-6366-4c96-a197-9ede8c168cca",
   "metadata": {},
   "outputs": [
    {
     "data": {
      "text/plain": [
       "{1, 2, 3, 4, 5}"
      ]
     },
     "execution_count": 57,
     "metadata": {},
     "output_type": "execute_result"
    }
   ],
   "source": [
    "s"
   ]
  },
  {
   "cell_type": "code",
   "execution_count": null,
   "id": "da6aad44-8e06-4064-b841-328a5eeb8527",
   "metadata": {},
   "outputs": [],
   "source": [
    "# 2. Add an element to a set."
   ]
  },
  {
   "cell_type": "code",
   "execution_count": 5,
   "id": "1ee3bc95-896f-4b26-b567-d2f830b78195",
   "metadata": {},
   "outputs": [
    {
     "data": {
      "text/plain": [
       "{1, 2, 3, 4, 5}"
      ]
     },
     "execution_count": 5,
     "metadata": {},
     "output_type": "execute_result"
    }
   ],
   "source": [
    "s"
   ]
  },
  {
   "cell_type": "code",
   "execution_count": 60,
   "id": "5339a902-d2a1-48d6-9101-ca0a5f5e8857",
   "metadata": {},
   "outputs": [],
   "source": [
    "s.add(6)"
   ]
  },
  {
   "cell_type": "code",
   "execution_count": 6,
   "id": "9b802cd3-df19-4099-9cd1-84e51d55206f",
   "metadata": {},
   "outputs": [
    {
     "data": {
      "text/plain": [
       "{1, 2, 3, 4, 5}"
      ]
     },
     "execution_count": 6,
     "metadata": {},
     "output_type": "execute_result"
    }
   ],
   "source": [
    "s"
   ]
  },
  {
   "cell_type": "code",
   "execution_count": null,
   "id": "92900284-c917-441d-a80e-7dca4b36e4e0",
   "metadata": {},
   "outputs": [],
   "source": [
    "# 3. Remove an element from a set."
   ]
  },
  {
   "cell_type": "code",
   "execution_count": 7,
   "id": "f079752b-4931-4839-8e59-2b1a5c9b3bf9",
   "metadata": {},
   "outputs": [
    {
     "data": {
      "text/plain": [
       "{1, 2, 3, 4, 5}"
      ]
     },
     "execution_count": 7,
     "metadata": {},
     "output_type": "execute_result"
    }
   ],
   "source": [
    "s"
   ]
  },
  {
   "cell_type": "code",
   "execution_count": 64,
   "id": "4d04bc68-1a72-4dd6-a12b-dff5684b4043",
   "metadata": {},
   "outputs": [],
   "source": [
    "s.remove(5)"
   ]
  },
  {
   "cell_type": "code",
   "execution_count": 8,
   "id": "78449e85-9737-4031-8a1f-8dfd49ae4377",
   "metadata": {},
   "outputs": [
    {
     "data": {
      "text/plain": [
       "{1, 2, 3, 4, 5}"
      ]
     },
     "execution_count": 8,
     "metadata": {},
     "output_type": "execute_result"
    }
   ],
   "source": [
    "s"
   ]
  },
  {
   "cell_type": "code",
   "execution_count": null,
   "id": "4d14c366-4bf5-4a0f-b146-6160d9037a72",
   "metadata": {},
   "outputs": [],
   "source": [
    "# 4. Check if an element exists in a set."
   ]
  },
  {
   "cell_type": "code",
   "execution_count": 4,
   "id": "e3e9b00e-58dc-421d-8497-e6d171646fc4",
   "metadata": {},
   "outputs": [],
   "source": [
    "s ={1, 2, 3, 4, 5}\n"
   ]
  },
  {
   "cell_type": "code",
   "execution_count": null,
   "id": "28b18c72-c8c2-4685-8371-3af144dc34df",
   "metadata": {},
   "outputs": [],
   "source": [
    "# 5. Find the length of a set without using the `len()` function"
   ]
  },
  {
   "cell_type": "code",
   "execution_count": 10,
   "id": "27b147bb-2720-435f-ad69-d84cdab6d31d",
   "metadata": {},
   "outputs": [
    {
     "data": {
      "text/plain": [
       "{1, 2, 3, 4, 5}"
      ]
     },
     "execution_count": 10,
     "metadata": {},
     "output_type": "execute_result"
    }
   ],
   "source": [
    "s"
   ]
  },
  {
   "cell_type": "code",
   "execution_count": 16,
   "id": "f08fd8a0-9a81-4dd0-9dff-475b148aaf17",
   "metadata": {},
   "outputs": [
    {
     "data": {
      "text/plain": [
       "set"
      ]
     },
     "execution_count": 16,
     "metadata": {},
     "output_type": "execute_result"
    }
   ],
   "source": [
    "type(s)"
   ]
  },
  {
   "cell_type": "code",
   "execution_count": 17,
   "id": "9e1f855a-11ee-454d-bf40-491e9382905f",
   "metadata": {},
   "outputs": [
    {
     "data": {
      "text/plain": [
       "[1, 2, 3, 4, 5]"
      ]
     },
     "execution_count": 17,
     "metadata": {},
     "output_type": "execute_result"
    }
   ],
   "source": [
    "list(s)"
   ]
  },
  {
   "cell_type": "code",
   "execution_count": 18,
   "id": "02d30d95-3dc5-476e-951a-3b49af351ca2",
   "metadata": {},
   "outputs": [
    {
     "data": {
      "text/plain": [
       "{1, 2, 3, 4, 5}"
      ]
     },
     "execution_count": 18,
     "metadata": {},
     "output_type": "execute_result"
    }
   ],
   "source": [
    "s"
   ]
  },
  {
   "cell_type": "code",
   "execution_count": 19,
   "id": "d7c84c6a-7eb8-41b7-b003-0aa71eafa318",
   "metadata": {},
   "outputs": [
    {
     "data": {
      "text/plain": [
       "[1, 2, 3, 4, 5]"
      ]
     },
     "execution_count": 19,
     "metadata": {},
     "output_type": "execute_result"
    }
   ],
   "source": [
    "list(s)[0:5]"
   ]
  },
  {
   "cell_type": "code",
   "execution_count": null,
   "id": "d5fae3a3-afd6-4f8d-b8f1-d7c5d9c2c4d4",
   "metadata": {},
   "outputs": [],
   "source": [
    "list(s)[0:5] + list(s)[0:1] "
   ]
  },
  {
   "cell_type": "code",
   "execution_count": null,
   "id": "d3a80a37-db69-434a-b3f3-d51ea1169310",
   "metadata": {},
   "outputs": [],
   "source": [
    " # 6. Clear all elements from a set"
   ]
  },
  {
   "cell_type": "code",
   "execution_count": 5,
   "id": "9a0ae21d-1d2a-4a5b-a706-c669b1c13804",
   "metadata": {},
   "outputs": [
    {
     "data": {
      "text/plain": [
       "set()"
      ]
     },
     "execution_count": 5,
     "metadata": {},
     "output_type": "execute_result"
    }
   ],
   "source": [
    "s\n",
    "{3, 4, 5, 6}\n",
    "s.clear()\n",
    "set()\n"
   ]
  },
  {
   "cell_type": "code",
   "execution_count": null,
   "id": "309cc1ec-0793-4a12-8635-8518f3e95674",
   "metadata": {},
   "outputs": [],
   "source": [
    "# 7. Create a set of even numbers from 1 to 10."
   ]
  },
  {
   "cell_type": "code",
   "execution_count": 6,
   "id": "0a101b8f-2209-48f2-b5fa-a8c58060f363",
   "metadata": {},
   "outputs": [],
   "source": [
    "s1 = {2,4,6,8,10}"
   ]
  },
  {
   "cell_type": "code",
   "execution_count": null,
   "id": "03ebdc09-c17f-4b8b-92a3-f136f7c5386e",
   "metadata": {},
   "outputs": [],
   "source": [
    " # 8. Create a set of odd numbers from 1 to 10."
   ]
  },
  {
   "cell_type": "code",
   "execution_count": 7,
   "id": "92861656-3a69-4879-bd87-63fb318e2667",
   "metadata": {},
   "outputs": [],
   "source": [
    "s2 = {1,3,5,7,9}\n"
   ]
  },
  {
   "cell_type": "code",
   "execution_count": null,
   "id": "84d7708c-77ff-4c0c-9239-ad920ae51aac",
   "metadata": {},
   "outputs": [],
   "source": [
    "# 9. Find the union of two sets."
   ]
  },
  {
   "cell_type": "code",
   "execution_count": 8,
   "id": "e30624b6-ffc4-4921-8d53-8dacf20abb3b",
   "metadata": {},
   "outputs": [
    {
     "data": {
      "text/plain": [
       "{1, 2, 4, 6, 8, 10}"
      ]
     },
     "execution_count": 8,
     "metadata": {},
     "output_type": "execute_result"
    }
   ],
   "source": [
    "s1 \n",
    "{1, 2, 4, 6, 8, 10}"
   ]
  },
  {
   "cell_type": "code",
   "execution_count": null,
   "id": "d461efa0-31b9-4328-bed1-e1bc53f8f083",
   "metadata": {},
   "outputs": [],
   "source": [
    "# 10. Find the intersection of two sets."
   ]
  },
  {
   "cell_type": "code",
   "execution_count": 9,
   "id": "8398467e-6694-4d98-901a-b267deb972f1",
   "metadata": {},
   "outputs": [
    {
     "name": "stdout",
     "output_type": "stream",
     "text": [
      "set()\n"
     ]
    },
    {
     "data": {
      "text/plain": [
       "{1}"
      ]
     },
     "execution_count": 9,
     "metadata": {},
     "output_type": "execute_result"
    }
   ],
   "source": [
    "s1\n",
    "{1, 2, 4, 6, 8, 10}\n",
    "s2\n",
    "\n",
    "\n",
    "{1, 3, 5, 7, 9}\n",
    "print(s2.intersection(s1))\n",
    "{1}"
   ]
  },
  {
   "cell_type": "code",
   "execution_count": null,
   "id": "7951918d-496a-46fe-b95b-5bc99b2e2eff",
   "metadata": {},
   "outputs": [],
   "source": [
    "# 11. Find the difference between two sets."
   ]
  },
  {
   "cell_type": "code",
   "execution_count": 10,
   "id": "9cc3f1b8-a6fb-4b15-b0fb-81bfda42bd4e",
   "metadata": {},
   "outputs": [
    {
     "name": "stdout",
     "output_type": "stream",
     "text": [
      "{1, 3, 5, 7, 9}\n"
     ]
    },
    {
     "data": {
      "text/plain": [
       "{3, 5, 7, 9}"
      ]
     },
     "execution_count": 10,
     "metadata": {},
     "output_type": "execute_result"
    }
   ],
   "source": [
    "s1\n",
    "{1, 2, 4, 6, 8, 10}\n",
    "s2\n",
    "{1, 3, 5, 7, 9}\n",
    "print(s2.difference(s1))\n",
    "{9, 3, 5, 7}"
   ]
  },
  {
   "cell_type": "code",
   "execution_count": null,
   "id": "61901f45-f3ed-4055-8788-33dd4bc1cda5",
   "metadata": {},
   "outputs": [],
   "source": [
    "# 12. Check if a set is a subset of another set"
   ]
  },
  {
   "cell_type": "code",
   "execution_count": 11,
   "id": "66bef8c3-e3a6-49b8-afba-a1c6285bc8ec",
   "metadata": {},
   "outputs": [
    {
     "data": {
      "text/plain": [
       "False"
      ]
     },
     "execution_count": 11,
     "metadata": {},
     "output_type": "execute_result"
    }
   ],
   "source": [
    "s1\n",
    "{1, 2, 4, 6, 8, 10}\n",
    "s2\n",
    "\n",
    "{1, 3, 5, 7, 9}\n",
    "s1.issubset(s2)"
   ]
  },
  {
   "cell_type": "code",
   "execution_count": null,
   "id": "4555354e-b8e9-4a6c-952f-fcdcf73360b6",
   "metadata": {},
   "outputs": [],
   "source": [
    "# 13. Check if a set is a superset of another set."
   ]
  },
  {
   "cell_type": "code",
   "execution_count": 12,
   "id": "2a3e3e93-5495-4023-9dd5-1f79b9924925",
   "metadata": {},
   "outputs": [
    {
     "data": {
      "text/plain": [
       "False"
      ]
     },
     "execution_count": 12,
     "metadata": {},
     "output_type": "execute_result"
    }
   ],
   "source": [
    "s1\n",
    "{1, 2, 4, 6, 8, 10}\n",
    "s2\n",
    "{1, 3, 5, 7, 9}\n",
    "s1.issuperset(s2)"
   ]
  },
  {
   "cell_type": "code",
   "execution_count": null,
   "id": "7c892faa-9186-46c9-b3be-ea211bfb9ab7",
   "metadata": {},
   "outputs": [],
   "source": [
    "# 14. Create a set from a list."
   ]
  },
  {
   "cell_type": "code",
   "execution_count": 13,
   "id": "69964773-cb9b-456e-8c35-7f28fb95870e",
   "metadata": {},
   "outputs": [
    {
     "data": {
      "text/plain": [
       "{1, 2, 3, 4}"
      ]
     },
     "execution_count": 13,
     "metadata": {},
     "output_type": "execute_result"
    }
   ],
   "source": [
    "l1 = [1,2,3,4]\n",
    "set(l1)\n",
    "{1, 2, 3, 4}"
   ]
  },
  {
   "cell_type": "code",
   "execution_count": 14,
   "id": "97a4a9bf-d521-41b9-9340-18f1bea623f9",
   "metadata": {},
   "outputs": [],
   "source": [
    "# 15. Convert a set to a list"
   ]
  },
  {
   "cell_type": "code",
   "execution_count": 17,
   "id": "8b64eb1d-cd48-438d-b7eb-74cfbc834097",
   "metadata": {},
   "outputs": [
    {
     "data": {
      "text/plain": [
       "[1, 2, 3, 4]"
      ]
     },
     "execution_count": 17,
     "metadata": {},
     "output_type": "execute_result"
    }
   ],
   "source": [
    "s1\n",
    "{1, 2, 4, 6, 8, 10}\n",
    "list(l1)\n",
    "[1, 2, 3, 4]"
   ]
  },
  {
   "cell_type": "code",
   "execution_count": null,
   "id": "887bb9d5-eb26-44cb-b610-5ec2e989d6d3",
   "metadata": {},
   "outputs": [],
   "source": [
    "# 16. Remove a random element from a set."
   ]
  },
  {
   "cell_type": "code",
   "execution_count": 24,
   "id": "e43850a2-24bd-4264-a044-e74ea8c6f3b5",
   "metadata": {},
   "outputs": [],
   "source": [
    "s1\n",
    "{1, 2, 4, 6, 8, 10}\n",
    "s1.remove(2)\n",
    "s1 ={2, 4, 6, 8, 10}"
   ]
  },
  {
   "cell_type": "code",
   "execution_count": 25,
   "id": "43299147-8bf6-4db7-a245-33a67e77bdcd",
   "metadata": {},
   "outputs": [
    {
     "data": {
      "text/plain": [
       "{2, 4, 6, 8, 10}"
      ]
     },
     "execution_count": 25,
     "metadata": {},
     "output_type": "execute_result"
    }
   ],
   "source": [
    "s1"
   ]
  },
  {
   "cell_type": "code",
   "execution_count": null,
   "id": "00f060d0-f8c8-4969-ad9a-fde6da924292",
   "metadata": {},
   "outputs": [],
   "source": [
    "# 17. Pop an element from a set"
   ]
  },
  {
   "cell_type": "code",
   "execution_count": 30,
   "id": "edd59c88-ca49-430d-bde8-1cd42dc348e0",
   "metadata": {},
   "outputs": [
    {
     "data": {
      "text/plain": [
       "8"
      ]
     },
     "execution_count": 30,
     "metadata": {},
     "output_type": "execute_result"
    }
   ],
   "source": [
    "s1.pop()\n",
    "\n"
   ]
  },
  {
   "cell_type": "code",
   "execution_count": null,
   "id": "57d45f3d-d5ea-4157-b7b3-4e7f713e87c1",
   "metadata": {},
   "outputs": [],
   "source": [
    "# 18. Check if two sets have no elements in common."
   ]
  },
  {
   "cell_type": "code",
   "execution_count": 31,
   "id": "770e21a8-75c1-4cfc-9de5-bb49aa9efc08",
   "metadata": {},
   "outputs": [
    {
     "data": {
      "text/plain": [
       "set()"
      ]
     },
     "execution_count": 31,
     "metadata": {},
     "output_type": "execute_result"
    }
   ],
   "source": [
    "s4 = {1,2,3}\n",
    "s5 = {5,6,7}\n",
    "s5.intersection(s4)\n",
    "set()\n"
   ]
  },
  {
   "cell_type": "code",
   "execution_count": null,
   "id": "b733f550-c1e2-4d66-b664-cb1ecb4acba7",
   "metadata": {},
   "outputs": [],
   "source": [
    "# 19. Find the symmetric difference between two sets"
   ]
  },
  {
   "cell_type": "code",
   "execution_count": 32,
   "id": "d2cc4abd-2269-4ab7-b972-de75752415ac",
   "metadata": {},
   "outputs": [
    {
     "data": {
      "text/plain": [
       "{1, 2, 3}"
      ]
     },
     "execution_count": 32,
     "metadata": {},
     "output_type": "execute_result"
    }
   ],
   "source": [
    "s4\n",
    "{1, 2, 3}\n",
    "s4.difference(s1)\n",
    "{1, 2, 3}"
   ]
  },
  {
   "cell_type": "code",
   "execution_count": null,
   "id": "f9312f64-9e95-4adf-8b79-0c372165070b",
   "metadata": {},
   "outputs": [],
   "source": [
    "# 20. Update a set with elements from another set."
   ]
  },
  {
   "cell_type": "code",
   "execution_count": 33,
   "id": "f2216cd4-e04a-431a-9bab-1b6f205788a1",
   "metadata": {},
   "outputs": [
    {
     "data": {
      "text/plain": [
       "{1, 3, 5, 7, 9}"
      ]
     },
     "execution_count": 33,
     "metadata": {},
     "output_type": "execute_result"
    }
   ],
   "source": [
    "s1\n",
    "{4, 6, 8, 10}\n",
    "s2\n",
    "{1, 3, 5, 7, 9}\n",
    "s1 = s2\n",
    "s1\n",
    "{1, 3, 5, 7, 9}"
   ]
  },
  {
   "cell_type": "code",
   "execution_count": null,
   "id": "9218a1fc-b21b-4a12-93f6-b7bd5e878d2f",
   "metadata": {},
   "outputs": [],
   "source": [
    "# 21. Create a set of the first 5 prime numbers"
   ]
  },
  {
   "cell_type": "code",
   "execution_count": 34,
   "id": "230d9f53-8cfe-432f-8ed2-5b52f3821831",
   "metadata": {},
   "outputs": [],
   "source": [
    "s7= {2,3,5,11}"
   ]
  },
  {
   "cell_type": "code",
   "execution_count": 35,
   "id": "09132004-be39-4830-a53e-2ba8a1cec8d0",
   "metadata": {},
   "outputs": [
    {
     "data": {
      "text/plain": [
       "{2, 3, 5, 11}"
      ]
     },
     "execution_count": 35,
     "metadata": {},
     "output_type": "execute_result"
    }
   ],
   "source": [
    "s7"
   ]
  },
  {
   "cell_type": "code",
   "execution_count": null,
   "id": "aff04274-836d-4700-84ac-d51af84b44d0",
   "metadata": {},
   "outputs": [],
   "source": [
    "# 22. Check if two sets are identical."
   ]
  },
  {
   "cell_type": "code",
   "execution_count": 38,
   "id": "3bd81008-d274-4030-a689-bf5d93262f7f",
   "metadata": {},
   "outputs": [
    {
     "data": {
      "text/plain": [
       "True"
      ]
     },
     "execution_count": 38,
     "metadata": {},
     "output_type": "execute_result"
    }
   ],
   "source": [
    "s1\n",
    "{1, 3, 5, 7, 9}\n",
    "s2\n",
    "{1, 3, 5, 7, 9}\n",
    "s1 == s2\n",
    "True"
   ]
  },
  {
   "cell_type": "code",
   "execution_count": 37,
   "id": "17213c97-c26b-4b05-9bd5-c62967b64596",
   "metadata": {},
   "outputs": [
    {
     "data": {
      "text/plain": [
       "{1, 3, 5, 7, 9}"
      ]
     },
     "execution_count": 37,
     "metadata": {},
     "output_type": "execute_result"
    }
   ],
   "source": [
    "s1"
   ]
  },
  {
   "cell_type": "code",
   "execution_count": null,
   "id": "31418e35-a051-410a-ac59-a27a4153907b",
   "metadata": {},
   "outputs": [],
   "source": [
    "# 23. Create a frozen set."
   ]
  },
  {
   "cell_type": "code",
   "execution_count": 44,
   "id": "57d311f6-e3a7-4780-902d-591f87c86104",
   "metadata": {},
   "outputs": [
    {
     "ename": "SyntaxError",
     "evalue": "invalid syntax (2231445567.py, line 4)",
     "output_type": "error",
     "traceback": [
      "\u001b[0;36m  Cell \u001b[0;32mIn[44], line 4\u001b[0;36m\u001b[0m\n\u001b[0;31m    the frozen set is : frozenset({'e', 'a', 'o', 'i', 'u'})\u001b[0m\n\u001b[0m        ^\u001b[0m\n\u001b[0;31mSyntaxError\u001b[0m\u001b[0;31m:\u001b[0m invalid syntax\n"
     ]
    }
   ],
   "source": [
    "vowels = ('a','e','i','o','u')\n",
    "fset= frozenset(vowels)\n",
    "print('the frozen set is :', fset)\n",
    "the frozen set is : frozenset({'e', 'a', 'o', 'i', 'u'})"
   ]
  },
  {
   "cell_type": "code",
   "execution_count": null,
   "id": "b2a2e3a4-20c8-4524-a161-6d6f37deea2c",
   "metadata": {},
   "outputs": [],
   "source": [
    "# 24. Check if a set is disjoint with another set"
   ]
  },
  {
   "cell_type": "code",
   "execution_count": 45,
   "id": "142c7c7c-2adb-49ea-8174-bac5cc076604",
   "metadata": {},
   "outputs": [
    {
     "data": {
      "text/plain": [
       "False"
      ]
     },
     "execution_count": 45,
     "metadata": {},
     "output_type": "execute_result"
    }
   ],
   "source": [
    "s1\n",
    "{1, 3, 5, 7, 9}\n",
    "s2\n",
    "{1, 3, 5, 7, 9}\n",
    "s1.isdisjoint(s2)"
   ]
  },
  {
   "cell_type": "code",
   "execution_count": null,
   "id": "48cc246f-8076-43a6-8ab5-a66c20ed72d2",
   "metadata": {},
   "outputs": [],
   "source": [
    "# 25. Create a set of squares of numbers from 1 to 5"
   ]
  },
  {
   "cell_type": "code",
   "execution_count": 46,
   "id": "6ac14fe2-e3a1-48f4-82b1-4b97f14264e6",
   "metadata": {},
   "outputs": [
    {
     "data": {
      "text/plain": [
       "{1, 4, 9, 16, 25}"
      ]
     },
     "execution_count": 46,
     "metadata": {},
     "output_type": "execute_result"
    }
   ],
   "source": [
    "#25\n",
    "s3 ={1,4,9,16,25}\n",
    "s3\n",
    "{1, 4, 9, 16, 25}"
   ]
  },
  {
   "cell_type": "code",
   "execution_count": null,
   "id": "abeac678-9eea-4832-8629-bdc0091aee5b",
   "metadata": {},
   "outputs": [],
   "source": [
    "# 26. Filter out all even numbers from a set."
   ]
  },
  {
   "cell_type": "code",
   "execution_count": 47,
   "id": "365c3695-532a-4ed3-af40-7f034cbcb137",
   "metadata": {},
   "outputs": [
    {
     "name": "stdout",
     "output_type": "stream",
     "text": [
      "even numbers in the s3: [16, 4]\n"
     ]
    }
   ],
   "source": [
    "s3\n",
    "{1, 4, 9, 16, 25}\n",
    "even_nos = [num for num in s3 if num %2 == 0]\n",
    "print('even numbers in the s3:', even_nos)\n"
   ]
  },
  {
   "cell_type": "code",
   "execution_count": null,
   "id": "1e522136-712e-4db5-96f6-56ee32231815",
   "metadata": {},
   "outputs": [],
   "source": [
    "# 27. Multiply all elements in a set by 2."
   ]
  },
  {
   "cell_type": "code",
   "execution_count": 49,
   "id": "4f6a77bf-e57d-4696-b1ba-d8742b1246df",
   "metadata": {},
   "outputs": [
    {
     "data": {
      "text/plain": [
       "2"
      ]
     },
     "execution_count": 49,
     "metadata": {},
     "output_type": "execute_result"
    }
   ],
   "source": [
    "\n",
    "s1\n",
    "{1, 3, 5, 7, 9}\n",
    "s1\n",
    "{1, 3, 5, 7, 9}\n",
    "2\n",
    "2"
   ]
  },
  {
   "cell_type": "code",
   "execution_count": null,
   "id": "ff8ead2e-d053-4d91-a967-77d4be91ec1c",
   "metadata": {},
   "outputs": [],
   "source": [
    "# 28. Create a set of random numbers"
   ]
  },
  {
   "cell_type": "code",
   "execution_count": 50,
   "id": "ca87b1e5-7f2c-4ba3-a3df-aec412567e5c",
   "metadata": {},
   "outputs": [],
   "source": [
    "s4 = {23,6,57,68,7}"
   ]
  },
  {
   "cell_type": "code",
   "execution_count": 51,
   "id": "15bf0f04-5586-475a-bc96-ac6c71d07d63",
   "metadata": {},
   "outputs": [
    {
     "data": {
      "text/plain": [
       "{6, 7, 23, 57, 68}"
      ]
     },
     "execution_count": 51,
     "metadata": {},
     "output_type": "execute_result"
    }
   ],
   "source": [
    "s4"
   ]
  },
  {
   "cell_type": "code",
   "execution_count": null,
   "id": "004b0e5e-0c65-45ad-8bb9-3d2a0e1a654f",
   "metadata": {},
   "outputs": [],
   "source": [
    "# 29. Check if a set is empty"
   ]
  },
  {
   "cell_type": "code",
   "execution_count": 57,
   "id": "e3d85808-ba27-4ef0-8222-bb798b3e9fe9",
   "metadata": {},
   "outputs": [],
   "source": [
    "s1\n",
    "{1, 3, 5, 7, 9}\n",
    "# fuction definer set vis nat empty \n",
    "s1.update()\n"
   ]
  },
  {
   "cell_type": "code",
   "execution_count": 58,
   "id": "522f8bec-f69f-4fa9-8560-6620fa3a35dd",
   "metadata": {},
   "outputs": [
    {
     "data": {
      "text/plain": [
       "{1, 5, 7, 9}"
      ]
     },
     "execution_count": 58,
     "metadata": {},
     "output_type": "execute_result"
    }
   ],
   "source": [
    "s1"
   ]
  },
  {
   "cell_type": "code",
   "execution_count": null,
   "id": "df34abdd-8b1f-4dfa-97f8-72c85925e5c5",
   "metadata": {},
   "outputs": [],
   "source": [
    " # 30. Create a nested set (hint: use frozenset)."
   ]
  },
  {
   "cell_type": "code",
   "execution_count": 53,
   "id": "10b208c7-5495-4cb3-8311-3f955e176b1b",
   "metadata": {},
   "outputs": [
    {
     "ename": "SyntaxError",
     "evalue": "invalid syntax (2738154819.py, line 4)",
     "output_type": "error",
     "traceback": [
      "\u001b[0;36m  Cell \u001b[0;32mIn[53], line 4\u001b[0;36m\u001b[0m\n\u001b[0;31m    the frozen set is : frozenset({'e', 'a', 'o', 'i', 'u'})\u001b[0m\n\u001b[0m        ^\u001b[0m\n\u001b[0;31mSyntaxError\u001b[0m\u001b[0;31m:\u001b[0m invalid syntax\n"
     ]
    }
   ],
   "source": [
    "vowels = ('a','e','i','o','u')\n",
    "fset= frozenset(vowels)\n",
    "print('the frozen set is :', fset)\n",
    "the frozen set is : frozenset({'e', 'a', 'o', 'i', 'u'})\n",
    "fset.union('v')\n",
    "frozenset({'a', 'e', 'i', 'o', 'u', 'v'})"
   ]
  },
  {
   "cell_type": "code",
   "execution_count": null,
   "id": "eccb356f-c147-4c41-9597-b2a8c04dd6be",
   "metadata": {},
   "outputs": [],
   "source": [
    "# 31. Remove an element from a set using the discard method."
   ]
  },
  {
   "cell_type": "code",
   "execution_count": 55,
   "id": "3199eff9-2dc7-4a2b-8cf0-90fd5c7c8897",
   "metadata": {},
   "outputs": [],
   "source": [
    "s1\n",
    "{1, 3, 5, 9}\n",
    "s1.discard(3)\n"
   ]
  },
  {
   "cell_type": "code",
   "execution_count": 56,
   "id": "99122284-ac09-4c05-90c5-74e43fc8cf25",
   "metadata": {},
   "outputs": [
    {
     "data": {
      "text/plain": [
       "{1, 5, 7, 9}"
      ]
     },
     "execution_count": 56,
     "metadata": {},
     "output_type": "execute_result"
    }
   ],
   "source": [
    "s1"
   ]
  },
  {
   "cell_type": "code",
   "execution_count": null,
   "id": "0ab6a98a-9809-4ec6-986d-86b405dd452a",
   "metadata": {},
   "outputs": [],
   "source": [
    "# 32. Compare two sets."
   ]
  },
  {
   "cell_type": "code",
   "execution_count": 59,
   "id": "6bf2ec2a-8a96-44dd-9f65-f8e23768412a",
   "metadata": {},
   "outputs": [
    {
     "data": {
      "text/plain": [
       "True"
      ]
     },
     "execution_count": 59,
     "metadata": {},
     "output_type": "execute_result"
    }
   ],
   "source": [
    "s1\n",
    "{1, 5, 9}\n",
    "s2\n",
    "{1, 5, 9}\n",
    "s1 == s2"
   ]
  },
  {
   "cell_type": "code",
   "execution_count": null,
   "id": "aba76377-f0a8-488f-bb55-de9f6667364f",
   "metadata": {},
   "outputs": [],
   "source": [
    "# 33. Create a set from a string."
   ]
  },
  {
   "cell_type": "code",
   "execution_count": 61,
   "id": "9e943802-13cd-4cae-85ae-e24a6ff85fd9",
   "metadata": {},
   "outputs": [
    {
     "name": "stdout",
     "output_type": "stream",
     "text": [
      "7\n",
      "<class 'str'>\n"
     ]
    }
   ],
   "source": [
    "print('7')\n",
    "7\n",
    "print(type('7'))\n"
   ]
  },
  {
   "cell_type": "code",
   "execution_count": null,
   "id": "08140e76-cdfb-472f-9b3a-0fd076860e1d",
   "metadata": {},
   "outputs": [],
   "source": [
    "# 34. Convert a set of strings to a set of integers."
   ]
  },
  {
   "cell_type": "code",
   "execution_count": 62,
   "id": "a61d656c-2db7-4079-8812-88b944776a3f",
   "metadata": {},
   "outputs": [
    {
     "name": "stdout",
     "output_type": "stream",
     "text": [
      "{7}\n",
      "<class 'set'>\n"
     ]
    }
   ],
   "source": [
    "print({7})\n",
    "{7}\n",
    "print(type({7}))"
   ]
  },
  {
   "cell_type": "code",
   "execution_count": null,
   "id": "4ae35ad8-e5bf-48ae-869d-f0e9ff14fa6e",
   "metadata": {},
   "outputs": [],
   "source": [
    "# 35. Convert a set of integers to a set of strings"
   ]
  },
  {
   "cell_type": "code",
   "execution_count": 63,
   "id": "340686ce-f2e1-49a9-bbdf-3ec4abd0ee12",
   "metadata": {},
   "outputs": [
    {
     "data": {
      "text/plain": [
       "'{1, 2, 3}'"
      ]
     },
     "execution_count": 63,
     "metadata": {},
     "output_type": "execute_result"
    }
   ],
   "source": [
    "s4 = {1,2,3}\n",
    "str(s4)\n",
    "'{1, 2, 3}'"
   ]
  },
  {
   "cell_type": "code",
   "execution_count": null,
   "id": "53e927ca-ac17-4a36-838d-711477c89c61",
   "metadata": {},
   "outputs": [],
   "source": [
    "# 36. Create a set from a tuple"
   ]
  },
  {
   "cell_type": "code",
   "execution_count": 64,
   "id": "9343bbca-f6f8-4af4-9185-0c2d871656d7",
   "metadata": {},
   "outputs": [
    {
     "data": {
      "text/plain": [
       "{1, 2, 3}"
      ]
     },
     "execution_count": 64,
     "metadata": {},
     "output_type": "execute_result"
    }
   ],
   "source": [
    "t1 = (1,2,3)\n",
    "set(t1)\n",
    "{1, 2, 3}"
   ]
  },
  {
   "cell_type": "code",
   "execution_count": null,
   "id": "37abc4f4-2aac-4508-9848-b270abdbc7ba",
   "metadata": {},
   "outputs": [],
   "source": [
    "# 37. Convert a set to a tuple."
   ]
  },
  {
   "cell_type": "code",
   "execution_count": 65,
   "id": "d7321734-d63e-435d-a81a-5c0f55e75a4e",
   "metadata": {},
   "outputs": [
    {
     "data": {
      "text/plain": [
       "(1, 5, 9)"
      ]
     },
     "execution_count": 65,
     "metadata": {},
     "output_type": "execute_result"
    }
   ],
   "source": [
    "s1\n",
    "{1, 5, 9}\n",
    "tuple(s1)\n",
    "(1, 5, 9)"
   ]
  },
  {
   "cell_type": "code",
   "execution_count": null,
   "id": "2a7c86c4-7eb5-4a66-aeae-d4452dffa74e",
   "metadata": {},
   "outputs": [],
   "source": [
    "# 40. Create a set from user input"
   ]
  },
  {
   "cell_type": "code",
   "execution_count": 67,
   "id": "43224c4c-3369-4043-8038-7821d247bc1b",
   "metadata": {},
   "outputs": [
    {
     "name": "stdin",
     "output_type": "stream",
     "text": [
      " 4\n"
     ]
    }
   ],
   "source": [
    "set = input()"
   ]
  },
  {
   "cell_type": "code",
   "execution_count": null,
   "id": "788e0c24-924e-43ae-a14a-2366df6ff913",
   "metadata": {},
   "outputs": [],
   "source": [
    "# 41. Check if the intersection of two sets is empty"
   ]
  },
  {
   "cell_type": "code",
   "execution_count": 68,
   "id": "6c30203a-ea0c-497b-82d9-63ba32ee513b",
   "metadata": {},
   "outputs": [
    {
     "data": {
      "text/plain": [
       "set()"
      ]
     },
     "execution_count": 68,
     "metadata": {},
     "output_type": "execute_result"
    }
   ],
   "source": [
    "s1 = {1,2,3}\n",
    "s2 = {4,5,6}\n",
    "s1.intersection(s2)\n"
   ]
  },
  {
   "cell_type": "code",
   "execution_count": null,
   "id": "02e16e68-0335-4d04-921a-5644d16c4ae0",
   "metadata": {},
   "outputs": [],
   "source": [
    "# 42. Create a set of the first 5 Fibonacci numbers."
   ]
  },
  {
   "cell_type": "code",
   "execution_count": 69,
   "id": "e645ae59-cf00-4ea9-9346-f821f093b57c",
   "metadata": {},
   "outputs": [],
   "source": [
    "s4=  {0,1,1,2,3,5,8,13,21,34}"
   ]
  },
  {
   "cell_type": "code",
   "execution_count": 70,
   "id": "dcbcdbc8-e717-4559-919c-ecf3582af09c",
   "metadata": {},
   "outputs": [
    {
     "data": {
      "text/plain": [
       "{0, 1, 2, 3, 5, 8, 13, 21, 34}"
      ]
     },
     "execution_count": 70,
     "metadata": {},
     "output_type": "execute_result"
    }
   ],
   "source": [
    "s4"
   ]
  },
  {
   "cell_type": "code",
   "execution_count": null,
   "id": "ef07ddad-ae0f-4dc1-bd4b-53c8276a5ca6",
   "metadata": {},
   "outputs": [],
   "source": [
    "# 43. Remove duplicates from a list using sets."
   ]
  },
  {
   "cell_type": "code",
   "execution_count": 71,
   "id": "b4588b26-f1e9-48f0-b2ca-69fa363b1a47",
   "metadata": {},
   "outputs": [],
   "source": [
    "s9 = {1,1,2,3}\n"
   ]
  },
  {
   "cell_type": "code",
   "execution_count": 72,
   "id": "debd71e4-992d-4c9c-b305-64c9f05350ec",
   "metadata": {},
   "outputs": [
    {
     "data": {
      "text/plain": [
       "{1, 2, 3}"
      ]
     },
     "execution_count": 72,
     "metadata": {},
     "output_type": "execute_result"
    }
   ],
   "source": [
    "s9"
   ]
  },
  {
   "cell_type": "code",
   "execution_count": null,
   "id": "544a821f-6644-4293-9945-310ca9ed55c2",
   "metadata": {},
   "outputs": [],
   "source": [
    "# 45. Create a set of the first `n` powers of 2."
   ]
  },
  {
   "cell_type": "code",
   "execution_count": 73,
   "id": "fa2e05a5-6b63-4ea3-ad21-ed6290c897ad",
   "metadata": {},
   "outputs": [],
   "source": [
    "s4 = {2,4,8,16}"
   ]
  },
  {
   "cell_type": "code",
   "execution_count": null,
   "id": "85dd3ac2-2837-46e4-897a-786edb9599dc",
   "metadata": {},
   "outputs": [],
   "source": [
    "# 46. Find the common elements between a set and a list."
   ]
  },
  {
   "cell_type": "code",
   "execution_count": 74,
   "id": "9bd8880d-64fd-412f-a2fc-11f277fbf77f",
   "metadata": {},
   "outputs": [
    {
     "data": {
      "text/plain": [
       "0"
      ]
     },
     "execution_count": 74,
     "metadata": {},
     "output_type": "execute_result"
    }
   ],
   "source": [
    "l1 = [1,2,3,4]\n",
    "s1\n",
    "{1, 2, 3}\n",
    "l1.count(s1)\n"
   ]
  },
  {
   "cell_type": "code",
   "execution_count": null,
   "id": "8b1c2234-58e3-4470-98a7-f36e3ced593f",
   "metadata": {},
   "outputs": [],
   "source": [
    "# 47. Create a set of the first `n` triangular numbers"
   ]
  },
  {
   "cell_type": "code",
   "execution_count": 75,
   "id": "29825c78-c43e-4487-8ca8-0fca1af1e4ed",
   "metadata": {},
   "outputs": [],
   "source": [
    "s = {0,1,6,10,15,21,28,36,45,55,66,78,91,105}"
   ]
  },
  {
   "cell_type": "code",
   "execution_count": 76,
   "id": "f5143f20-28b0-4627-889a-fc0a21288d65",
   "metadata": {},
   "outputs": [
    {
     "data": {
      "text/plain": [
       "{0, 1, 6, 10, 15, 21, 28, 36, 45, 55, 66, 78, 91, 105}"
      ]
     },
     "execution_count": 76,
     "metadata": {},
     "output_type": "execute_result"
    }
   ],
   "source": [
    "s"
   ]
  },
  {
   "cell_type": "code",
   "execution_count": null,
   "id": "e116a401-f6d8-4ad9-9644-35a10b8f13b5",
   "metadata": {},
   "outputs": [],
   "source": [
    "# 48. Check if a set contains another set as a subset"
   ]
  },
  {
   "cell_type": "code",
   "execution_count": 77,
   "id": "8c40f5d3-0781-46dc-ae12-1586636c0f6d",
   "metadata": {},
   "outputs": [
    {
     "data": {
      "text/plain": [
       "False"
      ]
     },
     "execution_count": 77,
     "metadata": {},
     "output_type": "execute_result"
    }
   ],
   "source": [
    "s1\n",
    "{1, 2, 3}\n",
    "s2\n",
    "{4, 5, 6}\n",
    "s1.issubset(s2)"
   ]
  },
  {
   "cell_type": "code",
   "execution_count": null,
   "id": "b8327f90-fa09-4578-8228-e7fa8fba49d6",
   "metadata": {},
   "outputs": [],
   "source": [
    "# 49. Create a set of alternating 1s and 0s of length `n`."
   ]
  },
  {
   "cell_type": "code",
   "execution_count": 78,
   "id": "b3a7293a-27b3-47fa-bb26-2d450a3e77fc",
   "metadata": {},
   "outputs": [],
   "source": [
    "s4 = {1,0,1,0,1,0,1}"
   ]
  },
  {
   "cell_type": "code",
   "execution_count": 79,
   "id": "1321c743-dfd5-4b76-b69b-c78f0ff03a2d",
   "metadata": {},
   "outputs": [
    {
     "data": {
      "text/plain": [
       "{0, 1}"
      ]
     },
     "execution_count": 79,
     "metadata": {},
     "output_type": "execute_result"
    }
   ],
   "source": [
    "s4"
   ]
  },
  {
   "cell_type": "code",
   "execution_count": null,
   "id": "949314ba-9ed8-421e-8ff3-27ccffbc7573",
   "metadata": {},
   "outputs": [],
   "source": [
    "# 50. Merge multiple sets into one."
   ]
  },
  {
   "cell_type": "code",
   "execution_count": 80,
   "id": "90c4f330-c108-4c88-bf84-cb1ad398db58",
   "metadata": {},
   "outputs": [
    {
     "data": {
      "text/plain": [
       "{0, 1}"
      ]
     },
     "execution_count": 80,
     "metadata": {},
     "output_type": "execute_result"
    }
   ],
   "source": [
    "s1\n",
    "{1, 2, 3}\n",
    "s2\n",
    "{4, 5, 6}\n",
    "s4\n",
    "{0, 1}"
   ]
  },
  {
   "cell_type": "code",
   "execution_count": null,
   "id": "736a439a-5ea7-44ac-916e-e00425e6c3e0",
   "metadata": {},
   "outputs": [],
   "source": []
  }
 ],
 "metadata": {
  "kernelspec": {
   "display_name": "Python 3 (ipykernel)",
   "language": "python",
   "name": "python3"
  },
  "language_info": {
   "codemirror_mode": {
    "name": "ipython",
    "version": 3
   },
   "file_extension": ".py",
   "mimetype": "text/x-python",
   "name": "python",
   "nbconvert_exporter": "python",
   "pygments_lexer": "ipython3",
   "version": "3.10.8"
  }
 },
 "nbformat": 4,
 "nbformat_minor": 5
}
