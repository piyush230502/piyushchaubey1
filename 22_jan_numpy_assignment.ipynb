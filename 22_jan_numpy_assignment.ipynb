{
 "cells": [
  {
   "cell_type": "code",
   "execution_count": 1,
   "id": "9b2b148b-cffd-4dbb-8e06-f0e962cff426",
   "metadata": {},
   "outputs": [],
   "source": [
    "#3 find the shape size and dimensions of the following array\n"
   ]
  },
  {
   "cell_type": "code",
   "execution_count": 1,
   "id": "bd371e7e-e4b0-4695-85c8-ce68713ec8ee",
   "metadata": {},
   "outputs": [],
   "source": [
    "import numpy as np"
   ]
  },
  {
   "cell_type": "code",
   "execution_count": 2,
   "id": "3ff2055a-e563-4cc6-a20b-9eab4264ec74",
   "metadata": {},
   "outputs": [],
   "source": [
    "arr = np.array([[1,2,3,4],[5,6,7,8],[9,10,11,12]])"
   ]
  },
  {
   "cell_type": "code",
   "execution_count": 3,
   "id": "83204110-d74c-4659-8cd5-99091caf22dd",
   "metadata": {},
   "outputs": [
    {
     "data": {
      "text/plain": [
       "array([[ 1,  2,  3,  4],\n",
       "       [ 5,  6,  7,  8],\n",
       "       [ 9, 10, 11, 12]])"
      ]
     },
     "execution_count": 3,
     "metadata": {},
     "output_type": "execute_result"
    }
   ],
   "source": [
    "arr"
   ]
  },
  {
   "cell_type": "code",
   "execution_count": 4,
   "id": "72d893ce-5803-4ac4-8e97-4e57957e039a",
   "metadata": {},
   "outputs": [
    {
     "data": {
      "text/plain": [
       "(3, 4)"
      ]
     },
     "execution_count": 4,
     "metadata": {},
     "output_type": "execute_result"
    }
   ],
   "source": [
    "arr.shape"
   ]
  },
  {
   "cell_type": "code",
   "execution_count": 5,
   "id": "057530c6-c1e0-4d5c-8a8f-277d1f52de4a",
   "metadata": {},
   "outputs": [
    {
     "data": {
      "text/plain": [
       "12"
      ]
     },
     "execution_count": 5,
     "metadata": {},
     "output_type": "execute_result"
    }
   ],
   "source": [
    "arr.size"
   ]
  },
  {
   "cell_type": "code",
   "execution_count": 6,
   "id": "18ea6e2a-46f8-43b3-bb2c-76e0fab726d4",
   "metadata": {},
   "outputs": [
    {
     "data": {
      "text/plain": [
       "2"
      ]
     },
     "execution_count": 6,
     "metadata": {},
     "output_type": "execute_result"
    }
   ],
   "source": [
    "arr.ndim # since we have 2 square braces on the above array"
   ]
  },
  {
   "cell_type": "code",
   "execution_count": 7,
   "id": "f8a8885e-5171-4c64-a495-c098402bed1c",
   "metadata": {},
   "outputs": [],
   "source": [
    "#problem no.4>> write python code to access the first row of the following array?"
   ]
  },
  {
   "cell_type": "code",
   "execution_count": 8,
   "id": "47c3b6ce-9546-4752-99b5-9f7c8d8591f4",
   "metadata": {},
   "outputs": [
    {
     "data": {
      "text/plain": [
       "array([[ 1,  2,  3,  4],\n",
       "       [ 5,  6,  7,  8],\n",
       "       [ 9, 10, 11, 12]])"
      ]
     },
     "execution_count": 8,
     "metadata": {},
     "output_type": "execute_result"
    }
   ],
   "source": [
    "arr"
   ]
  },
  {
   "cell_type": "code",
   "execution_count": 9,
   "id": "c328f869-3308-402d-a11f-34e16463e325",
   "metadata": {},
   "outputs": [
    {
     "data": {
      "text/plain": [
       "array([[1, 2, 3, 4]])"
      ]
     },
     "execution_count": 9,
     "metadata": {},
     "output_type": "execute_result"
    }
   ],
   "source": [
    "arr[0:1]"
   ]
  },
  {
   "cell_type": "code",
   "execution_count": 10,
   "id": "6648b0de-1fef-4624-ad36-764aaeb5af10",
   "metadata": {},
   "outputs": [],
   "source": [
    "#problem no.5>> how do you access the element at the third row and fourth column from the given numpy array?"
   ]
  },
  {
   "cell_type": "code",
   "execution_count": 11,
   "id": "c9357835-5ce3-4633-ac93-29f49765a6d6",
   "metadata": {},
   "outputs": [
    {
     "data": {
      "text/plain": [
       "array([[ 1,  2,  3,  4],\n",
       "       [ 5,  6,  7,  8],\n",
       "       [ 9, 10, 11, 12]])"
      ]
     },
     "execution_count": 11,
     "metadata": {},
     "output_type": "execute_result"
    }
   ],
   "source": [
    "arr"
   ]
  },
  {
   "cell_type": "code",
   "execution_count": 12,
   "id": "e840646f-c944-4d2e-bbe3-2d1f1c0bcaf0",
   "metadata": {},
   "outputs": [
    {
     "data": {
      "text/plain": [
       "12"
      ]
     },
     "execution_count": 12,
     "metadata": {},
     "output_type": "execute_result"
    }
   ],
   "source": [
    "# element at third row and fourth column\n",
    "arr[2,3]"
   ]
  },
  {
   "cell_type": "code",
   "execution_count": 13,
   "id": "5994181e-c867-42ba-8b82-ad371bf1aa3e",
   "metadata": {},
   "outputs": [],
   "source": [
    "#problem no.6>> write code to extract all odd indexed elements from the given numpy array?"
   ]
  },
  {
   "cell_type": "code",
   "execution_count": 14,
   "id": "4a7ed9ab-7b85-4e10-b19a-3c0d43fcc8a7",
   "metadata": {},
   "outputs": [
    {
     "data": {
      "text/plain": [
       "array([[ 1,  2,  3,  4],\n",
       "       [ 5,  6,  7,  8],\n",
       "       [ 9, 10, 11, 12]])"
      ]
     },
     "execution_count": 14,
     "metadata": {},
     "output_type": "execute_result"
    }
   ],
   "source": [
    "arr"
   ]
  },
  {
   "cell_type": "code",
   "execution_count": 15,
   "id": "6aced911-4521-4988-b5fd-daaa81a6fe8e",
   "metadata": {},
   "outputs": [
    {
     "data": {
      "text/plain": [
       "array([[6, 8]])"
      ]
     },
     "execution_count": 15,
     "metadata": {},
     "output_type": "execute_result"
    }
   ],
   "source": [
    "arr[1:2,[1,3]] # hence you find the elements at 1th row amd both 1th and 3rd column"
   ]
  },
  {
   "cell_type": "code",
   "execution_count": 16,
   "id": "801e2f0c-46cd-492a-83ef-09b3b94c4fe9",
   "metadata": {},
   "outputs": [],
   "source": [
    "#7 how can you generate a random 3*3 matrix with values between 0 and 1"
   ]
  },
  {
   "cell_type": "code",
   "execution_count": 17,
   "id": "7645fa08-d720-4d15-aaa1-4af7334cd34e",
   "metadata": {},
   "outputs": [
    {
     "data": {
      "text/plain": [
       "array([[0.50094474, 0.84909212, 0.4640467 ],\n",
       "       [0.40952711, 0.84843351, 0.00500335]])"
      ]
     },
     "execution_count": 17,
     "metadata": {},
     "output_type": "execute_result"
    }
   ],
   "source": [
    "np.random.rand(2,3)"
   ]
  },
  {
   "cell_type": "code",
   "execution_count": 18,
   "id": "ac7e4cb3-d625-4153-99a4-5ff84d9a3d8a",
   "metadata": {},
   "outputs": [],
   "source": [
    "#9 write a code to increase the dimension of the following array?"
   ]
  },
  {
   "cell_type": "code",
   "execution_count": 19,
   "id": "3d449500-f3b9-4f97-9b4d-3c5b9d2d2907",
   "metadata": {},
   "outputs": [
    {
     "data": {
      "text/plain": [
       "array([[ 1,  2,  3,  4],\n",
       "       [ 5,  6,  7,  8],\n",
       "       [ 9, 10, 11, 12]])"
      ]
     },
     "execution_count": 19,
     "metadata": {},
     "output_type": "execute_result"
    }
   ],
   "source": [
    "arr"
   ]
  },
  {
   "cell_type": "code",
   "execution_count": 20,
   "id": "b29540af-eb1d-4963-8dd9-fee5aec67ab8",
   "metadata": {},
   "outputs": [
    {
     "data": {
      "text/plain": [
       "3"
      ]
     },
     "execution_count": 20,
     "metadata": {},
     "output_type": "execute_result"
    }
   ],
   "source": [
    "(arr.ndim)+1"
   ]
  },
  {
   "cell_type": "code",
   "execution_count": 21,
   "id": "4a0a3243-f612-43df-8679-a2f292f1bd24",
   "metadata": {},
   "outputs": [],
   "source": [
    "#10 how to transpose the following array in numpy?"
   ]
  },
  {
   "cell_type": "code",
   "execution_count": 22,
   "id": "fb2ee4b0-83bd-4478-8d59-3fdbc572b464",
   "metadata": {},
   "outputs": [
    {
     "data": {
      "text/plain": [
       "array([[ 1,  2,  3,  4],\n",
       "       [ 5,  6,  7,  8],\n",
       "       [ 9, 10, 11, 12]])"
      ]
     },
     "execution_count": 22,
     "metadata": {},
     "output_type": "execute_result"
    }
   ],
   "source": [
    "arr"
   ]
  },
  {
   "cell_type": "code",
   "execution_count": 23,
   "id": "f44e541f-5fb9-4f07-bfc4-79ad061cc966",
   "metadata": {},
   "outputs": [
    {
     "data": {
      "text/plain": [
       "array([[ 1,  5,  9],\n",
       "       [ 2,  6, 10],\n",
       "       [ 3,  7, 11],\n",
       "       [ 4,  8, 12]])"
      ]
     },
     "execution_count": 23,
     "metadata": {},
     "output_type": "execute_result"
    }
   ],
   "source": [
    "arr.T"
   ]
  },
  {
   "cell_type": "code",
   "execution_count": 24,
   "id": "57e7aba2-ec68-4f17-aed5-b7aca33bbaa1",
   "metadata": {},
   "outputs": [],
   "source": [
    "# problem no-11>>\n",
    "matrixA = np.matrix([[1,2,3],[4,5,6],[7,8,9]])\n",
    "matrixB = np.matrix([[1,2,3],[4,5,6],[7,8,9]])"
   ]
  },
  {
   "cell_type": "code",
   "execution_count": 25,
   "id": "d2cf24a3-a23e-4cd5-a709-dc7cb015ecb8",
   "metadata": {},
   "outputs": [
    {
     "data": {
      "text/plain": [
       "matrix([[1, 2, 3],\n",
       "        [4, 5, 6],\n",
       "        [7, 8, 9]])"
      ]
     },
     "execution_count": 25,
     "metadata": {},
     "output_type": "execute_result"
    }
   ],
   "source": [
    "matrixA"
   ]
  },
  {
   "cell_type": "code",
   "execution_count": 26,
   "id": "abef2228-8d37-41b7-9a7b-47576e484271",
   "metadata": {},
   "outputs": [
    {
     "data": {
      "text/plain": [
       "matrix([[1, 2, 3],\n",
       "        [4, 5, 6],\n",
       "        [7, 8, 9]])"
      ]
     },
     "execution_count": 26,
     "metadata": {},
     "output_type": "execute_result"
    }
   ],
   "source": [
    "matrixB"
   ]
  },
  {
   "cell_type": "code",
   "execution_count": 27,
   "id": "2a36f0b7-93a6-4c4e-b025-157f02e7383e",
   "metadata": {},
   "outputs": [
    {
     "data": {
      "text/plain": [
       "matrix([[ 7, 14, 21],\n",
       "        [28, 35, 42],\n",
       "        [49, 56, 63]])"
      ]
     },
     "execution_count": 27,
     "metadata": {},
     "output_type": "execute_result"
    }
   ],
   "source": [
    "matrixA*8   # index wise multiplication by 7,8\n",
    "matrixB*7"
   ]
  },
  {
   "cell_type": "code",
   "execution_count": 28,
   "id": "3e5530fd-89c2-41a4-9883-db2fd8d73b2f",
   "metadata": {},
   "outputs": [
    {
     "data": {
      "text/plain": [
       "matrix([[ 30,  36,  42],\n",
       "        [ 66,  81,  96],\n",
       "        [102, 126, 150]])"
      ]
     },
     "execution_count": 28,
     "metadata": {},
     "output_type": "execute_result"
    }
   ],
   "source": [
    "matrixA@matrixB # matrix multiplication"
   ]
  },
  {
   "cell_type": "code",
   "execution_count": 29,
   "id": "3bd6fa89-360a-4e63-80b3-96149966dabb",
   "metadata": {},
   "outputs": [
    {
     "data": {
      "text/plain": [
       "matrix([[ 2,  4,  6],\n",
       "        [ 8, 10, 12],\n",
       "        [14, 16, 18]])"
      ]
     },
     "execution_count": 29,
     "metadata": {},
     "output_type": "execute_result"
    }
   ],
   "source": [
    "matrixA+matrixB     # matrix additon"
   ]
  },
  {
   "cell_type": "code",
   "execution_count": 30,
   "id": "5dfa100b-e3b5-4c9e-bce7-c2b23c24b490",
   "metadata": {},
   "outputs": [
    {
     "data": {
      "text/plain": [
       "matrix([[0, 0, 0],\n",
       "        [0, 0, 0],\n",
       "        [0, 0, 0]])"
      ]
     },
     "execution_count": 30,
     "metadata": {},
     "output_type": "execute_result"
    }
   ],
   "source": [
    "matrixB-matrixA        # matrix subtraction"
   ]
  },
  {
   "cell_type": "code",
   "execution_count": 31,
   "id": "403d295e-3eec-4d4a-9627-d777cfb3c52d",
   "metadata": {},
   "outputs": [
    {
     "data": {
      "text/plain": [
       "matrix([[1., 1., 1.],\n",
       "        [1., 1., 1.],\n",
       "        [1., 1., 1.]])"
      ]
     },
     "execution_count": 31,
     "metadata": {},
     "output_type": "execute_result"
    }
   ],
   "source": [
    "matrixB/matrixA # matrix division "
   ]
  },
  {
   "cell_type": "code",
   "execution_count": 32,
   "id": "53735189-0058-4e24-a3b8-dfd8ceddc0d7",
   "metadata": {},
   "outputs": [],
   "source": [
    "# problem no 14>> what does the np.reshape function do, how is it used?"
   ]
  },
  {
   "cell_type": "code",
   "execution_count": 33,
   "id": "25bc18e7-72b7-4b90-8a68-2f2b229bd88c",
   "metadata": {},
   "outputs": [
    {
     "data": {
      "text/plain": [
       "array([[ 1,  2,  3,  4],\n",
       "       [ 5,  6,  7,  8],\n",
       "       [ 9, 10, 11, 12]])"
      ]
     },
     "execution_count": 33,
     "metadata": {},
     "output_type": "execute_result"
    }
   ],
   "source": [
    "arr"
   ]
  },
  {
   "cell_type": "code",
   "execution_count": 34,
   "id": "985c7103-8245-4bbf-9048-1f4a528aa6bf",
   "metadata": {},
   "outputs": [
    {
     "data": {
      "text/plain": [
       "array([[ 1,  2,  3],\n",
       "       [ 4,  5,  6],\n",
       "       [ 7,  8,  9],\n",
       "       [10, 11, 12]])"
      ]
     },
     "execution_count": 34,
     "metadata": {},
     "output_type": "execute_result"
    }
   ],
   "source": [
    "arr.reshape(4,3) # it is used for reshaping the style of the matrix like we did sideby coverting to order (4,3) from order(3,4)\n",
    "                 # but it reshape the order with the fixed elements "
   ]
  },
  {
   "cell_type": "code",
   "execution_count": 35,
   "id": "e32606c6-ff96-42f8-96b8-dc29d58e5a9d",
   "metadata": {},
   "outputs": [],
   "source": [
    "# problem no 15>> what is broadcasting in numpy?\n",
    "#Ans:- This process involves certain rules that allow the smaller array to be ‘broadcast’ across the larger one, ensuring that they have compatible shapes for these operations."
   ]
  },
  {
   "cell_type": "code",
   "execution_count": 36,
   "id": "05958bd3-1f39-4dc9-8953-36aef9cc6e83",
   "metadata": {},
   "outputs": [],
   "source": [
    "arr = np.zeros((3,4))"
   ]
  },
  {
   "cell_type": "code",
   "execution_count": 37,
   "id": "a7b34d71-5609-442a-bebd-f6d1e3a6415b",
   "metadata": {},
   "outputs": [
    {
     "data": {
      "text/plain": [
       "array([[0., 0., 0., 0.],\n",
       "       [0., 0., 0., 0.],\n",
       "       [0., 0., 0., 0.]])"
      ]
     },
     "execution_count": 37,
     "metadata": {},
     "output_type": "execute_result"
    }
   ],
   "source": [
    "arr"
   ]
  },
  {
   "cell_type": "code",
   "execution_count": 38,
   "id": "8febd649-d320-473e-988b-08414fd8f472",
   "metadata": {},
   "outputs": [],
   "source": [
    "p = np.array([1,2,3,4,])"
   ]
  },
  {
   "cell_type": "code",
   "execution_count": 39,
   "id": "89a6fccd-9365-428c-b967-6df7c8780589",
   "metadata": {},
   "outputs": [
    {
     "data": {
      "text/plain": [
       "array([1, 2, 3, 4])"
      ]
     },
     "execution_count": 39,
     "metadata": {},
     "output_type": "execute_result"
    }
   ],
   "source": [
    "p"
   ]
  },
  {
   "cell_type": "code",
   "execution_count": 40,
   "id": "dbb16261-6615-4943-ab51-2b79f1b7e1eb",
   "metadata": {},
   "outputs": [
    {
     "data": {
      "text/plain": [
       "array([[1., 2., 3., 4.],\n",
       "       [1., 2., 3., 4.],\n",
       "       [1., 2., 3., 4.]])"
      ]
     },
     "execution_count": 40,
     "metadata": {},
     "output_type": "execute_result"
    }
   ],
   "source": [
    "arr+p"
   ]
  },
  {
   "cell_type": "code",
   "execution_count": 41,
   "id": "619c0709-3f30-429d-a1df-97f7ce3fd481",
   "metadata": {},
   "outputs": [
    {
     "data": {
      "text/plain": [
       "array([[0., 0., 0., 0.],\n",
       "       [0., 0., 0., 0.],\n",
       "       [0., 0., 0., 0.]])"
      ]
     },
     "execution_count": 41,
     "metadata": {},
     "output_type": "execute_result"
    }
   ],
   "source": [
    "arr*1"
   ]
  },
  {
   "cell_type": "code",
   "execution_count": 42,
   "id": "d33899e4-0c91-485c-8813-40b3377d7532",
   "metadata": {},
   "outputs": [
    {
     "data": {
      "text/plain": [
       "array([[4., 4., 4., 4.],\n",
       "       [4., 4., 4., 4.],\n",
       "       [4., 4., 4., 4.]])"
      ]
     },
     "execution_count": 42,
     "metadata": {},
     "output_type": "execute_result"
    }
   ],
   "source": [
    "arr+4"
   ]
  },
  {
   "cell_type": "code",
   "execution_count": 43,
   "id": "38d196b6-e2df-48b6-be82-98cfe21b2fca",
   "metadata": {},
   "outputs": [],
   "source": [
    "#problem no 13>> what is the significance of the np.linalg.inv function?"
   ]
  },
  {
   "cell_type": "code",
   "execution_count": 44,
   "id": "f1eea298-909e-486f-9a5d-2983769a9272",
   "metadata": {},
   "outputs": [],
   "source": [
    "arr1 = np.matrix([[2,3],[4,5]])"
   ]
  },
  {
   "cell_type": "code",
   "execution_count": 45,
   "id": "3645c9f2-69cb-4d2d-aeb9-10a568bf181e",
   "metadata": {},
   "outputs": [
    {
     "data": {
      "text/plain": [
       "matrix([[2, 3],\n",
       "        [4, 5]])"
      ]
     },
     "execution_count": 45,
     "metadata": {},
     "output_type": "execute_result"
    }
   ],
   "source": [
    "arr1"
   ]
  },
  {
   "cell_type": "code",
   "execution_count": 46,
   "id": "bc4d768a-4020-4eb8-aa81-84e678ddc4e0",
   "metadata": {},
   "outputs": [
    {
     "data": {
      "text/plain": [
       "matrix([[-2.5,  1.5],\n",
       "        [ 2. , -1. ]])"
      ]
     },
     "execution_count": 46,
     "metadata": {},
     "output_type": "execute_result"
    }
   ],
   "source": [
    "np.linalg.inv(arr1)"
   ]
  },
  {
   "cell_type": "code",
   "execution_count": 47,
   "id": "94d3fcbe-13e8-4bf8-8062-1070141eeb36",
   "metadata": {},
   "outputs": [],
   "source": [
    "arr2 = np.array([[[1,2,3],[4,5,6],[7,8,9]]])"
   ]
  },
  {
   "cell_type": "code",
   "execution_count": 48,
   "id": "1bd8908a-7fd3-40f5-9229-fbd780d95f69",
   "metadata": {},
   "outputs": [
    {
     "data": {
      "text/plain": [
       "array([[[1, 2, 3],\n",
       "        [4, 5, 6],\n",
       "        [7, 8, 9]]])"
      ]
     },
     "execution_count": 48,
     "metadata": {},
     "output_type": "execute_result"
    }
   ],
   "source": [
    "arr2"
   ]
  },
  {
   "cell_type": "code",
   "execution_count": 49,
   "id": "73cb7d40-b946-4f18-9792-a8ddff434f8b",
   "metadata": {},
   "outputs": [
    {
     "data": {
      "text/plain": [
       "matrix([[-2.5,  1.5],\n",
       "        [ 2. , -1. ]])"
      ]
     },
     "execution_count": 49,
     "metadata": {},
     "output_type": "execute_result"
    }
   ],
   "source": [
    "np.linalg.inv(arr1)"
   ]
  },
  {
   "cell_type": "code",
   "execution_count": null,
   "id": "3cdc871d-3858-4499-9262-95ec5df4a703",
   "metadata": {},
   "outputs": [],
   "source": [
    "#problem no 12>>what function in numpy can be used to swap the byte order of an array?"
   ]
  },
  {
   "cell_type": "code",
   "execution_count": 50,
   "id": "32433ad5-9bc1-4168-b1bc-85b0b8bc0243",
   "metadata": {},
   "outputs": [],
   "source": [
    "arr = np.array([0,1,2,3,4,0,6])"
   ]
  },
  {
   "cell_type": "code",
   "execution_count": 51,
   "id": "6ced887f-9352-4dcc-ab49-fa616f119924",
   "metadata": {},
   "outputs": [
    {
     "data": {
      "text/plain": [
       "array([0, 1, 2, 3, 4, 0, 6])"
      ]
     },
     "execution_count": 51,
     "metadata": {},
     "output_type": "execute_result"
    }
   ],
   "source": [
    "arr"
   ]
  },
  {
   "cell_type": "code",
   "execution_count": 52,
   "id": "9f146809-7d9b-40c2-8eca-013037f3a25f",
   "metadata": {},
   "outputs": [
    {
     "data": {
      "text/plain": [
       "array([                 0,  72057594037927936, 144115188075855872,\n",
       "       216172782113783808, 288230376151711744,                  0,\n",
       "       432345564227567616])"
      ]
     },
     "execution_count": 52,
     "metadata": {},
     "output_type": "execute_result"
    }
   ],
   "source": [
    "arr.byteswap()"
   ]
  },
  {
   "cell_type": "code",
   "execution_count": null,
   "id": "f02b30fe-5344-407b-b4a3-f217695cb8a9",
   "metadata": {},
   "outputs": [],
   "source": [
    "#problem no 8>> difference between np.random.rand and np.random.randn?"
   ]
  },
  {
   "cell_type": "code",
   "execution_count": 53,
   "id": "948be8e6-5189-42ce-a824-3e58b69c839b",
   "metadata": {},
   "outputs": [
    {
     "data": {
      "text/plain": [
       "'The numpy.random.randn() function creates an array of specified shape and fills it \\nwith random values as per standard normal distribution.'"
      ]
     },
     "execution_count": 53,
     "metadata": {},
     "output_type": "execute_result"
    }
   ],
   "source": [
    "'''The numpy.random.randn() function creates an array of specified shape and fills it \n",
    "with random values as per standard normal distribution.''' "
   ]
  },
  {
   "cell_type": "code",
   "execution_count": null,
   "id": "801401a1-8064-4cb7-bf9f-e6e62b7da3d5",
   "metadata": {},
   "outputs": [],
   "source": [
    "#problem no1>> what is the python library?why do we use python library?"
   ]
  },
  {
   "cell_type": "code",
   "execution_count": 58,
   "id": "e41e374e-a9ae-4bd1-8be0-43c0d48a7146",
   "metadata": {},
   "outputs": [
    {
     "data": {
      "text/plain": [
       "'A collection of modules that are linked together is also known as a Python library'"
      ]
     },
     "execution_count": 58,
     "metadata": {},
     "output_type": "execute_result"
    }
   ],
   "source": [
    "'''A collection of modules that are linked together is also known as a Python library'''"
   ]
  },
  {
   "cell_type": "code",
   "execution_count": 59,
   "id": "acfc3f86-9b78-4e9c-b7f8-6375017617ba",
   "metadata": {},
   "outputs": [
    {
     "data": {
      "text/plain": [
       "' It has code bundles that can be used again and again in different programs. For programmers, it makes Python programming easier and simpler. Since then, we will not need to compose the same code for various projects.'"
      ]
     },
     "execution_count": 59,
     "metadata": {},
     "output_type": "execute_result"
    }
   ],
   "source": [
    "''' It has code bundles that can be used again and again in different programs. For programmers, it makes Python programming easier and simpler. Since then, we will not need to compose the same code for various projects.'''"
   ]
  },
  {
   "cell_type": "code",
   "execution_count": null,
   "id": "73a06767-1212-4080-bb1b-5c4e501e7df5",
   "metadata": {},
   "outputs": [],
   "source": [
    "#problem no 2>> what is the difference between numpy array and list?"
   ]
  },
  {
   "cell_type": "code",
   "execution_count": 60,
   "id": "f9e04136-0e45-4752-8b2d-6000d000df68",
   "metadata": {},
   "outputs": [
    {
     "data": {
      "text/plain": [
       "'1.numpy array is much faster than the list in implementation because numpy array elements have same datatypes rather than list'"
      ]
     },
     "execution_count": 60,
     "metadata": {},
     "output_type": "execute_result"
    }
   ],
   "source": [
    "'''1.numpy array is much faster than the list in implementation because numpy array elements have same datatypes rather than list'''"
   ]
  },
  {
   "cell_type": "code",
   "execution_count": null,
   "id": "df0f7452-a359-4551-a280-0c21baa969d7",
   "metadata": {},
   "outputs": [],
   "source": [
    "'''2.numpy array have contiguous memory location but on the list have non-cont"
   ]
  },
  {
   "cell_type": "code",
   "execution_count": null,
   "id": "c3d716e3-d122-4276-9f73-615f277bbc63",
   "metadata": {},
   "outputs": [],
   "source": []
  },
  {
   "cell_type": "code",
   "execution_count": null,
   "id": "7b54d396-b396-41ac-b157-810d42f72a09",
   "metadata": {},
   "outputs": [],
   "source": []
  },
  {
   "cell_type": "code",
   "execution_count": null,
   "id": "ab5a1be8-6832-4f50-a149-ba12a4f67c15",
   "metadata": {},
   "outputs": [],
   "source": []
  },
  {
   "cell_type": "code",
   "execution_count": null,
   "id": "b7cd570d-350b-4be7-9ac9-db6a73e08291",
   "metadata": {},
   "outputs": [],
   "source": []
  },
  {
   "cell_type": "code",
   "execution_count": null,
   "id": "05af9dfe-db42-498d-a1fc-d63eed468ab0",
   "metadata": {},
   "outputs": [],
   "source": []
  },
  {
   "cell_type": "code",
   "execution_count": null,
   "id": "1d020dc6-49b2-40fc-ae43-5e35c2983e4a",
   "metadata": {},
   "outputs": [],
   "source": []
  },
  {
   "cell_type": "code",
   "execution_count": null,
   "id": "b5085b66-198b-4cab-b90b-76256c90a03d",
   "metadata": {},
   "outputs": [],
   "source": []
  },
  {
   "cell_type": "code",
   "execution_count": null,
   "id": "54003cac-8567-44b4-9b71-d634704c93ca",
   "metadata": {},
   "outputs": [],
   "source": []
  },
  {
   "cell_type": "code",
   "execution_count": null,
   "id": "b1fc3201-4e32-45c7-ba64-31752a3ba972",
   "metadata": {},
   "outputs": [],
   "source": []
  },
  {
   "cell_type": "code",
   "execution_count": null,
   "id": "10868f79-1a17-427f-988a-e21175d623d2",
   "metadata": {},
   "outputs": [],
   "source": []
  },
  {
   "cell_type": "code",
   "execution_count": null,
   "id": "635dedee-cefc-48d3-9a6d-4115807c613c",
   "metadata": {},
   "outputs": [],
   "source": []
  },
  {
   "cell_type": "code",
   "execution_count": null,
   "id": "68d3914f-b336-4658-981b-4e49d8cbcc5d",
   "metadata": {},
   "outputs": [],
   "source": []
  },
  {
   "cell_type": "code",
   "execution_count": null,
   "id": "23988b45-5c05-41af-9a64-bf1d31520629",
   "metadata": {},
   "outputs": [],
   "source": []
  },
  {
   "cell_type": "code",
   "execution_count": null,
   "id": "e3ac28e7-ecca-4198-a01f-67cea0cf1045",
   "metadata": {},
   "outputs": [],
   "source": []
  },
  {
   "cell_type": "code",
   "execution_count": null,
   "id": "cc36a7b8-0c97-4963-ad44-5ec99130c203",
   "metadata": {},
   "outputs": [],
   "source": []
  },
  {
   "cell_type": "code",
   "execution_count": null,
   "id": "32d46916-5f50-4dee-b509-00f9a949255e",
   "metadata": {},
   "outputs": [],
   "source": []
  },
  {
   "cell_type": "code",
   "execution_count": null,
   "id": "fc978390-36c0-45cb-a6c1-3e9c4b15ca69",
   "metadata": {},
   "outputs": [],
   "source": []
  },
  {
   "cell_type": "code",
   "execution_count": null,
   "id": "be218d76-91c8-454c-9cca-707b7891f6ac",
   "metadata": {},
   "outputs": [],
   "source": []
  },
  {
   "cell_type": "code",
   "execution_count": null,
   "id": "313528e3-87b2-487b-9148-8e178d28c5bd",
   "metadata": {},
   "outputs": [],
   "source": []
  },
  {
   "cell_type": "code",
   "execution_count": null,
   "id": "b98907e8-a169-489e-a523-291879da4b98",
   "metadata": {},
   "outputs": [],
   "source": []
  },
  {
   "cell_type": "code",
   "execution_count": null,
   "id": "e557262d-d7fe-4793-84bf-96a892a9dbde",
   "metadata": {},
   "outputs": [],
   "source": []
  },
  {
   "cell_type": "code",
   "execution_count": null,
   "id": "2f743500-4562-4630-ba21-62ee0fd642f2",
   "metadata": {},
   "outputs": [],
   "source": []
  },
  {
   "cell_type": "code",
   "execution_count": null,
   "id": "e23d5d70-ea1c-4882-8b57-83e2ced14440",
   "metadata": {},
   "outputs": [],
   "source": []
  },
  {
   "cell_type": "code",
   "execution_count": null,
   "id": "1e763a45-e7b9-409a-8ca0-23f7952daeff",
   "metadata": {},
   "outputs": [],
   "source": []
  },
  {
   "cell_type": "code",
   "execution_count": null,
   "id": "81326a62-47f5-408f-a5c3-f6e6bc9a5766",
   "metadata": {},
   "outputs": [],
   "source": []
  },
  {
   "cell_type": "code",
   "execution_count": null,
   "id": "08b594a5-a9f4-4a62-b7d1-9b1b89539bd8",
   "metadata": {},
   "outputs": [],
   "source": []
  },
  {
   "cell_type": "code",
   "execution_count": null,
   "id": "4d329d5f-dd32-41a5-96c9-b7f62bbb2e5d",
   "metadata": {},
   "outputs": [],
   "source": []
  },
  {
   "cell_type": "code",
   "execution_count": null,
   "id": "71cfbbba-9627-499c-8638-b212951dcf80",
   "metadata": {},
   "outputs": [],
   "source": []
  },
  {
   "cell_type": "code",
   "execution_count": null,
   "id": "eefc1ef6-02ad-4d16-9075-b95e8ea340e7",
   "metadata": {},
   "outputs": [],
   "source": []
  },
  {
   "cell_type": "code",
   "execution_count": null,
   "id": "3740916b-c177-4cd7-80f1-0df6353b234b",
   "metadata": {},
   "outputs": [],
   "source": []
  },
  {
   "cell_type": "code",
   "execution_count": null,
   "id": "4db7082c-09a5-46fd-9243-127b88d17689",
   "metadata": {},
   "outputs": [],
   "source": []
  },
  {
   "cell_type": "code",
   "execution_count": null,
   "id": "b7f0f752-dbe5-4cf1-9750-724460f4d395",
   "metadata": {},
   "outputs": [],
   "source": []
  },
  {
   "cell_type": "code",
   "execution_count": null,
   "id": "4392d66b-0bb0-4124-9daa-f96a5194291f",
   "metadata": {},
   "outputs": [],
   "source": []
  },
  {
   "cell_type": "code",
   "execution_count": null,
   "id": "cd88761b-11fa-4efe-aa02-1642f056157f",
   "metadata": {},
   "outputs": [],
   "source": []
  },
  {
   "cell_type": "code",
   "execution_count": null,
   "id": "dd7fb1fc-73b7-467d-9105-3d59f946c8bd",
   "metadata": {},
   "outputs": [],
   "source": []
  },
  {
   "cell_type": "code",
   "execution_count": null,
   "id": "b8bebe86-c9a6-40e1-89ca-0fa3bbb265e6",
   "metadata": {},
   "outputs": [],
   "source": []
  },
  {
   "cell_type": "code",
   "execution_count": null,
   "id": "3eec3aee-4933-4dd3-8d0c-726f66d69f1d",
   "metadata": {},
   "outputs": [],
   "source": []
  },
  {
   "cell_type": "code",
   "execution_count": null,
   "id": "3d5adffb-8881-450f-bae2-6bd92cb8934b",
   "metadata": {},
   "outputs": [],
   "source": []
  },
  {
   "cell_type": "code",
   "execution_count": null,
   "id": "0f6d3ead-0eed-48b9-a25e-1ee5e2d99b3e",
   "metadata": {},
   "outputs": [],
   "source": []
  },
  {
   "cell_type": "code",
   "execution_count": null,
   "id": "b77b02cd-6522-4c5e-92c1-f3eafe3b666c",
   "metadata": {},
   "outputs": [],
   "source": []
  },
  {
   "cell_type": "code",
   "execution_count": null,
   "id": "af341b48-3048-488a-9c60-ab6bf6242da8",
   "metadata": {},
   "outputs": [],
   "source": []
  },
  {
   "cell_type": "code",
   "execution_count": null,
   "id": "7430b9f1-404b-464a-9dba-0e595f2274d1",
   "metadata": {},
   "outputs": [],
   "source": []
  },
  {
   "cell_type": "code",
   "execution_count": null,
   "id": "a5b53a16-a33b-4bf4-8e87-c3ed15aad164",
   "metadata": {},
   "outputs": [],
   "source": []
  },
  {
   "cell_type": "code",
   "execution_count": null,
   "id": "5cb58334-a3e3-4a1f-80a1-36ab05b1a410",
   "metadata": {},
   "outputs": [],
   "source": []
  },
  {
   "cell_type": "code",
   "execution_count": null,
   "id": "63f51b78-5778-4d28-a3e4-a31d395fc0c2",
   "metadata": {},
   "outputs": [],
   "source": []
  }
 ],
 "metadata": {
  "kernelspec": {
   "display_name": "Python 3 (ipykernel)",
   "language": "python",
   "name": "python3"
  },
  "language_info": {
   "codemirror_mode": {
    "name": "ipython",
    "version": 3
   },
   "file_extension": ".py",
   "mimetype": "text/x-python",
   "name": "python",
   "nbconvert_exporter": "python",
   "pygments_lexer": "ipython3",
   "version": "3.10.8"
  }
 },
 "nbformat": 4,
 "nbformat_minor": 5
}
